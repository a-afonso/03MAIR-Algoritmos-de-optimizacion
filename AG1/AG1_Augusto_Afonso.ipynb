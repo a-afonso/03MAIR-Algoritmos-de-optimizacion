{
  "nbformat": 4,
  "nbformat_minor": 0,
  "metadata": {
    "colab": {
      "name": "AG1-Augusto_Afonso.ipynb",
      "version": "0.3.2",
      "provenance": [],
      "collapsed_sections": [],
      "include_colab_link": true
    },
    "kernelspec": {
      "name": "python3",
      "display_name": "Python 3"
    }
  },
  "cells": [
    {
      "cell_type": "markdown",
      "metadata": {
        "id": "view-in-github",
        "colab_type": "text"
      },
      "source": [
        "<a href=\"https://colab.research.google.com/github/a-afonso/03MAIR-Algoritmos-de-optimizacion/blob/master/AG1/AG1_Augusto_Afonso.ipynb\" target=\"_parent\"><img src=\"https://colab.research.google.com/assets/colab-badge.svg\" alt=\"Open In Colab\"/></a>"
      ]
    },
    {
      "metadata": {
        "id": "Z3y7CpEWbH-2",
        "colab_type": "text"
      },
      "cell_type": "markdown",
      "source": [
        "AG - Actividad Guiada 1<br>\n",
        "Augusto Afonso<br>\n",
        "\n",
        "https://github.com/a-afonso/03MAIR-Algoritmos-de-optimizacion/tree/master/AG1\n",
        "<br>\n",
        "\n"
      ]
    },
    {
      "metadata": {
        "id": "t5R2xX1If1_c",
        "colab_type": "code",
        "colab": {}
      },
      "cell_type": "code",
      "source": [
        "# Decorador para calcular_tiempo a la función para la cual \n",
        "# queremos calcular el tiempo de ejecución(Isabel Vázquez)\n",
        "\n",
        "from time import time\n",
        "\n",
        "# Función para calcular el tiempo de ejecución\n",
        "def calcular_tiempo(f):\n",
        "    def wrapper(*args, **kwargs):\n",
        "        inicio = time()       \n",
        "        resultado = f(*args, **kwargs)       \n",
        "        tiempo = time() - inicio\n",
        "        print(\"Tiempo de ejecución para algoritmo: \"+str(tiempo))\n",
        "        return resultado\n",
        "    \n",
        "    return wrapper\n",
        "  \n",
        "from time import time\n"
      ],
      "execution_count": 0,
      "outputs": []
    },
    {
      "metadata": {
        "id": "czB3UT5scAsv",
        "colab_type": "code",
        "colab": {
          "base_uri": "https://localhost:8080/",
          "height": 53
        },
        "outputId": "b3cacb66-af4c-454a-8481-438a3c3548bc"
      },
      "cell_type": "code",
      "source": [
        "# Algoritmo quick_sort\n",
        "\n",
        "A = [9187, 244, 4054, 9222, 8373, 4993, 5265, \n",
        "     5470, 4519, 7182, 2035, 3506, 4337, 7580, \n",
        "     2554, 2824, 8357, 4447, 7379]\n",
        "\n",
        "def quick_sort(A):\n",
        "  \n",
        "  if len(A) == 1:\n",
        "    return A\n",
        "  elif len(A) == 2:\n",
        "    return [min(A), max(A)]\n",
        "  \n",
        "  pivote = (A[0] + A[1] + A[2]) / 3\n",
        "  IZQ = []\n",
        "  DER = []\n",
        "  \n",
        "  for i in A:\n",
        "    if i < pivote:\n",
        "      IZQ.append(i)\n",
        "    else:\n",
        "      DER.append(i)\n",
        "      \n",
        "  return quick_sort(IZQ) + quick_sort(DER)\n",
        "\n",
        "\n",
        "@calcular_tiempo\n",
        "def QS(A):\n",
        "  return quick_sort(A)\n",
        "\n",
        "print(QS(A))\n",
        "  \n",
        "  "
      ],
      "execution_count": 8,
      "outputs": [
        {
          "output_type": "stream",
          "text": [
            "Tiempo de ejecución para algoritmo: 3.62396240234375e-05\n",
            "[244, 2035, 2554, 2824, 3506, 4054, 4337, 4447, 4519, 4993, 5265, 5470, 7182, 7379, 7580, 8357, 8373, 9187, 9222]\n"
          ],
          "name": "stdout"
        }
      ]
    },
    {
      "metadata": {
        "id": "nY0Cceb7kiz9",
        "colab_type": "code",
        "colab": {
          "base_uri": "https://localhost:8080/",
          "height": 53
        },
        "outputId": "1d609b12-59de-41cc-dd59-422219cfb2ef"
      },
      "cell_type": "code",
      "source": [
        "# Función que devuelve el cambio de monedas\n",
        "\n",
        "SISTEMA = [25, 10, 5, 1]\n",
        "\n",
        "@calcular_tiempo\n",
        "def cambio_monedas(CANTIDAD, SISTEMA):\n",
        "  SOLUCION = [0 for i in range(len(SISTEMA))]\n",
        "  \n",
        "  VALOR_ACUMULADO = 0\n",
        "  \n",
        "  for i in range(len(SISTEMA)):\n",
        "    monedas = int((CANTIDAD - VALOR_ACUMULADO) / SISTEMA[i])\n",
        "    \n",
        "    SOLUCION[i] = monedas\n",
        "    \n",
        "    VALOR_ACUMULADO += monedas * SISTEMA[i]\n",
        "    \n",
        "    if CANTIDAD == VALOR_ACUMULADO:\n",
        "      return SOLUCION\n",
        "    \n",
        "cambio_monedas(99, SISTEMA)\n",
        "    "
      ],
      "execution_count": 12,
      "outputs": [
        {
          "output_type": "stream",
          "text": [
            "Tiempo de ejecución para algoritmo: 3.218650817871094e-05\n"
          ],
          "name": "stdout"
        },
        {
          "output_type": "execute_result",
          "data": {
            "text/plain": [
              "[3, 2, 0, 4]"
            ]
          },
          "metadata": {
            "tags": []
          },
          "execution_count": 12
        }
      ]
    },
    {
      "metadata": {
        "id": "5No4L-OGmdbQ",
        "colab_type": "code",
        "colab": {}
      },
      "cell_type": "code",
      "source": [
        "# Problema de las N reinas\n",
        "\n",
        "N=8\n",
        "\n",
        "solucion = [0 for i in range(N) ]\n",
        "\n",
        "etapa=0\n",
        "\n",
        "def es_prometedora(SOLUCION,etapa):\n",
        "  for i in range(etapa+1):\n",
        "    if SOLUCION.count(SOLUCION[i]) > 1:       return False\n",
        "  \n",
        "    #Verifica las diagonales\n",
        "    for j in range(i+1, etapa +1 ):\n",
        "      if abs(i-j) == abs(SOLUCION[i]-SOLUCION[j]) : return False\n",
        "  return True\n",
        "\n",
        "\n",
        "def escribe(S):\n",
        "  n = len(S)\n",
        "  for x in range(n):\n",
        "    print(\"\")\n",
        "    for i in range(n):\n",
        "      if solucion[i] == x+1:\n",
        "        print(\" X \" , end=\"\")\n",
        "      else:\n",
        "        print(\" - \", end=\"\")\n",
        "\n",
        "\n",
        "def reinas(N,solucion,etapa): #Tamaño del tablero\n",
        "  \n",
        "  for i in range(1,N+1):\n",
        "    solucion[etapa] = i\n",
        "    \n",
        "    #print(solucion)\n",
        "    if es_prometedora(solucion,etapa):\n",
        "      if etapa == N-1 :\n",
        "        print(\"\\n\\nLa solución es:\")\n",
        "        print(solucion)\n",
        "        escribe(solucion)\n",
        "      else:\n",
        "        #print(\"Es prometedora\\n###################\")\n",
        "        reinas(N,solucion,etapa+1)\n",
        "    else:\n",
        "      #print(\"NO PROMETEDORA\\n###################\")\n",
        "      None\n",
        "      \n",
        "    solucion[etapa] = 0\n",
        "    \n",
        "\n",
        "reinas(N,solucion,etapa)"
      ],
      "execution_count": 0,
      "outputs": []
    }
  ]
}