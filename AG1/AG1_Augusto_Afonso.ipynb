{
  "nbformat": 4,
  "nbformat_minor": 0,
  "metadata": {
    "colab": {
      "name": "AG1-Augusto_Afonso.ipynb",
      "version": "0.3.2",
      "provenance": [],
      "collapsed_sections": [],
      "include_colab_link": true
    },
    "kernelspec": {
      "name": "python3",
      "display_name": "Python 3"
    }
  },
  "cells": [
    {
      "cell_type": "markdown",
      "metadata": {
        "id": "view-in-github",
        "colab_type": "text"
      },
      "source": [
        "<a href=\"https://colab.research.google.com/github/a-afonso/03MAIR-Algoritmos-de-optimizacion/blob/master/AG1/AG1_Augusto_Afonso.ipynb\" target=\"_parent\"><img src=\"https://colab.research.google.com/assets/colab-badge.svg\" alt=\"Open In Colab\"/></a>"
      ]
    },
    {
      "metadata": {
        "id": "Z3y7CpEWbH-2",
        "colab_type": "text"
      },
      "cell_type": "markdown",
      "source": [
        "AG - Actividad Guiada 1<br>\n",
        "Augusto Afonso<br>\n",
        "\n",
        "https://github.com/a-afonso/03MAIR-Algoritmos-de-optimizacion/tree/master/AG1\n",
        "<br>\n",
        "\n"
      ]
    },
    {
      "metadata": {
        "id": "t5R2xX1If1_c",
        "colab_type": "code",
        "colab": {}
      },
      "cell_type": "code",
      "source": [
        "# Decorador para calcular_tiempo a la función para la cual \n",
        "# queremos calcular el tiempo de ejecución (Isabel Vázquez)\n",
        "\n",
        "from time import time\n",
        "\n",
        "# Función para calcular el tiempo de ejecución\n",
        "def calcular_tiempo(f):\n",
        "    def wrapper(*args, **kwargs):\n",
        "        inicio = time()       \n",
        "        resultado = f(*args, **kwargs)       \n",
        "        tiempo = time() - inicio\n",
        "        print(\"Tiempo de ejecución para algoritmo: \"+str(tiempo))\n",
        "        return resultado\n",
        "    \n",
        "    return wrapper\n",
        "  \n",
        "from time import time\n"
      ],
      "execution_count": 0,
      "outputs": []
    },
    {
      "metadata": {
        "id": "czB3UT5scAsv",
        "colab_type": "code",
        "colab": {
          "base_uri": "https://localhost:8080/",
          "height": 53
        },
        "outputId": "e04ba750-b6e5-4eec-a280-49d2f9154ba7"
      },
      "cell_type": "code",
      "source": [
        "# Algoritmo quick_sort\n",
        "\n",
        "A = [9187, 244, 4054, 9222, 8373, 4993, 5265, \n",
        "     5470, 4519, 7182, 2035, 3506, 4337, 7580, \n",
        "     2554, 2824, 8357, 4447, 7379]\n",
        "\n",
        "def quick_sort(A):\n",
        "  \n",
        "  if len(A) == 1:\n",
        "    return A\n",
        "  elif len(A) == 2:\n",
        "    return [min(A), max(A)]\n",
        "  \n",
        "  pivote = (A[0] + A[1] + A[2]) / 3\n",
        "  IZQ = []\n",
        "  DER = []\n",
        "  \n",
        "  for i in A:\n",
        "    if i < pivote:\n",
        "      IZQ.append(i)\n",
        "    else:\n",
        "      DER.append(i)\n",
        "      \n",
        "  return quick_sort(IZQ) + quick_sort(DER)\n",
        "\n",
        "\n",
        "@calcular_tiempo\n",
        "def QS(A):\n",
        "  return quick_sort(A)\n",
        "\n",
        "print(QS(A))\n",
        "  \n",
        "  "
      ],
      "execution_count": 11,
      "outputs": [
        {
          "output_type": "stream",
          "text": [
            "Tiempo de ejecución para algoritmo: 5.745887756347656e-05\n",
            "[244, 2035, 2554, 2824, 3506, 4054, 4337, 4447, 4519, 4993, 5265, 5470, 7182, 7379, 7580, 8357, 8373, 9187, 9222]\n"
          ],
          "name": "stdout"
        }
      ]
    },
    {
      "metadata": {
        "id": "nY0Cceb7kiz9",
        "colab_type": "code",
        "colab": {
          "base_uri": "https://localhost:8080/",
          "height": 53
        },
        "outputId": "3489ca19-7485-43fc-a4ba-31dd277b69bc"
      },
      "cell_type": "code",
      "source": [
        "# Lista de monedas disponibles\n",
        "MONEDAS = [25, 10, 5, 1]\n",
        "\n",
        "# Función que devuelve el cambio de monedas\n",
        "\n",
        "@calcular_tiempo\n",
        "def cambio_monedas(valor, MONEDAS):\n",
        "  SOLUCION = [0 for i in range(len(MONEDAS))]\n",
        "  \n",
        "  valor_acumulado = 0\n",
        "  \n",
        "  for i in range(len(MONEDAS)):\n",
        "    m = int((valor - valor_acumulado) / MONEDAS[i])\n",
        "    \n",
        "    SOLUCION[i] = m\n",
        "    \n",
        "    valor_acumulado += m * MONEDAS[i]\n",
        "    \n",
        "    if valor == valor_acumulado:\n",
        "      return SOLUCION\n",
        "    \n",
        "# Ejemplo de petición de cambio para el valor 155\n",
        "cambio_monedas(155, MONEDAS)\n",
        "    "
      ],
      "execution_count": 7,
      "outputs": [
        {
          "output_type": "stream",
          "text": [
            "Tiempo de ejecución para algoritmo: 8.344650268554688e-06\n"
          ],
          "name": "stdout"
        },
        {
          "output_type": "execute_result",
          "data": {
            "text/plain": [
              "[6, 0, 1, 0]"
            ]
          },
          "metadata": {
            "tags": []
          },
          "execution_count": 7
        }
      ]
    },
    {
      "metadata": {
        "id": "5No4L-OGmdbQ",
        "colab_type": "code",
        "colab": {
          "base_uri": "https://localhost:8080/",
          "height": 321
        },
        "outputId": "c10f305a-46df-4b99-c808-2d85126899a1"
      },
      "cell_type": "code",
      "source": [
        "# Función que resuelve e imprime el problema de las N reinas\n",
        "def n_reinas(n):\n",
        "\n",
        "  # Función local que evalúa si una solución es prometedora\n",
        "  def es_prometedora(SOLUCION, etapa):\n",
        "    for i in range(etapa+1):\n",
        "      if SOLUCION.count(SOLUCION[i]) > 1:       \n",
        "        return False\n",
        "\n",
        "      # Verifica las diagonales\n",
        "      for j in range(i+1, etapa+1 ):\n",
        "        if abs(i-j) == abs(SOLUCION[i] - SOLUCION[j]): \n",
        "          return False\n",
        "\n",
        "    return True\n",
        "\n",
        "  # Función local que escribe una solución en pantalla\n",
        "  def escribe(SOLUCION):\n",
        "    n = len(SOLUCION)\n",
        "    for x in range(n):\n",
        "      print(\"\")\n",
        "      for i in range(n):\n",
        "        if SOLUCION[i] == x+1:\n",
        "          print(\" X \", end=\"\")\n",
        "        else:\n",
        "          print(\" - \", end=\"\")\n",
        "\n",
        "  # Función principal recursiva por etapas\n",
        "  def do_Etapa(SOLUCION, etapa): \n",
        "    for i in range(1, n+1):\n",
        "      SOLUCION[etapa] = i\n",
        "\n",
        "      # Escribe una solución cuando procede\n",
        "      if es_prometedora(SOLUCION, etapa):\n",
        "        if etapa == n-1 :\n",
        "          print(\"\\n\\nLa solución es:\")\n",
        "          print(SOLUCION)\n",
        "          escribe(SOLUCION)\n",
        "        else:\n",
        "          do_Etapa(SOLUCION, etapa+1)\n",
        "      else:\n",
        "        None\n",
        "\n",
        "      SOLUCION[etapa] = 0\n",
        "      \n",
        "  SOLUCION = [0 for i in range(n)]\n",
        "  do_Etapa(SOLUCION, 0)\n",
        "\n",
        "\n",
        "# Ejemplo de utilización para un tablero de 4x4\n",
        "n_reinas(4)"
      ],
      "execution_count": 8,
      "outputs": [
        {
          "output_type": "stream",
          "text": [
            "\n",
            "\n",
            "La solución es:\n",
            "[2, 4, 1, 3]\n",
            "\n",
            " -  -  X  - \n",
            " X  -  -  - \n",
            " -  -  -  X \n",
            " -  X  -  - \n",
            "\n",
            "La solución es:\n",
            "[3, 1, 4, 2]\n",
            "\n",
            " -  X  -  - \n",
            " -  -  -  X \n",
            " X  -  -  - \n",
            " -  -  X  - "
          ],
          "name": "stdout"
        }
      ]
    }
  ]
}