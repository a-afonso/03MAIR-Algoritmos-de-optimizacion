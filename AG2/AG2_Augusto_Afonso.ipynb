{
  "nbformat": 4,
  "nbformat_minor": 0,
  "metadata": {
    "colab": {
      "name": "AG2-Augusto_Afonso.ipynb",
      "version": "0.3.2",
      "provenance": [],
      "collapsed_sections": [],
      "include_colab_link": true
    },
    "kernelspec": {
      "name": "python3",
      "display_name": "Python 3"
    }
  },
  "cells": [
    {
      "cell_type": "markdown",
      "metadata": {
        "id": "view-in-github",
        "colab_type": "text"
      },
      "source": [
        "<a href=\"https://colab.research.google.com/github/a-afonso/03MAIR-Algoritmos-de-optimizacion/blob/master/AG2/AG2_Augusto_Afonso.ipynb\" target=\"_parent\"><img src=\"https://colab.research.google.com/assets/colab-badge.svg\" alt=\"Open In Colab\"/></a>"
      ]
    },
    {
      "metadata": {
        "id": "D6_CfJGiHu9p",
        "colab_type": "text"
      },
      "cell_type": "markdown",
      "source": [
        "AG2 - Augusto Afonso Losada<br>\n",
        "Actividad Guiada<br>\n",
        "URL: https://github.com/a-afonso/03MAIR-Algoritmos-de-optimizacion/tree/master/AG2\n",
        "\n"
      ]
    },
    {
      "metadata": {
        "id": "sDWD3rdZKhJ3",
        "colab_type": "code",
        "colab": {}
      },
      "cell_type": "code",
      "source": [
        "import random\n",
        "import sys\n",
        "import math\n",
        "\n",
        "# Variables globales\n",
        "infinito = sys.maxsize\n",
        "\n",
        "n = 1000\n",
        "LISTA_2D = [(random.randrange(1, n), random.randrange(1, n)) for _ in range(n)]\n"
      ],
      "execution_count": 0,
      "outputs": []
    },
    {
      "metadata": {
        "id": "Qj31tD0aOQqa",
        "colab_type": "code",
        "colab": {}
      },
      "cell_type": "code",
      "source": [
        "# Decorador para calcular_tiempo a la función para la cual \n",
        "# queremos calcular el tiempo de ejecución (Isabel Vázquez)\n",
        "\n",
        "from time import time\n",
        "\n",
        "# Función para calcular el tiempo de ejecución\n",
        "def calcular_tiempo(f):\n",
        "    def wrapper(*args, **kwargs):\n",
        "        inicio = time()       \n",
        "        resultado = f(*args, **kwargs)       \n",
        "        tiempo = time() - inicio\n",
        "        print(\"Tiempo de ejecución para algoritmo: \"+str(tiempo))\n",
        "        return resultado\n",
        "    \n",
        "    return wrapper\n",
        "  \n",
        "from time import time"
      ],
      "execution_count": 0,
      "outputs": []
    },
    {
      "metadata": {
        "id": "G0XEwu4UKUXi",
        "colab_type": "code",
        "outputId": "69b77e54-522f-4ad2-a09f-c7c43a4687a4",
        "colab": {
          "base_uri": "https://localhost:8080/",
          "height": 35
        }
      },
      "cell_type": "code",
      "source": [
        "# Función que calcula la distancia euclídea (en 2D) o lineal (en 1D)\n",
        "def distancia(A, B):\n",
        "  if type(A) is int or type(A) is float:\n",
        "    return abs(B - A)\n",
        "  else:\n",
        "    return math.sqrt(sum([(A[i]-B[i])**2 for i in range(len(A))]))\n",
        "  \n",
        "distancia((1,3), (2,5))"
      ],
      "execution_count": 13,
      "outputs": [
        {
          "output_type": "execute_result",
          "data": {
            "text/plain": [
              "2.23606797749979"
            ]
          },
          "metadata": {
            "tags": []
          },
          "execution_count": 13
        }
      ]
    },
    {
      "metadata": {
        "id": "V7MNRpdnLZEn",
        "colab_type": "code",
        "outputId": "f3975a6c-78be-4442-f49a-41de7a2c826b",
        "colab": {
          "base_uri": "https://localhost:8080/",
          "height": 35
        }
      },
      "cell_type": "code",
      "source": [
        "# Función que calcula la distancia entre dos puntos por fuerza bruta\n",
        "def distancia_FB(L):\n",
        "  mejor_distancia = infinito\n",
        "  \n",
        "  A,B = (),()\n",
        "  \n",
        "  len_L = len(L)\n",
        "  \n",
        "  for i in range(len_L):\n",
        "    for j in range(i+1, len_L):\n",
        "      d = distancia(L[i], L[j]) \n",
        "      \n",
        "      if d < mejor_distancia:\n",
        "        A, B = L[i], L[j]\n",
        "        mejor_distancia = d\n",
        "        \n",
        "  return [A, B]\n",
        "\n",
        "distancia_FB(LISTA_2D)"
      ],
      "execution_count": 14,
      "outputs": [
        {
          "output_type": "execute_result",
          "data": {
            "text/plain": [
              "[(519, 474), (519, 475)]"
            ]
          },
          "metadata": {
            "tags": []
          },
          "execution_count": 14
        }
      ]
    },
    {
      "metadata": {
        "id": "K2hlOtHoPn3T",
        "colab_type": "code",
        "outputId": "3a19a051-d7fc-4ba4-bcc7-ccc887b8097d",
        "colab": {
          "base_uri": "https://localhost:8080/",
          "height": 53
        }
      },
      "cell_type": "code",
      "source": [
        "# Función que calcula la distancia entre dos puntos por divide y vencerás\n",
        "def distancia_DV(L):\n",
        "  # Si hay pocos elementos resolvemos por fuerza bruta\n",
        "  if len(L) < 10:\n",
        "    return distancia_FB(L)\n",
        "  \n",
        "  # Dividir en dos listas grandes ordenadas\n",
        "  IZQ = sorted(L, key=lambda x: x[0])[:len(L)//2]\n",
        "  DER = sorted(L, key=lambda x: x[0])[len(L)//2:]\n",
        "  \n",
        "  P_IZQ = distancia_DV(IZQ)\n",
        "  P_DER = distancia_DV(DER)\n",
        "  \n",
        "  return distancia_DV(P_IZQ + P_DER)\n",
        "  \n",
        "@calcular_tiempo\n",
        "def run_distancia_DV(L):\n",
        "  return distancia_DV(LISTA_2D[:20])\n",
        "  \n",
        "run_distancia_DV(LISTA_2D)"
      ],
      "execution_count": 16,
      "outputs": [
        {
          "output_type": "stream",
          "text": [
            "Tiempo de ejecución para algoritmo: 0.00018453598022460938\n"
          ],
          "name": "stdout"
        },
        {
          "output_type": "execute_result",
          "data": {
            "text/plain": [
              "[(302, 224), (315, 301)]"
            ]
          },
          "metadata": {
            "tags": []
          },
          "execution_count": 16
        }
      ]
    },
    {
      "metadata": {
        "id": "t1zLqQN0Wyob",
        "colab_type": "code",
        "outputId": "efb9da35-89cd-40d4-a578-2be3dbb71690",
        "colab": {
          "base_uri": "https://localhost:8080/",
          "height": 73
        }
      },
      "cell_type": "code",
      "source": [
        "TARIFAS = [\n",
        "[0,5,4,3,999,999,999],\n",
        "[999,0,999,2,3,999,11],\n",
        "[999,999, 0,1,999,4,10],\n",
        "[999,999,999, 0,5,6,9],\n",
        "[999,999, 999,999,0,999,4],\n",
        "[999,999, 999,999,999,0,3],\n",
        "[999,999,999,999,999,999,0]\n",
        "]\n",
        "\n",
        "# Paseo por el río\n",
        "def precios(T):\n",
        "  n = len(T[0])\n",
        "  \n",
        "  PRECIOS = [[9999]*n for i in [9999]*n]\n",
        "  RUTAS = [[\"\"]*n for i in [9999]*n]\n",
        "  \n",
        "  for i in range(n-1):\n",
        "    for j in range(i+1, n):\n",
        "      minimo = T[i][j]\n",
        "      RUTAS[i][j] = i\n",
        "      \n",
        "      for k in range(i, j):\n",
        "        if PRECIOS[i][k] + T[k][j] < minimo:\n",
        "          minimo = min(minimo, PRECIOS[i][k] + T[k][j])\n",
        "          RUTAS[i][j] = k\n",
        "          \n",
        "      PRECIOS[i][j] = minimo\n",
        "      \n",
        "  return PRECIOS, RUTAS\n",
        "  \n",
        "P, R = precios(TARIFAS)\n",
        "print(P)\n",
        "print(R)\n"
      ],
      "execution_count": 17,
      "outputs": [
        {
          "output_type": "stream",
          "text": [
            "[[9999, 5, 4, 3, 8, 8, 11], [9999, 9999, 999, 2, 3, 8, 7], [9999, 9999, 9999, 1, 6, 4, 7], [9999, 9999, 9999, 9999, 5, 6, 9], [9999, 9999, 9999, 9999, 9999, 999, 4], [9999, 9999, 9999, 9999, 9999, 9999, 3], [9999, 9999, 9999, 9999, 9999, 9999, 9999]]\n",
            "[['', 0, 0, 0, 1, 2, 5], ['', '', 1, 1, 1, 3, 4], ['', '', '', 2, 3, 2, 5], ['', '', '', '', 3, 3, 3], ['', '', '', '', '', 4, 4], ['', '', '', '', '', '', 5], ['', '', '', '', '', '', '']]\n"
          ],
          "name": "stdout"
        }
      ]
    },
    {
      "metadata": {
        "id": "neRU1q65butu",
        "colab_type": "code",
        "colab": {
          "base_uri": "https://localhost:8080/",
          "height": 71
        },
        "outputId": "341425f7-168c-4d5a-db5a-09e281413165"
      },
      "cell_type": "code",
      "source": [
        "# Función que calcula la ruta entre dos embarcaderos\n",
        "def calcular_ruta(RUTAS, desde, hasta):\n",
        "  if desde == hasta:\n",
        "    return desde \n",
        "  else:\n",
        "    return str(calcular_ruta(RUTAS, desde, RUTAS[desde][hasta])) +  ',' + str(RUTAS[desde][hasta]) \n",
        "\n",
        "print(\"\\nLa ruta es:\")  \n",
        "calcular_ruta(R, 0, 6)"
      ],
      "execution_count": 19,
      "outputs": [
        {
          "output_type": "stream",
          "text": [
            "\n",
            "La ruta es:\n"
          ],
          "name": "stdout"
        },
        {
          "output_type": "execute_result",
          "data": {
            "text/plain": [
              "'0,0,2,5'"
            ]
          },
          "metadata": {
            "tags": []
          },
          "execution_count": 19
        }
      ]
    }
  ]
}