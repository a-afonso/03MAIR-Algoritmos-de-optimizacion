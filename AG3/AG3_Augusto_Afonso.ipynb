{
 "cells": [
  {
   "cell_type": "markdown",
   "metadata": {
    "colab_type": "text",
    "id": "ZMt3ujTzWf4X"
   },
   "source": [
    "AG - Actividad Guiada 3<br>\n",
    "Nombre: Augusto Afonso Losada<br>\n",
    "https://github.com/a-afonso/03MAIR-Algoritmos-de-optimizacion/tree/master/AG3\n"
   ]
  },
  {
   "cell_type": "code",
   "execution_count": null,
   "metadata": {
    "colab": {
     "base_uri": "https://localhost:8080/",
     "height": 43
    },
    "colab_type": "code",
    "id": "eGSxVNOQWnvM",
    "outputId": "ba1adf00-1333-4cd2-c342-845d45cc79e7"
   },
   "outputs": [],
   "source": [
    "import urllib.request\n",
    "\n",
    "file = \"swiss42.tsp\"\n",
    "\n",
    "urllib.request.urlretrieve(\n",
    "    \"http://elib.zib.de/pub/mp-testdata/tsp/tsplib/tsp/swiss42.tsp\", file)\n"
   ]
  },
  {
   "cell_type": "code",
   "execution_count": null,
   "metadata": {
    "colab": {},
    "colab_type": "code",
    "id": "eyBBtHRtfF8-"
   },
   "outputs": [],
   "source": [
    "!pip install tsplib95\n"
   ]
  },
  {
   "cell_type": "code",
   "execution_count": null,
   "metadata": {
    "colab": {},
    "colab_type": "code",
    "id": "nb1_3JIOfdfG"
   },
   "outputs": [],
   "source": [
    "import tsplib95\n",
    "import random\n",
    "from math import e\n",
    "\n",
    "problem = tsplib95.load_problem(file)\n",
    "\n",
    "# Nodos\n",
    "Nodos = list(problem.get_nodes())\n",
    "\n",
    "# Aristas\n",
    "Aristas = list(problem.get_edges()) "
   ]
  },
  {
   "cell_type": "code",
   "execution_count": null,
   "metadata": {
    "colab": {
     "base_uri": "https://localhost:8080/",
     "height": 109
    },
    "colab_type": "code",
    "id": "YHm26N-0f-He",
    "outputId": "c226fa5d-8b49-4383-8ba4-65d41edb0e05"
   },
   "outputs": [],
   "source": [
    "print(\"Nodos\", Nodos)\n",
    "print(\"Aristas\", Aristas)\n"
   ]
  },
  {
   "cell_type": "code",
   "execution_count": null,
   "metadata": {
    "colab": {
     "base_uri": "https://localhost:8080/",
     "height": 35
    },
    "colab_type": "code",
    "id": "X31x7r80gpc-",
    "outputId": "43b1b275-029e-43b4-f063-a5c5ff90edfb"
   },
   "outputs": [],
   "source": [
    "# Devuelve el factorial de un número\n",
    "def factorial(n):\n",
    "    if n == 0:\n",
    "        return 1\n",
    "    else:\n",
    "        return n * factorial(n-1)\n",
    "\n",
    "\n",
    "# Se genera una solucion aleatoria con comienzo en en el nodo 0\n",
    "def crear_solucion(Nodos):\n",
    "  solucion = [0]\n",
    "  for i in range(len(Nodos)-1):\n",
    "    solucion = solucion + [random.choice(list(set(Nodos) - set({0}) - set(solucion)))]\n",
    " \n",
    "  return solucion \n",
    "\n",
    "\n",
    "# Devuelve la distancia entre dos nodos\n",
    "def distancia(a,b, problem):\n",
    "  return problem.wfunc(a,b)\n",
    "\n",
    "\n",
    "# Devuelve la distancia total de una trayectoria/solución\n",
    "def distancia_total(solucion, problem):\n",
    "  distancia_total = 0\n",
    "  for i in range(len(solucion)-1):\n",
    "    distancia_total += distancia(solucion[i] ,solucion[i+1],  problem)\n",
    "  return distancia_total + distancia(solucion[len(solucion)-1] ,solucion[0], problem)\n",
    "\n",
    "\n",
    "solucion = crear_solucion(Nodos)\n",
    "distancia_total(solucion, problem)\n",
    "\n"
   ]
  },
  {
   "cell_type": "code",
   "execution_count": null,
   "metadata": {
    "colab": {
     "base_uri": "https://localhost:8080/",
     "height": 114
    },
    "colab_type": "code",
    "id": "jGLajfDlk5Oq",
    "outputId": "fa597d79-c384-4e14-a4c7-55e4711e4f2d"
   },
   "outputs": [],
   "source": [
    "def busqueda_aleatoria(problem, N):\n",
    "  \n",
    "  Nodos = list(problem.get_nodes())\n",
    "  \n",
    "  mejor_solucion = []\n",
    "  mejor_distancia = 10e100\n",
    "  \n",
    "  for i in range(N):\n",
    "    solucion = crear_solucion(Nodos)\n",
    "    distancia = distancia_total(solucion, problem)\n",
    "    \n",
    "    if distancia < mejor_distancia:\n",
    "      mejor_solucion = solucion\n",
    "      mejor_distancia = distancia\n",
    "      \n",
    "  print(\"Mejor solución :\", mejor_solucion)\n",
    "  print(\"Mejor distancia:\", mejor_distancia)\n",
    "  \n",
    "  return mejor_solucion\n",
    "    \n",
    "\n",
    "sol = busqueda_aleatoria(problem, 1000)\n"
   ]
  },
  {
   "cell_type": "code",
   "execution_count": null,
   "metadata": {
    "colab": {
     "base_uri": "https://localhost:8080/",
     "height": 109
    },
    "colab_type": "code",
    "id": "9DViZpcAm5wm",
    "outputId": "a5b7c459-87b3-4302-9a7d-5db0c083d0ca"
   },
   "outputs": [],
   "source": [
    "def genera_vecina(solucion):\n",
    "\n",
    "  # Generador de soluciones vecinas: 2-opt (intercambiar 2 nodos)\n",
    "  # Si hay N nodos se generan (N-1)x(N-2)/2 soluciones\n",
    "  \n",
    "  mejor_solucion = []\n",
    "  mejor_distancia = 10e100\n",
    "\n",
    "  for i in range(1, len(solucion)-1):\n",
    "    for j in range(i+1, len(solucion)):\n",
    "      vecina = solucion[:i] + [solucion[j]] + solucion[i+1:j] + [solucion[i]] + solucion[j+1:]\n",
    "\n",
    "      distancia_vecina = distancia_total(vecina, problem)\n",
    "    \n",
    "      if distancia_vecina <= mejor_distancia:\n",
    "        mejor_distancia = distancia_vecina\n",
    "        mejor_solucion = vecina\n",
    "        \n",
    "  return mejor_solucion\n",
    "\n",
    "\n",
    "solucion = crear_solucion(Nodos)\n",
    "print(solucion)\n",
    "\n",
    "nueva_solucion = genera_vecina(solucion)\n",
    "print(nueva_solucion)\n"
   ]
  },
  {
   "cell_type": "code",
   "execution_count": null,
   "metadata": {
    "colab": {
     "base_uri": "https://localhost:8080/",
     "height": 77
    },
    "colab_type": "code",
    "id": "rmlDwCMxpYoR",
    "outputId": "d83aceb2-99a7-4e48-f157-83cd82db91f6"
   },
   "outputs": [],
   "source": [
    "def busqueda_local(problem, N):\n",
    "  mejor_solucion = []\n",
    "  mejor_distancia = 10e100\n",
    "  \n",
    "  Nodos = list(problem.get_nodes())\n",
    "  \n",
    "  solucion_referencia = crear_solucion(Nodos)\n",
    "  \n",
    "  for i in range(N):\n",
    "    vecina = genera_vecina(solucion_referencia)\n",
    "    distancia_vecina = distancia_total(vecina, problem)\n",
    "    \n",
    "    if distancia_vecina < mejor_distancia:\n",
    "      mejor_solucion = vecina\n",
    "      mejor_distancia = distancia_vecina\n",
    "      \n",
    "    solucion_referencia = vecina\n",
    "    \n",
    "  print(\"Mejor solución :\", mejor_solucion)\n",
    "  print(\"Mejor distancia:\", mejor_distancia)\n",
    "  \n",
    "  return mejor_solucion\n",
    "\n",
    "\n",
    "sol = busqueda_local(problem, 100)\n"
   ]
  },
  {
   "cell_type": "code",
   "execution_count": null,
   "metadata": {
    "colab": {},
    "colab_type": "code",
    "id": "foxFNPXRsTxG"
   },
   "outputs": [],
   "source": [
    " \n",
    "def genera_vecina_aleatorio(solucion):\n",
    "\n",
    "  # Generador de 1 solucion vecina 2-opt (intercambiar 2 nodos)\n",
    "  # Se puede mejorar haciendo que la elección no sea uniforme sino \n",
    "  # entre las que estén más proximas\n",
    "  i = random.choice(range(1, len(solucion)))\n",
    "  j = random.choice(list(set(range(1, len(solucion))) - {i}))\n",
    "  \n",
    "  vecina = solucion[:i] + [solucion[j]] + solucion[i+1:j] + [solucion[i]] + solucion[j+1:]\n",
    "\n",
    "  return vecina\n",
    "\n",
    "\n",
    "def probabilidad(T, d):\n",
    "  r=random.random()\n",
    "  if (r <= (e**(-1*d)/(T*1.0))):\n",
    "    return True\n",
    "  else:\n",
    "    return False\n",
    "  \n",
    "  \n",
    "def bajar_temperatura(T):\n",
    "  return T-1\n",
    "  "
   ]
  },
  {
   "cell_type": "code",
   "execution_count": null,
   "metadata": {
    "colab": {
     "base_uri": "https://localhost:8080/",
     "height": 77
    },
    "colab_type": "code",
    "id": "PzLGarv8ts-o",
    "outputId": "5831b8d4-0260-456c-da38-741205768c8f"
   },
   "outputs": [],
   "source": [
    "def recocido_simulado(problem, TEMPERATURA):\n",
    "\n",
    "  # problem = datos del problema\n",
    "  # T = Temperatura\n",
    "  \n",
    "  solucion_referencia = crear_solucion(Nodos)\n",
    "  distancia_referencia = distancia_total(solucion_referencia, problem)\n",
    "  \n",
    "  mejor_solucion = []\n",
    "  mejor_distancia = 10e100\n",
    "  \n",
    "  while TEMPERATURA > 0:\n",
    "    # Genera una solución vecina(aleatoria)\n",
    "    vecina = genera_vecina_aleatorio(solucion_referencia)\n",
    "    \n",
    "    # Calcula su valor(distancia)\n",
    "    distancia_vecina = distancia_total(vecina, problem)\n",
    "    \n",
    "    # Si es la mejor solución de todas se guarda\n",
    "    if distancia_vecina < mejor_distancia:\n",
    "        mejor_solucion = vecina\n",
    "        mejor_distancia = distancia_vecina\n",
    "    \n",
    "    # Si la nueva vecina es mejor se cambia y si es peor se cambia según una probabilidad \n",
    "    # dependiente de T y de |distancia_referencia - distancia_vecina|\n",
    "    if distancia_vecina < distancia_referencia or probabilidad(TEMPERATURA, abs(distancia_referencia - distancia_vecina)):\n",
    "      solucion_referencia = vecina\n",
    "      distancia_referencia = distancia_vecina\n",
    "\n",
    "    TEMPERATURA = bajar_temperatura(TEMPERATURA)\n",
    "  \n",
    "  print(\"La mejor solución encontrada es \" , end=\"\")\n",
    "  print(mejor_solucion)\n",
    "  print(\"con una distancia total de \" , end=\"\")\n",
    "  print(mejor_distancia)\n",
    "  return mejor_solucion\n",
    "\n",
    "sol = recocido_simulado(problem, 10000)\n"
   ]
  },
  {
   "cell_type": "code",
   "execution_count": null,
   "metadata": {
    "colab": {},
    "colab_type": "code",
    "id": "dfJx5zcBvbOo"
   },
   "outputs": [],
   "source": [
    "def Add_Nodo(problem, H, T):\n",
    "  # Establecer una una funcion de probabilidad para \n",
    "  # añadir un nuevo nodo dependiendo de los nodos mas cercanos y de las feromonas depositadas\n",
    "  Nodos = list(problem.get_nodes())\n",
    "  return random.choice(list(set(range(1,len(Nodos))) - set(H)))\n",
    "\n",
    "\n",
    "def Incrementa_Feromona(problem, T, H):\n",
    "\n",
    "  # Incrementar segun la calidad de la solución. Añadir una cantidad inversamente proporcional a la distancia total \n",
    "  for i in range(len(H)-1):\n",
    "    T[H[i]][H[i+1]] += 1000/distancia_total(H, problem)\n",
    "    \n",
    "  return T\n",
    "\n",
    "\n",
    "def Evaporar_Feromonas(T):\n",
    "\n",
    "  # Podemos elegir diferentes funciones de evaporación dependiendo de la cantidad actual y de la suma total de feromonas depositadas,...\n",
    "  # Evapora 0.3 el valor de la feromona, sin que baje de 1\n",
    "  T = [[ max(T[i][j] - 0.3, 1) for i in range(len(Nodos))] for j in range(len(Nodos))]\n",
    "  return T\n"
   ]
  },
  {
   "cell_type": "code",
   "execution_count": null,
   "metadata": {
    "colab": {
     "base_uri": "https://localhost:8080/",
     "height": 77
    },
    "colab_type": "code",
    "id": "QM5Iq1pHwkXm",
    "outputId": "a9459c71-207f-4113-ed4a-918af9aaa5d5"
   },
   "outputs": [],
   "source": [
    "def hormigas(problem, N):\n",
    "  # problem = datos del problema\n",
    "  # N = Número de agentes(hormigas)\n",
    "    \n",
    "  # Nodos\n",
    "  Nodos = list(problem.get_nodes())\n",
    "  # Aristas\n",
    "  Aristas = list(problem.get_edges()) \n",
    "  \n",
    "  # Inicializa las aristas con una cantidad inicial de feromonas:1\n",
    "  T = [[1 for _ in range(len(Nodos)) ] for _ in range(len(Nodos))]\n",
    "  \n",
    "  # Se generan los agentes(hormigas) que serán estructuras de caminos desde 0\n",
    "  Hormiga = [[0] for _ in range(N)]\n",
    "  \n",
    "  # Recorre cada agente construyendo la solución\n",
    "  for h in range(N) :\n",
    "    # print(\"\\nAgente:\", h)\n",
    "    # Para cada agente se construye un camino\n",
    "    for i in range(len(Nodos)-1) :\n",
    "      \n",
    "      # Elige el siguiente nodo\n",
    "      Nuevo_Nodo = Add_Nodo(problem, Hormiga[h], T)\n",
    "      \n",
    "      Hormiga[h].append(Nuevo_Nodo)     \n",
    "    \n",
    "    # Incrementa feromonas en esa arista \n",
    "    T = Incrementa_Feromona(problem, T, Hormiga[h])\n",
    "    # print(\"Feromonas(1)\", T)\n",
    "      \n",
    "    # Evapora Feromonas  \n",
    "    T = Evaporar_Feromonas(T)\n",
    "    # print(\"Feromonas(2)\", T)\n",
    "\n",
    "  # Seleccionamos el mejor agente\n",
    "  mejor_solucion = []\n",
    "  mejor_distancia = 10e100\n",
    "  for h in range(N) :\n",
    "    distancia_actual = distancia_total(Hormiga[h], problem)\n",
    "    if distancia_actual < mejor_distancia:\n",
    "      mejor_solucion = Hormiga[h]\n",
    "      mejor_distancia =distancia_actual\n",
    "  \n",
    "  print(mejor_solucion)\n",
    "  print(mejor_distancia)\n",
    "  \n",
    "  \n",
    "hormigas(problem, 1000)\n"
   ]
  }
 ],
 "metadata": {
  "colab": {
   "name": "AG3_Augusto_Afonso.ipynb",
   "provenance": [],
   "version": "0.3.2"
  },
  "kernelspec": {
   "display_name": "Python 3",
   "language": "python",
   "name": "python3"
  },
  "language_info": {
   "codemirror_mode": {
    "name": "ipython",
    "version": 3
   },
   "file_extension": ".py",
   "mimetype": "text/x-python",
   "name": "python",
   "nbconvert_exporter": "python",
   "pygments_lexer": "ipython3",
   "version": "3.7.0"
  }
 },
 "nbformat": 4,
 "nbformat_minor": 1
}
