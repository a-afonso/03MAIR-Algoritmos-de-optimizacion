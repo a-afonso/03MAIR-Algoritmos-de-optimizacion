{
  "nbformat": 4,
  "nbformat_minor": 0,
  "metadata": {
    "colab": {
      "name": "Sort_Test.ipynb",
      "version": "0.3.2",
      "provenance": [],
      "include_colab_link": true
    },
    "kernelspec": {
      "name": "python3",
      "display_name": "Python 3"
    }
  },
  "cells": [
    {
      "cell_type": "markdown",
      "metadata": {
        "id": "view-in-github",
        "colab_type": "text"
      },
      "source": [
        "<a href=\"https://colab.research.google.com/github/a-afonso/03MAIR-Algoritmos-de-optimizacion/blob/master/Burbuja.ipynb\" target=\"_parent\"><img src=\"https://colab.research.google.com/assets/colab-badge.svg\" alt=\"Open In Colab\"/></a>"
      ]
    },
    {
      "metadata": {
        "id": "vNyWrwR7jiA5",
        "colab_type": "code",
        "outputId": "9f5b3ec4-539a-4f77-86a9-47c61033cedb",
        "colab": {
          "base_uri": "https://localhost:8080/",
          "height": 34
        }
      },
      "cell_type": "code",
      "source": [
        "!pip install sorting\n",
        "\n",
        "import sorting"
      ],
      "execution_count": 0,
      "outputs": [
        {
          "output_type": "stream",
          "text": [
            "Requirement already satisfied: sorting in /usr/local/lib/python3.6/dist-packages (1.0.2)\n"
          ],
          "name": "stdout"
        }
      ]
    },
    {
      "metadata": {
        "id": "BI2XcE15kTBm",
        "colab_type": "code",
        "outputId": "cca45328-7c97-4716-8564-9e51dad5e1ba",
        "colab": {
          "base_uri": "https://localhost:8080/",
          "height": 54
        }
      },
      "cell_type": "code",
      "source": [
        "A = [9187, 244, 4054, 9222, 8373, 4993, 5265, 5470, 4519, 7182, 2035, 3506, \n",
        "     4337, 7580, 2554, 2824, 8357, 4447, 7379]\n",
        "\n",
        "for j in range(1, len(A)-1):\n",
        "  for i in range(0, len(A)-j):\n",
        "    if A[i] > A[i+1]:\n",
        "      t = A[i]\n",
        "      A[i] = A[i+1]\n",
        "      A[i+1] = t\n",
        "    \n",
        "print(A)\n",
        "    \n",
        "    "
      ],
      "execution_count": 3,
      "outputs": [
        {
          "output_type": "stream",
          "text": [
            "[244, 2035, 2554, 2824, 3506, 4054, 4337, 4447, 4519, 4993, 5265, 5470, 7182, 7379, 7580, 8357, 8373, 9187, 9222]\n"
          ],
          "name": "stdout"
        }
      ]
    },
    {
      "metadata": {
        "id": "fuEMWp9JeAgz",
        "colab_type": "text"
      },
      "cell_type": "markdown",
      "source": [
        "# Nueva sección"
      ]
    },
    {
      "metadata": {
        "id": "Aazp7uuzeBoC",
        "colab_type": "text"
      },
      "cell_type": "markdown",
      "source": [
        "# Nueva sección"
      ]
    }
  ]
}