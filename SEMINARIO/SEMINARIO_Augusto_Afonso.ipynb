{
  "nbformat": 4,
  "nbformat_minor": 0,
  "metadata": {
    "colab": {
      "name": "SEMINARIO_Augusto_Afonso.ipynb",
      "version": "0.3.2",
      "provenance": [],
      "collapsed_sections": [],
      "include_colab_link": true
    },
    "kernelspec": {
      "display_name": "Python 3",
      "language": "python",
      "name": "python3"
    }
  },
  "cells": [
    {
      "cell_type": "markdown",
      "metadata": {
        "id": "view-in-github",
        "colab_type": "text"
      },
      "source": [
        "<a href=\"https://colab.research.google.com/github/a-afonso/03MAIR-Algoritmos-de-optimizacion/blob/master/SEMINARIO/SEMINARIO_Augusto_Afonso.ipynb\" target=\"_parent\"><img src=\"https://colab.research.google.com/assets/colab-badge.svg\" alt=\"Open In Colab\"/></a>"
      ]
    },
    {
      "metadata": {
        "colab_type": "text",
        "id": "hVbXYX-RfPWh"
      },
      "cell_type": "markdown",
      "source": [
        "# Algoritmos de optimización - Seminario<br>\n",
        "<b>Nombre y Apellidos: </b>Augusto Afonso Losada <br>\n",
        "<b>Url: </b>https://github.com/a-afonso/03MAIR-Algoritmos-de-optimizacion/tree/master/SEMINARIO<br>\n",
        "  <b>Problema:</b>\n",
        "> 1. Elección de grupos de población homogéneos <br>\n",
        "\n",
        "<b>Descripción del problema: </b>Una productora ganadera nos encarga la tarea de seleccionar grupos de terneros para aplicar 3 tratamientos diferentes. Para cada uno de los tratamientos debemos seleccionar 3 grupos de terneros que sean lo mas homogéneos posible en peso para que en los resultados del tratamiento influya lo menos posible el peso del animal. Disponemos de una población de N animales entre machos y hembras.<br>\n",
        "<br>\n",
        "Se solicita diseñar un algoritmo para conseguir una agrupación que cumpla de la mejor manera posible las especificaciones de la productora.<br>\n",
        "<br>\n",
        "\n",
        "(*) La respuesta es obligatoria\n",
        "\n",
        "\n",
        "\n",
        "\n",
        "\n",
        "                                        "
      ]
    },
    {
      "metadata": {
        "colab_type": "code",
        "id": "zu9aZ8S-grjy",
        "colab": {}
      },
      "cell_type": "code",
      "source": [
        ""
      ],
      "execution_count": 0,
      "outputs": []
    },
    {
      "metadata": {
        "colab_type": "text",
        "id": "3_-exlrTgLd-"
      },
      "cell_type": "markdown",
      "source": [
        "(*)¿Cuantas posibilidades hay sin tener en cuenta las restricciones?\n",
        "\n",
        "¿Cuantas posibilidades hay teniendo en cuenta todas las restricciones?\n",
        "\n",
        "\n",
        "\n"
      ]
    },
    {
      "metadata": {
        "colab_type": "text",
        "id": "WfCUqJyKhPcw"
      },
      "cell_type": "markdown",
      "source": [
        "**Respuesta**<br>\n",
        "\n",
        "Para calcular las posibilidades sin restricciones, debemos suponer que son N animales, independientemente del sexo. La solución se obtendría realizando todas las combinaciones posibles, evaluando cada una de ellas y quedándonos con la mejor.<br>\n",
        "\n",
        "En estas circunstancias, serían 3 tratamientos x 3 grupos = 9 grupos efectivos por lo cual, lo que tenemos, son combinaciones de N elementos tomados de 9 en 9 y sin repetición, es decir:<br>\n",
        "\n",
        "*   N! / (9! (N-9)!)\n",
        "\n",
        "<br>\n",
        "En el caso con restricciones, aunque podría parecer que la solución puede ser única (la que proponga la combinación más homogénea), en realidad no es posible determinar con exactitud el número de posibles soluciones, ya que por ejemplo, puede haber animales del mismo sexo con el mismo peso, en cuyo caso podrían caer en cualquiera de los grupos efectivos del propio sexo indistintamente.<br>\n",
        "\n",
        "La peor de las situaciones, sería aquella en la que todos los animales tienen el mismo peso y el sexo está divido exactamente al 50%, porque cualquier combinación en cada sexo sería posible, con lo cual las posibilidades vendrían a ser:<br>\n",
        "\n",
        "*   (N/2)! / (9! ((N/2)-9)!)\n",
        "\n",
        "Paradójicamente, en este último caso cualquier combinación sería la solución óptima, ya que cumpliría con el criterio solicitado.<br>"
      ]
    },
    {
      "metadata": {
        "colab_type": "code",
        "id": "iq6Fe32MgpDX",
        "colab": {}
      },
      "cell_type": "code",
      "source": [
        ""
      ],
      "execution_count": 0,
      "outputs": []
    },
    {
      "metadata": {
        "colab_type": "text",
        "id": "dzynfVJahHoY"
      },
      "cell_type": "markdown",
      "source": [
        "Modelo para el espacio de soluciones<br>\n",
        "(*) ¿Cual es la estructura de datos que mejor se adapta al problema? Arguméntalo.(Es posible que hayas elegido una al principio y veas la necesidad de cambiar, arguméntalo).\n"
      ]
    },
    {
      "metadata": {
        "colab_type": "text",
        "id": "xFIJrOwKi2Ti"
      },
      "cell_type": "markdown",
      "source": [
        "**Respuesta**\n",
        "\n",
        "Podemos utilizar un dataset para contener la estructura de datos de entrada. El dataset contendría N filas y tres columnas. Las columnas serían: el identificador del animal, el peso y el sexo (\"Id\", \"Peso\" y \"Sexo\").<br>\n",
        "\n",
        "La estructura de datos devuelta sería una lista de 2 elementos, una por cada sexo. Cada uno de estos elementos sería a su vez una lista de 9 elementos, tantos como grupos efectivos de cada sexo. A su vez, cada uno de estos elementos sería una lista cuyos elementos serían las \"fichas\" (Id, Peso, etc.) de los animales de cada uno de los grupos efectivos."
      ]
    },
    {
      "metadata": {
        "colab_type": "code",
        "id": "38c-7-ejhJmA",
        "colab": {}
      },
      "cell_type": "code",
      "source": [
        ""
      ],
      "execution_count": 0,
      "outputs": []
    },
    {
      "metadata": {
        "colab_type": "text",
        "id": "7Z9U2W7bi-XS"
      },
      "cell_type": "markdown",
      "source": [
        "Según el modelo para el espacio de soluciones<br>\n",
        "(*)¿Cual es la función objetivo?\n",
        "\n",
        "(*)¿Es un problema de maximización o minimización?"
      ]
    },
    {
      "metadata": {
        "colab_type": "text",
        "id": "hBalWLM7j1_d"
      },
      "cell_type": "markdown",
      "source": [
        "**Respuesta**\n",
        "\n",
        "Para responder a estas preguntas, habría que definir el concepto de *\"Homogeneidad de un Grupo Efectivo de animales\"*.<br>\n",
        "\n",
        "*   Homogeneidad de un Grupo Efectivo de animales (HGE): Peso medio de los animales que componen un grupo efectivo de animales. Donde un grupo efectivo de animales (GE) equivale al conjunto de animales en cada uno de los conjuntos formados por el cómputo de 3 tratamientos x 3 grupos. Es decir hay 9 grupos efectivos (por cada sexo) con sus animales.\n",
        "\n",
        "Para un determinado GE, habría que calcular su HGE, comparándola con lo desviada que está respecto al peso medio de toda la muestra. La combinación óptima será aquella en la que dicha desviación de todos los GE con respecto al peso medio, es mínima.<br>\n",
        "\n",
        "Por lo tanto es un problema de minimización. \n",
        "\n"
      ]
    },
    {
      "metadata": {
        "colab_type": "code",
        "id": "pDA-rg3Gj5Lz",
        "colab": {}
      },
      "cell_type": "code",
      "source": [
        ""
      ],
      "execution_count": 0,
      "outputs": []
    },
    {
      "metadata": {
        "colab_type": "text",
        "id": "rlnTYgY1j6I2"
      },
      "cell_type": "markdown",
      "source": [
        "Diseña un algoritmo para resolver el problema por fuerza bruta"
      ]
    },
    {
      "metadata": {
        "colab_type": "text",
        "id": "70rDgxYXkC8r"
      },
      "cell_type": "markdown",
      "source": [
        "Respuesta"
      ]
    },
    {
      "metadata": {
        "colab_type": "code",
        "id": "CJb5sQ0qkENy",
        "outputId": "1bf2771a-ae7e-4da3-da89-fef2d33a1712",
        "colab": {
          "base_uri": "https://localhost:8080/",
          "height": 71
        }
      },
      "cell_type": "code",
      "source": [
        "import numpy as np\n",
        "import pandas as pd\n",
        "import random\n",
        "import math\n",
        "import sys\n",
        "import matplotlib.pyplot as plt\n",
        "from itertools import permutations\n",
        "\n",
        "\n",
        "# Inicialización de variables globales\n",
        "#   - Escogemos solo una población de 18 animales y 3 grupos por sexo (1x3) \n",
        "#     para las pruebas porque la explosión combinatoria hace que el tiempo\n",
        "#     de ejecución sea excesivo a partir de estos valores\n",
        "#   - Incluso en este caso, si el número de animales queda dividido por sexo\n",
        "#     al 50% (9+9), el tiempo se hace inviable\n",
        "nIndividuals = 18\n",
        "nTreats = 1 \n",
        "nGroups = 3\n",
        "infinito = sys.maxsize\n",
        "\n",
        "\n",
        "# Creación de un dataset de muestra\n",
        "MUESTRA = pd.DataFrame()\n",
        "MUESTRA[\"Id\"] = [i for i in range(nIndividuals)]\n",
        "MUESTRA[\"Peso\"] = [random.gauss(37, 2.1) for i in range(nIndividuals)]\n",
        "MUESTRA[\"Sexo\"] = [random.getrandbits(1) for i in range(nIndividuals)]\n",
        "\n",
        "\n",
        "# Función que resuelve el problema 1 del seminario\n",
        "def do_problem1(MUESTRA, nTreats, nGroups):\n",
        "  \n",
        "  # Calcula el número total de animales de la muestra\n",
        "  nAnimals = len(MUESTRA)                                                       #Coste = nAnimals\n",
        "\n",
        "  \n",
        "  # Dividimos el dataset de la muestra en dos listas, una para cada sexo\n",
        "  MALE = []                                                                     #Coste = 2 \n",
        "  FEMALE = []\n",
        "\n",
        "  for index, row in MUESTRA.iterrows():                                         #Coste = nAnimals * 5\n",
        "    if row[\"Sexo\"] == 0:\n",
        "      MALE.append([int(row[\"Id\"]), row[\"Peso\"], 0])\n",
        "    else:\n",
        "      FEMALE.append([int(row[\"Id\"]), row[\"Peso\"], 0])\n",
        "\n",
        "      \n",
        "  # Calcula el número máximo de animales por grupo\n",
        "  nMale = len(MALE)                                                             #Coste = nAnimals\n",
        "  nFemale = len(FEMALE)\n",
        "\n",
        "  nAnimalsGroup = min(nMale, nFemale) // (nTreats * nGroups)                    #Coste = 5\n",
        "\n",
        "  \n",
        "  # Función local que calcula la homogeneidad de los pesos de una \n",
        "  # permutación\n",
        "  def get_homogeneidad(PERMUTACION, PESOS, p_medio, nTotalGroups, nAnimalsGroup):\n",
        "    TEMP_1 = []\n",
        "    ix = 0\n",
        "    suma = 0\n",
        "    for g in range(nTotalGroups):\n",
        "      TEMP_2 = []\n",
        "      TEMP_3 = []\n",
        "      for i in range(ix, ix+nAnimalsGroup):\n",
        "        TEMP_2.append(PESOS[i])\n",
        "        TEMP_3.append(PERMUTACION[i])\n",
        "      TEMP_1.append(TEMP_3)\n",
        "      ix = ix + nAnimalsGroup\n",
        "\n",
        "      media = np.mean(TEMP_2)\n",
        "      suma = suma + abs(p_medio - media)\n",
        "\n",
        "    return(suma / nTotalGroups, TEMP_1)\n",
        "\n",
        "  \n",
        "  # Función local para crear agrupaciones de cualquier sexo\n",
        "  def group_animals(MSEXO, nTreats, nGroups, nAnimalsGroup):\n",
        "\n",
        "    # Calcula el peso medio\n",
        "    p_medio = np.mean(MSEXO, axis=0)[1]                                         #Coste = nAnimalsSex + 1\n",
        "    \n",
        "    # Calcula el número total de grupos\n",
        "    nTotalGroups = nTreats * nGroups                                            #Coste = 2\n",
        "\n",
        "    # Calcula el número de animales de la lista\n",
        "    nAnimalsSex = nTotalGroups * nAnimalsGroup                                  #Coste = 2\n",
        "\n",
        "    # Ordenamos la muestra por diferencias con respecto a la media\n",
        "    # para excluir los más distantes en peso (de la media)\n",
        "    for a in MSEXO:                                                             #Coste = nAnimalsSex * 3 \n",
        "      a[2] = abs(p_medio - a[1])\n",
        "    MSEXO = sorted(MSEXO, key=lambda x: x[2])                                   #Coste = nAnimalsSex * log(nAnimalsSex)\n",
        "    MSEXO = MSEXO[0:nAnimalsSex]                                                #Coste = nAnimalsSex\n",
        "\n",
        "    # Calcula el nuevo peso medio\n",
        "    p_medio = np.mean(MSEXO, axis=0)[1]                                         #Coste = nAnimalsSex + 1\n",
        "\n",
        "    # Calcula las permutaciones de animales y crea una lista equivalente\n",
        "    # a ellas con sus pesos correspondientes\n",
        "    PERMUTACIONES = list(permutations([MSEXO[i][0] for i in range(0, len(MSEXO))]))\n",
        "\n",
        "    PESOS = []\n",
        "    for PERM in PERMUTACIONES:\n",
        "      P = []\n",
        "      for p in PERM:\n",
        "        P.append(MUESTRA.loc[MUESTRA[\"Id\"] == p, \"Peso\"].iloc[0])\n",
        "      PESOS.append(P)\n",
        "\n",
        "    # Calcula la permutación más homogénea\n",
        "    best_permutacion = []\n",
        "    best_homogeneidad = infinito\n",
        "    for ix in range(len(PERMUTACIONES)):\n",
        "      h, g = get_homogeneidad(PERMUTACIONES[ix], PESOS[ix], p_medio, nTotalGroups, nAnimalsGroup)\n",
        "      if h < best_homogeneidad:\n",
        "        best_permutacion = g\n",
        "        best_homogeneidad = h\n",
        "\n",
        "    return best_permutacion, best_homogeneidad\n",
        "  \n",
        "  # Consigue las agrupaciones de animales macho más homogéneas\n",
        "  RMALE, hM = group_animals(MALE, nTreats, nGroups, nAnimalsGroup)\n",
        "\n",
        "  # Consigue las agrupaciones de animales hembra más homogéneas\n",
        "  RFEMALE, hF = group_animals(FEMALE, nTreats, nGroups, nAnimalsGroup)\n",
        "  \n",
        "  return RMALE, RFEMALE\n",
        "\n",
        "\n",
        "# Calcula e imprime los grupos para una muestra dada\n",
        "agrupaciones = do_problem1(MUESTRA, nTreats, nGroups)\n",
        "\n",
        "print('Grupos de sexo Macho: ', agrupaciones[0])\n",
        "print()\n",
        "print('Grupos de sexo Hembra: ', agrupaciones[1])\n"
      ],
      "execution_count": 7,
      "outputs": [
        {
          "output_type": "stream",
          "text": [
            "Grupos de sexo Macho:  [[15, 3], [9, 12], [7, 11]]\n",
            "\n",
            "Grupos de sexo Hembra:  [[2, 1], [0, 6], [16, 14]]\n"
          ],
          "name": "stdout"
        }
      ]
    },
    {
      "metadata": {
        "colab_type": "text",
        "id": "tgrnsC2nkFa8"
      },
      "cell_type": "markdown",
      "source": [
        "Calcula la complejidad del algoritmo por fuerza bruta"
      ]
    },
    {
      "metadata": {
        "colab_type": "text",
        "id": "9eUd3xwckP68"
      },
      "cell_type": "markdown",
      "source": [
        "**Respuesta**\n",
        "\n",
        "Debido al hecho de que en el algoritmo por fuerza bruta, necesariamente evaluaremos todas las permutaciones, el coste será O(n!), es decir, de complejidad factorial."
      ]
    },
    {
      "metadata": {
        "colab_type": "code",
        "id": "rvZWwL-ckRST",
        "colab": {}
      },
      "cell_type": "code",
      "source": [
        ""
      ],
      "execution_count": 0,
      "outputs": []
    },
    {
      "metadata": {
        "colab_type": "text",
        "id": "txbrmLmskReM"
      },
      "cell_type": "markdown",
      "source": [
        "(*)Diseña un algoritmo que mejore la complejidad del algortimo por fuerza bruta. Argumenta porque crees que mejora el algoritmo por fuerza bruta"
      ]
    },
    {
      "metadata": {
        "colab_type": "text",
        "id": "hLrVwt5QkZPD"
      },
      "cell_type": "markdown",
      "source": [
        "**Respuesta**\n",
        "\n",
        "El siguiente algoritmo, en mi opinión, mejora el de fuerza bruta por las razones siguientes:\n",
        "\n",
        "No se construye un conjunto con todas las permutaciones posibles. Si nos fijamos un poco, una simple ordenación de la muestra por peso de menor a mayor, hace que los pesos estén muy próximos entre sí. Si, una vez ordenada la muestra por pesos, agrupamos los individuos, escogiendo uno por cada X, obtenemos una media por grupo muy homogénea.\n",
        "\n",
        "Esto puede verse más abajo, en el gráfico mostrado a continuación del código del algoritmo siguiente."
      ]
    },
    {
      "metadata": {
        "colab_type": "code",
        "id": "m1eyM21Vkabg",
        "colab": {}
      },
      "cell_type": "code",
      "source": [
        "import numpy as np\n",
        "import pandas as pd\n",
        "import random\n",
        "import math\n",
        "import matplotlib.pyplot as plt\n",
        "from itertools import permutations\n",
        "import matplotlib.pyplot as plt\n",
        "\n",
        "\n",
        "# Función que imprime un gráfico con varias series\n",
        "def print_graph(SERIES, TSERIES, TEJES, COLORES):\n",
        "  fig, axes = plt.subplots(1, 1)\n",
        "  \n",
        "  for i in range(len(SERIES)):\n",
        "    axes.plot(np.arange(len(SERIES[i])), SERIES[i], COLORES[i])\n",
        "    \n",
        "  plt.legend(TSERIES, loc='best') \n",
        "  axes.set_xlabel(TEJES[0])\n",
        "  axes.set_ylabel(TEJES[1])\n",
        "  \n",
        "  plt.show()\n",
        "  \n",
        "\n",
        "# Inicialización de variables globales\n",
        "nIndividuals = 500\n",
        "nTreats = 3 \n",
        "nGroups = 3\n",
        "\n",
        "\n",
        "# Creación de un dataset de muestra\n",
        "MUESTRA = pd.DataFrame()\n",
        "#random.seed(30000)\n",
        "MUESTRA[\"Id\"] = [i for i in range(nIndividuals)]\n",
        "MUESTRA[\"Peso\"] = [random.gauss(37, 2.1) for i in range(nIndividuals)]\n",
        "MUESTRA[\"Sexo\"] = [random.getrandbits(1) for i in range(nIndividuals)]\n",
        "\n",
        "\n",
        "# Función mejorada que resuelve el problema 1 del seminario\n",
        "def do_problem1(MUESTRA, nTreats, nGroups, options):\n",
        "  \n",
        "  # Calcula el número total de animales de la muestra\n",
        "  nAnimals = len(MUESTRA)                                                       #Coste = nAnimals\n",
        "  \n",
        "  \n",
        "  # Dividimos el dataset de la muestra en dos listas, una para cada sexo\n",
        "  MALE = []                                                                     #Coste = 2 \n",
        "  FEMALE = []\n",
        "\n",
        "  for index, row in MUESTRA.iterrows():                                         #Coste = nAnimals * 5\n",
        "    if row[\"Sexo\"] == 0:                                                        \n",
        "      MALE.append([int(row[\"Id\"]), row[\"Peso\"], 0])\n",
        "    else:\n",
        "      FEMALE.append([int(row[\"Id\"]), row[\"Peso\"], 0])\n",
        "\n",
        "      \n",
        "  # Calcula el número máximo de animales por grupo\n",
        "  nMale = len(MALE)                                                             #Coste = nAnimals\n",
        "  nFemale = len(FEMALE)\n",
        "\n",
        "  nAnimalsGroup = min(nMale, nFemale) // (nTreats * nGroups)                    #Coste = 5 \n",
        "\n",
        "  \n",
        "  # Función local para crear agrupaciones de cualquier sexo\n",
        "  def group_animals(MSEXO, nTreats, nGroups, nAnimalsGroup, options):\n",
        "\n",
        "    # Calcula el peso medio\n",
        "    p_medio = np.mean(MSEXO, axis=0)[1]                                         #Coste = nAnimalsSex + 1\n",
        "    \n",
        "    # Calcula el número total de grupos\n",
        "    nTotalGroups = nTreats * nGroups                                            #Coste = 2\n",
        "\n",
        "    # Calcula el número de animales de la lista\n",
        "    nAnimalsSex = nTotalGroups * nAnimalsGroup                                  #Coste = 2\n",
        "\n",
        "    # Ordenamos la muestra por diferencias con respecto a la media\n",
        "    # para excluir los más distantes en peso (de la media)\n",
        "    if options == \"Ordenada\":                                                   #Coste = 1                                                   \n",
        "      for a in MSEXO:                                                           #Coste = nAnimalsSex * 3 \n",
        "        a[2] = abs(p_medio - a[1])\n",
        "      MSEXO = sorted(MSEXO, key=lambda x: x[2])                                 #Coste = nAnimalsSex * log(nAnimalsSex)\n",
        "      MSEXO = MSEXO[0:nAnimalsSex]                                              #Coste = nAnimalsSex\n",
        "\n",
        "      # Reordenamos la muestra por pesos\n",
        "      MSEXO = sorted(MSEXO, key=lambda x: x[1])                                 #Coste = nAnimalsSex * log(nAnimalsSex)\n",
        "\n",
        "      # Crea los grupos más homogéneos posible, escogiendo un individuo por cada\n",
        "      # nTotalGroups, de forma que en cada grupo entren individuos  \n",
        "      # significativos de cada zona de la lista ya ordenada por pesos\n",
        "      TEMP_1 = []                                                               #Coste = 1\n",
        "      for i in range(nTotalGroups):                                             #Coste = nTotalGroups * 2\n",
        "        TEMP_2 = []\n",
        "\n",
        "        for j in range(i, nAnimalsSex, nTotalGroups):                           #Coste = nAnimalsSex/nTotalGroups\n",
        "          TEMP_2.append([MSEXO[j][0], MSEXO[j][1]])\n",
        "\n",
        "        TEMP_1.append(TEMP_2)\n",
        "    # Si se solicita la agrupación sin ordenación, devuelve los grupos tal y\n",
        "    # como están etiquetados los animales (esta opción solo es útil para\n",
        "    # comprobar gráficamente la diferencia entre los modos de ordenación \n",
        "    # y sin ella, no computa para el coste)\n",
        "    else:\n",
        "      MSEXO = MSEXO[0:nAnimalsSex]\n",
        "      \n",
        "      TEMP_1 = []\n",
        "      TEMP_2 = []\n",
        "      i = 0\n",
        "      while i < nAnimalsSex:\n",
        "        if i % nAnimalsGroup == 0:\n",
        "          TEMP_2 = []\n",
        "          \n",
        "        TEMP_2.append([MSEXO[i][0], MSEXO[i][1]])\n",
        "          \n",
        "        if i % nAnimalsGroup == 0:\n",
        "          TEMP_1.append(TEMP_2)\n",
        "          \n",
        "        i = i + 1;\n",
        "        \n",
        "    return TEMP_1\n",
        "  \n",
        "  # Consigue las agrupaciones de animales macho más homogéneas\n",
        "  RMALE = group_animals(MALE, nTreats, nGroups, nAnimalsGroup, options)         #Coste = 1\n",
        "  \n",
        "  # Consigue las agrupaciones de animales hembra más homogéneas\n",
        "  RFEMALE = group_animals(FEMALE, nTreats, nGroups, nAnimalsGroup, options)     #Coste = 1 \n",
        "  \n",
        "  return RMALE, RFEMALE                                                         #Coste = 1\n",
        "\n",
        "\n",
        "\n"
      ],
      "execution_count": 0,
      "outputs": []
    },
    {
      "metadata": {
        "id": "8f93uaFqbdxb",
        "colab_type": "text"
      },
      "cell_type": "markdown",
      "source": [
        "Tal y como se indica en el párrafo anterior, en el gráfico generado por el siguiente código, se muestra un ejemplo de como se comportaría el mismo algoritmo (con y sin ordenación) con la misma muestra."
      ]
    },
    {
      "metadata": {
        "id": "RhFlsCbQbHna",
        "colab_type": "code",
        "colab": {
          "base_uri": "https://localhost:8080/",
          "height": 379
        },
        "outputId": "79ef858d-9187-4de7-8bba-a505c8125036"
      },
      "cell_type": "code",
      "source": [
        "# Calcula e imprime los grupos para una muestra dada\n",
        "agrupaciones = do_problem1(MUESTRA, nTreats, nGroups, 'Ordenada')\n",
        "\n",
        "#print('Grupos de sexo Macho: ')\n",
        "LPM = []\n",
        "for i in agrupaciones[0]:\n",
        "  p_medio = np.mean(i, axis=0)[1]\n",
        "  LPM.append(p_medio)\n",
        "  #print(i)\n",
        "#print(LPM)\n",
        "#print()\n",
        "\n",
        "#print('Grupos de sexo Hembra: ')\n",
        "LPF = []\n",
        "for i in agrupaciones[1]:\n",
        "  p_medio = np.mean(i, axis=0)[1]\n",
        "  LPF.append(p_medio)\n",
        "  #print(i)\n",
        "#print(LPF)\n",
        "#print()\n",
        "\n",
        "\n",
        "# Calcula e imprime los grupos sin ordenar\n",
        "agrupaciones = do_problem1(MUESTRA, nTreats, nGroups, '')\n",
        "\n",
        "#print('Grupos de sexo Macho: ')\n",
        "LPMU = []\n",
        "for i in agrupaciones[0]:\n",
        "  p_medio = np.mean(i, axis=0)[1]\n",
        "  LPMU.append(p_medio)\n",
        "  #print(i)\n",
        "#print(LPMU)\n",
        "#print()\n",
        "\n",
        "#print('Grupos de sexo Hembra: ')\n",
        "LPFU = []\n",
        "for i in agrupaciones[1]:\n",
        "  p_medio = np.mean(i, axis=0)[1]\n",
        "  LPFU.append(p_medio)\n",
        "  #print(i)\n",
        "#print(LPFU)\n",
        "#print()\n",
        "\n",
        "\n",
        "# Imprime un gráfico comparativo\n",
        "print('Comparativa entre grupos con pesos previamente ordenados y no ordenados:')\n",
        "\n",
        "SERIES = []\n",
        "SERIES.append(LPM)\n",
        "SERIES.append(LPF)\n",
        "SERIES.append(LPMU)\n",
        "SERIES.append(LPFU)\n",
        "m = (np.mean(LPM) + np.mean(LPF)) / 2\n",
        "SERIES.append([m for _ in range(nTreats * nGroups)])\n",
        "\n",
        "TITULOS = ['Machos (O)', 'Hembras (O)', 'Machos', 'Hembras', 'Peso Medio']\n",
        "\n",
        "COLORES = ['orange', 'maroon', 'gray', 'silver', 'r--']\n",
        "              \n",
        "print_graph(SERIES, TITULOS, ['Grupos', 'Pesos'], COLORES)"
      ],
      "execution_count": 2,
      "outputs": [
        {
          "output_type": "stream",
          "text": [
            "Comparativa entre grupos con pesos previamente ordenados y no ordenados:\n"
          ],
          "name": "stdout"
        },
        {
          "output_type": "display_data",
          "data": {
            "image/png": "[encoded data removed]",
            "text/plain": [
              "<Figure size 576x396 with 1 Axes>"
            ]
          },
          "metadata": {
            "tags": []
          }
        }
      ]
    },
    {
      "metadata": {
        "colab_type": "text",
        "id": "eGDB4K6uk1iN"
      },
      "cell_type": "markdown",
      "source": [
        "(*)Calcula la complejidad del algoritmo "
      ]
    },
    {
      "metadata": {
        "colab_type": "text",
        "id": "NhpTh_BPk1ms"
      },
      "cell_type": "markdown",
      "source": [
        "**Respuesta**\n",
        "\n",
        "El cálculo del coste detallado está documentado en el propio algoritmo, indicado como comentario en cada línea a partir de la posición 80.\n",
        "\n",
        "Se puede observar que la complejidad es del orden de O(n log(n)), siendo n = número de animales de la muestra, debido a la necesidad de ordenar varias veces las listas."
      ]
    },
    {
      "metadata": {
        "colab_type": "code",
        "id": "nREzhkStlCq8",
        "colab": {}
      },
      "cell_type": "code",
      "source": [
        ""
      ],
      "execution_count": 0,
      "outputs": []
    },
    {
      "metadata": {
        "colab_type": "text",
        "id": "3M6QjTsSkmYe"
      },
      "cell_type": "markdown",
      "source": [
        "Según el problema (y tenga sentido), diseña un juego de datos de entrada aleatorios"
      ]
    },
    {
      "metadata": {
        "colab_type": "text",
        "id": "Jc3_OlyNkvjZ"
      },
      "cell_type": "markdown",
      "source": [
        "**Respuesta**\n",
        "\n",
        "El juego de datos siguiente se construye para 500 animales."
      ]
    },
    {
      "metadata": {
        "colab_type": "code",
        "id": "sJ-N2etjkyWc",
        "colab": {}
      },
      "cell_type": "code",
      "source": [
        "import pandas as pd\n",
        "import random\n",
        "\n",
        "# Inicialización de variables globales\n",
        "nAnimals = 500\n",
        "\n",
        "# Creación de un dataset de muestra\n",
        "MUESTRA = pd.DataFrame()\n",
        "MUESTRA[\"Id\"] = [i for i in range(nAnimals)]\n",
        "MUESTRA[\"Peso\"] = [random.gauss(37, 2.1) for i in range(nAnimals)]\n",
        "MUESTRA[\"Sexo\"] = [random.getrandbits(1) for i in range(nAnimals)]"
      ],
      "execution_count": 0,
      "outputs": []
    },
    {
      "metadata": {
        "colab_type": "text",
        "id": "zy5ZROmjlGo1"
      },
      "cell_type": "markdown",
      "source": [
        "Aplica el algoritmo al juego de datos generado"
      ]
    },
    {
      "metadata": {
        "colab_type": "text",
        "id": "_Cmj-PVylMsa"
      },
      "cell_type": "markdown",
      "source": [
        "**Respuesta**"
      ]
    },
    {
      "metadata": {
        "colab_type": "code",
        "id": "Jkx8GeiYlUz1",
        "colab": {
          "base_uri": "https://localhost:8080/",
          "height": 430
        },
        "outputId": "5a5b5981-09ca-4c47-aed0-5704699d9971"
      },
      "cell_type": "code",
      "source": [
        "# Calcula e imprime los grupos para una muestra dada y 3 x 3 grupos\n",
        "agrupaciones = do_problem1(MUESTRA, 3, 3, 'Ordenada')\n",
        "\n",
        "print('Grupos de sexo Macho: ')\n",
        "for i in agrupaciones[0]:\n",
        "  print(i)\n",
        "print()\n",
        "\n",
        "print('Grupos de sexo Hembra: ')\n",
        "for i in agrupaciones[1]:\n",
        "  print(i)\n",
        "print()\n"
      ],
      "execution_count": 4,
      "outputs": [
        {
          "output_type": "stream",
          "text": [
            "Grupos de sexo Macho: \n",
            "[[418, 33.758768934188744], [290, 34.38539142732347], [420, 34.716611909124495], [457, 34.89135572568759], [293, 35.20986214633553], [12, 35.46121075481902], [395, 35.54318086210656], [389, 35.681472714639064], [499, 35.887174595681685], [207, 36.341555507462026], [496, 36.56003756866133], [107, 36.70033902325298], [229, 36.85181934896259], [284, 37.02923698487431], [110, 37.15173611147528], [473, 37.32388851027784], [185, 37.45062850289502], [369, 37.66360348433557], [26, 37.96356518535343], [325, 38.18566394968566], [78, 38.361909967323285], [28, 38.60413779269864], [442, 38.97674425070662], [47, 39.20781710032082], [244, 39.72863073763839], [335, 39.98117664453132]]\n",
            "[[6, 33.80057504825918], [113, 34.458259844925784], [124, 34.73019556697094], [353, 34.900381227381786], [187, 35.238210398351015], [220, 35.47072420506652], [431, 35.589667997152304], [312, 35.684111423120186], [339, 35.92528888070002], [221, 36.41711822550088], [413, 36.6486327479738], [287, 36.73737814437326], [96, 36.85930477275268], [467, 37.03742745420878], [250, 37.22065297106714], [432, 37.3390634478077], [387, 37.450985831791684], [315, 37.66393636508814], [458, 37.976700479150985], [159, 38.19944566017061], [172, 38.366441683946114], [210, 38.64562092884363], [174, 39.0155884437532], [306, 39.294242540861184], [160, 39.806900723440776], [323, 40.00498475314501]]\n",
            "[[486, 33.89772565388717], [381, 34.46055283672157], [406, 34.753850395292034], [34, 34.9173776992029], [60, 35.25897805488198], [129, 35.47334860156265], [137, 35.60768285047212], [417, 35.701797875449174], [385, 36.104096848283305], [193, 36.43923595291651], [303, 36.67007175934319], [8, 36.742773119849865], [4, 36.87500575935487], [45, 37.046443529385805], [271, 37.23372738176338], [90, 37.37910093804484], [73, 37.45745619689575], [29, 37.683925250672594], [146, 38.01291914227988], [105, 38.209949876780456], [297, 38.368160647419664], [468, 38.659995066744806], [285, 39.03599565077937], [149, 39.38452326619081], [84, 39.8139277844154], [461, 40.02257037922233]]\n",
            "[[397, 34.08277573131503], [15, 34.51044879932258], [269, 34.787213235316216], [429, 34.969074273366495], [400, 35.2765917229504], [212, 35.47404286633147], [95, 35.60974287100851], [94, 35.70788886296162], [64, 36.1062205564832], [449, 36.44705371704868], [359, 36.67037460695642], [164, 36.74830542824619], [301, 36.88481728919052], [117, 37.064415272797845], [203, 37.2518840428165], [224, 37.380701834078565], [238, 37.462433148689676], [235, 37.68553189225744], [87, 38.02622699204018], [2, 38.22988059342534], [365, 38.39295857266099], [476, 38.662699221291334], [487, 39.03622360968402], [471, 39.40741137005156], [378, 39.83029152684487], [151, 40.059028865502555]]\n",
            "[[298, 34.10892201821557], [58, 34.528507535028794], [109, 34.807640452847416], [190, 34.96954312801336], [51, 35.28351489633039], [331, 35.480398192378246], [283, 35.612431285298086], [167, 35.72423242395388], [388, 36.20670919669406], [135, 36.475378132108105], [441, 36.67617658735121], [102, 36.761088755739515], [282, 36.88897295808531], [348, 37.064792219738365], [309, 37.25828008257736], [44, 37.38082471300705], [311, 37.52166873202265], [314, 37.712032215906426], [205, 38.035769118876814], [259, 38.25317604884483], [291, 38.49300207463039], [300, 38.694849651159274], [209, 39.05989583032629], [178, 39.43065333117069], [294, 39.84810066841729], [460, 40.192962486323715]]\n",
            "[[196, 34.21549770720195], [490, 34.58738687899205], [158, 34.80925806318622], [71, 34.98971467040123], [49, 35.41487000575535], [422, 35.504019873262486], [114, 35.6244374239953], [136, 35.74723389109468], [13, 36.21900472074102], [176, 36.47657531655488], [479, 36.67661949865102], [450, 36.77088392917798], [175, 36.90092290328104], [62, 37.06931715128734], [157, 37.26457777369539], [361, 37.400147634921], [346, 37.523087130775714], [332, 37.722136097881425], [421, 38.0453795958367], [112, 38.262520672610925], [48, 38.516186715028454], [262, 38.78701151376542], [254, 39.10133853931637], [202, 39.48784663020042], [82, 39.876438375345565], [77, 40.20467645697936]]\n",
            "[[455, 34.313568704855236], [79, 34.61364364935364], [423, 34.83304045367453], [334, 35.03767138856771], [319, 35.43236265304569], [65, 35.52434914090012], [217, 35.62601886504666], [273, 35.80840063962195], [412, 36.25730996901934], [46, 36.51091372465613], [375, 36.685488550099834], [302, 36.78670421833072], [256, 36.95077053701569], [63, 37.09519827974758], [438, 37.28968609417925], [232, 37.40997312097625], [446, 37.54186435936049], [349, 37.82100137082886], [247, 38.06248596635787], [318, 38.27070472919701], [452, 38.52323972161531], [170, 38.818341364779194], [206, 39.112626252583446], [253, 39.52420695392238], [147, 39.87753353380236], [141, 40.30631771286275]]\n",
            "[[31, 34.349218853947235], [52, 34.63211992512544], [409, 34.836008156374355], [470, 35.08489188730804], [148, 35.442503546064216], [131, 35.529410208853285], [5, 35.62795893873859], [17, 35.84328733320057], [355, 36.27401737658166], [3, 36.53586577761938], [281, 36.69413683138129], [101, 36.79013637978548], [352, 36.98872808932587], [436, 37.10554396720068], [115, 37.30116071715177], [68, 37.41102395011424], [67, 37.58939574449757], [201, 37.841590090692414], [258, 38.14764338210031], [130, 38.273993377108106], [448, 38.56084793930746], [182, 38.85497166255713], [402, 39.15537164671555], [343, 39.615350279350196], [454, 39.90228840816906], [292, 40.32050729851706]]\n",
            "[[279, 34.37924452603369], [38, 34.67762709775813], [152, 34.84496092089724], [225, 35.103651444001436], [41, 35.44280659567689], [97, 35.5382150890084], [1, 35.66641926190949], [350, 35.85201523464106], [393, 36.31225232598121], [437, 36.53940671076756], [326, 36.694239678112616], [289, 36.79026006654569], [150, 37.01740268277993], [407, 37.13306404255475], [428, 37.32365273527887], [155, 37.42616352770867], [56, 37.63970638512572], [11, 37.90156702465846], [497, 38.16997139835583], [370, 38.32761345560234], [104, 38.57682637713996], [103, 38.96711099451669], [368, 39.157024530626245], [265, 39.633931537914314], [35, 39.9459328087665], [405, 40.42452235087958]]\n",
            "\n",
            "Grupos de sexo Hembra: \n",
            "[[408, 33.191015447444634], [24, 33.853121008525555], [338, 34.63648569812122], [183, 35.099283102868476], [179, 35.25217256722675], [477, 35.405925878023226], [226, 35.71103142311514], [14, 35.94421254987875], [198, 36.09786827620393], [108, 36.2910539453811], [134, 36.61194624498113], [118, 36.813073470856125], [475, 37.00352237552822], [20, 37.29589301258546], [380, 37.478521802933436], [168, 37.59737428596042], [132, 37.81014473851407], [122, 37.95248558863384], [23, 38.23040687831689], [21, 38.45329335686892], [153, 38.57478383896988], [0, 38.87639677478794], [59, 39.11811019926496], [308, 39.512493217436145], [227, 39.7429739538701], [143, 40.38440785737477]]\n",
            "[[246, 33.22813759640933], [211, 33.920560555337346], [390, 34.687296862135625], [33, 35.153361238497304], [222, 35.283962080079164], [188, 35.4173802957243], [322, 35.7272071549501], [411, 36.035547439660114], [469, 36.09994649388732], [219, 36.31705306754329], [316, 36.61807588099665], [288, 36.853652921714804], [154, 37.00784331387604], [264, 37.29835777711603], [53, 37.490027589829346], [215, 37.62955133433752], [126, 37.82127584415201], [430, 37.97289423001727], [37, 38.23868024211227], [362, 38.45799563415139], [69, 38.60320452847252], [263, 38.94933397443076], [493, 39.16967568091005], [321, 39.524188449995044], [22, 39.873551461776984], [304, 40.4893853835314]]\n",
            "[[195, 33.23938889021906], [61, 33.94328263974511], [427, 34.78632638025221], [261, 35.16760257804736], [384, 35.28962498553948], [192, 35.482934929410455], [91, 35.74155953869358], [401, 36.0381420840872], [485, 36.120077257028], [462, 36.32514873873298], [313, 36.66183061588592], [356, 36.88190669539023], [415, 37.01728127346444], [419, 37.3078545680001], [163, 37.50112242911158], [494, 37.667143827448335], [358, 37.82798175675121], [373, 38.019036438199436], [474, 38.30036258095169], [32, 38.4748183937864], [425, 38.60576039286523], [344, 38.95736342319261], [98, 39.18251492401151], [36, 39.52955910125018], [239, 39.90174713628818], [391, 40.53628573047385]]\n",
            "[[445, 33.4658948362123], [324, 33.96961980333588], [162, 34.824385589332415], [345, 35.17404632122568], [317, 35.35224050674009], [116, 35.51005433225428], [119, 35.77776570748693], [16, 36.0388985896546], [240, 36.13238584941297], [330, 36.35401784890257], [248, 36.690237532625126], [66, 36.88209871646966], [233, 37.09014291636821], [266, 37.32113920989987], [43, 37.5037337117053], [277, 37.715961494199604], [492, 37.88175247488699], [208, 38.040233447676606], [480, 38.32461421797711], [171, 38.51707328857137], [366, 38.705457496236136], [360, 39.016836307042915], [310, 39.31030505167982], [498, 39.60454033673821], [70, 39.954828879365], [320, 40.71226660567683]]\n",
            "[[99, 33.54072081044688], [85, 34.05384873449749], [19, 34.855904843506885], [30, 35.220347471731465], [399, 35.35844344799305], [121, 35.55040298527655], [169, 35.78808286817461], [307, 36.04421481333705], [9, 36.15032471095207], [83, 36.364213363237184], [180, 36.73391704900185], [255, 36.92529043238734], [191, 37.11336622692585], [267, 37.40397303064384], [156, 37.558339761189686], [139, 37.74342139228238], [18, 37.910124828623424], [433, 38.04181832530542], [482, 38.3420089503685], [424, 38.52828116292103], [327, 38.74195114241718], [435, 39.0311000209147], [347, 39.432477568794674], [133, 39.618096468591965], [383, 40.02190919309064], [459, 40.71299215486488]]\n",
            "[[363, 33.63428614699517], [25, 34.22570614632039], [243, 34.960192202360766], [272, 35.233575292218895], [472, 35.37261078090942], [372, 35.574845647681755], [177, 35.79845081877323], [295, 36.06848904850655], [270, 36.169604272195954], [466, 36.413842477213414], [218, 36.74597603473227], [80, 36.93314652162127], [214, 37.16450031977444], [354, 37.416639296459216], [275, 37.56746736561091], [257, 37.77884827803268], [340, 37.91308657966216], [382, 38.077942657203415], [120, 38.348281386218986], [127, 38.54782552433711], [199, 38.74476110026002], [10, 39.06516419815711], [145, 39.43284006046278], [386, 39.62137218981984], [456, 40.06685185313344], [7, 40.81576957902068]]\n",
            "[[392, 33.66533411540621], [184, 34.32099851851153], [111, 35.04260425070346], [484, 35.23892783729626], [447, 35.391327362057154], [231, 35.58826837317898], [328, 35.80296989941698], [144, 36.08125464514453], [440, 36.17033441565877], [268, 36.45616508301666], [128, 36.748452053385776], [398, 36.94075896987724], [444, 37.202998795456324], [252, 37.41983578006975], [451, 37.590724056430346], [245, 37.78232883826303], [200, 37.92098165512433], [329, 38.10203226701651], [242, 38.371917555991594], [251, 38.552863455210186], [489, 38.748942007121144], [443, 39.07127242060542], [181, 39.45374129547715], [333, 39.64897716215649], [125, 40.20292911388639], [50, 41.02202820531778]]\n",
            "[[414, 33.7788096760771], [357, 34.366471662094895], [280, 35.05612048780447], [161, 35.245456057131534], [342, 35.39222429953348], [138, 35.63229518358288], [396, 35.84576102631666], [76, 36.09600085554533], [337, 36.23074277729903], [488, 36.47320672596234], [249, 36.78896985414977], [106, 36.951798204911505], [173, 37.21739919141574], [274, 37.46641860966183], [453, 37.59118619586388], [234, 37.78482641969719], [371, 37.93514589833524], [465, 38.12107108699762], [439, 38.38323999893079], [93, 38.5715427557944], [410, 38.79925761491415], [336, 39.08948920602161], [341, 39.47542348426647], [197, 39.688272945018525], [464, 40.23282135601279], [213, 41.17150236425569]]\n",
            "[[377, 33.79124473847079], [89, 34.58023906226678], [286, 35.063471803223884], [74, 35.25088160770067], [194, 35.39883137816766], [374, 35.666978204122785], [39, 35.92027573316106], [495, 36.09725950035137], [376, 36.23753163097792], [478, 36.52006905114472], [364, 36.811700654575276], [236, 36.99148267976122], [483, 37.234355664810735], [81, 37.47049159123489], [416, 37.5946267415715], [86, 37.80219258352972], [491, 37.951870514607826], [296, 38.15626420905588], [305, 38.41767884366994], [54, 38.5731437494154], [463, 38.817792198481854], [142, 39.1099284065234], [42, 39.50316665025356], [189, 39.738669202530765], [434, 40.29606162980177], [204, 41.220345072862614]]\n",
            "\n"
          ],
          "name": "stdout"
        }
      ]
    },
    {
      "metadata": {
        "colab_type": "text",
        "id": "eTFWUJQrtGcv"
      },
      "cell_type": "markdown",
      "source": [
        "Enumera las referencias que has utilizado(si ha sido necesario) para llevar a cabo el trabajo"
      ]
    },
    {
      "metadata": {
        "colab_type": "text",
        "id": "YKQ_mRBttWsP"
      },
      "cell_type": "markdown",
      "source": [
        "**Respuesta**\n",
        "\n",
        "Las fuentes principales utilizadas provienen de Internet: \n",
        "\n",
        "Página Web de Python: https://www.python.org/<br>\n",
        "Página Web de Matplotlib: https://matplotlib.org/index.html<br>\n",
        "Página Web de StackOverflow: https://stackoverflow.com/<br>\n",
        "Página Web de Wikipedia: https://es.wikipedia.org/wiki/Wikipedia:Portada<br>\n",
        "\n"
      ]
    },
    {
      "metadata": {
        "colab_type": "text",
        "id": "kAkDPUyRtYyH"
      },
      "cell_type": "markdown",
      "source": [
        "Describe brevemente las lineas de como crees que es posible avanzar en el estudio del problema. Ten en cuenta incluso posibles variaciones del problema y/o variaciones al alza del tamaño"
      ]
    },
    {
      "metadata": {
        "colab_type": "text",
        "id": "IE0uZmo-tZu-"
      },
      "cell_type": "markdown",
      "source": [
        "Respuesta"
      ]
    }
  ]
}