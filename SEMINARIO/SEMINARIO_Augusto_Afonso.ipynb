{
  "nbformat": 4,
  "nbformat_minor": 0,
  "metadata": {
    "colab": {
      "name": "SEMINARIO_Augusto_Afonso.ipynb",
      "version": "0.3.2",
      "provenance": [],
      "collapsed_sections": [],
      "include_colab_link": true
    },
    "kernelspec": {
      "display_name": "Python 3",
      "language": "python",
      "name": "python3"
    }
  },
  "cells": [
    {
      "cell_type": "markdown",
      "metadata": {
        "id": "view-in-github",
        "colab_type": "text"
      },
      "source": [
        "<a href=\"https://colab.research.google.com/github/a-afonso/03MAIR-Algoritmos-de-optimizacion/blob/master/SEMINARIO/SEMINARIO_Augusto_Afonso.ipynb\" target=\"_parent\"><img src=\"https://colab.research.google.com/assets/colab-badge.svg\" alt=\"Open In Colab\"/></a>"
      ]
    },
    {
      "metadata": {
        "colab_type": "text",
        "id": "hVbXYX-RfPWh"
      },
      "cell_type": "markdown",
      "source": [
        "# Algoritmos de optimización - Seminario<br>\n",
        "<b>Nombre y Apellidos: </b>Augusto Afonso Losada <br>\n",
        "<b>Url: </b>https://github.com/a-afonso/03MAIR-Algoritmos-de-optimizacion/tree/master/SEMINARIO<br>\n",
        "  <b>Problema:</b>\n",
        "> 1. Elección de grupos de población homogéneos <br>\n",
        "\n",
        "<b>Descripción del problema: </b>Una productora ganadera nos encarga la tarea de seleccionar grupos de terneros para aplicar 3 tratamientos diferentes. Para cada uno de los tratamientos debemos seleccionar 3 grupos de terneros que sean lo mas homogéneos posible en peso para que en los resultados del tratamiento influya lo menos posible el peso del animal. Disponemos de una población de N animales entre machos y hembras.<br>\n",
        "<br>\n",
        "Se solicita diseñar un algoritmo para conseguir una agrupación que cumpla de la mejor manera posible las especificaciones de la productora.<br>\n",
        "<br>\n",
        "\n",
        "(*) La respuesta es obligatoria\n",
        "\n",
        "\n",
        "\n",
        "\n",
        "\n",
        "                                        "
      ]
    },
    {
      "metadata": {
        "colab_type": "code",
        "id": "zu9aZ8S-grjy",
        "colab": {}
      },
      "cell_type": "code",
      "source": [
        ""
      ],
      "execution_count": 0,
      "outputs": []
    },
    {
      "metadata": {
        "colab_type": "text",
        "id": "3_-exlrTgLd-"
      },
      "cell_type": "markdown",
      "source": [
        "(*)¿Cuantas posibilidades hay sin tener en cuenta las restricciones?\n",
        "\n",
        "¿Cuantas posibilidades hay teniendo en cuenta todas las restricciones?\n",
        "\n",
        "\n",
        "\n"
      ]
    },
    {
      "metadata": {
        "colab_type": "text",
        "id": "WfCUqJyKhPcw"
      },
      "cell_type": "markdown",
      "source": [
        "**Respuesta**<br>\n",
        "\n",
        "Para calcular las posibilidades sin restricciones, debemos suponer que son N animales (independientemente del sexo) y que el peso no influye en la solución.<br>\n",
        "\n",
        "En estas circunstancias, tenemos 3 tratamientos x 3 grupos = 9 grupos efectivos, por lo cual lo que tenemos son combinaciones de N elementos tomados de 9 en 9 y sin repetición, es decir:<br>\n",
        "\n",
        "*   N! / 9! (N-9)!\n",
        "\n",
        "<br>\n",
        "En el caso con restricciones, aunque podría parecer que la solución puede ser única (la que proponga la combinación más homogénea), en realidad no es posible determinar con exactitud el número de posibles soluciones, ya que por ejemplo, puede haber animales del mismo sexo con el mismo peso, en cuyo caso podrían caer en cualquiera de los grupos efectivos del propio sexo indistintamente.<br>\n",
        "\n",
        "La peor de las situaciones sería aquella en la que todos los animales tienen el mismo peso y el sexo está divido exactamente al 50%, porque cualquier combinación sería posible, con lo cual las posibilidades coincidirían con el caso anterior:<br>\n",
        "\n",
        "*   N! / 9! (N-9)!\n",
        "\n",
        "Paradójicamente, en este último caso cualquier combinación sería la solución óptima, ya que cumpliría con el criterio solicitado.<br>"
      ]
    },
    {
      "metadata": {
        "colab_type": "code",
        "id": "iq6Fe32MgpDX",
        "colab": {}
      },
      "cell_type": "code",
      "source": [
        ""
      ],
      "execution_count": 0,
      "outputs": []
    },
    {
      "metadata": {
        "colab_type": "text",
        "id": "dzynfVJahHoY"
      },
      "cell_type": "markdown",
      "source": [
        "Modelo para el espacio de soluciones<br>\n",
        "(*) ¿Cual es la estructura de datos que mejor se adapta al problema? Arguméntalo.(Es posible que hayas elegido una al principio y veas la necesidad de cambiar, arguméntalo).\n"
      ]
    },
    {
      "metadata": {
        "colab_type": "text",
        "id": "xFIJrOwKi2Ti"
      },
      "cell_type": "markdown",
      "source": [
        "**Respuesta**\n",
        "\n",
        "Es posible utilizar una lista de listas para contener la estructura de datos de entrada. La lista contendría N elementos de tipo lista. En esta última estructura, habría tres valores: el identificador del animal, el peso y el sexo.<br>\n",
        "\n",
        "La estructura de datos devuelta sería una lista de 9 elementos, tantos como grupos efectivos de cada sexo, que a su vez serían listas. Estas últimas tendrían una estructura en la cual sus elementos serían los identificadores de los animales de cada uno de los grupos efectivos."
      ]
    },
    {
      "metadata": {
        "colab_type": "code",
        "id": "38c-7-ejhJmA",
        "colab": {}
      },
      "cell_type": "code",
      "source": [
        ""
      ],
      "execution_count": 0,
      "outputs": []
    },
    {
      "metadata": {
        "colab_type": "text",
        "id": "7Z9U2W7bi-XS"
      },
      "cell_type": "markdown",
      "source": [
        "Según el modelo para el espacio de soluciones<br>\n",
        "(*)¿Cual es la función objetivo?\n",
        "\n",
        "(*)¿Es un problema de maximización o minimización?"
      ]
    },
    {
      "metadata": {
        "colab_type": "text",
        "id": "hBalWLM7j1_d"
      },
      "cell_type": "markdown",
      "source": [
        "**Respuesta**\n",
        "\n",
        "Para responder a estas preguntas, habría que definir el concepto de *\"Homogeneidad de un Grupo Efectivo de animales\"*.<br>\n",
        "\n",
        "*   Homogeneidad de un Grupo Efectivo de animales (HGE): Peso medio de los animales que componen un grupo efectivo de animales. Donde un grupo efectivo de animales (GE) equivale al conjunto de animales en cada uno de los conjuntos formados por el cómputo de 3 tratamientos x 3 grupos. Es decir hay 9 grupos efectivos (por cada sexo) con sus animales.\n",
        "\n",
        "Para un determinado GE, habría que calcular su HGE, comparándola con lo desviada que está respecto al peso medio de toda la muestra. La combinación óptima será aquella en la que dicha desviación de todos los GE con respecto al peso medio, es mínima.<br>\n",
        "\n",
        "Por lo tanto es un problema de minimización. \n",
        "\n"
      ]
    },
    {
      "metadata": {
        "colab_type": "code",
        "id": "pDA-rg3Gj5Lz",
        "colab": {}
      },
      "cell_type": "code",
      "source": [
        ""
      ],
      "execution_count": 0,
      "outputs": []
    },
    {
      "metadata": {
        "colab_type": "text",
        "id": "rlnTYgY1j6I2"
      },
      "cell_type": "markdown",
      "source": [
        "Diseña un algoritmo para resolver el problema por fuerza bruta"
      ]
    },
    {
      "metadata": {
        "colab_type": "text",
        "id": "70rDgxYXkC8r"
      },
      "cell_type": "markdown",
      "source": [
        "Respuesta"
      ]
    },
    {
      "metadata": {
        "colab_type": "code",
        "id": "CJb5sQ0qkENy",
        "outputId": "fd94d986-87ca-4442-ddfe-57c113a1df8d",
        "colab": {
          "base_uri": "https://localhost:8080/",
          "height": 71
        }
      },
      "cell_type": "code",
      "source": [
        "import numpy as np\n",
        "import pandas as pd\n",
        "import random\n",
        "import math\n",
        "import matplotlib.pyplot as plt\n",
        "from itertools import permutations\n",
        "\n",
        "# Inicialización de variables globales\n",
        "#   - Escogemos solo una población de 18 animales y 3 grupos por sexo (1x3) \n",
        "#     para las pruebas porque la explosión combinatoria hace que el tiempo\n",
        "#     de ejecución sea excesivo a partir de estos valores\n",
        "#   - Incluso en este caso, si el número de animales queda dividido por sexo\n",
        "#     al 50% (9+9), el tiempo se hace inviable\n",
        "nIndividuals = 18\n",
        "nTreats = 1 \n",
        "nGroups = 3\n",
        "\n",
        "# Creación de un dataset de muestra\n",
        "MUESTRA = pd.DataFrame()\n",
        "MUESTRA[\"Id\"] = [i for i in range(nIndividuals)]\n",
        "MUESTRA[\"Peso\"] = [random.gauss(37, 2.1) for i in range(nIndividuals)]\n",
        "MUESTRA[\"Sexo\"] = [random.getrandbits(1) for i in range(nIndividuals)]\n",
        "\n",
        "# Función que resuelve el problema 1 del seminario\n",
        "def do_problem1(MUESTRA, nTreats, nGroups):\n",
        "  nAnimals = len(MUESTRA)\n",
        "\n",
        "  # Dividimos el dataset en dos listas, una para cada sexo\n",
        "  MALE = []\n",
        "  FEMALE = []\n",
        "\n",
        "  for index, row in MUESTRA.iterrows():\n",
        "    if row[\"Sexo\"] == 0:\n",
        "      MALE.append([int(row[\"Id\"]), row[\"Peso\"], 0])\n",
        "    else:\n",
        "      FEMALE.append([int(row[\"Id\"]), row[\"Peso\"], 0])\n",
        "\n",
        "  # Calcula el número máximo de animales por grupo\n",
        "  nMale = len(MALE)\n",
        "  nFemale = len(FEMALE)\n",
        "\n",
        "  nAnimalsGroup = min(nMale, nFemale) // (nTreats * nGroups)\n",
        "\n",
        "  # Función local que calcula la homogeneidad de los pesos de una \n",
        "  # permutación\n",
        "  def get_homogeneidad(PERMUTACION, PESOS, p_medio, nTotalGroups, nAnimalsGroup):\n",
        "    TEMP_1 = []\n",
        "    ix = 0\n",
        "    suma = 0\n",
        "    for g in range(nTotalGroups):\n",
        "      TEMP_2 = []\n",
        "      TEMP_3 = []\n",
        "      for i in range(ix, ix+nAnimalsGroup):\n",
        "        TEMP_2.append(PESOS[i])\n",
        "        TEMP_3.append(PERMUTACION[i])\n",
        "      TEMP_1.append(TEMP_3)\n",
        "      ix = ix + nAnimalsGroup\n",
        "\n",
        "      media = np.mean(TEMP_2)\n",
        "      suma = suma + abs(p_medio - media)\n",
        "\n",
        "    #print(TEMP_1)\n",
        "\n",
        "    return(suma / nTotalGroups, TEMP_1)\n",
        "\n",
        "  # Función local para crear agrupaciones de cualquier sexo\n",
        "  def group_animals(MSEXO, nTreats, nGroups, nAnimalsGroup):\n",
        "\n",
        "    # Calcula el peso medio\n",
        "    p_medio = np.mean(MSEXO, axis=0)[1]\n",
        "    #print(p_medio)\n",
        "    \n",
        "    # Calcula el número total de grupos\n",
        "    nTotalGroups = nTreats * nGroups\n",
        "\n",
        "    # Calcula el número de animales de la lista\n",
        "    nAnimalsSex = nTotalGroups * nAnimalsGroup\n",
        "\n",
        "    # Ordenamos la muestra por diferencias con respecto a la media\n",
        "    # para excluir los más distantes en peso (de la media)\n",
        "    #print(MSEXO)\n",
        "    for a in MSEXO:\n",
        "      a[2] = abs(p_medio - a[1])\n",
        "    MSEXO = sorted(MSEXO, key=lambda x: x[2])\n",
        "    #print(MSEXO)\n",
        "    MSEXO = MSEXO[0:nAnimalsSex]\n",
        "    #print(MSEXO)\n",
        "\n",
        "    # Calcula el nuevo peso medio\n",
        "    p_medio = np.mean(MSEXO, axis=0)[1]\n",
        "    #print(p_medio)\n",
        "\n",
        "    # Calcula las permutaciones de animales y crea una lista equivalente\n",
        "    # a ellas con sus pesos correspondientes\n",
        "    PERMUTACIONES = list(permutations([MSEXO[i][0] for i in range(0, len(MSEXO))]))\n",
        "    #print(PERMUTACIONES)\n",
        "    #input(\"Press Enter to continue...\")\n",
        "    PESOS = []\n",
        "    \n",
        "    for PERM in PERMUTACIONES:\n",
        "      P = []\n",
        "      for p in PERM:\n",
        "        P.append(MUESTRA.loc[MUESTRA[\"Id\"] == p, \"Peso\"].iloc[0])\n",
        "      PESOS.append(P)\n",
        "\n",
        "    #print(PESOS) \n",
        "    #input(\"Press Enter to continue...\")\n",
        "\n",
        "    # Calcula la permutación más homogénea\n",
        "    best_permutacion = []\n",
        "    best_homogeneidad = 99999999\n",
        "    for ix in range(len(PERMUTACIONES)):\n",
        "      h, g = get_homogeneidad(PERMUTACIONES[ix], PESOS[ix], p_medio, nTotalGroups, nAnimalsGroup)\n",
        "      if h < best_homogeneidad:\n",
        "        best_permutacion = g\n",
        "        best_homogeneidad = h\n",
        "\n",
        "    return best_permutacion, h\n",
        "  \n",
        "  # Consigue las agrupaciones de animales macho más homogéneas\n",
        "  #print('Sexo M')\n",
        "  RMALE, hM = group_animals(MALE, nTreats, nGroups, nAnimalsGroup)\n",
        "  #print('Sexo H')\n",
        "  # Consigue las agrupaciones de animales hembra más homogéneas\n",
        "  RFEMALE, hF = group_animals(FEMALE, nTreats, nGroups, nAnimalsGroup)\n",
        "  \n",
        "  return RMALE, RFEMALE\n",
        "\n",
        "\n",
        "# Calcula e imprime los grupos para una muestra dada\n",
        "agrupaciones = do_problem1(MUESTRA, nTreats, nGroups)\n",
        "\n",
        "print('Grupos de sexo Macho: ', agrupaciones[0])\n",
        "print()\n",
        "print('Grupos de sexo Hembra: ', agrupaciones[1])\n"
      ],
      "execution_count": 24,
      "outputs": [
        {
          "output_type": "stream",
          "text": [
            "Grupos de sexo Macho:  [[17, 10], [12, 7], [14, 4]]\n",
            "\n",
            "Grupos de sexo Hembra:  [[5, 1], [15, 0], [13, 9]]\n"
          ],
          "name": "stdout"
        }
      ]
    },
    {
      "metadata": {
        "colab_type": "text",
        "id": "tgrnsC2nkFa8"
      },
      "cell_type": "markdown",
      "source": [
        "Calcula la complejidad del algoritmo por fuerza bruta"
      ]
    },
    {
      "metadata": {
        "colab_type": "text",
        "id": "9eUd3xwckP68"
      },
      "cell_type": "markdown",
      "source": [
        "Respuesta"
      ]
    },
    {
      "metadata": {
        "colab_type": "code",
        "id": "rvZWwL-ckRST",
        "colab": {}
      },
      "cell_type": "code",
      "source": [
        ""
      ],
      "execution_count": 0,
      "outputs": []
    },
    {
      "metadata": {
        "colab_type": "text",
        "id": "txbrmLmskReM"
      },
      "cell_type": "markdown",
      "source": [
        "(*)Diseña un algoritmo que mejore la complejidad del algortimo por fuerza bruta. Argumenta porque crees que mejora el algoritmo por fuerza bruta"
      ]
    },
    {
      "metadata": {
        "colab_type": "text",
        "id": "hLrVwt5QkZPD"
      },
      "cell_type": "markdown",
      "source": [
        "Respuesta"
      ]
    },
    {
      "metadata": {
        "colab_type": "code",
        "id": "m1eyM21Vkabg",
        "colab": {
          "base_uri": "https://localhost:8080/",
          "height": 412
        },
        "outputId": "be6c1cad-2ec8-4231-e72f-5b7709ac0576"
      },
      "cell_type": "code",
      "source": [
        "import numpy as np\n",
        "import pandas as pd\n",
        "import random\n",
        "import math\n",
        "import matplotlib.pyplot as plt\n",
        "from itertools import permutations\n",
        "\n",
        "# Inicialización de variables globales\n",
        "nIndividuals = 300\n",
        "nTreats = 3 \n",
        "nGroups = 3\n",
        "\n",
        "# Creación de un dataset de muestra\n",
        "MUESTRA = pd.DataFrame()\n",
        "MUESTRA[\"Id\"] = [i for i in range(nIndividuals)]\n",
        "MUESTRA[\"Peso\"] = [random.gauss(37, 2.1) for i in range(nIndividuals)]\n",
        "MUESTRA[\"Sexo\"] = [random.getrandbits(1) for i in range(nIndividuals)]\n",
        "\n",
        "# Función mejorada que resuelve el problema 1 del seminario\n",
        "def do_problem1(MUESTRA, nTreats, nGroups):\n",
        "  nAnimals = len(MUESTRA)\n",
        "\n",
        "  # Dividimos el dataset en dos listas, una para cada sexo\n",
        "  MALE = []\n",
        "  FEMALE = []\n",
        "\n",
        "  for index, row in MUESTRA.iterrows():\n",
        "    if row[\"Sexo\"] == 0:\n",
        "      MALE.append([int(row[\"Id\"]), row[\"Peso\"], 0])\n",
        "    else:\n",
        "      FEMALE.append([int(row[\"Id\"]), row[\"Peso\"], 0])\n",
        "\n",
        "  # Calcula el número máximo de animales por grupo\n",
        "  nMale = len(MALE)\n",
        "  nFemale = len(FEMALE)\n",
        "\n",
        "  nAnimalsGroup = min(nMale, nFemale) // (nTreats * nGroups)\n",
        "\n",
        "  # Función local para crear agrupaciones de cualquier sexo\n",
        "  def group_animals(MSEXO, nTreats, nGroups, nAnimalsGroup):\n",
        "\n",
        "    # Calcula el peso medio\n",
        "    p_medio = np.mean(MSEXO, axis=0)[1]\n",
        "    \n",
        "    # Calcula el número total de grupos\n",
        "    nTotalGroups = nTreats * nGroups\n",
        "\n",
        "    # Calcula el número de animales de la lista\n",
        "    nAnimalsSex = nTotalGroups * nAnimalsGroup\n",
        "\n",
        "    # Ordenamos la muestra por diferencias con respecto a la media\n",
        "    # para excluir los más distantes en peso (de la media)\n",
        "    for a in MSEXO:\n",
        "      a[2] = abs(p_medio - a[1])\n",
        "    MSEXO = sorted(MSEXO, key=lambda x: x[2])\n",
        "    MSEXO = MSEXO[0:nAnimalsSex]\n",
        "    \n",
        "    # Reordenamos la muestra por pesos\n",
        "    MSEXO = sorted(MSEXO, key=lambda x: x[1])\n",
        "\n",
        "    # Calcula el nuevo peso medio\n",
        "    #p_medio = np.mean(MSEXO, axis=0)[1]\n",
        "\n",
        "    # Crea los grupos más homogéneos posible, escogiendo un individuo por cada\n",
        "    # nTotalGroups, de forma que en cada grupo entren individuos significativos \n",
        "    # de cada zona de la lista ya ordenada por pesos\n",
        "    TEMP_1 = []\n",
        "    for i in range(nTotalGroups):\n",
        "      TEMP_2 = []\n",
        "      \n",
        "      for j in range(i, nAnimalsSex, nTotalGroups):\n",
        "        TEMP_2.append(MSEXO[j])\n",
        "      \n",
        "      TEMP_1.append(TEMP_2)\n",
        "    \n",
        "    return TEMP_1\n",
        "  \n",
        "  # Consigue las agrupaciones de animales macho más homogéneas\n",
        "  RMALE = group_animals(MALE, nTreats, nGroups, nAnimalsGroup)\n",
        "  \n",
        "  # Consigue las agrupaciones de animales hembra más homogéneas\n",
        "  RFEMALE = group_animals(FEMALE, nTreats, nGroups, nAnimalsGroup)\n",
        "  \n",
        "  return RMALE, RFEMALE\n",
        "\n",
        "\n",
        "# Calcula e imprime los grupos para una muestra dada\n",
        "agrupaciones = do_problem1(MUESTRA, nTreats, nGroups)\n",
        "\n",
        "print('Grupos de sexo Macho: ')\n",
        "for i in agrupaciones[0]:\n",
        "  print(i)\n",
        "print()\n",
        "\n",
        "print('Grupos de sexo Hembra: ')\n",
        "for i in agrupaciones[1]:\n",
        "  print(i)\n"
      ],
      "execution_count": 26,
      "outputs": [
        {
          "output_type": "stream",
          "text": [
            "Grupos de sexo Macho: \n",
            "[[114, 32.54611166502898, 4.242481849240065], [206, 33.96326436326299, 2.825329151006059], [227, 34.6041129658702, 2.184480548398845], [98, 34.913972097985464, 1.8746214162835813], [90, 35.26791024050469, 1.5206832737643552], [10, 35.75096620758292, 1.037627306686126], [125, 35.91952219436217, 0.8690713199068725], [91, 36.230114762605744, 0.5584787516633014], [152, 36.57963756440449, 0.2089559498645528], [11, 36.94515980907206, 0.15656629480301376], [3, 37.51454544106804, 0.7259519267989916], [115, 37.80081762320457, 1.012224108935527], [69, 38.32900591697148, 1.5404124027024366], [46, 38.60758902244883, 1.818995508179782], [29, 38.83900061766573, 2.0504071033966866], [270, 39.58183865485216, 2.7932451405831173]]\n",
            "[[264, 32.643776250912836, 4.1448172633562095], [1, 33.97046923800065, 2.8181242762683922], [296, 34.667398117150015, 2.121195397119031], [88, 35.052139915253704, 1.7364535990153414], [43, 35.27713845834292, 1.5114550559261275], [229, 35.769982558854686, 1.0186109554143599], [60, 35.94563971882173, 0.8429537954473147], [154, 36.286127641203485, 0.5024658730655602], [116, 36.59061899114268, 0.1979745231263692], [162, 37.0620782110115, 0.27348469674245734], [64, 37.52847876460752, 0.7398852503384745], [222, 37.89657617069787, 1.107982656428824], [75, 38.35376996926243, 1.5651764549933844], [253, 38.620215487387924, 1.831621973118878], [153, 38.87018848561703, 2.0815949713479824], [47, 39.613706192583, 2.825112678313957]]\n",
            "[[224, 32.992298524097116, 3.79629499017193], [252, 33.973056648564345, 2.8155368657047006], [259, 34.68488084051196, 2.1037126737570873], [17, 35.115319457208415, 1.673274057060631], [44, 35.28740130772739, 1.5011922065416528], [122, 35.78360205781133, 1.0049914564577165], [197, 35.972690323780604, 0.8159031904884415], [254, 36.36335071346687, 0.4252428008021738], [299, 36.697016627892936, 0.09157688637611017], [141, 37.08733838015105, 0.2987448658820071], [138, 37.5531716006261, 0.764578086357055], [167, 37.905649321125935, 1.1170558068568894], [163, 38.4092995910342, 1.6207060767651527], [7, 38.625261929930694, 1.8366684156616486], [155, 38.91989967395372, 2.1313061596846765], [50, 39.620346128867396, 2.8317526145983507]]\n",
            "[[31, 33.06379316770203, 3.724800346567015], [72, 33.9743285870207, 2.8142649272483453], [201, 34.699962619143996, 2.08863089512505], [143, 35.14626224209053, 1.6423312721785166], [196, 35.47302449921973, 1.315569015049313], [274, 35.7934138614262, 0.9951796528428432], [272, 36.03682988173055, 0.7517636325384984], [76, 36.423320728144446, 0.36527278612459924], [179, 36.706652401559, 0.081941112710048], [235, 37.09703114122423, 0.3084376269551825], [178, 37.61142067999737, 0.8228271657283273], [216, 37.987661757267546, 1.1990682429985], [5, 38.45666406960642, 1.6680705553373727], [226, 38.6845029225475, 1.895909408278456], [277, 38.976874075530986, 2.1882805612619407], [96, 39.73976525516143, 2.9511717408923843]]\n",
            "[[103, 33.31654832867471, 3.4720451855943324], [15, 34.24689249816543, 2.541701016103616], [130, 34.70452161422459, 2.0840719000444565], [295, 35.18442582055984, 1.6041676937092078], [13, 35.49806849959173, 1.2905250146773142], [93, 35.81209186221965, 0.976501652049393], [263, 36.05300673749711, 0.7355867767719388], [228, 36.42852817297558, 0.36006534129346335], [282, 36.77436162753582, 0.014231886733227839], [32, 37.16594662505978, 0.37735311079073597], [101, 37.64092123912166, 0.8523277248526142], [284, 38.150782359795926, 1.3621888455268802], [22, 38.49820064049609, 1.7096071262270414], [97, 38.707821733597115, 1.919228219328069], [242, 38.99241197042758, 2.2038184561585368], [189, 39.99644348084199, 3.207849966572944]]\n",
            "[[106, 33.622720548067385, 3.165872966201661], [292, 34.26623859145448, 2.5223549228145643], [181, 34.77783604020391, 2.0107574740651373], [56, 35.18985437404194, 1.598739140227103], [225, 35.499043551939465, 1.2895499623295805], [52, 35.821083930142215, 0.9675095841268302], [23, 36.10265396674225, 0.6859395475267931], [214, 36.4703633036118, 0.3182302106572479], [9, 36.83111332179155, 0.04251980752250262], [12, 37.23862455504277, 0.45003104077372313], [148, 37.681382061918995, 0.8927885476499497], [107, 38.157865098694195, 1.3692715844251495], [113, 38.52610015964416, 1.7375066453751131], [221, 38.70949094803413, 1.9208974337650844], [67, 39.16811218736409, 2.379518673095042], [182, 40.15028068283197, 3.3616871685629235]]\n",
            "[[238, 33.63006152591768, 3.1585319883513634], [164, 34.343060956908495, 2.4455325573605506], [85, 34.78030919873357, 2.0082843155354766], [239, 35.20182598184894, 1.5867675324201045], [174, 35.549070689311584, 1.2395228249574615], [39, 35.83030865867062, 0.9582848555984285], [21, 36.17780535440378, 0.6107881598652654], [265, 36.50466631384628, 0.28392720042276665], [256, 36.8980069092381, 0.109413394969053], [124, 37.28454359722669, 0.4959500829576413], [218, 37.77295141109123, 0.984357896822182], [149, 38.18563354574024, 1.3970400314711924], [117, 38.551711945328606, 1.76311843105956], [139, 38.745656783310295, 1.9570632690412495], [212, 39.367455830817406, 2.57886231654836], [0, 40.204575878805585, 3.4159823645365393]]\n",
            "[[53, 33.762756047283666, 3.0258374669853794], [48, 34.42280077138933, 2.3657927428797123], [244, 34.83122085006163, 1.9573726642074192], [80, 35.20346226614444, 1.585131248124604], [237, 35.659063697520345, 1.1295298167487005], [204, 35.84996352119767, 0.9386299930713733], [298, 36.188150701862554, 0.6004428124064916], [87, 36.50535451571632, 0.2832389985527257], [273, 36.91432800669951, 0.12573449243046753], [199, 37.31126524814933, 0.5226717338802871], [203, 37.78543186913527, 0.9968383548662274], [70, 38.27672852624304, 1.488135011973995], [92, 38.5556817694508, 1.7670882551817542], [230, 38.77704485720237, 1.988451342933324], [33, 39.39952781864864, 2.6109343043795974], [249, 40.522696612617146, 3.7341030983481005]]\n",
            "[[136, 33.92924068254547, 2.8593528317235766], [185, 34.5707019605064, 2.217891553762648], [208, 34.900220531971655, 1.8883729822973905], [38, 35.25501964142397, 1.533573872845075], [133, 35.75046545581925, 1.038128058449793], [89, 35.912806969923494, 0.8757865443455515], [30, 36.20159655345878, 0.5869969608102679], [262, 36.57718900256027, 0.2114045117087784], [99, 36.92110858731515, 0.13251507304610755], [71, 37.482338905518155, 0.6937453912491094], [119, 37.794043956203076, 1.0054504419340304], [168, 38.32383202590236, 1.5352385116333167], [279, 38.5754206407645, 1.786827126495453], [55, 38.7811167631456, 1.9925232488765516], [243, 39.56636118989549, 2.7777676756264427], [18, 40.52673045609876, 3.7381369418297155]]\n",
            "\n",
            "Grupos de sexo Hembra: \n",
            "[[54, 32.91040164683425, 3.9936081786976345], [194, 34.24360368382497, 2.6604061417069147], [112, 34.94581897227914, 1.958190853252745], [37, 35.37444280177576, 1.5295670237561296], [213, 35.65390151752276, 1.2501083080091249], [86, 36.00806371551817, 0.8959461100137176], [140, 36.22241537513365, 0.6815944503982365], [173, 36.62509195838426, 0.27891786714762645], [151, 37.01990593742884, 0.11589611189695148], [108, 37.40983398328595, 0.5058241577540628], [118, 37.60328969826303, 0.6992798727311467], [160, 37.937451274605664, 1.033441449073777], [120, 38.11564815226884, 1.2116383267369528], [186, 38.422736056398485, 1.5187262308665979], [63, 39.23364577057882, 2.329635945046931], [288, 39.76631535244725, 2.862305526915364]]\n",
            "[[104, 33.273132919040066, 3.630876906491821], [165, 34.26809179190002, 2.6359180336318673], [24, 34.972302180513466, 1.9317076450184203], [170, 35.3752037767356, 1.5288060487962838], [280, 35.655756544043655, 1.248253281488232], [191, 36.0263289791508, 0.8776808463810895], [207, 36.2949557628639, 0.6090540626679868], [121, 36.63132148739139, 0.2726883381404974], [68, 37.04103239158161, 0.13702256604972263], [219, 37.47394255920851, 0.5699327336766231], [102, 37.60945039492487, 0.7054405693929837], [210, 37.94623096227115, 1.0422211367392649], [193, 38.188055002627785, 1.2840451770958978], [266, 38.42842410205326, 1.5244142765213766], [74, 39.261694246904206, 2.357684421372319], [36, 39.81309152002422, 2.909081694492336]]\n",
            "[[180, 33.536283880810394, 3.3677259447214922], [27, 34.313862470127084, 2.5901473554048025], [147, 35.09012911186317, 1.8138807136687163], [51, 35.37762263817257, 1.5263871873593189], [192, 35.74883495038139, 1.1551748751505002], [131, 36.02898869327107, 0.8750211322608195], [127, 36.33315497798066, 0.5708548475512245], [132, 36.70772758285767, 0.196282242674215], [267, 37.041531416171345, 0.13752159063945868], [19, 37.48019675998216, 0.5761869344502699], [142, 37.61543536572979, 0.7114255401979008], [166, 37.95448938645999, 1.0504795609281032], [183, 38.191931975935766, 1.2879221504038796], [137, 38.46920431254714, 1.5651944870152548], [286, 39.432456533318835, 2.528446707786948], [2, 39.848892087991125, 2.944882262459238]]\n",
            "[[156, 33.76685086165975, 3.137158963872139], [128, 34.57209383317519, 2.3319159923566986], [146, 35.13597447746093, 1.7680353480709599], [26, 35.3804067169094, 1.5236031086224884], [61, 35.82374483872955, 1.0802649868023337], [84, 36.04221399589011, 0.8617958296417783], [49, 36.337431668156675, 0.5665781573752113], [290, 36.72531499655225, 0.17869482897963707], [255, 37.07857531274131, 0.17456548720942067], [4, 37.4873661449494, 0.5833563194175113], [134, 37.66993014844541, 0.765920322913523], [261, 38.0179466799959, 1.113936854464015], [289, 38.200077523135384, 1.2960676976034975], [123, 38.66158925192011, 1.7575794263882258], [40, 39.4334842591411, 2.5294744336092165], [287, 39.86990536430704, 2.9658955387751504]]\n",
            "[[190, 33.86107831017495, 3.0429315153569334], [271, 34.63980933114409, 2.2642004943877936], [211, 35.181908100172016, 1.7221017253598703], [169, 35.39232391811241, 1.5116859074194764], [176, 35.86422113657598, 1.039788688955909], [126, 36.06904631283738, 0.8349635126945074], [83, 36.5311757191638, 0.37283410636808867], [82, 36.72651296769815, 0.17749685783373792], [260, 37.09649318864779, 0.19248336311590464], [236, 37.54895573682169, 0.6449459112898026], [158, 37.68998371706221, 0.7859738915303254], [78, 38.02990867349778, 1.1258988479658925], [73, 38.2083170719129, 1.3043072463810148], [144, 38.798741943532534, 1.894732118000647], [8, 39.48697483262618, 2.5829650070942947], [188, 39.9017020539781, 2.997692228446212]]\n",
            "[[45, 33.896650096988274, 3.007359728543612], [293, 34.67069120885576, 2.2333186166761294], [100, 35.18190972390967, 1.7221001016222175], [41, 35.41367278261556, 1.4903370429163232], [269, 35.90167960346452, 1.0023302220673642], [297, 36.10587633947082, 0.7981334860610687], [111, 36.56442132735915, 0.33958849817273773], [175, 36.7636574164915, 0.14035240904038915], [217, 37.14123823234881, 0.23722840681692503], [109, 37.549556509055364, 0.6455466835234773], [187, 37.79897848228647, 0.8949686567545854], [184, 38.03796248835622, 1.1339526628243348], [58, 38.28729162165751, 1.3832817961256225], [223, 38.922079204342786, 2.0180693788108997], [246, 39.53224126907992, 2.6282314435480316], [202, 39.99047910263334, 3.0864692771014504]]\n",
            "[[268, 33.917636145685584, 2.9863736798463023], [200, 34.68793283732307, 2.216076988208819], [25, 35.194881992287215, 1.709127833244672], [234, 35.42217849830011, 1.4818313272317738], [35, 35.962718326333444, 0.9412914991984422], [94, 36.11239730151843, 0.791612524013459], [81, 36.57591111696146, 0.32809870857042966], [233, 36.85398826153184, 0.05002156400004765], [6, 37.365957327235996, 0.4619475017041097], [195, 37.56197102654756, 0.6579612010156737], [281, 37.819450047891834, 0.9154402223599476], [250, 38.061898447385204, 1.157888621853317], [66, 38.31974888662825, 1.4157390610963603], [220, 38.970569370961684, 2.066559545429797], [245, 39.643796767398726, 2.7397869418668392], [232, 40.52776475458479, 3.6237549290529003]]\n",
            "[[172, 34.200917482115365, 2.7030923434165217], [28, 34.82603864692468, 2.077971178607207], [110, 35.26964739812154, 1.6343624274103448], [276, 35.43747635041039, 1.4665334751214942], [34, 35.98135566454424, 0.9226541609876477], [285, 36.146230175682525, 0.7577796498493612], [62, 36.58525267140783, 0.31875715412405725], [59, 36.90614398735452, 0.0021341618226315973], [291, 37.37652966729871, 0.47251984176682527], [205, 37.562784802593455, 0.6587749770615687], [79, 37.88761671390922, 0.9836068883773308], [257, 38.07489839739143, 1.1708885718595425], [215, 38.32223012444201, 1.4182202989101214], [157, 39.073395020041616, 2.1693851945097293], [209, 39.65846379770791, 2.754453972176023], [248, 40.543397503704185, 3.639387678172298]]\n",
            "[[231, 34.21710641482524, 2.6869034107066483], [283, 34.88283077947914, 2.021179046052744], [105, 35.32258522984976, 1.5814245956821296], [65, 35.589274085200756, 1.3147357403311304], [177, 35.991251048677526, 0.9127587768543606], [240, 36.168247709973535, 0.7357621155583516], [258, 36.620136056536474, 0.28387376899541295], [20, 36.943017045808304, 0.03900722027641734], [16, 37.385129367624, 0.4811195420921166], [42, 37.578148962036096, 0.6741391365042091], [161, 37.92315985111578, 1.0191500255838903], [95, 38.10834300474819, 1.204333179216306], [294, 38.39426208132486, 1.4902522557929743], [241, 39.13240873382877, 2.2283989082968816], [275, 39.71128726248225, 2.807277436950365], [159, 40.582757320011694, 3.6787474944798078]]\n"
          ],
          "name": "stdout"
        }
      ]
    },
    {
      "metadata": {
        "colab_type": "text",
        "id": "eGDB4K6uk1iN"
      },
      "cell_type": "markdown",
      "source": [
        "(*)Calcula la complejidad del algoritmo "
      ]
    },
    {
      "metadata": {
        "colab_type": "text",
        "id": "NhpTh_BPk1ms"
      },
      "cell_type": "markdown",
      "source": [
        "Respuesta"
      ]
    },
    {
      "metadata": {
        "colab_type": "code",
        "id": "nREzhkStlCq8",
        "colab": {}
      },
      "cell_type": "code",
      "source": [
        ""
      ],
      "execution_count": 0,
      "outputs": []
    },
    {
      "metadata": {
        "colab_type": "text",
        "id": "3M6QjTsSkmYe"
      },
      "cell_type": "markdown",
      "source": [
        "Según el problema (y tenga sentido), diseña un juego de datos de entrada aleatorios"
      ]
    },
    {
      "metadata": {
        "colab_type": "text",
        "id": "Jc3_OlyNkvjZ"
      },
      "cell_type": "markdown",
      "source": [
        "Respuesta"
      ]
    },
    {
      "metadata": {
        "colab_type": "code",
        "id": "sJ-N2etjkyWc",
        "colab": {}
      },
      "cell_type": "code",
      "source": [
        "import pandas as pd\n",
        "import random\n",
        "\n",
        "# Inicialización de variables globales\n",
        "nAnimals = 3000\n",
        "nTreats = 3\n",
        "nGroups = 3\n",
        "\n",
        "# Creación de un dataset de muestra\n",
        "MUESTRA = pd.DataFrame()\n",
        "MUESTRA[\"Id\"] = [i for i in range(nAnimals)]\n",
        "MUESTRA[\"Peso\"] = [random.gauss(37, 2.1) for i in range(nAnimals)]\n",
        "MUESTRA[\"Sexo\"] = [random.getrandbits(1) for i in range(nAnimals)]"
      ],
      "execution_count": 0,
      "outputs": []
    },
    {
      "metadata": {
        "colab_type": "text",
        "id": "zy5ZROmjlGo1"
      },
      "cell_type": "markdown",
      "source": [
        "Aplica el algoritmo al juego de datos generado"
      ]
    },
    {
      "metadata": {
        "colab_type": "text",
        "id": "_Cmj-PVylMsa"
      },
      "cell_type": "markdown",
      "source": [
        "Respuesta"
      ]
    },
    {
      "metadata": {
        "colab_type": "code",
        "id": "Jkx8GeiYlUz1",
        "colab": {}
      },
      "cell_type": "code",
      "source": [
        ""
      ],
      "execution_count": 0,
      "outputs": []
    },
    {
      "metadata": {
        "colab_type": "text",
        "id": "eTFWUJQrtGcv"
      },
      "cell_type": "markdown",
      "source": [
        "Enumera las referencias que has utilizado(si ha sido necesario) para llevar a cabo el trabajo"
      ]
    },
    {
      "metadata": {
        "colab_type": "text",
        "id": "YKQ_mRBttWsP"
      },
      "cell_type": "markdown",
      "source": [
        "Respuesta"
      ]
    },
    {
      "metadata": {
        "colab_type": "text",
        "id": "kAkDPUyRtYyH"
      },
      "cell_type": "markdown",
      "source": [
        "Describe brevemente las lineas de como crees que es posible avanzar en el estudio del problema. Ten en cuenta incluso posibles variaciones del problema y/o variaciones al alza del tamaño"
      ]
    },
    {
      "metadata": {
        "colab_type": "text",
        "id": "IE0uZmo-tZu-"
      },
      "cell_type": "markdown",
      "source": [
        "Respuesta"
      ]
    }
  ]
}