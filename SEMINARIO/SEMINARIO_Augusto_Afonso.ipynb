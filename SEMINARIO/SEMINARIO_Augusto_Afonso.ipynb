{
  "nbformat": 4,
  "nbformat_minor": 0,
  "metadata": {
    "colab": {
      "name": "SEMINARIO_Augusto_Afonso.ipynb",
      "version": "0.3.2",
      "provenance": [],
      "collapsed_sections": [],
      "include_colab_link": true
    },
    "kernelspec": {
      "display_name": "Python 3",
      "language": "python",
      "name": "python3"
    }
  },
  "cells": [
    {
      "cell_type": "markdown",
      "metadata": {
        "id": "view-in-github",
        "colab_type": "text"
      },
      "source": [
        "<a href=\"https://colab.research.google.com/github/a-afonso/03MAIR-Algoritmos-de-optimizacion/blob/master/SEMINARIO/SEMINARIO_Augusto_Afonso.ipynb\" target=\"_parent\"><img src=\"https://colab.research.google.com/assets/colab-badge.svg\" alt=\"Open In Colab\"/></a>"
      ]
    },
    {
      "metadata": {
        "colab_type": "text",
        "id": "hVbXYX-RfPWh"
      },
      "cell_type": "markdown",
      "source": [
        "# Algoritmos de optimización - Seminario<br>\n",
        "<b>Nombre y Apellidos: </b>Augusto Afonso Losada <br>\n",
        "<b>Url: </b>https://github.com/a-afonso/03MAIR-Algoritmos-de-optimizacion/tree/master/SEMINARIO<br>\n",
        "  <b>Problema:</b>\n",
        "> 1. Elección de grupos de población homogéneos <br>\n",
        "\n",
        "<b>Descripción del problema: </b>Una productora ganadera nos encarga la tarea de seleccionar grupos de terneros para aplicar 3 tratamientos diferentes. Para cada uno de los tratamientos debemos seleccionar 3 grupos de terneros que sean lo mas homogéneos posible en peso para que en los resultados del tratamiento influya lo menos posible el peso del animal. Disponemos de una población de N animales entre machos y hembras.<br>\n",
        "<br>\n",
        "Se solicita diseñar un algoritmo para conseguir una agrupación que cumpla de la mejor manera posible las especificaciones de la productora.<br>\n",
        "<br>\n",
        "\n",
        "(*) La respuesta es obligatoria\n",
        "\n",
        "\n",
        "\n",
        "\n",
        "\n",
        "                                        "
      ]
    },
    {
      "metadata": {
        "colab_type": "code",
        "id": "zu9aZ8S-grjy",
        "colab": {}
      },
      "cell_type": "code",
      "source": [
        ""
      ],
      "execution_count": 0,
      "outputs": []
    },
    {
      "metadata": {
        "colab_type": "text",
        "id": "3_-exlrTgLd-"
      },
      "cell_type": "markdown",
      "source": [
        "(*)¿Cuantas posibilidades hay sin tener en cuenta las restricciones?\n",
        "\n",
        "¿Cuantas posibilidades hay teniendo en cuenta todas las restricciones?\n",
        "\n",
        "\n",
        "\n"
      ]
    },
    {
      "metadata": {
        "colab_type": "text",
        "id": "WfCUqJyKhPcw"
      },
      "cell_type": "markdown",
      "source": [
        "**Respuesta**<br>\n",
        "\n",
        "Para calcular las posibilidades sin restricciones, debemos suponer que son N animales (independientemente del sexo) y que el peso no influye en la solución.<br>\n",
        "\n",
        "En estas circunstancias, tenemos 3 tratamientos x 3 grupos = 9 grupos efectivos, por lo cual lo que tenemos son combinaciones de N elementos tomados de 9 en 9 y sin repetición, es decir:<br>\n",
        "\n",
        "*   N! / 9! (N-9)!\n",
        "\n",
        "<br>\n",
        "En el caso con restricciones, aunque podría parecer que la solución puede ser única (la que proponga la combinación más homogénea), en realidad no es posible determinar con exactitud el número de posibles soluciones, ya que por ejemplo, puede haber animales del mismo sexo con el mismo peso, en cuyo caso podrían caer en cualquiera de los grupos efectivos del propio sexo indistintamente.<br>\n",
        "\n",
        "La peor de las situaciones sería aquella en la que todos los animales tienen el mismo peso y el sexo está divido exactamente al 50%, porque cualquier combinación sería posible, con lo cual las posibilidades coincidirían con el caso anterior:<br>\n",
        "\n",
        "*   N! / 9! (N-9)!\n",
        "\n",
        "Paradójicamente, en este último caso cualquier combinación sería la solución óptima, ya que cumpliría con el criterio solicitado.<br>"
      ]
    },
    {
      "metadata": {
        "colab_type": "code",
        "id": "iq6Fe32MgpDX",
        "colab": {}
      },
      "cell_type": "code",
      "source": [
        ""
      ],
      "execution_count": 0,
      "outputs": []
    },
    {
      "metadata": {
        "colab_type": "text",
        "id": "dzynfVJahHoY"
      },
      "cell_type": "markdown",
      "source": [
        "Modelo para el espacio de soluciones<br>\n",
        "(*) ¿Cual es la estructura de datos que mejor se adapta al problema? Arguméntalo.(Es posible que hayas elegido una al principio y veas la necesidad de cambiar, arguméntalo).\n"
      ]
    },
    {
      "metadata": {
        "colab_type": "text",
        "id": "xFIJrOwKi2Ti"
      },
      "cell_type": "markdown",
      "source": [
        "**Respuesta**\n",
        "\n",
        "Es posible utilizar una lista de listas para contener la estructura de datos de entrada. La lista contendría N elementos de tipo lista. En esta última estructura, habría tres valores: el identificador del animal, el peso y el sexo.<br>\n",
        "\n",
        "La estructura de datos devuelta sería una lista de 9 elementos, tantos como grupos efectivos de cada sexo, que a su vez serían listas. Estas últimas tendrían una estructura en la cual sus elementos serían los identificadores de los animales de cada uno de los grupos efectivos."
      ]
    },
    {
      "metadata": {
        "colab_type": "code",
        "id": "38c-7-ejhJmA",
        "colab": {}
      },
      "cell_type": "code",
      "source": [
        ""
      ],
      "execution_count": 0,
      "outputs": []
    },
    {
      "metadata": {
        "colab_type": "text",
        "id": "7Z9U2W7bi-XS"
      },
      "cell_type": "markdown",
      "source": [
        "Según el modelo para el espacio de soluciones<br>\n",
        "(*)¿Cual es la función objetivo?\n",
        "\n",
        "(*)¿Es un problema de maximización o minimización?"
      ]
    },
    {
      "metadata": {
        "colab_type": "text",
        "id": "hBalWLM7j1_d"
      },
      "cell_type": "markdown",
      "source": [
        "**Respuesta**\n",
        "\n",
        "Para responder a estas preguntas, habría que definir el concepto de *\"Homogeneidad de un Grupo Efectivo de animales\"*.<br>\n",
        "\n",
        "*   Homogeneidad de un Grupo Efectivo de animales (HGE): Peso medio de los animales que componen un grupo efectivo de animales. Donde un grupo efectivo de animales (GE) equivale al conjunto de animales en cada uno de los conjuntos formados por el cómputo de 3 tratamientos x 3 grupos. Es decir hay 9 grupos efectivos (por cada sexo) con sus animales.\n",
        "\n",
        "Para un determinado GE, habría que calcular su HGE, comparándola con lo desviada que está respecto al peso medio de toda la muestra. La combinación óptima será aquella en la que dicha desviación de todos los GE con respecto al peso medio, es mínima.<br>\n",
        "\n",
        "Por lo tanto es un problema de minimización. \n",
        "\n"
      ]
    },
    {
      "metadata": {
        "colab_type": "code",
        "id": "pDA-rg3Gj5Lz",
        "colab": {}
      },
      "cell_type": "code",
      "source": [
        ""
      ],
      "execution_count": 0,
      "outputs": []
    },
    {
      "metadata": {
        "colab_type": "text",
        "id": "rlnTYgY1j6I2"
      },
      "cell_type": "markdown",
      "source": [
        "Diseña un algoritmo para resolver el problema por fuerza bruta"
      ]
    },
    {
      "metadata": {
        "colab_type": "text",
        "id": "70rDgxYXkC8r"
      },
      "cell_type": "markdown",
      "source": [
        "Respuesta"
      ]
    },
    {
      "metadata": {
        "colab_type": "code",
        "id": "CJb5sQ0qkENy",
        "outputId": "fd94d986-87ca-4442-ddfe-57c113a1df8d",
        "colab": {
          "base_uri": "https://localhost:8080/",
          "height": 71
        }
      },
      "cell_type": "code",
      "source": [
        "import numpy as np\n",
        "import pandas as pd\n",
        "import random\n",
        "import math\n",
        "import matplotlib.pyplot as plt\n",
        "from itertools import permutations\n",
        "\n",
        "# Inicialización de variables globales\n",
        "#   - Escogemos solo una población de 18 animales y 3 grupos por sexo (1x3) \n",
        "#     para las pruebas porque la explosión combinatoria hace que el tiempo\n",
        "#     de ejecución sea excesivo a partir de estos valores\n",
        "#   - Incluso en este caso, si el número de animales queda dividido por sexo\n",
        "#     al 50% (9+9), el tiempo se hace inviable\n",
        "nIndividuals = 18\n",
        "nTreats = 1 \n",
        "nGroups = 3\n",
        "\n",
        "# Creación de un dataset de muestra\n",
        "MUESTRA = pd.DataFrame()\n",
        "MUESTRA[\"Id\"] = [i for i in range(nIndividuals)]\n",
        "MUESTRA[\"Peso\"] = [random.gauss(37, 2.1) for i in range(nIndividuals)]\n",
        "MUESTRA[\"Sexo\"] = [random.getrandbits(1) for i in range(nIndividuals)]\n",
        "\n",
        "# Función que resuelve el problema 1 del seminario\n",
        "def do_problem1(MUESTRA, nTreats, nGroups):\n",
        "  nAnimals = len(MUESTRA)\n",
        "\n",
        "  # Dividimos el dataset en dos listas, una para cada sexo\n",
        "  MALE = []\n",
        "  FEMALE = []\n",
        "\n",
        "  for index, row in MUESTRA.iterrows():\n",
        "    if row[\"Sexo\"] == 0:\n",
        "      MALE.append([int(row[\"Id\"]), row[\"Peso\"], 0])\n",
        "    else:\n",
        "      FEMALE.append([int(row[\"Id\"]), row[\"Peso\"], 0])\n",
        "\n",
        "  # Calcula el número máximo de animales por grupo\n",
        "  nMale = len(MALE)\n",
        "  nFemale = len(FEMALE)\n",
        "\n",
        "  nAnimalsGroup = min(nMale, nFemale) // (nTreats * nGroups)\n",
        "\n",
        "  # Función local que calcula la homogeneidad de los pesos de una \n",
        "  # permutación\n",
        "  def get_homogeneidad(PERMUTACION, PESOS, p_medio, nTotalGroups, nAnimalsGroup):\n",
        "    TEMP_1 = []\n",
        "    ix = 0\n",
        "    suma = 0\n",
        "    for g in range(nTotalGroups):\n",
        "      TEMP_2 = []\n",
        "      TEMP_3 = []\n",
        "      for i in range(ix, ix+nAnimalsGroup):\n",
        "        TEMP_2.append(PESOS[i])\n",
        "        TEMP_3.append(PERMUTACION[i])\n",
        "      TEMP_1.append(TEMP_3)\n",
        "      ix = ix + nAnimalsGroup\n",
        "\n",
        "      media = np.mean(TEMP_2)\n",
        "      suma = suma + abs(p_medio - media)\n",
        "\n",
        "    #print(TEMP_1)\n",
        "\n",
        "    return(suma / nTotalGroups, TEMP_1)\n",
        "\n",
        "  # Función local para crear agrupaciones de cualquier sexo\n",
        "  def group_animals(MSEXO, nTreats, nGroups, nAnimalsGroup):\n",
        "\n",
        "    # Calcula el peso medio\n",
        "    p_medio = np.mean(MSEXO, axis=0)[1]\n",
        "    #print(p_medio)\n",
        "    \n",
        "    # Calcula el número total de grupos\n",
        "    nTotalGroups = nTreats * nGroups\n",
        "\n",
        "    # Calcula el número de animales de la lista\n",
        "    nAnimalsSex = nTotalGroups * nAnimalsGroup\n",
        "\n",
        "    # Ordenamos la muestra por diferencias con respecto a la media\n",
        "    # para excluir los más distantes en peso (de la media)\n",
        "    #print(MSEXO)\n",
        "    for a in MSEXO:\n",
        "      a[2] = abs(p_medio - a[1])\n",
        "    MSEXO = sorted(MSEXO, key=lambda x: x[2])\n",
        "    #print(MSEXO)\n",
        "    MSEXO = MSEXO[0:nAnimalsSex]\n",
        "    #print(MSEXO)\n",
        "\n",
        "    # Calcula el nuevo peso medio\n",
        "    p_medio = np.mean(MSEXO, axis=0)[1]\n",
        "    #print(p_medio)\n",
        "\n",
        "    # Calcula las permutaciones de animales y crea una lista equivalente\n",
        "    # a ellas con sus pesos correspondientes\n",
        "    PERMUTACIONES = list(permutations([MSEXO[i][0] for i in range(0, len(MSEXO))]))\n",
        "    #print(PERMUTACIONES)\n",
        "    #input(\"Press Enter to continue...\")\n",
        "    PESOS = []\n",
        "    \n",
        "    for PERM in PERMUTACIONES:\n",
        "      P = []\n",
        "      for p in PERM:\n",
        "        P.append(MUESTRA.loc[MUESTRA[\"Id\"] == p, \"Peso\"].iloc[0])\n",
        "      PESOS.append(P)\n",
        "\n",
        "    #print(PESOS) \n",
        "    #input(\"Press Enter to continue...\")\n",
        "\n",
        "    # Calcula la permutación más homogénea\n",
        "    best_permutacion = []\n",
        "    best_homogeneidad = 99999999\n",
        "    for ix in range(len(PERMUTACIONES)):\n",
        "      h, g = get_homogeneidad(PERMUTACIONES[ix], PESOS[ix], p_medio, nTotalGroups, nAnimalsGroup)\n",
        "      if h < best_homogeneidad:\n",
        "        best_permutacion = g\n",
        "        best_homogeneidad = h\n",
        "\n",
        "    return best_permutacion, h\n",
        "  \n",
        "  # Consigue las agrupaciones de animales macho más homogéneas\n",
        "  #print('Sexo M')\n",
        "  RMALE, hM = group_animals(MALE, nTreats, nGroups, nAnimalsGroup)\n",
        "  #print('Sexo H')\n",
        "  # Consigue las agrupaciones de animales hembra más homogéneas\n",
        "  RFEMALE, hF = group_animals(FEMALE, nTreats, nGroups, nAnimalsGroup)\n",
        "  \n",
        "  return RMALE, RFEMALE\n",
        "\n",
        "\n",
        "# Calcula e imprime los grupos para una muestra dada\n",
        "agrupaciones = do_problem1(MUESTRA, nTreats, nGroups)\n",
        "\n",
        "print('Grupos de sexo Macho: ', agrupaciones[0])\n",
        "print()\n",
        "print('Grupos de sexo Hembra: ', agrupaciones[1])\n"
      ],
      "execution_count": 24,
      "outputs": [
        {
          "output_type": "stream",
          "text": [
            "Grupos de sexo Macho:  [[17, 10], [12, 7], [14, 4]]\n",
            "\n",
            "Grupos de sexo Hembra:  [[5, 1], [15, 0], [13, 9]]\n"
          ],
          "name": "stdout"
        }
      ]
    },
    {
      "metadata": {
        "colab_type": "text",
        "id": "tgrnsC2nkFa8"
      },
      "cell_type": "markdown",
      "source": [
        "Calcula la complejidad del algoritmo por fuerza bruta"
      ]
    },
    {
      "metadata": {
        "colab_type": "text",
        "id": "9eUd3xwckP68"
      },
      "cell_type": "markdown",
      "source": [
        "Respuesta"
      ]
    },
    {
      "metadata": {
        "colab_type": "code",
        "id": "rvZWwL-ckRST",
        "colab": {}
      },
      "cell_type": "code",
      "source": [
        ""
      ],
      "execution_count": 0,
      "outputs": []
    },
    {
      "metadata": {
        "colab_type": "text",
        "id": "txbrmLmskReM"
      },
      "cell_type": "markdown",
      "source": [
        "(*)Diseña un algoritmo que mejore la complejidad del algortimo por fuerza bruta. Argumenta porque crees que mejora el algoritmo por fuerza bruta"
      ]
    },
    {
      "metadata": {
        "colab_type": "text",
        "id": "hLrVwt5QkZPD"
      },
      "cell_type": "markdown",
      "source": [
        "Respuesta"
      ]
    },
    {
      "metadata": {
        "colab_type": "code",
        "id": "m1eyM21Vkabg",
        "colab": {
          "base_uri": "https://localhost:8080/",
          "height": 778
        },
        "outputId": "8573c5a1-c593-43e3-e88a-a13e88372075"
      },
      "cell_type": "code",
      "source": [
        "import numpy as np\n",
        "import pandas as pd\n",
        "import random\n",
        "import math\n",
        "import matplotlib.pyplot as plt\n",
        "from itertools import permutations\n",
        "import matplotlib.pyplot as plt\n",
        "\n",
        "\n",
        "def print_graph(S1, S2, S3):\n",
        "  fig, axes = plt.subplots(1, 1)\n",
        "  axes.plot(np.arange(len(S1)), S1) \n",
        "  axes.plot(np.arange(len(S2)), S2)\n",
        "  axes.plot(np.arange(len(S3)), S3)\n",
        "  plt.legend(['S1', 'S2', 'S3'], loc='best') \n",
        "  plt.show()\n",
        "  \n",
        "\n",
        "# Inicialización de variables globales\n",
        "nIndividuals = 300\n",
        "nTreats = 3 \n",
        "nGroups = 3\n",
        "\n",
        "# Creación de un dataset de muestra\n",
        "MUESTRA = pd.DataFrame()\n",
        "MUESTRA[\"Id\"] = [i for i in range(nIndividuals)]\n",
        "MUESTRA[\"Peso\"] = [random.gauss(37, 2.1) for i in range(nIndividuals)]\n",
        "MUESTRA[\"Sexo\"] = [random.getrandbits(1) for i in range(nIndividuals)]\n",
        "\n",
        "# Función mejorada que resuelve el problema 1 del seminario\n",
        "def do_problem1(MUESTRA, nTreats, nGroups):\n",
        "  nAnimals = len(MUESTRA)\n",
        "\n",
        "  # Dividimos el dataset en dos listas, una para cada sexo\n",
        "  MALE = []\n",
        "  FEMALE = []\n",
        "\n",
        "  for index, row in MUESTRA.iterrows():\n",
        "    if row[\"Sexo\"] == 0:\n",
        "      MALE.append([int(row[\"Id\"]), row[\"Peso\"], 0])\n",
        "    else:\n",
        "      FEMALE.append([int(row[\"Id\"]), row[\"Peso\"], 0])\n",
        "\n",
        "  # Calcula el número máximo de animales por grupo\n",
        "  nMale = len(MALE)\n",
        "  nFemale = len(FEMALE)\n",
        "\n",
        "  nAnimalsGroup = min(nMale, nFemale) // (nTreats * nGroups)\n",
        "\n",
        "  # Función local para crear agrupaciones de cualquier sexo\n",
        "  def group_animals(MSEXO, nTreats, nGroups, nAnimalsGroup):\n",
        "\n",
        "    # Calcula el peso medio\n",
        "    p_medio = np.mean(MSEXO, axis=0)[1]\n",
        "    \n",
        "    # Calcula el número total de grupos\n",
        "    nTotalGroups = nTreats * nGroups\n",
        "\n",
        "    # Calcula el número de animales de la lista\n",
        "    nAnimalsSex = nTotalGroups * nAnimalsGroup\n",
        "\n",
        "    # Ordenamos la muestra por diferencias con respecto a la media\n",
        "    # para excluir los más distantes en peso (de la media)\n",
        "    for a in MSEXO:\n",
        "      a[2] = abs(p_medio - a[1])\n",
        "    MSEXO = sorted(MSEXO, key=lambda x: x[2])\n",
        "    MSEXO = MSEXO[0:nAnimalsSex]\n",
        "    \n",
        "    # Reordenamos la muestra por pesos\n",
        "    MSEXO = sorted(MSEXO, key=lambda x: x[1])\n",
        "\n",
        "    # Calcula el nuevo peso medio\n",
        "    #p_medio = np.mean(MSEXO, axis=0)[1]\n",
        "\n",
        "    # Crea los grupos más homogéneos posible, escogiendo un individuo por cada\n",
        "    # nTotalGroups, de forma que en cada grupo entren individuos significativos \n",
        "    # de cada zona de la lista ya ordenada por pesos\n",
        "    TEMP_1 = []\n",
        "    for i in range(nTotalGroups):\n",
        "      TEMP_2 = []\n",
        "      \n",
        "      for j in range(i, nAnimalsSex, nTotalGroups):\n",
        "        TEMP_2.append(MSEXO[j])\n",
        "      \n",
        "      TEMP_1.append(TEMP_2)\n",
        "    \n",
        "    return TEMP_1\n",
        "  \n",
        "  # Consigue las agrupaciones de animales macho más homogéneas\n",
        "  RMALE = group_animals(MALE, nTreats, nGroups, nAnimalsGroup)\n",
        "  \n",
        "  # Consigue las agrupaciones de animales hembra más homogéneas\n",
        "  RFEMALE = group_animals(FEMALE, nTreats, nGroups, nAnimalsGroup)\n",
        "  \n",
        "  return RMALE, RFEMALE\n",
        "\n",
        "\n",
        "# Calcula e imprime los grupos para una muestra dada\n",
        "agrupaciones = do_problem1(MUESTRA, nTreats, nGroups)\n",
        "\n",
        "print('Grupos de sexo Macho: ')\n",
        "LPM = []\n",
        "for i in agrupaciones[0]:\n",
        "  p_medio = np.mean(i, axis=0)[1]\n",
        "  LPM.append(p_medio)\n",
        "  print(i)\n",
        "print(LPM)\n",
        "\n",
        "print()\n",
        "\n",
        "print('Grupos de sexo Hembra: ')\n",
        "LPF = []\n",
        "for i in agrupaciones[1]:\n",
        "  p_medio = np.mean(i, axis=0)[1]\n",
        "  LPF.append(p_medio)\n",
        "  print(i)\n",
        "print(LPF)\n",
        "\n",
        "print_graph(LPM, LPF, [37 for _ in range(9)])\n"
      ],
      "execution_count": 13,
      "outputs": [
        {
          "output_type": "stream",
          "text": [
            "Grupos de sexo Macho: \n",
            "[[248, 34.378847894294786, 2.796809687483808], [164, 35.2064649214642, 1.9691926603143912], [129, 35.628486439108805, 1.5471711426697894], [296, 35.921279349988204, 1.2543782317903904], [77, 36.20424566376872, 0.9714119180098777], [12, 36.4396420768055, 0.7360155049730963], [80, 36.685625924140126, 0.49003165763846823], [154, 36.91620852408389, 0.2594490576947024], [53, 37.41877132137964, 0.24311373960104277], [243, 37.770435480323144, 0.5947778985445495], [138, 38.018331609333565, 0.8426740275549705], [5, 38.26518710984589, 1.0895295280672954], [265, 38.374906583448634, 1.1992490016700401], [276, 38.934423789306386, 1.758766207527792], [60, 39.41072564634549, 2.235068064566896]]\n",
            "[[214, 34.42148217146111, 2.7541754103174867], [278, 35.24698061011961, 1.9286769716589873], [3, 35.74606148241582, 1.4295960993627759], [131, 35.97910844007274, 1.1965491417058516], [79, 36.22950316665583, 0.9461544151227628], [99, 36.49630413943216, 0.6793534423464322], [254, 36.69542685267145, 0.4802307291071415], [2, 36.990265323575116, 0.18539225820347838], [142, 37.4225366677528, 0.24687908597420716], [6, 37.80832127515795, 0.6326636933793566], [120, 38.03006536434712, 0.8544077825685221], [269, 38.2664948816943, 1.0908372999157052], [236, 38.494912597204745, 1.319255015426151], [112, 38.98642118466838, 1.8107636028897858], [25, 39.41396645001317, 2.2383088682345758]]\n",
            "[[207, 34.538290895762245, 2.6373666860163496], [42, 35.26609534678111, 1.9095622349974875], [145, 35.777563711291876, 1.3980938704867185], [88, 36.023940022164886, 1.151717559613708], [97, 36.2416048036902, 0.9340527780883932], [52, 36.496773337056034, 0.6788842447225605], [217, 36.696884367842024, 0.47877321393657013], [227, 36.997660680393174, 0.1779969013854199], [107, 37.4308049687896, 0.25514738701100725], [206, 37.814218934492494, 0.6385613527139], [212, 38.038625599980506, 0.8629680182019115], [89, 38.29007593366987, 1.114418351891274], [118, 38.508146317158534, 1.3324887353799397], [152, 39.04851908169388, 1.8728614999152882], [23, 39.46680578799528, 2.2911482062166826]]\n",
            "[[179, 34.64388846005322, 2.5317691217253753], [41, 35.40555574870248, 1.7701018330761116], [31, 35.79120296175413, 1.3844546200244636], [15, 36.046218467748126, 1.1294391140304683], [83, 36.27965968406679, 0.8959978977118013], [122, 36.541112257537335, 0.6345453242412589], [229, 36.767925076092574, 0.4077325056860204], [21, 37.012265559587014, 0.1633920221915801], [263, 37.44152337042313, 0.2658657886445326], [144, 37.85607058246815, 0.6804130006895548], [199, 38.07090269364309, 0.8952451118644973], [224, 38.305277924955085, 1.1296203431764908], [225, 38.538651194111516, 1.3629936123329216], [75, 39.09469381264028, 1.9190362308616855], [173, 39.493426497238964, 2.31776891546037]]\n",
            "[[153, 34.79581489947176, 2.379842682306837], [202, 35.441240914313944, 1.7344166674646502], [255, 35.84102407161202, 1.3346335101665758], [16, 36.07008584495644, 1.1055717368221565], [127, 36.30192337639955, 0.8737342053790442], [55, 36.59497253743002, 0.5806850443485772], [17, 36.778529537740404, 0.39712804403819035], [299, 37.0449367533477, 0.1307208284308956], [218, 37.48504380922528, 0.3093862274466872], [116, 37.88732814988167, 0.7116705681030737], [100, 38.07347591949753, 0.8978183377189382], [94, 38.31348377987962, 1.137826198101024], [103, 38.555619108042855, 1.3799615262642604], [37, 39.21723056708785, 2.0415729853092586], [147, 39.555999850351014, 2.38034226857242]]\n",
            "[[20, 34.82760607053445, 2.348051511244144], [49, 35.48098381962335, 1.6946737621552472], [135, 35.848135766602454, 1.3275218151761408], [115, 36.104366335892244, 1.07129124588635], [156, 36.32449470163646, 0.8511628801421338], [13, 36.63921361706938, 0.5364439647092141], [9, 36.78389302496015, 0.391764556818444], [155, 37.08571060036894, 0.0899469814096534], [7, 37.490190228396976, 0.31453264661838176], [213, 37.8876359216498, 0.7119783398712087], [262, 38.076246199826656, 0.9005886180480616], [158, 38.32766883534683, 1.152011253568233], [108, 38.55829842224682, 1.3826408404682269], [198, 39.269058215470245, 2.093400633691651], [271, 39.76210871629381, 2.5864511345152152]]\n",
            "[[259, 35.03481909704436, 2.140838484734232], [29, 35.48257871053578, 1.693078871242811], [133, 35.84943506428867, 1.3262225174899243], [163, 36.10859658115447, 1.067061000624122], [11, 36.36882611485036, 0.8068314669282373], [84, 36.656734398766346, 0.518923183012248], [249, 36.784176014869516, 0.39148156690907854], [232, 37.23525463843551, 0.05959705665691217], [178, 37.50817509328723, 0.33251751150863385], [74, 37.94653638774925, 0.7708788059706535], [191, 38.17588977180375, 1.0002321900251587], [220, 38.3283200788937, 1.1526624971151023], [287, 38.69639225133651, 1.5207346695579176], [241, 39.330213477175775, 2.1545558953971806], [208, 39.84850265819151, 2.672845076412912]]\n",
            "[[291, 35.06928976274836, 2.1063678190302326], [267, 35.57204021454823, 1.6036173672303633], [215, 35.87230269615625, 1.3033548856223476], [98, 36.13931246540905, 1.0363451163695458], [160, 36.41993285078206, 0.7557247309965334], [290, 36.65888374031279, 0.5167738414658061], [204, 36.8618739159396, 0.3137836658389972], [78, 37.32022078406346, 0.1445632022848642], [286, 37.513604614743514, 0.33794703296491946], [132, 37.996910117693574, 0.8212525359149794], [242, 38.21023147766121, 1.034573895882616], [58, 38.351228506468836, 1.1755709246902413], [266, 38.79241314490189, 1.6167555631232986], [101, 39.33642606143712, 2.160768479658529], [157, 39.95164501490664, 2.7759874331280443]]\n",
            "[[46, 35.135807594778534, 2.0398499870000606], [95, 35.62264564424011, 1.5530119375384857], [197, 35.87386655497344, 1.3017910268051551], [165, 36.18915135385798, 0.9865062279206143], [85, 36.43278411376297, 0.7428734680156239], [200, 36.68132995465194, 0.49432762712665124], [233, 36.894088477758544, 0.28156910402005053], [285, 37.38860337933382, 0.21294579755522847], [90, 37.60466429799628, 0.4290067162176854], [293, 38.007775328301776, 0.8321177465231813], [51, 38.220060615543844, 1.0444030337652492], [210, 38.37410609985822, 1.1984485180796227], [111, 38.93395595800847, 1.7582983762298738], [176, 39.3835004571487, 2.2078428753701047], [223, 40.09518454058349, 2.9195269588048944]]\n",
            "[37.03823882224247, 37.08185670714949, 37.10906731925079, 37.15255828606812, 37.1971139412825, 37.23104069839457, 37.290296689225514, 37.3377543578515, 37.38916829138654]\n",
            "\n",
            "Grupos de sexo Hembra: \n",
            "[[76, 33.22489892134903, 3.8200875138049994], [125, 34.01519234288948, 3.0297940922645523], [258, 35.05525714423471, 1.9897292909193212], [245, 35.48703047047111, 1.5579559646829182], [68, 35.7326174917235, 1.3123689434305277], [177, 36.109860220264736, 0.9351262148892943], [237, 36.4458208271602, 0.5991656079938323], [195, 36.91132722708845, 0.13365920806558051], [114, 37.29536570771409, 0.25037927256006043], [1, 37.649094668619796, 0.6041082334657659], [226, 37.83071414630462, 0.7857277111505923], [167, 38.24831654913213, 1.2033301139780974], [268, 38.773735340590655, 1.7287489054366247], [81, 39.1841251258666, 2.1391386907125707], [161, 39.821851719076044, 2.776865283922014]]\n",
            "[[292, 33.33553822916091, 3.7094482059931195], [219, 34.16165932379678, 2.8833271113572465], [146, 35.10616925847457, 1.938817176679457], [181, 35.523112364774555, 1.521874070379475], [30, 35.75328129558544, 1.2917051395685917], [279, 36.138103023622584, 0.9068834115314459], [113, 36.45963506741596, 0.5853513677380704], [183, 36.92275626365034, 0.12223017150368776], [140, 37.34061325458029, 0.29562681942626057], [260, 37.66952266503537, 0.6245362298813433], [56, 37.86158148160918, 0.8165950464551486], [69, 38.308516201252424, 1.2635297660983937], [110, 38.89244008838847, 1.8474536532344388], [244, 39.208676267331356, 2.163689832177326], [0, 39.90232886944243, 2.857342434288398]]\n",
            "[[143, 33.37458909616619, 3.67039733898784], [256, 34.56993077000229, 2.475055665151743], [65, 35.16309623785513, 1.881890197298901], [228, 35.53030957852433, 1.5146768566296984], [159, 35.80479869772161, 1.2401877374324215], [257, 36.15064632000808, 0.8943401151459511], [40, 36.49286617271474, 0.5521202624392885], [119, 37.02170448853517, 0.02328194661885874], [14, 37.385888048583794, 0.34090161342976444], [246, 37.700971990020996, 0.655985554866966], [28, 37.87741423636929, 0.8324278012152604], [203, 38.367652075236705, 1.3226656400826755], [150, 38.99622640055183, 1.9512399653978036], [247, 39.309402849844076, 2.2644164146900465], [64, 39.98033213251266, 2.9353456973586276]]\n",
            "[[295, 33.48955433022803, 3.5554321049259983], [283, 34.71944574633396, 2.3255406888200696], [47, 35.17906959749733, 1.8659168376566981], [137, 35.53068792699736, 1.5142985081566707], [274, 35.81053928654414, 1.2344471486098882], [193, 36.172576659892734, 0.8724097752612963], [289, 36.51819066874963, 0.5267957664043976], [57, 37.04748464180886, 0.002498206654827584], [277, 37.398936626725146, 0.3539501915711156], [104, 37.716601630031136, 0.6716151948771056], [126, 37.99193574419224, 0.9469493090382102], [294, 38.37002175589392, 1.325035320739893], [252, 39.05578134116287, 2.01079490600884], [45, 39.35377954866429, 2.308793113510262], [196, 40.02509587929836, 2.9801094441443325]]\n",
            "[[182, 33.57046566139472, 3.474520773759309], [38, 34.789052166301275, 2.255934268852755], [19, 35.322743538770844, 1.722242896383186], [121, 35.537329543025315, 1.5076568921287148], [32, 35.8213153679344, 1.2236710672196267], [136, 36.186971047012385, 0.858015388141645], [169, 36.55627312847397, 0.4887133066800615], [175, 37.191179744336885, 0.14619330918285556], [82, 37.41039360192913, 0.36540716677509977], [270, 37.722768198171266, 0.6777817630172365], [284, 38.074866566402356, 1.0298801312483263], [10, 38.38187754991464, 1.3368911147606113], [240, 39.067627966978414, 2.0226415318243838], [211, 39.36576218760861, 2.32077575245458], [180, 40.03648509420116, 2.9914986590471315]]\n",
            "[[185, 33.65852914338327, 3.3864572917707605], [39, 34.82471407658688, 2.2202723585671507], [148, 35.33442833219363, 1.7105581029603982], [117, 35.563675732744805, 1.4813107024092247], [231, 35.837708945399726, 1.2072774897543042], [87, 36.24121509005876, 0.8037713450952708], [298, 36.60896879654407, 0.436017638609961], [134, 37.19892202712016, 0.15393559196613182], [230, 37.41285499638895, 0.3678685612349213], [72, 37.76865638160618, 0.7236699464521479], [250, 38.094038810424465, 1.0490523752704348], [96, 38.53798816167147, 1.4930017265174413], [166, 39.115790420819756, 2.0708039856657265], [128, 39.38943110443491, 2.3444446692808825], [92, 40.31239143780485, 3.2674050026508183]]\n",
            "[[35, 33.73264324840517, 3.312343186748862], [186, 34.96061384436787, 2.0843725907861597], [261, 35.38880521102227, 1.6561812241317568], [106, 35.56574304435857, 1.4792433907954603], [70, 35.92687172147657, 1.118114713677457], [192, 36.31597944685088, 0.7290069883031478], [59, 36.75071919907942, 0.29426723607461014], [172, 37.263492225454655, 0.21850579030062534], [201, 37.492102091883865, 0.4471156567298351], [141, 37.7869879638695, 0.7420015287154698], [27, 38.09616418443409, 1.0511777492800576], [105, 38.62935308992044, 1.5843666547664128], [194, 39.134651148117555, 2.0896647129635255], [71, 39.52133167350977, 2.4763452383557407], [149, 40.38400326969597, 3.339016834541937]]\n",
            "[[235, 33.918651735169206, 3.126334699984824], [54, 34.964826977844815, 2.0801594573092146], [297, 35.40933804447394, 1.635648390680089], [190, 35.67244399321894, 1.3725424419350887], [253, 36.04172387143681, 1.0032625637172217], [205, 36.344801037458694, 0.7001853976953356], [124, 36.75408475362781, 0.290901681526222], [174, 37.2768640475103, 0.23187761235627136], [280, 37.54033635979657, 0.49534992464253946], [63, 37.80088258622603, 0.755896151072001], [44, 38.13628307463425, 1.0912966394802197], [272, 38.66302856625001, 1.618042131095983], [33, 39.16933794195373, 2.124351506799698], [50, 39.60121200448261, 2.556225569328582], [288, 40.50771663291431, 3.46273019776028]]\n",
            "[[93, 33.991053339751865, 3.053933095402165], [238, 34.98033619962466, 2.0646502355293705], [275, 35.46731910192266, 1.5776673332313678], [66, 35.73059864386612, 1.3143877912879134], [264, 36.09462602368244, 0.9503604114715927], [139, 36.36502500985553, 0.6799614252985009], [170, 36.80016172755752, 0.2448247075965071], [48, 37.28654907805699, 0.24156264290296292], [216, 37.561813064925225, 0.5168266297711952], [102, 37.814126895370904, 0.7691404602168745], [24, 38.202965877523724, 1.1579794423696939], [168, 38.73873428089056, 1.6937478457365316], [22, 39.17756654273424, 2.1325801075802104], [221, 39.74286805205535, 2.69788161690132], [184, 40.80845111098425, 3.763464675830221]]\n",
            "[36.785680526832344, 36.83892891027471, 36.91505527297647, 36.958646758934655, 37.00234075749702, 37.05995423047879, 37.129964090829766, 37.186768775133196, 37.2508129965868]\n"
          ],
          "name": "stdout"
        },
        {
          "output_type": "display_data",
          "data": {
            "image/png": "[encoded data removed]",
            "text/plain": [
              "<Figure size 576x396 with 1 Axes>"
            ]
          },
          "metadata": {
            "tags": []
          }
        }
      ]
    },
    {
      "metadata": {
        "colab_type": "text",
        "id": "eGDB4K6uk1iN"
      },
      "cell_type": "markdown",
      "source": [
        "(*)Calcula la complejidad del algoritmo "
      ]
    },
    {
      "metadata": {
        "colab_type": "text",
        "id": "NhpTh_BPk1ms"
      },
      "cell_type": "markdown",
      "source": [
        "Respuesta"
      ]
    },
    {
      "metadata": {
        "colab_type": "code",
        "id": "nREzhkStlCq8",
        "colab": {}
      },
      "cell_type": "code",
      "source": [
        ""
      ],
      "execution_count": 0,
      "outputs": []
    },
    {
      "metadata": {
        "colab_type": "text",
        "id": "3M6QjTsSkmYe"
      },
      "cell_type": "markdown",
      "source": [
        "Según el problema (y tenga sentido), diseña un juego de datos de entrada aleatorios"
      ]
    },
    {
      "metadata": {
        "colab_type": "text",
        "id": "Jc3_OlyNkvjZ"
      },
      "cell_type": "markdown",
      "source": [
        "Respuesta"
      ]
    },
    {
      "metadata": {
        "colab_type": "code",
        "id": "sJ-N2etjkyWc",
        "colab": {}
      },
      "cell_type": "code",
      "source": [
        "import pandas as pd\n",
        "import random\n",
        "\n",
        "# Inicialización de variables globales\n",
        "nAnimals = 3000\n",
        "nTreats = 3\n",
        "nGroups = 3\n",
        "\n",
        "# Creación de un dataset de muestra\n",
        "MUESTRA = pd.DataFrame()\n",
        "MUESTRA[\"Id\"] = [i for i in range(nAnimals)]\n",
        "MUESTRA[\"Peso\"] = [random.gauss(37, 2.1) for i in range(nAnimals)]\n",
        "MUESTRA[\"Sexo\"] = [random.getrandbits(1) for i in range(nAnimals)]"
      ],
      "execution_count": 0,
      "outputs": []
    },
    {
      "metadata": {
        "colab_type": "text",
        "id": "zy5ZROmjlGo1"
      },
      "cell_type": "markdown",
      "source": [
        "Aplica el algoritmo al juego de datos generado"
      ]
    },
    {
      "metadata": {
        "colab_type": "text",
        "id": "_Cmj-PVylMsa"
      },
      "cell_type": "markdown",
      "source": [
        "Respuesta"
      ]
    },
    {
      "metadata": {
        "colab_type": "code",
        "id": "Jkx8GeiYlUz1",
        "colab": {}
      },
      "cell_type": "code",
      "source": [
        ""
      ],
      "execution_count": 0,
      "outputs": []
    },
    {
      "metadata": {
        "colab_type": "text",
        "id": "eTFWUJQrtGcv"
      },
      "cell_type": "markdown",
      "source": [
        "Enumera las referencias que has utilizado(si ha sido necesario) para llevar a cabo el trabajo"
      ]
    },
    {
      "metadata": {
        "colab_type": "text",
        "id": "YKQ_mRBttWsP"
      },
      "cell_type": "markdown",
      "source": [
        "Respuesta"
      ]
    },
    {
      "metadata": {
        "colab_type": "text",
        "id": "kAkDPUyRtYyH"
      },
      "cell_type": "markdown",
      "source": [
        "Describe brevemente las lineas de como crees que es posible avanzar en el estudio del problema. Ten en cuenta incluso posibles variaciones del problema y/o variaciones al alza del tamaño"
      ]
    },
    {
      "metadata": {
        "colab_type": "text",
        "id": "IE0uZmo-tZu-"
      },
      "cell_type": "markdown",
      "source": [
        "Respuesta"
      ]
    }
  ]
}