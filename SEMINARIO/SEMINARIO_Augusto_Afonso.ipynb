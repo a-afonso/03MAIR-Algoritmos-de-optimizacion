{
  "nbformat": 4,
  "nbformat_minor": 0,
  "metadata": {
    "colab": {
      "name": "SEMINARIO_Augusto_Afonso.ipynb",
      "version": "0.3.2",
      "provenance": [],
      "collapsed_sections": [],
      "include_colab_link": true
    },
    "kernelspec": {
      "display_name": "Python 3",
      "language": "python",
      "name": "python3"
    }
  },
  "cells": [
    {
      "cell_type": "markdown",
      "metadata": {
        "id": "view-in-github",
        "colab_type": "text"
      },
      "source": [
        "<a href=\"https://colab.research.google.com/github/a-afonso/03MAIR-Algoritmos-de-optimizacion/blob/master/SEMINARIO/SEMINARIO_Augusto_Afonso.ipynb\" target=\"_parent\"><img src=\"https://colab.research.google.com/assets/colab-badge.svg\" alt=\"Open In Colab\"/></a>"
      ]
    },
    {
      "metadata": {
        "colab_type": "text",
        "id": "hVbXYX-RfPWh"
      },
      "cell_type": "markdown",
      "source": [
        "# Algoritmos de optimización - Seminario<br>\n",
        "<b>Nombre y Apellidos: </b>Augusto Afonso Losada <br>\n",
        "<b>Url: </b>https://github.com/a-afonso/03MAIR-Algoritmos-de-optimizacion/tree/master/SEMINARIO<br>\n",
        "  <b>Problema:</b>\n",
        "> 1. Elección de grupos de población homogéneos <br>\n",
        "\n",
        "<b>Descripción del problema: </b>Una productora ganadera nos encarga la tarea de seleccionar grupos de terneros para aplicar 3 tratamientos diferentes. Para cada uno de los tratamientos debemos seleccionar 3 grupos de terneros que sean lo mas homogéneos posible en peso para que en los resultados del tratamiento influya lo menos posible el peso del animal. Disponemos de una población de N animales entre machos y hembras.<br>\n",
        "<br>\n",
        "Se solicita diseñar un algoritmo para conseguir una agrupación que cumpla de la mejor manera posible las especificaciones de la productora.<br>\n",
        "<br>\n",
        "\n",
        "(*) La respuesta es obligatoria\n",
        "\n",
        "\n",
        "\n",
        "\n",
        "\n",
        "                                        "
      ]
    },
    {
      "metadata": {
        "colab_type": "code",
        "id": "zu9aZ8S-grjy",
        "colab": {}
      },
      "cell_type": "code",
      "source": [
        ""
      ],
      "execution_count": 0,
      "outputs": []
    },
    {
      "metadata": {
        "colab_type": "text",
        "id": "3_-exlrTgLd-"
      },
      "cell_type": "markdown",
      "source": [
        "(*)¿Cuantas posibilidades hay sin tener en cuenta las restricciones?\n",
        "\n",
        "¿Cuantas posibilidades hay teniendo en cuenta todas las restricciones?\n",
        "\n",
        "\n",
        "\n"
      ]
    },
    {
      "metadata": {
        "colab_type": "text",
        "id": "WfCUqJyKhPcw"
      },
      "cell_type": "markdown",
      "source": [
        "**Respuesta**<br>\n",
        "\n",
        "Para calcular las posibilidades sin restricciones, debemos suponer que son N animales (independientemente del sexo) y que el peso no influye en la solución.<br>\n",
        "\n",
        "En estas circunstancias, tenemos 3 tratamientos x 3 grupos = 9 grupos efectivos, por lo cual lo que tenemos son combinaciones de N elementos tomados de 9 en 9 y sin repetición, es decir:<br>\n",
        "\n",
        "*   N! / 9! (N-9)!\n",
        "\n",
        "<br>\n",
        "En el caso con restricciones, aunque podría parecer que la solución puede ser única (la que proponga la combinación más homogénea), en realidad no es posible determinar con exactitud el número de posibles soluciones, ya que por ejemplo, puede haber animales del mismo sexo con el mismo peso, en cuyo caso podrían caer en cualquiera de los grupos efectivos del propio sexo indistintamente.<br>\n",
        "\n",
        "La peor de las situaciones sería aquella en la que todos los animales tienen el mismo peso y el sexo está divido exactamente al 50%, porque cualquier combinación sería posible, con lo cual las posibilidades coincidirían con el caso anterior:<br>\n",
        "\n",
        "*   N! / 9! (N-9)!\n",
        "\n",
        "Paradójicamente, en este último caso cualquier combinación sería la solución óptima, ya que cumpliría con el criterio solicitado.<br>"
      ]
    },
    {
      "metadata": {
        "colab_type": "code",
        "id": "iq6Fe32MgpDX",
        "colab": {}
      },
      "cell_type": "code",
      "source": [
        ""
      ],
      "execution_count": 0,
      "outputs": []
    },
    {
      "metadata": {
        "colab_type": "text",
        "id": "dzynfVJahHoY"
      },
      "cell_type": "markdown",
      "source": [
        "Modelo para el espacio de soluciones<br>\n",
        "(*) ¿Cual es la estructura de datos que mejor se adapta al problema? Arguméntalo.(Es posible que hayas elegido una al principio y veas la necesidad de cambiar, arguméntalo).\n"
      ]
    },
    {
      "metadata": {
        "colab_type": "text",
        "id": "xFIJrOwKi2Ti"
      },
      "cell_type": "markdown",
      "source": [
        "**Respuesta**\n",
        "\n",
        "Es posible utilizar una lista de listas para contener la estructura de datos de entrada. La lista contendría N elementos de tipo lista. En esta última estructura, habría tres valores: el identificador del animal, el peso y el sexo.<br>\n",
        "\n",
        "La estructura de datos devuelta sería una lista de 9 elementos, tantos como grupos efectivos de cada sexo, que a su vez serían listas. Estas últimas tendrían una estructura en la cual sus elementos serían los identificadores de los animales de cada uno de los grupos efectivos."
      ]
    },
    {
      "metadata": {
        "colab_type": "code",
        "id": "38c-7-ejhJmA",
        "colab": {}
      },
      "cell_type": "code",
      "source": [
        ""
      ],
      "execution_count": 0,
      "outputs": []
    },
    {
      "metadata": {
        "colab_type": "text",
        "id": "7Z9U2W7bi-XS"
      },
      "cell_type": "markdown",
      "source": [
        "Según el modelo para el espacio de soluciones<br>\n",
        "(*)¿Cual es la función objetivo?\n",
        "\n",
        "(*)¿Es un problema de maximización o minimización?"
      ]
    },
    {
      "metadata": {
        "colab_type": "text",
        "id": "hBalWLM7j1_d"
      },
      "cell_type": "markdown",
      "source": [
        "**Respuesta**\n",
        "\n",
        "Para responder a estas preguntas, habría que definir el concepto de *\"Homogeneidad de un Grupo Efectivo de animales\"*.<br>\n",
        "\n",
        "*   Homogeneidad de un Grupo Efectivo de animales (HGE): Peso medio de los animales que componen un grupo efectivo de animales. Donde un grupo efectivo de animales (GE) equivale al conjunto de animales en cada uno de los conjuntos formados por el cómputo de 3 tratamientos x 3 grupos. Es decir hay 9 grupos efectivos (por cada sexo) con sus animales.\n",
        "\n",
        "Para un determinado GE, habría que calcular su HGE, comparándola con lo desviada que está respecto al peso medio de toda la muestra. La combinación óptima será aquella en la que dicha desviación de todos los GE con respecto al peso medio, es mínima.<br>\n",
        "\n",
        "Por lo tanto es un problema de minimización. \n",
        "\n"
      ]
    },
    {
      "metadata": {
        "colab_type": "code",
        "id": "pDA-rg3Gj5Lz",
        "colab": {}
      },
      "cell_type": "code",
      "source": [
        ""
      ],
      "execution_count": 0,
      "outputs": []
    },
    {
      "metadata": {
        "colab_type": "text",
        "id": "rlnTYgY1j6I2"
      },
      "cell_type": "markdown",
      "source": [
        "Diseña un algoritmo para resolver el problema por fuerza bruta"
      ]
    },
    {
      "metadata": {
        "colab_type": "text",
        "id": "70rDgxYXkC8r"
      },
      "cell_type": "markdown",
      "source": [
        "Respuesta"
      ]
    },
    {
      "metadata": {
        "colab_type": "code",
        "id": "CJb5sQ0qkENy",
        "outputId": "fd94d986-87ca-4442-ddfe-57c113a1df8d",
        "colab": {
          "base_uri": "https://localhost:8080/",
          "height": 71
        }
      },
      "cell_type": "code",
      "source": [
        "import numpy as np\n",
        "import pandas as pd\n",
        "import random\n",
        "import math\n",
        "import matplotlib.pyplot as plt\n",
        "from itertools import permutations\n",
        "\n",
        "# Inicialización de variables globales\n",
        "#   - Escogemos solo una población de 18 animales y 3 grupos por sexo (1x3) \n",
        "#     para las pruebas porque la explosión combinatoria hace que el tiempo\n",
        "#     de ejecución sea excesivo a partir de estos valores\n",
        "#   - Incluso en este caso, si el número de animales queda dividido por sexo\n",
        "#     al 50% (9+9), el tiempo se hace inviable\n",
        "nIndividuals = 18\n",
        "nTreats = 1 \n",
        "nGroups = 3\n",
        "\n",
        "# Creación de un dataset de muestra\n",
        "MUESTRA = pd.DataFrame()\n",
        "MUESTRA[\"Id\"] = [i for i in range(nIndividuals)]\n",
        "MUESTRA[\"Peso\"] = [random.gauss(37, 2.1) for i in range(nIndividuals)]\n",
        "MUESTRA[\"Sexo\"] = [random.getrandbits(1) for i in range(nIndividuals)]\n",
        "\n",
        "# Función que resuelve el problema 1 del seminario\n",
        "def do_problem1(MUESTRA, nTreats, nGroups):\n",
        "  nAnimals = len(MUESTRA)\n",
        "\n",
        "  # Dividimos el dataset en dos listas, una para cada sexo\n",
        "  MALE = []\n",
        "  FEMALE = []\n",
        "\n",
        "  for index, row in MUESTRA.iterrows():\n",
        "    if row[\"Sexo\"] == 0:\n",
        "      MALE.append([int(row[\"Id\"]), row[\"Peso\"], 0])\n",
        "    else:\n",
        "      FEMALE.append([int(row[\"Id\"]), row[\"Peso\"], 0])\n",
        "\n",
        "  # Calcula el número máximo de animales por grupo\n",
        "  nMale = len(MALE)\n",
        "  nFemale = len(FEMALE)\n",
        "\n",
        "  nAnimalsGroup = min(nMale, nFemale) // (nTreats * nGroups)\n",
        "\n",
        "  # Función local que calcula la homogeneidad de los pesos de una \n",
        "  # permutación\n",
        "  def get_homogeneidad(PERMUTACION, PESOS, p_medio, nTotalGroups, nAnimalsGroup):\n",
        "    TEMP_1 = []\n",
        "    ix = 0\n",
        "    suma = 0\n",
        "    for g in range(nTotalGroups):\n",
        "      TEMP_2 = []\n",
        "      TEMP_3 = []\n",
        "      for i in range(ix, ix+nAnimalsGroup):\n",
        "        TEMP_2.append(PESOS[i])\n",
        "        TEMP_3.append(PERMUTACION[i])\n",
        "      TEMP_1.append(TEMP_3)\n",
        "      ix = ix + nAnimalsGroup\n",
        "\n",
        "      media = np.mean(TEMP_2)\n",
        "      suma = suma + abs(p_medio - media)\n",
        "\n",
        "    #print(TEMP_1)\n",
        "\n",
        "    return(suma / nTotalGroups, TEMP_1)\n",
        "\n",
        "  # Función local para crear agrupaciones de cualquier sexo\n",
        "  def group_animals(MSEXO, nTreats, nGroups, nAnimalsGroup):\n",
        "\n",
        "    # Calcula el peso medio\n",
        "    p_medio = np.mean(MSEXO, axis=0)[1]\n",
        "    #print(p_medio)\n",
        "    \n",
        "    # Calcula el número total de grupos\n",
        "    nTotalGroups = nTreats * nGroups\n",
        "\n",
        "    # Calcula el número de animales de la lista\n",
        "    nAnimalsSex = nTotalGroups * nAnimalsGroup\n",
        "\n",
        "    # Ordenamos la muestra por diferencias con respecto a la media\n",
        "    # para excluir los más distantes en peso (de la media)\n",
        "    #print(MSEXO)\n",
        "    for a in MSEXO:\n",
        "      a[2] = abs(p_medio - a[1])\n",
        "    MSEXO = sorted(MSEXO, key=lambda x: x[2])\n",
        "    #print(MSEXO)\n",
        "    MSEXO = MSEXO[0:nAnimalsSex]\n",
        "    #print(MSEXO)\n",
        "\n",
        "    # Calcula el nuevo peso medio\n",
        "    p_medio = np.mean(MSEXO, axis=0)[1]\n",
        "    #print(p_medio)\n",
        "\n",
        "    # Calcula las permutaciones de animales y crea una lista equivalente\n",
        "    # a ellas con sus pesos correspondientes\n",
        "    PERMUTACIONES = list(permutations([MSEXO[i][0] for i in range(0, len(MSEXO))]))\n",
        "    #print(PERMUTACIONES)\n",
        "    #input(\"Press Enter to continue...\")\n",
        "    PESOS = []\n",
        "    \n",
        "    for PERM in PERMUTACIONES:\n",
        "      P = []\n",
        "      for p in PERM:\n",
        "        P.append(MUESTRA.loc[MUESTRA[\"Id\"] == p, \"Peso\"].iloc[0])\n",
        "      PESOS.append(P)\n",
        "\n",
        "    #print(PESOS) \n",
        "    #input(\"Press Enter to continue...\")\n",
        "\n",
        "    # Calcula la permutación más homogénea\n",
        "    best_permutacion = []\n",
        "    best_homogeneidad = 99999999\n",
        "    for ix in range(len(PERMUTACIONES)):\n",
        "      h, g = get_homogeneidad(PERMUTACIONES[ix], PESOS[ix], p_medio, nTotalGroups, nAnimalsGroup)\n",
        "      if h < best_homogeneidad:\n",
        "        best_permutacion = g\n",
        "        best_homogeneidad = h\n",
        "\n",
        "    return best_permutacion, h\n",
        "  \n",
        "  # Consigue las agrupaciones de animales macho más homogéneas\n",
        "  #print('Sexo M')\n",
        "  RMALE, hM = group_animals(MALE, nTreats, nGroups, nAnimalsGroup)\n",
        "  #print('Sexo H')\n",
        "  # Consigue las agrupaciones de animales hembra más homogéneas\n",
        "  RFEMALE, hF = group_animals(FEMALE, nTreats, nGroups, nAnimalsGroup)\n",
        "  \n",
        "  return RMALE, RFEMALE\n",
        "\n",
        "\n",
        "# Calcula e imprime los grupos para una muestra dada\n",
        "agrupaciones = do_problem1(MUESTRA, nTreats, nGroups)\n",
        "\n",
        "print('Grupos de sexo Macho: ', agrupaciones[0])\n",
        "print()\n",
        "print('Grupos de sexo Hembra: ', agrupaciones[1])\n"
      ],
      "execution_count": 24,
      "outputs": [
        {
          "output_type": "stream",
          "text": [
            "Grupos de sexo Macho:  [[17, 10], [12, 7], [14, 4]]\n",
            "\n",
            "Grupos de sexo Hembra:  [[5, 1], [15, 0], [13, 9]]\n"
          ],
          "name": "stdout"
        }
      ]
    },
    {
      "metadata": {
        "colab_type": "text",
        "id": "tgrnsC2nkFa8"
      },
      "cell_type": "markdown",
      "source": [
        "Calcula la complejidad del algoritmo por fuerza bruta"
      ]
    },
    {
      "metadata": {
        "colab_type": "text",
        "id": "9eUd3xwckP68"
      },
      "cell_type": "markdown",
      "source": [
        "Respuesta"
      ]
    },
    {
      "metadata": {
        "colab_type": "code",
        "id": "rvZWwL-ckRST",
        "colab": {}
      },
      "cell_type": "code",
      "source": [
        ""
      ],
      "execution_count": 0,
      "outputs": []
    },
    {
      "metadata": {
        "colab_type": "text",
        "id": "txbrmLmskReM"
      },
      "cell_type": "markdown",
      "source": [
        "(*)Diseña un algoritmo que mejore la complejidad del algortimo por fuerza bruta. Argumenta porque crees que mejora el algoritmo por fuerza bruta"
      ]
    },
    {
      "metadata": {
        "colab_type": "text",
        "id": "hLrVwt5QkZPD"
      },
      "cell_type": "markdown",
      "source": [
        "Respuesta"
      ]
    },
    {
      "metadata": {
        "colab_type": "code",
        "id": "m1eyM21Vkabg",
        "colab": {
          "base_uri": "https://localhost:8080/",
          "height": 778
        },
        "outputId": "234fb1f3-3469-4087-a95d-341740537b8c"
      },
      "cell_type": "code",
      "source": [
        "import numpy as np\n",
        "import pandas as pd\n",
        "import random\n",
        "import math\n",
        "import matplotlib.pyplot as plt\n",
        "from itertools import permutations\n",
        "import matplotlib.pyplot as plt\n",
        "\n",
        "\n",
        "def print_graph(S1, S2, S3):\n",
        "  fig, axes = plt.subplots(1, 1)\n",
        "  axes.plot(np.arange(len(S1)), S1) \n",
        "  axes.plot(np.arange(len(S2)), S2)\n",
        "  axes.plot(np.arange(len(S3)), S3)\n",
        "  plt.legend(['S1', 'S2', 'S3'], loc='best') \n",
        "  plt.show()\n",
        "  \n",
        "\n",
        "# Inicialización de variables globales\n",
        "nIndividuals = 300\n",
        "nTreats = 3 \n",
        "nGroups = 3\n",
        "\n",
        "# Creación de un dataset de muestra\n",
        "MUESTRA = pd.DataFrame()\n",
        "MUESTRA[\"Id\"] = [i for i in range(nIndividuals)]\n",
        "MUESTRA[\"Peso\"] = [random.gauss(37, 2.1) for i in range(nIndividuals)]\n",
        "MUESTRA[\"Sexo\"] = [random.getrandbits(1) for i in range(nIndividuals)]\n",
        "\n",
        "# Función mejorada que resuelve el problema 1 del seminario\n",
        "def do_problem1(MUESTRA, nTreats, nGroups):\n",
        "  nAnimals = len(MUESTRA)\n",
        "\n",
        "  # Dividimos el dataset en dos listas, una para cada sexo\n",
        "  MALE = []\n",
        "  FEMALE = []\n",
        "\n",
        "  for index, row in MUESTRA.iterrows():\n",
        "    if row[\"Sexo\"] == 0:\n",
        "      MALE.append([int(row[\"Id\"]), row[\"Peso\"], 0])\n",
        "    else:\n",
        "      FEMALE.append([int(row[\"Id\"]), row[\"Peso\"], 0])\n",
        "\n",
        "  # Calcula el número máximo de animales por grupo\n",
        "  nMale = len(MALE)\n",
        "  nFemale = len(FEMALE)\n",
        "\n",
        "  nAnimalsGroup = min(nMale, nFemale) // (nTreats * nGroups)\n",
        "\n",
        "  # Función local para crear agrupaciones de cualquier sexo\n",
        "  def group_animals(MSEXO, nTreats, nGroups, nAnimalsGroup):\n",
        "\n",
        "    # Calcula el peso medio\n",
        "    p_medio = np.mean(MSEXO, axis=0)[1]\n",
        "    \n",
        "    # Calcula el número total de grupos\n",
        "    nTotalGroups = nTreats * nGroups\n",
        "\n",
        "    # Calcula el número de animales de la lista\n",
        "    nAnimalsSex = nTotalGroups * nAnimalsGroup\n",
        "\n",
        "    # Ordenamos la muestra por diferencias con respecto a la media\n",
        "    # para excluir los más distantes en peso (de la media)\n",
        "    for a in MSEXO:\n",
        "      a[2] = abs(p_medio - a[1])\n",
        "    MSEXO = sorted(MSEXO, key=lambda x: x[2])\n",
        "    MSEXO = MSEXO[0:nAnimalsSex]\n",
        "    \n",
        "    # Reordenamos la muestra por pesos\n",
        "    MSEXO = sorted(MSEXO, key=lambda x: x[1])\n",
        "\n",
        "    # Calcula el nuevo peso medio\n",
        "    #p_medio = np.mean(MSEXO, axis=0)[1]\n",
        "\n",
        "    # Crea los grupos más homogéneos posible, escogiendo un individuo por cada\n",
        "    # nTotalGroups, de forma que en cada grupo entren individuos significativos \n",
        "    # de cada zona de la lista ya ordenada por pesos\n",
        "    TEMP_1 = []\n",
        "    for i in range(nTotalGroups):\n",
        "      TEMP_2 = []\n",
        "      \n",
        "      for j in range(i, nAnimalsSex, nTotalGroups):\n",
        "        TEMP_2.append(MSEXO[j])\n",
        "      \n",
        "      TEMP_1.append(TEMP_2)\n",
        "    \n",
        "    return TEMP_1\n",
        "  \n",
        "  # Consigue las agrupaciones de animales macho más homogéneas\n",
        "  RMALE = group_animals(MALE, nTreats, nGroups, nAnimalsGroup)\n",
        "  \n",
        "  # Consigue las agrupaciones de animales hembra más homogéneas\n",
        "  RFEMALE = group_animals(FEMALE, nTreats, nGroups, nAnimalsGroup)\n",
        "  \n",
        "  return RMALE, RFEMALE\n",
        "\n",
        "\n",
        "# Calcula e imprime los grupos para una muestra dada\n",
        "agrupaciones = do_problem1(MUESTRA, nTreats, nGroups)\n",
        "\n",
        "print('Grupos de sexo Macho: ')\n",
        "LPM = []\n",
        "for i in agrupaciones[0]:\n",
        "  p_medio = np.mean(i, axis=0)[1]\n",
        "  LPM.append(p_medio)\n",
        "  print(i)\n",
        "print(LPM)\n",
        "\n",
        "print()\n",
        "\n",
        "print('Grupos de sexo Hembra: ')\n",
        "LPF = []\n",
        "for i in agrupaciones[1]:\n",
        "  p_medio = np.mean(i, axis=0)[1]\n",
        "  LPF.append(p_medio)\n",
        "  print(i)\n",
        "print(LPF)\n",
        "\n",
        "m = (np.mean(LPM) + np.mean(LPF)) / 2\n",
        "\n",
        "print_graph(LPM, LPF, [m for _ in range(9)])\n"
      ],
      "execution_count": 16,
      "outputs": [
        {
          "output_type": "stream",
          "text": [
            "Grupos de sexo Macho: \n",
            "[[110, 34.03904335139272, 2.939652653087741], [118, 34.522653748928896, 2.4560422555515657], [85, 34.91701478095837, 2.0616812235220934], [45, 35.358637504941605, 1.6200584995388567], [96, 36.09118190973823, 0.8875140947422295], [224, 36.32776844610667, 0.6509275583737946], [254, 36.67230075540141, 0.3063952490790527], [283, 36.91061572985272, 0.06808027462773936], [195, 37.247402282425064, 0.26870627794460233], [289, 37.465526012094976, 0.48683000761451467], [174, 37.89944215376817, 0.9207461492877087], [88, 38.20759864302363, 1.2289026385431683], [291, 38.50807315693116, 1.5293771524506994], [158, 38.957164155978596, 1.9784681514981344], [137, 39.511952694724016, 2.5332566902435545]]\n",
            "[[1, 34.273467217471556, 2.705228787008906], [100, 34.59601064354163, 2.3826853609388294], [39, 34.92887802543735, 2.0498179790431124], [33, 35.391683606015754, 1.587012398464708], [181, 36.09421554112478, 0.8844804633556791], [234, 36.40913983091132, 0.5695561735691399], [54, 36.71257612283124, 0.2661198816492245], [106, 36.9751899462078, 0.0035060582726629264], [64, 37.26488866400779, 0.2861926595273303], [212, 37.49282242804309, 0.5141264235626295], [211, 37.902612594553915, 0.9239165900734534], [292, 38.21439993706616, 1.2357039325857002], [48, 38.56028337304333, 1.5815873685628716], [53, 38.966767123295604, 1.9880711188151423], [259, 39.55674072750962, 2.5780447230291585]]\n",
            "[[274, 34.27458171165593, 2.704114292824535], [258, 34.73513245065866, 2.243563553821801], [272, 34.933802361588995, 2.0448936428914664], [126, 35.39345393337321, 1.5852420711072526], [244, 36.1690435121373, 0.8096524923431616], [257, 36.42448696526709, 0.5542090392133687], [115, 36.72676488030578, 0.251931124174682], [145, 36.992506087793295, 0.013810083312833399], [61, 37.2919565112274, 0.3132605067469356], [74, 37.65126034715003, 0.6725643426695669], [19, 37.929291286472, 0.9505952819915393], [97, 38.24742473310009, 1.268728728619628], [128, 38.569730165877694, 1.591034161397232], [40, 39.01135789604024, 2.0326618915597763], [198, 39.58678624445847, 2.6080902399780115]]\n",
            "[[50, 34.279474862362264, 2.6992211421181977], [288, 34.74687244660394, 2.231823557876524], [62, 34.9570275590125, 2.0216684454679594], [31, 35.39926121492931, 1.5794347895511507], [215, 36.19669173788232, 0.7820042665981433], [127, 36.45721066851795, 0.5214853359625096], [99, 36.73472770126995, 0.2439683032105151], [184, 37.039571636958684, 0.06087563247822203], [133, 37.3127375181891, 0.334041513708641], [271, 37.68279026799376, 0.7040942635132978], [282, 37.95835185286628, 0.9796558483858178], [265, 38.28861606538769, 1.3099200609072312], [293, 38.583458258374776, 1.6047622538943145], [172, 39.02203458191934, 2.043338577438881], [164, 39.59063967116356, 2.6119436666830964]]\n",
            "[[186, 34.29290424448436, 2.6857917599961], [29, 34.752931090605145, 2.2257649138753166], [167, 35.162202526930976, 1.8164934775494856], [236, 35.51754294054346, 1.4611530639370045], [276, 36.20400670987878, 0.7746892946016786], [213, 36.48162258904649, 0.49707341543397376], [103, 36.739932240717046, 0.23876376376341568], [72, 37.04795616763746, 0.06926016315699712], [78, 37.32420055162587, 0.3455045471454099], [210, 37.70807288126423, 0.7293768767837676], [221, 38.071405228104304, 1.0927092236238423], [216, 38.32768223231575, 1.3489862278352902], [217, 38.597610781628006, 1.6189147771475447], [136, 39.03704007352164, 2.0583440690411763], [233, 39.61551450645328, 2.6368185019728188]]\n",
            "[[156, 34.29770911406497, 2.6809868904154897], [18, 34.80326205083187, 2.175433953648593], [188, 35.23325112414028, 1.7454448803401803], [267, 35.598811830449705, 1.3798841740307566], [238, 36.2232638791385, 0.7554321253419616], [287, 36.50890570457816, 0.46979029990230003], [41, 36.74126765914521, 0.23742834533525325], [173, 37.1079458691357, 0.12924986465523602], [76, 37.342263921172616, 0.3635679166921548], [275, 37.82016664066269, 0.8414706361822297], [55, 38.10233795979413, 1.1236419553136656], [219, 38.344536153107505, 1.3658401486270435], [2, 38.62360710403067, 1.6449110995502068], [273, 39.1454813194965, 2.1667853150160354], [214, 39.643857200882906, 2.665161196402444]]\n",
            "[[284, 34.30466534246756, 2.6740306620129033], [222, 34.83882585453695, 2.139870149943512], [268, 35.28626249580398, 1.69243350867648], [160, 35.93306720172452, 1.0456288027559424], [65, 36.23821039800796, 0.7404856064725038], [66, 36.51035131135249, 0.46834469312797467], [237, 36.769659237585216, 0.2090367668952453], [193, 37.1524227270262, 0.1737267225457373], [79, 37.38044517884216, 0.4017491743616972], [46, 37.8298978906372, 0.851201886156737], [44, 38.136433040754035, 1.1577370362735735], [148, 38.35810383602744, 1.3794078315469775], [155, 38.700435117646556, 1.7217391131660946], [246, 39.15845143603102, 2.1797554315505607], [229, 39.75689731507111, 2.778201310590646]]\n",
            "[[108, 34.44497042788871, 2.533725576591749], [270, 34.87547602380129, 2.103219980679171], [209, 35.30617370808831, 1.6725222963921524], [134, 35.975257170693574, 1.0034388337868876], [218, 36.269919981581026, 0.7087760228994355], [81, 36.52394867038117, 0.454747334099288], [112, 36.861484465641105, 0.11721153883935642], [249, 37.18315803850675, 0.20446203402628527], [71, 37.413485267472424, 0.43478926299196274], [161, 37.849010870432885, 0.8703148659524231], [104, 38.14468607043414, 1.1659900659536788], [86, 38.4433791343599, 1.4646831298794396], [27, 38.705544402761305, 1.7268483982808434], [21, 39.256898516543274, 2.278202512062812], [56, 39.841460666366245, 2.862764661885784]]\n",
            "[[151, 34.512729993502084, 2.465966010978377], [95, 34.90733568601833, 2.0713603184621334], [9, 35.3519392262784, 1.6267567782020649], [171, 36.07830521650246, 0.9003907879780044], [165, 36.288502927420424, 0.6901930770600373], [227, 36.619253919468946, 0.35944208501151564], [159, 36.87311623683167, 0.10557976764879129], [185, 37.220972427148, 0.2422764226675369], [82, 37.41978447563318, 0.44108847115271743], [176, 37.89115367581162, 0.9124576713311612], [199, 38.15009433250295, 1.1713983280224909], [281, 38.50484622140817, 1.5261502169277108], [197, 38.87465338810724, 1.8959573836267793], [121, 39.32160619226003, 2.342910187779566], [250, 39.90395081609532, 2.925254811614856]]\n",
            "[36.84242502175108, 36.8893117187374, 36.92917193914041, 36.949964402895425, 36.99204165098378, 37.03577783537542, 37.09027522556763, 37.139656894330145, 37.19454964899925]\n",
            "\n",
            "Grupos de sexo Hembra: \n",
            "[[169, 32.38855509006955, 4.5512746765636365], [241, 33.815753576796524, 3.1240761898366642], [38, 34.75563540868026, 2.1841943579529257], [187, 35.40788387962611, 1.5319458870070761], [179, 35.83518004113871, 1.1046497254944754], [102, 36.18602341154408, 0.753806355089111], [69, 36.49286508763077, 0.44696467900242], [239, 36.73704775650528, 0.20278201012791186], [142, 36.96381775807463, 0.02398799144144448], [251, 37.419234910953335, 0.4794051443201468], [6, 37.751616386679, 0.8117866200458081], [140, 37.98687639746204, 1.0470466308288522], [150, 38.51032848900539, 1.5704987223722], [109, 38.869312480018785, 1.929482713385596], [166, 39.812124473757, 2.872294707123814]]\n",
            "[[92, 32.73044254814937, 4.209387218483819], [194, 33.91808478738026, 3.0217449792529294], [58, 34.75953810209754, 2.180291664535652], [130, 35.42341301473123, 1.5164167519019571], [269, 35.887762472780736, 1.0520672938524527], [180, 36.22768265017384, 0.7121471164593487], [26, 36.52448010369468, 0.4153496629385103], [12, 36.73747425575664, 0.20235551087655068], [28, 37.02390224710956, 0.08407248047637239], [248, 37.480016403622315, 0.5401866369891266], [90, 37.81609777925483, 0.8762680126216438], [60, 38.012941497573635, 1.0731117309404468], [3, 38.53382386643878, 1.5939940998055917], [107, 38.97851962479279, 2.0386898581596], [204, 39.87841113377751, 2.938581367144323]]\n",
            "[[138, 32.84260011036484, 4.097229656268347], [125, 34.09329920082332, 2.8465305658098714], [261, 34.79783857012693, 2.141991196506261], [93, 35.52399568858373, 1.415834078049457], [152, 35.88836087491416, 1.0514688917190256], [168, 36.25292936188458, 0.6869004047486058], [59, 36.52514282740985, 0.414686939223337], [200, 36.74095715263971, 0.19887261399347977], [177, 37.04222698113769, 0.10239721450449935], [280, 37.57579696616163, 0.6359671995284444], [101, 37.83224827963817, 0.8924185130049835], [52, 38.03904500254394, 1.099215235910755], [182, 38.59898951183664, 1.6591597452034534], [34, 39.02024884641076, 2.0804190797775703], [201, 40.01186897530228, 3.0720392086690893]]\n",
            "[[196, 32.84719459360177, 4.092635173031418], [263, 34.48836464188122, 2.4514651247519694], [262, 35.014879029833196, 1.9249507367999925], [43, 35.62488803917666, 1.314941727456528], [114, 35.94017709417984, 0.999652672453351], [77, 36.27644501793113, 0.6633847487020574], [57, 36.57675033213036, 0.3630794345028292], [245, 36.77475927368301, 0.1650704929501785], [146, 37.04960569818911, 0.10977593155592302], [253, 37.58744353798306, 0.6476137713498744], [13, 37.863743329528056, 0.9239135628948674], [42, 38.08198521482329, 1.1421554481901026], [98, 38.621898478096824, 1.6820687114636357], [230, 39.32492622802024, 2.3850964613870502], [67, 40.32382210353951, 3.3839923369063243]]\n",
            "[[87, 33.33262982270489, 3.6071999439283005], [208, 34.55907894631665, 2.3807508203165355], [25, 35.047088123806596, 1.8927416428265929], [226, 35.68086447691266, 1.2589652897205283], [290, 35.9524989869049, 0.9873307797282891], [105, 36.290549400117975, 0.6492803665152138], [131, 36.59591667393467, 0.34391309269852144], [153, 36.78716082991083, 0.15266893672235682], [14, 37.07490363127326, 0.13507386464006998], [260, 37.66196470045435, 0.7221349338211596], [111, 37.8638937599586, 0.9240639933254116], [132, 38.08293020477294, 1.1431004381397543], [225, 38.6576090593516, 1.7177792927184115], [116, 39.339639862986054, 2.3998100963528657], [94, 40.382777164375376, 3.442947397742188]]\n",
            "[[91, 33.557184630623425, 3.3826451360097636], [75, 34.635921692673385, 2.3039080739598035], [120, 35.081504698998536, 1.8583250676346523], [30, 35.68859295861885, 1.2512368080143403], [47, 36.03304247086657, 0.9067872957666196], [183, 36.33093818075089, 0.6088915858822972], [286, 36.605813789501, 0.33401597713218933], [80, 36.81044044697505, 0.12938931965813794], [277, 37.10593280645849, 0.16610303982530183], [23, 37.697631864304405, 0.7578020976712168], [298, 37.868191403874036, 0.9283616372408474], [22, 38.19437019584952, 1.254540429216334], [139, 38.66372345062165, 1.7238936839884644], [232, 39.47568727218984, 2.535857505556649], [37, 40.55601885558774, 3.616189088954549]]\n",
            "[[242, 33.57543573333899, 3.3643940332941966], [119, 34.65312666327958, 2.2867031033536094], [63, 35.22533401763703, 1.714495748996157], [117, 35.79654766376566, 1.1432821028675306], [143, 36.100449567928884, 0.8393801987043048], [35, 36.34367695045041, 0.59615281618278], [191, 36.66187854693641, 0.2779512196967815], [24, 36.8518629756455, 0.08796679098768578], [8, 37.16032239908338, 0.22049263245018835], [279, 37.70480522513634, 0.7649754585031516], [228, 37.89878673803475, 0.9589569714015624], [266, 38.20510276726131, 1.2652730006281203], [278, 38.7421037533198, 1.8022739866866146], [247, 39.509452005133696, 2.569622238500507], [51, 40.61633113340478, 3.676501366771589]]\n",
            "[[89, 33.62823059020341, 3.3115991764297803], [73, 34.70008564642495, 2.239744120208236], [205, 35.24958796598812, 1.6902418006450688], [113, 35.82302823852937, 1.1168015281038208], [297, 36.114069995937, 0.8257597706961874], [296, 36.36122500124465, 0.5786047653885404], [11, 36.66693146869955, 0.2728982979336365], [135, 36.91477465324418, 0.025055113389008454], [175, 37.184878722886104, 0.24504895625291567], [190, 37.723007378101876, 0.7831776114686875], [16, 37.908541942921126, 0.9687121762879372], [0, 38.223054868916115, 1.2832251022829269], [231, 38.76603528933902, 1.826205522705834], [36, 39.629652568093434, 2.689822801460245], [149, 40.73215254835323, 3.7923227817200384]]\n",
            "[[5, 33.66865080217619, 3.2711789644570004], [7, 34.71270129846125, 2.2271284681719408], [144, 35.31943101687326, 1.6203987497599286], [207, 35.82344816178697, 1.116381604846218], [223, 36.13365848433584, 0.806171282297349], [178, 36.45605177300373, 0.4837779936294595], [295, 36.73128772803911, 0.20854203859407505], [264, 36.94715226724939, 0.0073225006162047634], [70, 37.283513004483325, 0.34368323785013644], [294, 37.734958850581805, 0.7951290839486163], [202, 37.91287653448843, 0.9730467678552444], [235, 38.39747970526316, 1.4576499386299702], [255, 38.822910271080175, 1.883080504446987], [170, 39.70919360552618, 2.7693638388929926], [163, 40.96760930121008, 4.027779534576894]]\n",
            "[36.59548367652943, 36.66217269915558, 36.719036556651886, 36.82645884083982, 36.88730037625209, 36.953666314526224, 37.0030144093571, 37.04168379192548, 37.108061520303934]\n"
          ],
          "name": "stdout"
        },
        {
          "output_type": "display_data",
          "data": {
            "image/png": "[encoded data removed]",
            "text/plain": [
              "<Figure size 576x396 with 1 Axes>"
            ]
          },
          "metadata": {
            "tags": []
          }
        }
      ]
    },
    {
      "metadata": {
        "colab_type": "text",
        "id": "eGDB4K6uk1iN"
      },
      "cell_type": "markdown",
      "source": [
        "(*)Calcula la complejidad del algoritmo "
      ]
    },
    {
      "metadata": {
        "colab_type": "text",
        "id": "NhpTh_BPk1ms"
      },
      "cell_type": "markdown",
      "source": [
        "Respuesta"
      ]
    },
    {
      "metadata": {
        "colab_type": "code",
        "id": "nREzhkStlCq8",
        "colab": {}
      },
      "cell_type": "code",
      "source": [
        ""
      ],
      "execution_count": 0,
      "outputs": []
    },
    {
      "metadata": {
        "colab_type": "text",
        "id": "3M6QjTsSkmYe"
      },
      "cell_type": "markdown",
      "source": [
        "Según el problema (y tenga sentido), diseña un juego de datos de entrada aleatorios"
      ]
    },
    {
      "metadata": {
        "colab_type": "text",
        "id": "Jc3_OlyNkvjZ"
      },
      "cell_type": "markdown",
      "source": [
        "Respuesta"
      ]
    },
    {
      "metadata": {
        "colab_type": "code",
        "id": "sJ-N2etjkyWc",
        "colab": {}
      },
      "cell_type": "code",
      "source": [
        "import pandas as pd\n",
        "import random\n",
        "\n",
        "# Inicialización de variables globales\n",
        "nAnimals = 3000\n",
        "nTreats = 3\n",
        "nGroups = 3\n",
        "\n",
        "# Creación de un dataset de muestra\n",
        "MUESTRA = pd.DataFrame()\n",
        "MUESTRA[\"Id\"] = [i for i in range(nAnimals)]\n",
        "MUESTRA[\"Peso\"] = [random.gauss(37, 2.1) for i in range(nAnimals)]\n",
        "MUESTRA[\"Sexo\"] = [random.getrandbits(1) for i in range(nAnimals)]"
      ],
      "execution_count": 0,
      "outputs": []
    },
    {
      "metadata": {
        "colab_type": "text",
        "id": "zy5ZROmjlGo1"
      },
      "cell_type": "markdown",
      "source": [
        "Aplica el algoritmo al juego de datos generado"
      ]
    },
    {
      "metadata": {
        "colab_type": "text",
        "id": "_Cmj-PVylMsa"
      },
      "cell_type": "markdown",
      "source": [
        "Respuesta"
      ]
    },
    {
      "metadata": {
        "colab_type": "code",
        "id": "Jkx8GeiYlUz1",
        "colab": {}
      },
      "cell_type": "code",
      "source": [
        ""
      ],
      "execution_count": 0,
      "outputs": []
    },
    {
      "metadata": {
        "colab_type": "text",
        "id": "eTFWUJQrtGcv"
      },
      "cell_type": "markdown",
      "source": [
        "Enumera las referencias que has utilizado(si ha sido necesario) para llevar a cabo el trabajo"
      ]
    },
    {
      "metadata": {
        "colab_type": "text",
        "id": "YKQ_mRBttWsP"
      },
      "cell_type": "markdown",
      "source": [
        "Respuesta"
      ]
    },
    {
      "metadata": {
        "colab_type": "text",
        "id": "kAkDPUyRtYyH"
      },
      "cell_type": "markdown",
      "source": [
        "Describe brevemente las lineas de como crees que es posible avanzar en el estudio del problema. Ten en cuenta incluso posibles variaciones del problema y/o variaciones al alza del tamaño"
      ]
    },
    {
      "metadata": {
        "colab_type": "text",
        "id": "IE0uZmo-tZu-"
      },
      "cell_type": "markdown",
      "source": [
        "Respuesta"
      ]
    }
  ]
}