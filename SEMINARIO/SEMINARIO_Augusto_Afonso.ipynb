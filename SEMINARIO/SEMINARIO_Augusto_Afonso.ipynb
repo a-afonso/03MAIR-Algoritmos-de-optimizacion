{
  "nbformat": 4,
  "nbformat_minor": 0,
  "metadata": {
    "colab": {
      "name": "SEMINARIO_Augusto_Afonso.ipynb",
      "version": "0.3.2",
      "provenance": [],
      "collapsed_sections": [],
      "include_colab_link": true
    },
    "kernelspec": {
      "display_name": "Python 3",
      "language": "python",
      "name": "python3"
    }
  },
  "cells": [
    {
      "cell_type": "markdown",
      "metadata": {
        "id": "view-in-github",
        "colab_type": "text"
      },
      "source": [
        "<a href=\"https://colab.research.google.com/github/a-afonso/03MAIR-Algoritmos-de-optimizacion/blob/master/SEMINARIO/SEMINARIO_Augusto_Afonso.ipynb\" target=\"_parent\"><img src=\"https://colab.research.google.com/assets/colab-badge.svg\" alt=\"Open In Colab\"/></a>"
      ]
    },
    {
      "metadata": {
        "colab_type": "text",
        "id": "hVbXYX-RfPWh"
      },
      "cell_type": "markdown",
      "source": [
        "# Algoritmos de optimización - Seminario<br>\n",
        "<b>Nombre y Apellidos: </b>Augusto Afonso Losada <br>\n",
        "<b>Url: </b>https://github.com/a-afonso/03MAIR-Algoritmos-de-optimizacion/tree/master/SEMINARIO<br>\n",
        "  <b>Problema:</b>\n",
        "> 1. Elección de grupos de población homogéneos <br>\n",
        "\n",
        "<b>Descripción del problema: </b>Una productora ganadera nos encarga la tarea de seleccionar grupos de terneros para aplicar 3 tratamientos diferentes. Para cada uno de los tratamientos debemos seleccionar 3 grupos de terneros que sean lo mas homogéneos posible en peso para que en los resultados del tratamiento influya lo menos posible el peso del animal. Disponemos de una población de N animales entre machos y hembras.<br>\n",
        "<br>\n",
        "Se solicita diseñar un algoritmo para conseguir una agrupación que cumpla de la mejor manera posible las especificaciones de la productora.<br>\n",
        "<br>\n",
        "\n",
        "(*) La respuesta es obligatoria\n",
        "\n",
        "\n",
        "\n",
        "\n",
        "\n",
        "                                        "
      ]
    },
    {
      "metadata": {
        "colab_type": "code",
        "id": "zu9aZ8S-grjy",
        "colab": {}
      },
      "cell_type": "code",
      "source": [
        ""
      ],
      "execution_count": 0,
      "outputs": []
    },
    {
      "metadata": {
        "colab_type": "text",
        "id": "3_-exlrTgLd-"
      },
      "cell_type": "markdown",
      "source": [
        "(*)¿Cuantas posibilidades hay sin tener en cuenta las restricciones?\n",
        "\n",
        "¿Cuantas posibilidades hay teniendo en cuenta todas las restricciones?\n",
        "\n",
        "\n",
        "\n"
      ]
    },
    {
      "metadata": {
        "colab_type": "text",
        "id": "WfCUqJyKhPcw"
      },
      "cell_type": "markdown",
      "source": [
        "**Respuesta**<br>\n",
        "\n",
        "Para calcular las posibilidades sin restricciones, debemos suponer que son N animales, independientemente del sexo. La solución se obtendría realizando todas las combinaciones posibles, evaluando cada una de ellas y quedándonos con la mejor.<br>\n",
        "\n",
        "En estas circunstancias, serían 3 tratamientos x 3 grupos = 9 grupos efectivos por lo cual, lo que tenemos, son combinaciones de N elementos tomados de 9 en 9 y sin repetición, es decir:<br>\n",
        "\n",
        "*   N! / (9! (N-9)!)\n",
        "\n",
        "<br>\n",
        "En el caso con restricciones, aunque podría parecer que la solución puede ser única (la que proponga la combinación más homogénea), en realidad no es posible determinar con exactitud el número de posibles soluciones, ya que por ejemplo, puede haber animales del mismo sexo con el mismo peso, en cuyo caso podrían caer en cualquiera de los grupos efectivos del propio sexo indistintamente.<br>\n",
        "\n",
        "La peor de las situaciones, sería aquella en la que todos los animales tienen el mismo peso y el sexo está divido exactamente al 50%, porque cualquier combinación en cada sexo sería posible, con lo cual las posibilidades vendrían a ser:<br>\n",
        "\n",
        "*   (N/2)! / (9! ((N/2)-9)!)\n",
        "\n",
        "Paradójicamente, en este último caso cualquier combinación sería la solución óptima, ya que cumpliría con el criterio solicitado.<br>"
      ]
    },
    {
      "metadata": {
        "colab_type": "code",
        "id": "iq6Fe32MgpDX",
        "colab": {}
      },
      "cell_type": "code",
      "source": [
        ""
      ],
      "execution_count": 0,
      "outputs": []
    },
    {
      "metadata": {
        "colab_type": "text",
        "id": "dzynfVJahHoY"
      },
      "cell_type": "markdown",
      "source": [
        "Modelo para el espacio de soluciones<br>\n",
        "(*) ¿Cual es la estructura de datos que mejor se adapta al problema? Arguméntalo.(Es posible que hayas elegido una al principio y veas la necesidad de cambiar, arguméntalo).\n"
      ]
    },
    {
      "metadata": {
        "colab_type": "text",
        "id": "xFIJrOwKi2Ti"
      },
      "cell_type": "markdown",
      "source": [
        "**Respuesta**\n",
        "\n",
        "Podemos utilizar un dataset para contener la estructura de datos de entrada. El dataset contendría N filas y tres columnas. Las columnas serían: el identificador del animal, el peso y el sexo (\"Id\", \"Peso\" y \"Sexo\").<br>\n",
        "\n",
        "La estructura de datos devuelta sería una lista de 2 elementos, una por cada sexo. Cada uno de estos elementos sería a su vez una lista de 9 elementos, tantos como grupos efectivos de cada sexo. A su vez, cada uno de estos elementos sería una lista cuyos elementos serían las \"fichas\" (Id, Peso, etc.) de los animales de cada uno de los grupos efectivos."
      ]
    },
    {
      "metadata": {
        "colab_type": "code",
        "id": "38c-7-ejhJmA",
        "colab": {}
      },
      "cell_type": "code",
      "source": [
        ""
      ],
      "execution_count": 0,
      "outputs": []
    },
    {
      "metadata": {
        "colab_type": "text",
        "id": "7Z9U2W7bi-XS"
      },
      "cell_type": "markdown",
      "source": [
        "Según el modelo para el espacio de soluciones<br>\n",
        "(*)¿Cual es la función objetivo?\n",
        "\n",
        "(*)¿Es un problema de maximización o minimización?"
      ]
    },
    {
      "metadata": {
        "colab_type": "text",
        "id": "hBalWLM7j1_d"
      },
      "cell_type": "markdown",
      "source": [
        "**Respuesta**\n",
        "\n",
        "Para responder a estas preguntas, habría que definir el concepto de *\"Homogeneidad de un Grupo Efectivo de animales\"*.<br>\n",
        "\n",
        "*   Homogeneidad de un Grupo Efectivo de animales (HGE): Peso medio de los animales que componen un grupo efectivo de animales. Donde un grupo efectivo de animales (GE) equivale al conjunto de animales en cada uno de los conjuntos formados por el cómputo de 3 tratamientos x 3 grupos. Es decir hay 9 grupos efectivos (por cada sexo) con sus animales.\n",
        "\n",
        "Para un determinado GE, habría que calcular su HGE, comparándola con lo desviada que está respecto al peso medio de toda la muestra. La combinación óptima será aquella en la que dicha desviación de todos los GE con respecto al peso medio, es mínima.<br>\n",
        "\n",
        "Por lo tanto es un problema de minimización. \n",
        "\n"
      ]
    },
    {
      "metadata": {
        "colab_type": "code",
        "id": "pDA-rg3Gj5Lz",
        "colab": {}
      },
      "cell_type": "code",
      "source": [
        ""
      ],
      "execution_count": 0,
      "outputs": []
    },
    {
      "metadata": {
        "colab_type": "text",
        "id": "rlnTYgY1j6I2"
      },
      "cell_type": "markdown",
      "source": [
        "Diseña un algoritmo para resolver el problema por fuerza bruta"
      ]
    },
    {
      "metadata": {
        "colab_type": "text",
        "id": "70rDgxYXkC8r"
      },
      "cell_type": "markdown",
      "source": [
        "Respuesta"
      ]
    },
    {
      "metadata": {
        "colab_type": "code",
        "id": "CJb5sQ0qkENy",
        "outputId": "fd94d986-87ca-4442-ddfe-57c113a1df8d",
        "colab": {
          "base_uri": "https://localhost:8080/",
          "height": 71
        }
      },
      "cell_type": "code",
      "source": [
        "import numpy as np\n",
        "import pandas as pd\n",
        "import random\n",
        "import math\n",
        "import sys\n",
        "import matplotlib.pyplot as plt\n",
        "from itertools import permutations\n",
        "\n",
        "# Inicialización de variables globales\n",
        "#   - Escogemos solo una población de 18 animales y 3 grupos por sexo (1x3) \n",
        "#     para las pruebas porque la explosión combinatoria hace que el tiempo\n",
        "#     de ejecución sea excesivo a partir de estos valores\n",
        "#   - Incluso en este caso, si el número de animales queda dividido por sexo\n",
        "#     al 50% (9+9), el tiempo se hace inviable\n",
        "nIndividuals = 18\n",
        "nTreats = 1 \n",
        "nGroups = 3\n",
        "infinito = sys.maxsize\n",
        "\n",
        "# Creación de un dataset de muestra\n",
        "MUESTRA = pd.DataFrame()\n",
        "MUESTRA[\"Id\"] = [i for i in range(nIndividuals)]\n",
        "MUESTRA[\"Peso\"] = [random.gauss(37, 2.1) for i in range(nIndividuals)]\n",
        "MUESTRA[\"Sexo\"] = [random.getrandbits(1) for i in range(nIndividuals)]\n",
        "\n",
        "# Función que resuelve el problema 1 del seminario\n",
        "def do_problem1(MUESTRA, nTreats, nGroups):\n",
        "  \n",
        "  # Calcula el número total de animales de la muestra\n",
        "  nAnimals = len(MUESTRA)\n",
        "\n",
        "  \n",
        "  # Dividimos el dataset de la muestra en dos listas, una para cada sexo\n",
        "  MALE = []\n",
        "  FEMALE = []\n",
        "\n",
        "  for index, row in MUESTRA.iterrows():\n",
        "    if row[\"Sexo\"] == 0:\n",
        "      MALE.append([int(row[\"Id\"]), row[\"Peso\"], 0])\n",
        "    else:\n",
        "      FEMALE.append([int(row[\"Id\"]), row[\"Peso\"], 0])\n",
        "\n",
        "      \n",
        "  # Calcula el número máximo de animales por grupo\n",
        "  nMale = len(MALE)\n",
        "  nFemale = len(FEMALE)\n",
        "\n",
        "  nAnimalsGroup = min(nMale, nFemale) // (nTreats * nGroups)\n",
        "\n",
        "  \n",
        "  # Función local que calcula la homogeneidad de los pesos de una \n",
        "  # permutación\n",
        "  def get_homogeneidad(PERMUTACION, PESOS, p_medio, nTotalGroups, nAnimalsGroup):\n",
        "    TEMP_1 = []\n",
        "    ix = 0\n",
        "    suma = 0\n",
        "    for g in range(nTotalGroups):\n",
        "      TEMP_2 = []\n",
        "      TEMP_3 = []\n",
        "      for i in range(ix, ix+nAnimalsGroup):\n",
        "        TEMP_2.append(PESOS[i])\n",
        "        TEMP_3.append(PERMUTACION[i])\n",
        "      TEMP_1.append(TEMP_3)\n",
        "      ix = ix + nAnimalsGroup\n",
        "\n",
        "      media = np.mean(TEMP_2)\n",
        "      suma = suma + abs(p_medio - media)\n",
        "\n",
        "    return(suma / nTotalGroups, TEMP_1)\n",
        "\n",
        "  \n",
        "  # Función local para crear agrupaciones de cualquier sexo\n",
        "  def group_animals(MSEXO, nTreats, nGroups, nAnimalsGroup):\n",
        "\n",
        "    # Calcula el peso medio\n",
        "    p_medio = np.mean(MSEXO, axis=0)[1]\n",
        "    \n",
        "    # Calcula el número total de grupos\n",
        "    nTotalGroups = nTreats * nGroups\n",
        "\n",
        "    # Calcula el número de animales de la lista\n",
        "    nAnimalsSex = nTotalGroups * nAnimalsGroup\n",
        "\n",
        "    # Ordenamos la muestra por diferencias con respecto a la media\n",
        "    # para excluir los más distantes en peso (de la media)\n",
        "    for a in MSEXO:\n",
        "      a[2] = abs(p_medio - a[1])\n",
        "    MSEXO = sorted(MSEXO, key=lambda x: x[2])\n",
        "    MSEXO = MSEXO[0:nAnimalsSex]\n",
        "\n",
        "    # Calcula el nuevo peso medio\n",
        "    p_medio = np.mean(MSEXO, axis=0)[1]\n",
        "\n",
        "    # Calcula las permutaciones de animales y crea una lista equivalente\n",
        "    # a ellas con sus pesos correspondientes\n",
        "    PERMUTACIONES = list(permutations([MSEXO[i][0] for i in range(0, len(MSEXO))]))\n",
        "\n",
        "    PESOS = []\n",
        "    for PERM in PERMUTACIONES:\n",
        "      P = []\n",
        "      for p in PERM:\n",
        "        P.append(MUESTRA.loc[MUESTRA[\"Id\"] == p, \"Peso\"].iloc[0])\n",
        "      PESOS.append(P)\n",
        "\n",
        "    # Calcula la permutación más homogénea\n",
        "    best_permutacion = []\n",
        "    best_homogeneidad = infinito\n",
        "    for ix in range(len(PERMUTACIONES)):\n",
        "      h, g = get_homogeneidad(PERMUTACIONES[ix], PESOS[ix], p_medio, nTotalGroups, nAnimalsGroup)\n",
        "      if h < best_homogeneidad:\n",
        "        best_permutacion = g\n",
        "        best_homogeneidad = h\n",
        "\n",
        "    return best_permutacion, best_homogeneidad\n",
        "  \n",
        "  # Consigue las agrupaciones de animales macho más homogéneas\n",
        "  RMALE, hM = group_animals(MALE, nTreats, nGroups, nAnimalsGroup)\n",
        "\n",
        "  # Consigue las agrupaciones de animales hembra más homogéneas\n",
        "  RFEMALE, hF = group_animals(FEMALE, nTreats, nGroups, nAnimalsGroup)\n",
        "  \n",
        "  return RMALE, RFEMALE\n",
        "\n",
        "\n",
        "# Calcula e imprime los grupos para una muestra dada\n",
        "agrupaciones = do_problem1(MUESTRA, nTreats, nGroups)\n",
        "\n",
        "print('Grupos de sexo Macho: ', agrupaciones[0])\n",
        "print()\n",
        "print('Grupos de sexo Hembra: ', agrupaciones[1])\n"
      ],
      "execution_count": 24,
      "outputs": [
        {
          "output_type": "stream",
          "text": [
            "Grupos de sexo Macho:  [[17, 10], [12, 7], [14, 4]]\n",
            "\n",
            "Grupos de sexo Hembra:  [[5, 1], [15, 0], [13, 9]]\n"
          ],
          "name": "stdout"
        }
      ]
    },
    {
      "metadata": {
        "colab_type": "text",
        "id": "tgrnsC2nkFa8"
      },
      "cell_type": "markdown",
      "source": [
        "Calcula la complejidad del algoritmo por fuerza bruta"
      ]
    },
    {
      "metadata": {
        "colab_type": "text",
        "id": "9eUd3xwckP68"
      },
      "cell_type": "markdown",
      "source": [
        "**Respuesta**\n",
        "\n",
        "Debido al hecho de que en el algoritmo por fuerza bruta, necesariamente evaluaremos todas las permutaciones, el coste será O(n!), es decir, de complejidad factorial."
      ]
    },
    {
      "metadata": {
        "colab_type": "code",
        "id": "rvZWwL-ckRST",
        "colab": {}
      },
      "cell_type": "code",
      "source": [
        ""
      ],
      "execution_count": 0,
      "outputs": []
    },
    {
      "metadata": {
        "colab_type": "text",
        "id": "txbrmLmskReM"
      },
      "cell_type": "markdown",
      "source": [
        "(*)Diseña un algoritmo que mejore la complejidad del algortimo por fuerza bruta. Argumenta porque crees que mejora el algoritmo por fuerza bruta"
      ]
    },
    {
      "metadata": {
        "colab_type": "text",
        "id": "hLrVwt5QkZPD"
      },
      "cell_type": "markdown",
      "source": [
        "**Respuesta**\n",
        "\n",
        "El siguiente algoritmo, en mi opinión, mejora el de fuerza bruta por las razones siguientes:\n",
        "\n",
        "No se construye un conjunto con todas las permutaciones posibles. Si nos fijamos un poco, una simple ordenación de la muestra por peso de menor a mayor, hace que los pesos estén muy próximos entre sí. Si, una vez ordenada la muestra por pesos, agrupamos los individuos, escogiendo uno por cada X, obtenemos una media por grupo muy homogénea.\n",
        "\n",
        "Esto puede verse más abajo, en el gráfico mostrado a continuación del código del algoritmo siguiente."
      ]
    },
    {
      "metadata": {
        "colab_type": "code",
        "id": "m1eyM21Vkabg",
        "colab": {}
      },
      "cell_type": "code",
      "source": [
        "import numpy as np\n",
        "import pandas as pd\n",
        "import random\n",
        "import math\n",
        "import matplotlib.pyplot as plt\n",
        "from itertools import permutations\n",
        "import matplotlib.pyplot as plt\n",
        "\n",
        "\n",
        "# Función que imprime un gráfico con varias series\n",
        "def print_graph(SERIES, TSERIES, TEJES, COLORES):\n",
        "  fig, axes = plt.subplots(1, 1)\n",
        "  \n",
        "  for i in range(len(SERIES)):\n",
        "    axes.plot(np.arange(len(SERIES[i])), SERIES[i], COLORES[i])\n",
        "    \n",
        "  plt.legend(TSERIES, loc='best') \n",
        "  axes.set_xlabel(TEJES[0])\n",
        "  axes.set_ylabel(TEJES[1])\n",
        "  \n",
        "  plt.show()\n",
        "  \n",
        "\n",
        "# Inicialización de variables globales\n",
        "nIndividuals = 500\n",
        "nTreats = 3 \n",
        "nGroups = 3\n",
        "\n",
        "\n",
        "# Creación de un dataset de muestra\n",
        "MUESTRA = pd.DataFrame()\n",
        "#random.seed(30000)\n",
        "MUESTRA[\"Id\"] = [i for i in range(nIndividuals)]\n",
        "MUESTRA[\"Peso\"] = [random.gauss(37, 2.1) for i in range(nIndividuals)]\n",
        "MUESTRA[\"Sexo\"] = [random.getrandbits(1) for i in range(nIndividuals)]\n",
        "\n",
        "\n",
        "# Función mejorada que resuelve el problema 1 del seminario\n",
        "def do_problem1(MUESTRA, nTreats, nGroups, options):\n",
        "  \n",
        "  # Calcula el número total de animales de la muestra\n",
        "  nAnimals = len(MUESTRA)\n",
        "\n",
        "  \n",
        "  # Dividimos el dataset de la muestra en dos listas, una para cada sexo\n",
        "  MALE = []\n",
        "  FEMALE = []\n",
        "\n",
        "  for index, row in MUESTRA.iterrows():\n",
        "    if row[\"Sexo\"] == 0:\n",
        "      MALE.append([int(row[\"Id\"]), row[\"Peso\"], 0])\n",
        "    else:\n",
        "      FEMALE.append([int(row[\"Id\"]), row[\"Peso\"], 0])\n",
        "\n",
        "      \n",
        "  # Calcula el número máximo de animales por grupo\n",
        "  nMale = len(MALE)\n",
        "  nFemale = len(FEMALE)\n",
        "\n",
        "  nAnimalsGroup = min(nMale, nFemale) // (nTreats * nGroups)\n",
        "\n",
        "  \n",
        "  # Función local para crear agrupaciones de cualquier sexo\n",
        "  def group_animals(MSEXO, nTreats, nGroups, nAnimalsGroup, options):\n",
        "\n",
        "    # Calcula el peso medio\n",
        "    p_medio = np.mean(MSEXO, axis=0)[1]\n",
        "    \n",
        "    # Calcula el número total de grupos\n",
        "    nTotalGroups = nTreats * nGroups\n",
        "\n",
        "    # Calcula el número de animales de la lista\n",
        "    nAnimalsSex = nTotalGroups * nAnimalsGroup\n",
        "\n",
        "    # Ordenamos la muestra por diferencias con respecto a la media\n",
        "    # para excluir los más distantes en peso (de la media)\n",
        "    if options == \"Ordenada\":\n",
        "      for a in MSEXO:\n",
        "        a[2] = abs(p_medio - a[1])\n",
        "      MSEXO = sorted(MSEXO, key=lambda x: x[2])\n",
        "      MSEXO = MSEXO[0:nAnimalsSex]\n",
        "\n",
        "      # Reordenamos la muestra por pesos\n",
        "      MSEXO = sorted(MSEXO, key=lambda x: x[1])\n",
        "\n",
        "      # Crea los grupos más homogéneos posible, escogiendo un individuo por cada\n",
        "      # nTotalGroups, de forma que en cada grupo entren individuos significativos \n",
        "      # de cada zona de la lista ya ordenada por pesos\n",
        "      TEMP_1 = []\n",
        "      for i in range(nTotalGroups):\n",
        "        TEMP_2 = []\n",
        "\n",
        "        for j in range(i, nAnimalsSex, nTotalGroups):\n",
        "          TEMP_2.append([MSEXO[j][0], MSEXO[j][1]])\n",
        "\n",
        "        TEMP_1.append(TEMP_2)\n",
        "    # Si se solicita la agrupación sin ordenación, devuelve los grupos tal y\n",
        "    # como están etiquetados los animales (esta opción solo es útil para\n",
        "    # comprobar gráficamente la diferencia entre los modos de ordenación \n",
        "    # y sin ella)\n",
        "    else:\n",
        "      MSEXO = MSEXO[0:nAnimalsSex]\n",
        "      \n",
        "      TEMP_1 = []\n",
        "      TEMP_2 = []\n",
        "      i = 0\n",
        "      while i < nAnimalsSex:\n",
        "        if i % nAnimalsGroup == 0:\n",
        "          TEMP_2 = []\n",
        "          \n",
        "        TEMP_2.append([MSEXO[i][0], MSEXO[i][1]])\n",
        "          \n",
        "        if i % nAnimalsGroup == 0:\n",
        "          TEMP_1.append(TEMP_2)\n",
        "          \n",
        "        i = i + 1;\n",
        "        \n",
        "    return TEMP_1\n",
        "  \n",
        "  # Consigue las agrupaciones de animales macho más homogéneas\n",
        "  RMALE = group_animals(MALE, nTreats, nGroups, nAnimalsGroup, options)\n",
        "  \n",
        "  # Consigue las agrupaciones de animales hembra más homogéneas\n",
        "  RFEMALE = group_animals(FEMALE, nTreats, nGroups, nAnimalsGroup, options)\n",
        "  \n",
        "  return RMALE, RFEMALE\n",
        "\n",
        "\n",
        "\n"
      ],
      "execution_count": 0,
      "outputs": []
    },
    {
      "metadata": {
        "id": "8f93uaFqbdxb",
        "colab_type": "text"
      },
      "cell_type": "markdown",
      "source": [
        "Tal y como se indica en el párrafo anterior, en el gráfico generado por el siguiente código, se muestra un ejemplo de como se comportaría el mismo algoritmo (con y sin ordenación) con la misma muestra."
      ]
    },
    {
      "metadata": {
        "id": "RhFlsCbQbHna",
        "colab_type": "code",
        "colab": {
          "base_uri": "https://localhost:8080/",
          "height": 383
        },
        "outputId": "2b753fac-080d-4d06-d92e-613b33abb191"
      },
      "cell_type": "code",
      "source": [
        "# Calcula e imprime los grupos para una muestra dada\n",
        "agrupaciones = do_problem1(MUESTRA, nTreats, nGroups, 'Ordenada')\n",
        "\n",
        "#print('Grupos de sexo Macho: ')\n",
        "LPM = []\n",
        "for i in agrupaciones[0]:\n",
        "  p_medio = np.mean(i, axis=0)[1]\n",
        "  LPM.append(p_medio)\n",
        "  #print(i)\n",
        "#print(LPM)\n",
        "#print()\n",
        "\n",
        "#print('Grupos de sexo Hembra: ')\n",
        "LPF = []\n",
        "for i in agrupaciones[1]:\n",
        "  p_medio = np.mean(i, axis=0)[1]\n",
        "  LPF.append(p_medio)\n",
        "  #print(i)\n",
        "#print(LPF)\n",
        "#print()\n",
        "\n",
        "\n",
        "# Calcula e imprime los grupos sin ordenar\n",
        "agrupaciones = do_problem1(MUESTRA, nTreats, nGroups, '')\n",
        "\n",
        "#print('Grupos de sexo Macho: ')\n",
        "LPMU = []\n",
        "for i in agrupaciones[0]:\n",
        "  p_medio = np.mean(i, axis=0)[1]\n",
        "  LPMU.append(p_medio)\n",
        "  #print(i)\n",
        "#print(LPMU)\n",
        "#print()\n",
        "\n",
        "#print('Grupos de sexo Hembra: ')\n",
        "LPFU = []\n",
        "for i in agrupaciones[1]:\n",
        "  p_medio = np.mean(i, axis=0)[1]\n",
        "  LPFU.append(p_medio)\n",
        "  #print(i)\n",
        "#print(LPFU)\n",
        "#print()\n",
        "\n",
        "\n",
        "# Imprime un gráfico comparativo\n",
        "print('Comparativa entre grupos con pesos previamente ordenados y no ordenados:')\n",
        "\n",
        "SERIES = []\n",
        "SERIES.append(LPM)\n",
        "SERIES.append(LPF)\n",
        "SERIES.append(LPMU)\n",
        "SERIES.append(LPFU)\n",
        "m = (np.mean(LPM) + np.mean(LPF)) / 2\n",
        "SERIES.append([m for _ in range(nTreats * nGroups)])\n",
        "\n",
        "TITULOS = ['Machos (O)', 'Hembras (O)', 'Machos', 'Hembras', 'Peso Medio']\n",
        "\n",
        "COLORES = ['orange', 'maroon', 'gray', 'silver', 'r--']\n",
        "              \n",
        "print_graph(SERIES, TITULOS, ['Grupos', 'Pesos'], COLORES)"
      ],
      "execution_count": 13,
      "outputs": [
        {
          "output_type": "stream",
          "text": [
            "Comparativa entre grupos con pesos previamente ordenados y no ordenados:\n"
          ],
          "name": "stdout"
        },
        {
          "output_type": "display_data",
          "data": {
            "image/png": "[encoded data removed]",
            "text/plain": [
              "<Figure size 576x396 with 1 Axes>"
            ]
          },
          "metadata": {
            "tags": []
          }
        }
      ]
    },
    {
      "metadata": {
        "colab_type": "text",
        "id": "eGDB4K6uk1iN"
      },
      "cell_type": "markdown",
      "source": [
        "(*)Calcula la complejidad del algoritmo "
      ]
    },
    {
      "metadata": {
        "colab_type": "text",
        "id": "NhpTh_BPk1ms"
      },
      "cell_type": "markdown",
      "source": [
        "Respuesta"
      ]
    },
    {
      "metadata": {
        "colab_type": "code",
        "id": "nREzhkStlCq8",
        "colab": {}
      },
      "cell_type": "code",
      "source": [
        ""
      ],
      "execution_count": 0,
      "outputs": []
    },
    {
      "metadata": {
        "colab_type": "text",
        "id": "3M6QjTsSkmYe"
      },
      "cell_type": "markdown",
      "source": [
        "Según el problema (y tenga sentido), diseña un juego de datos de entrada aleatorios"
      ]
    },
    {
      "metadata": {
        "colab_type": "text",
        "id": "Jc3_OlyNkvjZ"
      },
      "cell_type": "markdown",
      "source": [
        "Respuesta"
      ]
    },
    {
      "metadata": {
        "colab_type": "code",
        "id": "sJ-N2etjkyWc",
        "colab": {}
      },
      "cell_type": "code",
      "source": [
        "import pandas as pd\n",
        "import random\n",
        "\n",
        "# Inicialización de variables globales\n",
        "nAnimals = 500\n",
        "nTreats = 3\n",
        "nGroups = 3\n",
        "\n",
        "# Creación de un dataset de muestra\n",
        "MUESTRA = pd.DataFrame()\n",
        "MUESTRA[\"Id\"] = [i for i in range(nAnimals)]\n",
        "MUESTRA[\"Peso\"] = [random.gauss(37, 2.1) for i in range(nAnimals)]\n",
        "MUESTRA[\"Sexo\"] = [random.getrandbits(1) for i in range(nAnimals)]"
      ],
      "execution_count": 0,
      "outputs": []
    },
    {
      "metadata": {
        "colab_type": "text",
        "id": "zy5ZROmjlGo1"
      },
      "cell_type": "markdown",
      "source": [
        "Aplica el algoritmo al juego de datos generado"
      ]
    },
    {
      "metadata": {
        "colab_type": "text",
        "id": "_Cmj-PVylMsa"
      },
      "cell_type": "markdown",
      "source": [
        "Respuesta"
      ]
    },
    {
      "metadata": {
        "colab_type": "code",
        "id": "Jkx8GeiYlUz1",
        "colab": {
          "base_uri": "https://localhost:8080/",
          "height": 430
        },
        "outputId": "9e5d1fce-2f1d-47a5-e96c-b923f96da91b"
      },
      "cell_type": "code",
      "source": [
        "# Calcula e imprime los grupos para una muestra dada\n",
        "agrupaciones = do_problem1(MUESTRA, nTreats, nGroups, 'Ordenada')\n",
        "\n",
        "print('Grupos de sexo Macho: ')\n",
        "for i in agrupaciones[0]:\n",
        "  print(i)\n",
        "print()\n",
        "\n",
        "print('Grupos de sexo Hembra: ')\n",
        "for i in agrupaciones[1]:\n",
        "  print(i)\n",
        "print()\n"
      ],
      "execution_count": 11,
      "outputs": [
        {
          "output_type": "stream",
          "text": [
            "Grupos de sexo Macho: \n",
            "[[374, 32.2284755915933], [432, 33.29966371644251], [21, 33.863098207869925], [209, 34.374630164268446], [298, 34.764920161983135], [36, 34.967551061728955], [234, 35.32053183118945], [446, 35.52085383517957], [14, 35.68907994616887], [349, 35.94408629226281], [258, 36.224317444033765], [346, 36.507479433480974], [497, 36.68359318761508], [465, 36.932337069861894], [149, 37.15514694737465], [0, 37.459935106099365], [417, 37.69503459621205], [132, 37.98753059498852], [124, 38.19442114338691], [68, 38.41305234574264], [434, 38.52508394248981], [179, 38.78092673417155], [330, 39.06194174712086], [422, 39.302716704575104], [318, 39.99064390744196], [403, 40.5299584478755]]\n",
            "[[421, 32.35340996364226], [424, 33.48966250712299], [415, 33.921963644153294], [231, 34.43893918967454], [473, 34.808845932319315], [217, 35.109675116470974], [129, 35.354936149596696], [267, 35.549281947626376], [372, 35.691316029999356], [470, 35.95181646180977], [102, 36.24777490128745], [59, 36.54003821719171], [307, 36.68729821187464], [190, 36.979041530639044], [268, 37.170974469092585], [94, 37.53512206239027], [397, 37.75625700118046], [488, 38.02326266986106], [383, 38.208584132131136], [491, 38.433287081730974], [325, 38.53951568281455], [28, 38.78973642673199], [244, 39.08798034044858], [360, 39.36496064286474], [420, 40.068228446647524], [101, 40.5432353044352]]\n",
            "[[447, 32.35669358350496], [58, 33.56651233628498], [6, 33.993257736815494], [106, 34.5149491327194], [320, 34.833126464681676], [425, 35.113240996494675], [218, 35.37761520565654], [204, 35.592753263924045], [410, 35.7595963470284], [271, 35.95311975365066], [152, 36.25734108924376], [41, 36.544735585200996], [51, 36.69088808404586], [205, 36.98736596704584], [19, 37.23336247285318], [367, 37.54307952290494], [394, 37.76625593807828], [427, 38.12709498735608], [239, 38.21207830885222], [312, 38.447194211978136], [126, 38.5803699079436], [56, 38.83097676237398], [413, 39.13501828647989], [119, 39.387539730131074], [131, 40.13927680138099], [250, 40.62473173465944]]\n",
            "[[184, 32.70588337512328], [147, 33.64540335919514], [195, 34.14101231038344], [499, 34.55471305529439], [134, 34.85897795019223], [261, 35.14822614667204], [471, 35.38590696798023], [90, 35.619697780058225], [17, 35.76706305312086], [300, 36.07004534034145], [393, 36.274634497357134], [137, 36.55463196539758], [164, 36.727053936209614], [419, 36.99741841655622], [5, 37.295115860177646], [228, 37.54537556755464], [404, 37.79269849242147], [35, 38.14721421679537], [202, 38.243192282659294], [33, 38.452054326498455], [13, 38.59538878322109], [89, 38.86609362844637], [193, 39.13898595078338], [437, 39.637210032591014], [69, 40.235684851920674], [280, 40.66182431652446]]\n",
            "[[345, 32.76484960253184], [438, 33.7436962379828], [353, 34.22171013451744], [414, 34.558859123503794], [265, 34.86340025018925], [63, 35.16516093041064], [455, 35.39518986844183], [350, 35.638469009568865], [2, 35.78044813671813], [163, 36.091089689996956], [402, 36.278236303929006], [481, 36.55641107110687], [236, 36.77194191983424], [278, 36.99838589479839], [334, 37.30666242548125], [340, 37.550927601098444], [232, 37.79873266099837], [142, 38.164069477945475], [171, 38.25524169033497], [227, 38.462849784336086], [242, 38.64044178192557], [386, 38.9582586826221], [188, 39.20556237225971], [130, 39.663178068434284], [3, 40.2400317137115], [429, 40.82839962690283]]\n",
            "[[125, 33.08782671187916], [112, 33.746383132200286], [368, 34.235867362942656], [7, 34.67762133662463], [474, 34.86983463763669], [480, 35.17573057774412], [275, 35.408493761805566], [256, 35.6513502362446], [211, 35.8536316080054], [274, 36.099962624777476], [493, 36.28398218547465], [200, 36.615865055762946], [388, 36.78102312267244], [487, 37.07031401314284], [341, 37.319528703006426], [45, 37.58450604968229], [433, 37.81684519402267], [286, 38.16535366556632], [315, 38.29436959452364], [442, 38.467362051154026], [12, 38.665842675237116], [40, 38.95832734400249], [399, 39.211817238327306], [343, 39.71997888823656], [376, 40.24463595818634], [498, 40.88354273873607]]\n",
            "[[426, 33.12576540723221], [287, 33.75475990326648], [449, 34.23742887435559], [495, 34.68226565777951], [23, 34.875106940736885], [15, 35.20019626297698], [24, 35.42525893239289], [8, 35.65265418280969], [161, 35.906104113340774], [369, 36.11213191709163], [326, 36.295822039778415], [191, 36.63147790690964], [29, 36.786921332021265], [303, 37.07207020982425], [153, 37.36466204070448], [103, 37.59897582456813], [92, 37.83928630563594], [389, 38.16963611548527], [128, 38.298882655068134], [55, 38.48011033740929], [74, 38.70678685019445], [351, 38.96192793528884], [148, 39.214056793310455], [385, 39.85669759048747], [214, 40.35589635107825], [301, 40.91747429462045]]\n",
            "[[160, 33.132606063706056], [91, 33.77999353042222], [221, 34.29512049547063], [39, 34.691506367084706], [358, 34.94712949345871], [127, 35.20121711403665], [363, 35.48268565390561], [34, 35.68108192386432], [314, 35.94110639119199], [485, 36.14857858902436], [322, 36.3938213660456], [156, 36.64624193413422], [461, 36.83426406518113], [450, 37.10118554003884], [49, 37.40502903449495], [186, 37.59928717818383], [50, 37.90872588993208], [25, 38.17583754644651], [133, 38.348785659039315], [1, 38.49116183499972], [448, 38.70808848051301], [304, 39.035567412607215], [144, 39.27865397412518], [11, 39.91497410547025], [288, 40.37428523314758], [458, 41.00576159515253]]\n",
            "[[253, 33.13437681019049], [279, 33.8045878392348], [222, 34.31855716379823], [167, 34.743807724049695], [215, 34.954354140391025], [291, 35.26939530611452], [276, 35.49369775013261], [482, 35.683451181498796], [9, 35.94157725210933], [467, 36.15956890285314], [321, 36.47930059604181], [198, 36.66414180726537], [311, 36.88910586222458], [26, 37.15256230306905], [226, 37.43725841060971], [38, 37.69087174739064], [136, 37.93168382858003], [233, 38.18620961190858], [249, 38.35180236982778], [150, 38.52168098480132], [431, 38.710548283039735], [492, 39.03724095748311], [392, 39.29486490118341], [99, 39.959337146898], [377, 40.38548714301464], [176, 41.058746739359634]]\n",
            "\n",
            "Grupos de sexo Hembra: \n",
            "[[79, 33.27791277890074], [440, 33.758821006035475], [154, 34.13931614752749], [361, 34.590919175494896], [309, 35.047905941056044], [296, 35.189463746033006], [475, 35.4188505470126], [85, 35.554746188660246], [60, 35.91626246881679], [400, 36.02382064918184], [484, 36.274767707793856], [210, 36.59406899977633], [165, 36.82785967934756], [405, 37.014161062343305], [121, 37.24635201419725], [78, 37.35607736010795], [354, 37.53718058838718], [466, 37.67701533387378], [100, 37.90289984767707], [380, 38.10005213143037], [459, 38.44869030864294], [157, 38.655833474818486], [145, 38.80627193989816], [235, 39.010368158198936], [259, 39.20057833000837], [86, 39.89353385570757]]\n",
            "[[263, 33.35397576372755], [266, 33.82434200960786], [196, 34.260503015882236], [71, 34.612021907255446], [216, 35.05474549676568], [331, 35.27053963280331], [201, 35.4320111051458], [494, 35.586244493248955], [295, 35.91912267328713], [486, 36.0718620836138], [357, 36.28172270282445], [4, 36.60484671399402], [206, 36.842625563667475], [257, 37.02458935249083], [66, 37.25431560349228], [254, 37.402392138388976], [355, 37.5481883564214], [73, 37.68318008431088], [82, 37.90686308517419], [113, 38.11200083158239], [16, 38.450254571543816], [109, 38.656252818807474], [384, 38.81163957328272], [76, 39.01705402789896], [468, 39.27800824835853], [177, 39.95205399662562]]\n",
            "[[30, 33.433854311833095], [289, 33.87027558952414], [174, 34.32941814804131], [293, 34.819945660468846], [116, 35.0651190208565], [362, 35.275702360925976], [98, 35.45954834839201], [105, 35.61922547984217], [95, 35.926251263425314], [270, 36.13270247924211], [299, 36.283807299633324], [451, 36.63388752521657], [97, 36.849793642879945], [317, 37.03978706565793], [155, 37.25592541624529], [285, 37.439129331568864], [284, 37.54934033105809], [178, 37.68790674790453], [489, 37.94086216584076], [123, 38.197980882314766], [292, 38.49734436543271], [65, 38.6757490124565], [247, 38.88462115523193], [390, 39.02577848567131], [269, 39.313484883587556], [27, 40.05737766590705]]\n",
            "[[262, 33.43557021724302], [439, 33.87860405974974], [57, 34.3794685482232], [44, 34.836166109131234], [356, 35.10074179542613], [333, 35.277925184270586], [115, 35.467467042672624], [110, 35.65997198310466], [359, 35.926488497561415], [339, 36.14890982009188], [83, 36.315828246061564], [328, 36.63837809050531], [67, 36.87026919054671], [240, 37.078379498227626], [64, 37.26231527998113], [212, 37.441378741868775], [229, 37.55122161457827], [472, 37.77689046408175], [453, 37.99247662631972], [305, 38.22741947690561], [272, 38.50186937896207], [398, 38.678583832948476], [348, 38.88857780488609], [329, 39.0324013463898], [435, 39.35210833153444], [344, 40.138066073136166]]\n",
            "[[319, 33.47292382117153], [441, 33.9161391487617], [173, 34.39287818574811], [219, 34.85583025874651], [87, 35.10314453277929], [332, 35.28647488819561], [189, 35.47191853738828], [181, 35.68274382629076], [423, 35.93405047431525], [371, 36.16828559068459], [260, 36.32852667862703], [104, 36.737513203376444], [408, 36.89076513968913], [373, 37.181814896414416], [476, 37.266735642373064], [220, 37.46407770243294], [395, 37.58657804737818], [10, 37.78401180704725], [32, 37.99335062436963], [457, 38.24865167148903], [159, 38.53020079437129], [313, 38.72201555966755], [327, 38.90240556250169], [316, 39.046393772766095], [378, 39.35687612669099], [477, 40.20783108772582]]\n",
            "[[252, 33.496915050609466], [454, 34.02597095765533], [444, 34.4039010279699], [141, 34.93563863939761], [255, 35.13088488314019], [406, 35.29607896970646], [391, 35.5081514419083], [37, 35.79947640903967], [462, 35.96380531324063], [335, 36.22134564552828], [347, 36.45232521470264], [430, 36.75332196845825], [207, 36.89320175462616], [277, 37.19793283120636], [151, 37.26741897362499], [20, 37.47484176935551], [297, 37.58667328374683], [338, 37.78485935426865], [456, 38.03779889704626], [88, 38.28581933127481], [238, 38.53159775564373], [22, 38.733748141561236], [81, 38.94231922576831], [120, 39.05018192018289], [496, 39.584453456376565], [478, 40.35242515793614]]\n",
            "[[72, 33.533125855174895], [479, 34.048656583357726], [77, 34.4178917831983], [469, 34.942940442380184], [401, 35.17452907149181], [18, 35.32462372192586], [135, 35.508474254582445], [336, 35.806830508668625], [463, 35.96859636163702], [243, 36.22784952271036], [382, 36.458823033083036], [281, 36.75656421663027], [323, 37.00141928142217], [168, 37.20550438756155], [237, 37.27813064503908], [80, 37.49004844545953], [107, 37.592213877182644], [445, 37.79663430147824], [264, 38.05053981381774], [175, 38.34549568631617], [61, 38.58548496820983], [310, 38.754248533376064], [53, 38.982771522838824], [42, 39.05339329338594], [140, 39.657705416552915], [416, 40.443715669758895]]\n",
            "[[62, 33.60359248563181], [365, 34.06749669665353], [282, 34.52586659281781], [52, 34.961523237005935], [370, 35.17746311435791], [111, 35.36735158254848], [490, 35.51633153930082], [283, 35.8334951963791], [208, 35.994670607213976], [411, 36.26555368543942], [302, 36.478442479550516], [352, 36.81242628581087], [172, 37.00720078024485], [180, 37.22432730781286], [290, 37.33542234267254], [187, 37.51919003802773], [146, 37.59321328343826], [183, 37.80086834089459], [108, 38.051695238516245], [169, 38.35876090315722], [308, 38.61702339272847], [483, 38.766036726594294], [379, 38.98631125471791], [122, 39.16837747171445], [452, 39.692795237340626], [143, 40.444863545042594]]\n",
            "[[96, 33.71534188523618], [192, 34.12252411247967], [158, 34.54509711190644], [324, 34.992348270357525], [407, 35.181374634245024], [418, 35.38418196144938], [138, 35.538943185776844], [409, 35.87362554556233], [375, 36.016931333753384], [246, 36.27088183873796], [443, 36.51445695644691], [162, 36.81433099647973], [364, 37.01020643210516], [43, 37.245082003569784], [139, 37.34718847441296], [185, 37.53707351826696], [366, 37.652902071844494], [75, 37.85596193572045], [337, 38.099162509219695], [93, 38.38743988712439], [436, 38.61824436635699], [117, 38.79660092111464], [182, 38.992485272836575], [387, 39.17390942818069], [46, 39.699377287578244], [412, 40.44983776730427]]\n",
            "\n"
          ],
          "name": "stdout"
        }
      ]
    },
    {
      "metadata": {
        "colab_type": "text",
        "id": "eTFWUJQrtGcv"
      },
      "cell_type": "markdown",
      "source": [
        "Enumera las referencias que has utilizado(si ha sido necesario) para llevar a cabo el trabajo"
      ]
    },
    {
      "metadata": {
        "colab_type": "text",
        "id": "YKQ_mRBttWsP"
      },
      "cell_type": "markdown",
      "source": [
        "Respuesta"
      ]
    },
    {
      "metadata": {
        "colab_type": "text",
        "id": "kAkDPUyRtYyH"
      },
      "cell_type": "markdown",
      "source": [
        "Describe brevemente las lineas de como crees que es posible avanzar en el estudio del problema. Ten en cuenta incluso posibles variaciones del problema y/o variaciones al alza del tamaño"
      ]
    },
    {
      "metadata": {
        "colab_type": "text",
        "id": "IE0uZmo-tZu-"
      },
      "cell_type": "markdown",
      "source": [
        "Respuesta"
      ]
    }
  ]
}