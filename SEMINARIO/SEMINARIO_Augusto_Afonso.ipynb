{
  "nbformat": 4,
  "nbformat_minor": 0,
  "metadata": {
    "colab": {
      "name": "SEMINARIO_Augusto_Afonso.ipynb",
      "version": "0.3.2",
      "provenance": [],
      "collapsed_sections": [],
      "include_colab_link": true
    },
    "kernelspec": {
      "display_name": "Python 3",
      "language": "python",
      "name": "python3"
    }
  },
  "cells": [
    {
      "cell_type": "markdown",
      "metadata": {
        "id": "view-in-github",
        "colab_type": "text"
      },
      "source": [
        "<a href=\"https://colab.research.google.com/github/a-afonso/03MAIR-Algoritmos-de-optimizacion/blob/master/SEMINARIO/SEMINARIO_Augusto_Afonso.ipynb\" target=\"_parent\"><img src=\"https://colab.research.google.com/assets/colab-badge.svg\" alt=\"Open In Colab\"/></a>"
      ]
    },
    {
      "metadata": {
        "colab_type": "text",
        "id": "hVbXYX-RfPWh"
      },
      "cell_type": "markdown",
      "source": [
        "# Algoritmos de optimización - Seminario<br>\n",
        "<b>Nombre y Apellidos: </b>Augusto Afonso Losada <br>\n",
        "<b>Url: </b>https://github.com/a-afonso/03MAIR-Algoritmos-de-optimizacion/tree/master/SEMINARIO<br>\n",
        "  <b>Problema:</b>\n",
        "> 1. Elección de grupos de población homogéneos <br>\n",
        "\n",
        "<b>Descripción del problema: </b>Una productora ganadera nos encarga la tarea de seleccionar grupos de terneros para aplicar 3 tratamientos diferentes. Para cada uno de los tratamientos debemos seleccionar 3 grupos de terneros que sean lo mas homogéneos posible en peso para que en los resultados del tratamiento influya lo menos posible el peso del animal. Disponemos de una población de N animales entre machos y hembras.<br>\n",
        "<br>\n",
        "Se solicita diseñar un algoritmo para conseguir una agrupación que cumpla de la mejor manera posible las especificaciones de la productora.<br>\n",
        "<br>\n",
        "\n",
        "(*) La respuesta es obligatoria\n",
        "\n",
        "\n",
        "\n",
        "\n",
        "\n",
        "                                        "
      ]
    },
    {
      "metadata": {
        "colab_type": "code",
        "id": "zu9aZ8S-grjy",
        "colab": {}
      },
      "cell_type": "code",
      "source": [
        ""
      ],
      "execution_count": 0,
      "outputs": []
    },
    {
      "metadata": {
        "colab_type": "text",
        "id": "3_-exlrTgLd-"
      },
      "cell_type": "markdown",
      "source": [
        "(*)¿Cuantas posibilidades hay sin tener en cuenta las restricciones?\n",
        "\n",
        "¿Cuantas posibilidades hay teniendo en cuenta todas las restricciones?\n",
        "\n",
        "\n",
        "\n"
      ]
    },
    {
      "metadata": {
        "colab_type": "text",
        "id": "WfCUqJyKhPcw"
      },
      "cell_type": "markdown",
      "source": [
        "**Respuesta**<br>\n",
        "\n",
        "Para calcular las posibilidades sin restricciones, debemos suponer que son N animales (independientemente del sexo) y que el peso no influye en la solución.<br>\n",
        "\n",
        "En estas circunstancias, tenemos 3 tratamientos x 3 grupos = 9 grupos efectivos, por lo cual lo que tenemos son combinaciones de N elementos tomados de 9 en 9 y sin repetición, es decir:<br>\n",
        "\n",
        "*   N! / 9! (N-9)!\n",
        "\n",
        "<br>\n",
        "En el caso con restricciones, aunque podría parecer que la solución puede ser única (la que proponga la combinación más homogénea), en realidad no es posible determinar con exactitud el número de posibles soluciones, ya que por ejemplo, puede haber animales del mismo sexo con el mismo peso, en cuyo caso podrían caer en cualquiera de los grupos efectivos del propio sexo indistintamente.<br>\n",
        "\n",
        "La peor de las situaciones sería aquella en la que todos los animales tienen el mismo peso y el sexo está divido exactamente al 50%, porque cualquier combinación sería posible, con lo cual las posibilidades coincidirían con el caso anterior:<br>\n",
        "\n",
        "*   N! / 9! (N-9)!\n",
        "\n",
        "Paradójicamente, en este último caso cualquier combinación sería la solución óptima, ya que cumpliría con el criterio solicitado.<br>"
      ]
    },
    {
      "metadata": {
        "colab_type": "code",
        "id": "iq6Fe32MgpDX",
        "colab": {}
      },
      "cell_type": "code",
      "source": [
        ""
      ],
      "execution_count": 0,
      "outputs": []
    },
    {
      "metadata": {
        "colab_type": "text",
        "id": "dzynfVJahHoY"
      },
      "cell_type": "markdown",
      "source": [
        "Modelo para el espacio de soluciones<br>\n",
        "(*) ¿Cual es la estructura de datos que mejor se adapta al problema? Arguméntalo.(Es posible que hayas elegido una al principio y veas la necesidad de cambiar, arguméntalo).\n"
      ]
    },
    {
      "metadata": {
        "colab_type": "text",
        "id": "xFIJrOwKi2Ti"
      },
      "cell_type": "markdown",
      "source": [
        "**Respuesta**\n",
        "\n",
        "Es posible utilizar una lista de listas para contener la estructura de datos de entrada. La lista contendría N elementos de tipo lista. En esta última estructura, habría tres valores: el identificador del animal, el peso y el sexo.<br>\n",
        "\n",
        "La estructura de datos devuelta sería una lista de 9 elementos, tantos como grupos efectivos de cada sexo, que a su vez serían listas. Estas últimas tendrían una estructura en la cual sus elementos serían los identificadores de los animales de cada uno de los grupos efectivos."
      ]
    },
    {
      "metadata": {
        "colab_type": "code",
        "id": "38c-7-ejhJmA",
        "colab": {}
      },
      "cell_type": "code",
      "source": [
        ""
      ],
      "execution_count": 0,
      "outputs": []
    },
    {
      "metadata": {
        "colab_type": "text",
        "id": "7Z9U2W7bi-XS"
      },
      "cell_type": "markdown",
      "source": [
        "Según el modelo para el espacio de soluciones<br>\n",
        "(*)¿Cual es la función objetivo?\n",
        "\n",
        "(*)¿Es un problema de maximización o minimización?"
      ]
    },
    {
      "metadata": {
        "colab_type": "text",
        "id": "hBalWLM7j1_d"
      },
      "cell_type": "markdown",
      "source": [
        "**Respuesta**\n",
        "\n",
        "Para responder a estas preguntas, habría que definir el concepto de *\"Homogeneidad de un Grupo Efectivo de animales\"*.<br>\n",
        "\n",
        "*   Homogeneidad de un Grupo Efectivo de animales (HGE): Peso medio de los animales que componen un grupo efectivo de animales. Donde un grupo efectivo de animales (GE) equivale al conjunto de animales en cada uno de los conjuntos formados por el cómputo de 3 tratamientos x 3 grupos. Es decir hay 9 grupos efectivos (por cada sexo) con sus animales.\n",
        "\n",
        "Para un determinado GE, habría que calcular su HGE, comparándola con lo desviada que está respecto al peso medio de toda la muestra. La combinación óptima será aquella en la que dicha desviación de todos los GE con respecto al peso medio, es mínima.<br>\n",
        "\n",
        "Por lo tanto es un problema de minimización. \n",
        "\n"
      ]
    },
    {
      "metadata": {
        "colab_type": "code",
        "id": "pDA-rg3Gj5Lz",
        "colab": {}
      },
      "cell_type": "code",
      "source": [
        ""
      ],
      "execution_count": 0,
      "outputs": []
    },
    {
      "metadata": {
        "colab_type": "text",
        "id": "rlnTYgY1j6I2"
      },
      "cell_type": "markdown",
      "source": [
        "Diseña un algoritmo para resolver el problema por fuerza bruta"
      ]
    },
    {
      "metadata": {
        "colab_type": "text",
        "id": "70rDgxYXkC8r"
      },
      "cell_type": "markdown",
      "source": [
        "Respuesta"
      ]
    },
    {
      "metadata": {
        "colab_type": "code",
        "id": "CJb5sQ0qkENy",
        "outputId": "fd94d986-87ca-4442-ddfe-57c113a1df8d",
        "colab": {
          "base_uri": "https://localhost:8080/",
          "height": 71
        }
      },
      "cell_type": "code",
      "source": [
        "import numpy as np\n",
        "import pandas as pd\n",
        "import random\n",
        "import math\n",
        "import sys\n",
        "import matplotlib.pyplot as plt\n",
        "from itertools import permutations\n",
        "\n",
        "# Inicialización de variables globales\n",
        "#   - Escogemos solo una población de 18 animales y 3 grupos por sexo (1x3) \n",
        "#     para las pruebas porque la explosión combinatoria hace que el tiempo\n",
        "#     de ejecución sea excesivo a partir de estos valores\n",
        "#   - Incluso en este caso, si el número de animales queda dividido por sexo\n",
        "#     al 50% (9+9), el tiempo se hace inviable\n",
        "nIndividuals = 18\n",
        "nTreats = 1 \n",
        "nGroups = 3\n",
        "infinito = sys.maxsize\n",
        "\n",
        "# Creación de un dataset de muestra\n",
        "MUESTRA = pd.DataFrame()\n",
        "MUESTRA[\"Id\"] = [i for i in range(nIndividuals)]\n",
        "MUESTRA[\"Peso\"] = [random.gauss(37, 2.1) for i in range(nIndividuals)]\n",
        "MUESTRA[\"Sexo\"] = [random.getrandbits(1) for i in range(nIndividuals)]\n",
        "\n",
        "# Función que resuelve el problema 1 del seminario\n",
        "def do_problem1(MUESTRA, nTreats, nGroups):\n",
        "  \n",
        "  # Calcula el número total de animales de la muestra\n",
        "  nAnimals = len(MUESTRA)\n",
        "\n",
        "  \n",
        "  # Dividimos el dataset de la muestra en dos listas, una para cada sexo\n",
        "  MALE = []\n",
        "  FEMALE = []\n",
        "\n",
        "  for index, row in MUESTRA.iterrows():\n",
        "    if row[\"Sexo\"] == 0:\n",
        "      MALE.append([int(row[\"Id\"]), row[\"Peso\"], 0])\n",
        "    else:\n",
        "      FEMALE.append([int(row[\"Id\"]), row[\"Peso\"], 0])\n",
        "\n",
        "      \n",
        "  # Calcula el número máximo de animales por grupo\n",
        "  nMale = len(MALE)\n",
        "  nFemale = len(FEMALE)\n",
        "\n",
        "  nAnimalsGroup = min(nMale, nFemale) // (nTreats * nGroups)\n",
        "\n",
        "  \n",
        "  # Función local que calcula la homogeneidad de los pesos de una \n",
        "  # permutación\n",
        "  def get_homogeneidad(PERMUTACION, PESOS, p_medio, nTotalGroups, nAnimalsGroup):\n",
        "    TEMP_1 = []\n",
        "    ix = 0\n",
        "    suma = 0\n",
        "    for g in range(nTotalGroups):\n",
        "      TEMP_2 = []\n",
        "      TEMP_3 = []\n",
        "      for i in range(ix, ix+nAnimalsGroup):\n",
        "        TEMP_2.append(PESOS[i])\n",
        "        TEMP_3.append(PERMUTACION[i])\n",
        "      TEMP_1.append(TEMP_3)\n",
        "      ix = ix + nAnimalsGroup\n",
        "\n",
        "      media = np.mean(TEMP_2)\n",
        "      suma = suma + abs(p_medio - media)\n",
        "\n",
        "    return(suma / nTotalGroups, TEMP_1)\n",
        "\n",
        "  \n",
        "  # Función local para crear agrupaciones de cualquier sexo\n",
        "  def group_animals(MSEXO, nTreats, nGroups, nAnimalsGroup):\n",
        "\n",
        "    # Calcula el peso medio\n",
        "    p_medio = np.mean(MSEXO, axis=0)[1]\n",
        "    \n",
        "    # Calcula el número total de grupos\n",
        "    nTotalGroups = nTreats * nGroups\n",
        "\n",
        "    # Calcula el número de animales de la lista\n",
        "    nAnimalsSex = nTotalGroups * nAnimalsGroup\n",
        "\n",
        "    # Ordenamos la muestra por diferencias con respecto a la media\n",
        "    # para excluir los más distantes en peso (de la media)\n",
        "    for a in MSEXO:\n",
        "      a[2] = abs(p_medio - a[1])\n",
        "    MSEXO = sorted(MSEXO, key=lambda x: x[2])\n",
        "    MSEXO = MSEXO[0:nAnimalsSex]\n",
        "\n",
        "    # Calcula el nuevo peso medio\n",
        "    p_medio = np.mean(MSEXO, axis=0)[1]\n",
        "\n",
        "    # Calcula las permutaciones de animales y crea una lista equivalente\n",
        "    # a ellas con sus pesos correspondientes\n",
        "    PERMUTACIONES = list(permutations([MSEXO[i][0] for i in range(0, len(MSEXO))]))\n",
        "\n",
        "    PESOS = []\n",
        "    for PERM in PERMUTACIONES:\n",
        "      P = []\n",
        "      for p in PERM:\n",
        "        P.append(MUESTRA.loc[MUESTRA[\"Id\"] == p, \"Peso\"].iloc[0])\n",
        "      PESOS.append(P)\n",
        "\n",
        "    # Calcula la permutación más homogénea\n",
        "    best_permutacion = []\n",
        "    best_homogeneidad = infinito\n",
        "    for ix in range(len(PERMUTACIONES)):\n",
        "      h, g = get_homogeneidad(PERMUTACIONES[ix], PESOS[ix], p_medio, nTotalGroups, nAnimalsGroup)\n",
        "      if h < best_homogeneidad:\n",
        "        best_permutacion = g\n",
        "        best_homogeneidad = h\n",
        "\n",
        "    return best_permutacion, best_homogeneidad\n",
        "  \n",
        "  # Consigue las agrupaciones de animales macho más homogéneas\n",
        "  RMALE, hM = group_animals(MALE, nTreats, nGroups, nAnimalsGroup)\n",
        "\n",
        "  # Consigue las agrupaciones de animales hembra más homogéneas\n",
        "  RFEMALE, hF = group_animals(FEMALE, nTreats, nGroups, nAnimalsGroup)\n",
        "  \n",
        "  return RMALE, RFEMALE\n",
        "\n",
        "\n",
        "# Calcula e imprime los grupos para una muestra dada\n",
        "agrupaciones = do_problem1(MUESTRA, nTreats, nGroups)\n",
        "\n",
        "print('Grupos de sexo Macho: ', agrupaciones[0])\n",
        "print()\n",
        "print('Grupos de sexo Hembra: ', agrupaciones[1])\n"
      ],
      "execution_count": 24,
      "outputs": [
        {
          "output_type": "stream",
          "text": [
            "Grupos de sexo Macho:  [[17, 10], [12, 7], [14, 4]]\n",
            "\n",
            "Grupos de sexo Hembra:  [[5, 1], [15, 0], [13, 9]]\n"
          ],
          "name": "stdout"
        }
      ]
    },
    {
      "metadata": {
        "colab_type": "text",
        "id": "tgrnsC2nkFa8"
      },
      "cell_type": "markdown",
      "source": [
        "Calcula la complejidad del algoritmo por fuerza bruta"
      ]
    },
    {
      "metadata": {
        "colab_type": "text",
        "id": "9eUd3xwckP68"
      },
      "cell_type": "markdown",
      "source": [
        "Respuesta"
      ]
    },
    {
      "metadata": {
        "colab_type": "code",
        "id": "rvZWwL-ckRST",
        "colab": {}
      },
      "cell_type": "code",
      "source": [
        ""
      ],
      "execution_count": 0,
      "outputs": []
    },
    {
      "metadata": {
        "colab_type": "text",
        "id": "txbrmLmskReM"
      },
      "cell_type": "markdown",
      "source": [
        "(*)Diseña un algoritmo que mejore la complejidad del algortimo por fuerza bruta. Argumenta porque crees que mejora el algoritmo por fuerza bruta"
      ]
    },
    {
      "metadata": {
        "colab_type": "text",
        "id": "hLrVwt5QkZPD"
      },
      "cell_type": "markdown",
      "source": [
        "Respuesta"
      ]
    },
    {
      "metadata": {
        "colab_type": "code",
        "id": "m1eyM21Vkabg",
        "colab": {
          "base_uri": "https://localhost:8080/",
          "height": 379
        },
        "outputId": "7ba4a84a-f318-47be-e545-ba806aa9f277"
      },
      "cell_type": "code",
      "source": [
        "import numpy as np\n",
        "import pandas as pd\n",
        "import random\n",
        "import math\n",
        "import matplotlib.pyplot as plt\n",
        "from itertools import permutations\n",
        "import matplotlib.pyplot as plt\n",
        "\n",
        "\n",
        "# Función que imprime un gráfico con varias series\n",
        "def print_graph(SERIES, TSERIES, TEJES, COLORES):\n",
        "  fig, axes = plt.subplots(1, 1)\n",
        "  \n",
        "  for i in range(len(SERIES)):\n",
        "    axes.plot(np.arange(len(SERIES[i])), SERIES[i], COLORES[i])\n",
        "    \n",
        "  plt.legend(TSERIES, loc='best') \n",
        "  axes.set_xlabel(TEJES[0])\n",
        "  axes.set_ylabel(TEJES[1])\n",
        "  \n",
        "  plt.show()\n",
        "  \n",
        "\n",
        "# Inicialización de variables globales\n",
        "nIndividuals = 500\n",
        "nTreats = 3 \n",
        "nGroups = 3\n",
        "\n",
        "\n",
        "# Creación de un dataset de muestra\n",
        "MUESTRA = pd.DataFrame()\n",
        "#random.seed(30000)\n",
        "MUESTRA[\"Id\"] = [i for i in range(nIndividuals)]\n",
        "MUESTRA[\"Peso\"] = [random.gauss(37, 2.1) for i in range(nIndividuals)]\n",
        "MUESTRA[\"Sexo\"] = [random.getrandbits(1) for i in range(nIndividuals)]\n",
        "\n",
        "\n",
        "# Función mejorada que resuelve el problema 1 del seminario\n",
        "def do_problem1(MUESTRA, nTreats, nGroups, options):\n",
        "  \n",
        "  # Calcula el número total de animales de la muestra\n",
        "  nAnimals = len(MUESTRA)\n",
        "\n",
        "  \n",
        "  # Dividimos el dataset de la muestra en dos listas, una para cada sexo\n",
        "  MALE = []\n",
        "  FEMALE = []\n",
        "\n",
        "  for index, row in MUESTRA.iterrows():\n",
        "    if row[\"Sexo\"] == 0:\n",
        "      MALE.append([int(row[\"Id\"]), row[\"Peso\"], 0])\n",
        "    else:\n",
        "      FEMALE.append([int(row[\"Id\"]), row[\"Peso\"], 0])\n",
        "\n",
        "      \n",
        "  # Calcula el número máximo de animales por grupo\n",
        "  nMale = len(MALE)\n",
        "  nFemale = len(FEMALE)\n",
        "\n",
        "  nAnimalsGroup = min(nMale, nFemale) // (nTreats * nGroups)\n",
        "\n",
        "  \n",
        "  # Función local para crear agrupaciones de cualquier sexo\n",
        "  def group_animals(MSEXO, nTreats, nGroups, nAnimalsGroup, options):\n",
        "\n",
        "    # Calcula el peso medio\n",
        "    p_medio = np.mean(MSEXO, axis=0)[1]\n",
        "    \n",
        "    # Calcula el número total de grupos\n",
        "    nTotalGroups = nTreats * nGroups\n",
        "\n",
        "    # Calcula el número de animales de la lista\n",
        "    nAnimalsSex = nTotalGroups * nAnimalsGroup\n",
        "\n",
        "    # Ordenamos la muestra por diferencias con respecto a la media\n",
        "    # para excluir los más distantes en peso (de la media)\n",
        "    if options == \"Ordenada\":\n",
        "      for a in MSEXO:\n",
        "        a[2] = abs(p_medio - a[1])\n",
        "      MSEXO = sorted(MSEXO, key=lambda x: x[2])\n",
        "      MSEXO = MSEXO[0:nAnimalsSex]\n",
        "\n",
        "      # Reordenamos la muestra por pesos\n",
        "      MSEXO = sorted(MSEXO, key=lambda x: x[1])\n",
        "\n",
        "      # Crea los grupos más homogéneos posible, escogiendo un individuo por cada\n",
        "      # nTotalGroups, de forma que en cada grupo entren individuos significativos \n",
        "      # de cada zona de la lista ya ordenada por pesos\n",
        "      TEMP_1 = []\n",
        "      for i in range(nTotalGroups):\n",
        "        TEMP_2 = []\n",
        "\n",
        "        for j in range(i, nAnimalsSex, nTotalGroups):\n",
        "          TEMP_2.append(MSEXO[j])\n",
        "\n",
        "        TEMP_1.append(TEMP_2)\n",
        "    # Si se solicita la agrupación sin ordenación, devuelve los grupos tal y\n",
        "    # como están etiquetados los animales (esta opción solo es útil para\n",
        "    # comprobar gráficamente la diferencia entre los modos de ordenación \n",
        "    # y sin ella)\n",
        "    else:\n",
        "      MSEXO = MSEXO[0:nAnimalsSex]\n",
        "      \n",
        "      TEMP_1 = []\n",
        "      TEMP_2 = []\n",
        "      i = 0\n",
        "      while i < nAnimalsSex:\n",
        "        if i % nAnimalsGroup == 0:\n",
        "          TEMP_2 = []\n",
        "          \n",
        "        TEMP_2.append(MSEXO[i])\n",
        "          \n",
        "        if i % nAnimalsGroup == 0:\n",
        "          TEMP_1.append(TEMP_2)\n",
        "          \n",
        "        i = i + 1;\n",
        "        \n",
        "    return TEMP_1\n",
        "  \n",
        "  # Consigue las agrupaciones de animales macho más homogéneas\n",
        "  RMALE = group_animals(MALE, nTreats, nGroups, nAnimalsGroup, options)\n",
        "  \n",
        "  # Consigue las agrupaciones de animales hembra más homogéneas\n",
        "  RFEMALE = group_animals(FEMALE, nTreats, nGroups, nAnimalsGroup, options)\n",
        "  \n",
        "  return RMALE, RFEMALE\n",
        "\n",
        "\n",
        "# Calcula e imprime los grupos para una muestra dada\n",
        "agrupaciones = do_problem1(MUESTRA, nTreats, nGroups, 'Ordenada')\n",
        "\n",
        "#print('Grupos de sexo Macho: ')\n",
        "LPM = []\n",
        "for i in agrupaciones[0]:\n",
        "  p_medio = np.mean(i, axis=0)[1]\n",
        "  LPM.append(p_medio)\n",
        "  #print(i)\n",
        "#print(LPM)\n",
        "#print()\n",
        "\n",
        "#print('Grupos de sexo Hembra: ')\n",
        "LPF = []\n",
        "for i in agrupaciones[1]:\n",
        "  p_medio = np.mean(i, axis=0)[1]\n",
        "  LPF.append(p_medio)\n",
        "  #print(i)\n",
        "#print(LPF)\n",
        "#print()\n",
        "\n",
        "\n",
        "# Calcula e imprime los grupos sin ordenar\n",
        "agrupaciones = do_problem1(MUESTRA, nTreats, nGroups, '')\n",
        "\n",
        "#print('Grupos de sexo Macho: ')\n",
        "LPMU = []\n",
        "for i in agrupaciones[0]:\n",
        "  p_medio = np.mean(i, axis=0)[1]\n",
        "  LPMU.append(p_medio)\n",
        "  #print(i)\n",
        "#print(LPMU)\n",
        "#print()\n",
        "\n",
        "#print('Grupos de sexo Hembra: ')\n",
        "LPFU = []\n",
        "for i in agrupaciones[1]:\n",
        "  p_medio = np.mean(i, axis=0)[1]\n",
        "  LPFU.append(p_medio)\n",
        "  #print(i)\n",
        "#print(LPFU)\n",
        "#print()\n",
        "\n",
        "\n",
        "# Imprime un gráfico comparativo\n",
        "print('Comparativa entre grupos con pesos previamente ordenados y no ordenados:')\n",
        "\n",
        "SERIES = []\n",
        "SERIES.append(LPM)\n",
        "SERIES.append(LPF)\n",
        "SERIES.append(LPMU)\n",
        "SERIES.append(LPFU)\n",
        "m = (np.mean(LPM) + np.mean(LPF)) / 2\n",
        "SERIES.append([m for _ in range(nTreats * nGroups)])\n",
        "\n",
        "TITULOS = ['Machos (O)', 'Hembras (O)', 'Machos', 'Hembras', 'Peso Medio']\n",
        "\n",
        "COLORES = ['orange', 'maroon', 'gray', 'silver', 'r--']\n",
        "              \n",
        "print_graph(SERIES, TITULOS, ['Grupos', 'Pesos'], COLORES)\n"
      ],
      "execution_count": 133,
      "outputs": [
        {
          "output_type": "stream",
          "text": [
            "Comparativa entre grupos con pesos previamente ordenados y no ordenados:\n"
          ],
          "name": "stdout"
        },
        {
          "output_type": "display_data",
          "data": {
            "image/png": "[encoded data removed]",
            "text/plain": [
              "<Figure size 576x396 with 1 Axes>"
            ]
          },
          "metadata": {
            "tags": []
          }
        }
      ]
    },
    {
      "metadata": {
        "colab_type": "text",
        "id": "eGDB4K6uk1iN"
      },
      "cell_type": "markdown",
      "source": [
        "(*)Calcula la complejidad del algoritmo "
      ]
    },
    {
      "metadata": {
        "colab_type": "text",
        "id": "NhpTh_BPk1ms"
      },
      "cell_type": "markdown",
      "source": [
        "Respuesta"
      ]
    },
    {
      "metadata": {
        "colab_type": "code",
        "id": "nREzhkStlCq8",
        "colab": {}
      },
      "cell_type": "code",
      "source": [
        ""
      ],
      "execution_count": 0,
      "outputs": []
    },
    {
      "metadata": {
        "colab_type": "text",
        "id": "3M6QjTsSkmYe"
      },
      "cell_type": "markdown",
      "source": [
        "Según el problema (y tenga sentido), diseña un juego de datos de entrada aleatorios"
      ]
    },
    {
      "metadata": {
        "colab_type": "text",
        "id": "Jc3_OlyNkvjZ"
      },
      "cell_type": "markdown",
      "source": [
        "Respuesta"
      ]
    },
    {
      "metadata": {
        "colab_type": "code",
        "id": "sJ-N2etjkyWc",
        "colab": {}
      },
      "cell_type": "code",
      "source": [
        "import pandas as pd\n",
        "import random\n",
        "\n",
        "# Inicialización de variables globales\n",
        "nAnimals = 3000\n",
        "nTreats = 3\n",
        "nGroups = 3\n",
        "\n",
        "# Creación de un dataset de muestra\n",
        "MUESTRA = pd.DataFrame()\n",
        "MUESTRA[\"Id\"] = [i for i in range(nAnimals)]\n",
        "MUESTRA[\"Peso\"] = [random.gauss(37, 2.1) for i in range(nAnimals)]\n",
        "MUESTRA[\"Sexo\"] = [random.getrandbits(1) for i in range(nAnimals)]"
      ],
      "execution_count": 0,
      "outputs": []
    },
    {
      "metadata": {
        "colab_type": "text",
        "id": "zy5ZROmjlGo1"
      },
      "cell_type": "markdown",
      "source": [
        "Aplica el algoritmo al juego de datos generado"
      ]
    },
    {
      "metadata": {
        "colab_type": "text",
        "id": "_Cmj-PVylMsa"
      },
      "cell_type": "markdown",
      "source": [
        "Respuesta"
      ]
    },
    {
      "metadata": {
        "colab_type": "code",
        "id": "Jkx8GeiYlUz1",
        "colab": {}
      },
      "cell_type": "code",
      "source": [
        ""
      ],
      "execution_count": 0,
      "outputs": []
    },
    {
      "metadata": {
        "colab_type": "text",
        "id": "eTFWUJQrtGcv"
      },
      "cell_type": "markdown",
      "source": [
        "Enumera las referencias que has utilizado(si ha sido necesario) para llevar a cabo el trabajo"
      ]
    },
    {
      "metadata": {
        "colab_type": "text",
        "id": "YKQ_mRBttWsP"
      },
      "cell_type": "markdown",
      "source": [
        "Respuesta"
      ]
    },
    {
      "metadata": {
        "colab_type": "text",
        "id": "kAkDPUyRtYyH"
      },
      "cell_type": "markdown",
      "source": [
        "Describe brevemente las lineas de como crees que es posible avanzar en el estudio del problema. Ten en cuenta incluso posibles variaciones del problema y/o variaciones al alza del tamaño"
      ]
    },
    {
      "metadata": {
        "colab_type": "text",
        "id": "IE0uZmo-tZu-"
      },
      "cell_type": "markdown",
      "source": [
        "Respuesta"
      ]
    }
  ]
}