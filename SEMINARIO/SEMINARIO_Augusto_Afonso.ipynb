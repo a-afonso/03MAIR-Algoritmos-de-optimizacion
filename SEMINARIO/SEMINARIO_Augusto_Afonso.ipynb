{
  "nbformat": 4,
  "nbformat_minor": 0,
  "metadata": {
    "colab": {
      "name": "SEMINARIO_Augusto_Afonso.ipynb",
      "version": "0.3.2",
      "provenance": [],
      "collapsed_sections": [],
      "include_colab_link": true
    },
    "kernelspec": {
      "display_name": "Python 3",
      "language": "python",
      "name": "python3"
    }
  },
  "cells": [
    {
      "cell_type": "markdown",
      "metadata": {
        "id": "view-in-github",
        "colab_type": "text"
      },
      "source": [
        "<a href=\"https://colab.research.google.com/github/a-afonso/03MAIR-Algoritmos-de-optimizacion/blob/master/SEMINARIO/SEMINARIO_Augusto_Afonso.ipynb\" target=\"_parent\"><img src=\"https://colab.research.google.com/assets/colab-badge.svg\" alt=\"Open In Colab\"/></a>"
      ]
    },
    {
      "metadata": {
        "colab_type": "text",
        "id": "hVbXYX-RfPWh"
      },
      "cell_type": "markdown",
      "source": [
        "# Algoritmos de optimización - Seminario<br>\n",
        "<b>Nombre y Apellidos: </b>Augusto Afonso Losada <br>\n",
        "<b>Url: </b>https://github.com/a-afonso/03MAIR-Algoritmos-de-optimizacion/tree/master/SEMINARIO<br>\n",
        "  <b>Problema:</b>\n",
        "> 1. Elección de grupos de población homogéneos <br>\n",
        "\n",
        "<b>Descripción del problema: </b>Una productora ganadera nos encarga la tarea de seleccionar grupos de terneros para aplicar 3 tratamientos diferentes. Para cada uno de los tratamientos debemos seleccionar 3 grupos de terneros que sean lo mas homogéneos posible en peso para que en los resultados del tratamiento influya lo menos posible el peso del animal. Disponemos de una población de N animales entre machos y hembras.<br>\n",
        "<br>\n",
        "Se solicita diseñar un algoritmo para conseguir una agrupación que cumpla de la mejor manera posible las especificaciones de la productora.<br>\n",
        "<br>\n",
        "\n",
        "(*) La respuesta es obligatoria\n",
        "\n",
        "\n",
        "\n",
        "\n",
        "\n",
        "                                        "
      ]
    },
    {
      "metadata": {
        "colab_type": "code",
        "id": "zu9aZ8S-grjy",
        "colab": {}
      },
      "cell_type": "code",
      "source": [
        ""
      ],
      "execution_count": 0,
      "outputs": []
    },
    {
      "metadata": {
        "colab_type": "text",
        "id": "3_-exlrTgLd-"
      },
      "cell_type": "markdown",
      "source": [
        "(*)¿Cuantas posibilidades hay sin tener en cuenta las restricciones?\n",
        "\n",
        "¿Cuantas posibilidades hay teniendo en cuenta todas las restricciones?\n",
        "\n",
        "\n",
        "\n"
      ]
    },
    {
      "metadata": {
        "colab_type": "text",
        "id": "WfCUqJyKhPcw"
      },
      "cell_type": "markdown",
      "source": [
        "**Respuesta**<br>\n",
        "\n",
        "Para calcular las posibilidades sin restricciones, debemos suponer que son N animales (independientemente del sexo) y que el peso no influye en la solución.<br>\n",
        "\n",
        "En estas circunstancias, tenemos 3 tratamientos x 3 grupos = 9 grupos efectivos, por lo cual lo que tenemos son combinaciones de N elementos tomados de 9 en 9 y sin repetición, es decir:<br>\n",
        "\n",
        "*   N! / 9! (N-9)!\n",
        "\n",
        "<br>\n",
        "En el caso con restricciones, aunque podría parecer que la solución puede ser única (la que proponga la combinación más homogénea), en realidad no es posible determinar con exactitud el número de posibles soluciones, ya que por ejemplo, puede haber animales del mismo sexo con el mismo peso, en cuyo caso podrían caer en cualquiera de los grupos efectivos del propio sexo indistintamente.<br>\n",
        "\n",
        "La peor de las situaciones sería aquella en la que todos los animales tienen el mismo peso y el sexo está divido exactamente al 50%, porque cualquier combinación sería posible, con lo cual las posibilidades coincidirían con el caso anterior:<br>\n",
        "\n",
        "*   N! / 9! (N-9)!\n",
        "\n",
        "Paradójicamente, en este último caso cualquier combinación sería la solución óptima, ya que cumpliría con el criterio solicitado.<br>"
      ]
    },
    {
      "metadata": {
        "colab_type": "code",
        "id": "iq6Fe32MgpDX",
        "colab": {}
      },
      "cell_type": "code",
      "source": [
        ""
      ],
      "execution_count": 0,
      "outputs": []
    },
    {
      "metadata": {
        "colab_type": "text",
        "id": "dzynfVJahHoY"
      },
      "cell_type": "markdown",
      "source": [
        "Modelo para el espacio de soluciones<br>\n",
        "(*) ¿Cual es la estructura de datos que mejor se adapta al problema? Arguméntalo.(Es posible que hayas elegido una al principio y veas la necesidad de cambiar, arguméntalo).\n"
      ]
    },
    {
      "metadata": {
        "colab_type": "text",
        "id": "xFIJrOwKi2Ti"
      },
      "cell_type": "markdown",
      "source": [
        "**Respuesta**\n",
        "\n",
        "Es posible utilizar una lista de listas para contener la estructura de datos de entrada. La lista contendría N elementos de tipo lista. En esta última estructura, habría tres valores: el identificador del animal, el peso y el sexo.<br>\n",
        "\n",
        "La estructura de datos devuelta sería una lista de 9 elementos, tantos como grupos efectivos de cada sexo, que a su vez serían listas. Estas últimas tendrían una estructura en la cual sus elementos serían los identificadores de los animales de cada uno de los grupos efectivos."
      ]
    },
    {
      "metadata": {
        "colab_type": "code",
        "id": "38c-7-ejhJmA",
        "colab": {}
      },
      "cell_type": "code",
      "source": [
        ""
      ],
      "execution_count": 0,
      "outputs": []
    },
    {
      "metadata": {
        "colab_type": "text",
        "id": "7Z9U2W7bi-XS"
      },
      "cell_type": "markdown",
      "source": [
        "Según el modelo para el espacio de soluciones<br>\n",
        "(*)¿Cual es la función objetivo?\n",
        "\n",
        "(*)¿Es un problema de maximización o minimización?"
      ]
    },
    {
      "metadata": {
        "colab_type": "text",
        "id": "hBalWLM7j1_d"
      },
      "cell_type": "markdown",
      "source": [
        "**Respuesta**\n",
        "\n",
        "Para responder a estas preguntas, habría que definir el concepto de *\"Homogeneidad de un Grupo Efectivo de animales\"*.<br>\n",
        "\n",
        "*   Homogeneidad de un Grupo Efectivo de animales (HGE): Peso medio de los animales que componen un grupo efectivo de animales. Donde un grupo efectivo de animales (GE) equivale al conjunto de animales en cada uno de los conjuntos formados por el cómputo de 3 tratamientos x 3 grupos. Es decir hay 9 grupos efectivos (por cada sexo) con sus animales.\n",
        "\n",
        "Para un determinado GE, habría que calcular su HGE, comparándola con lo desviada que está respecto al peso medio de toda la muestra. La combinación óptima será aquella en la que dicha desviación de todos los GE con respecto al peso medio, es mínima.<br>\n",
        "\n",
        "Por lo tanto es un problema de minimización. \n",
        "\n"
      ]
    },
    {
      "metadata": {
        "colab_type": "code",
        "id": "pDA-rg3Gj5Lz",
        "colab": {}
      },
      "cell_type": "code",
      "source": [
        ""
      ],
      "execution_count": 0,
      "outputs": []
    },
    {
      "metadata": {
        "colab_type": "text",
        "id": "rlnTYgY1j6I2"
      },
      "cell_type": "markdown",
      "source": [
        "Diseña un algoritmo para resolver el problema por fuerza bruta"
      ]
    },
    {
      "metadata": {
        "colab_type": "text",
        "id": "70rDgxYXkC8r"
      },
      "cell_type": "markdown",
      "source": [
        "Respuesta"
      ]
    },
    {
      "metadata": {
        "colab_type": "code",
        "id": "CJb5sQ0qkENy",
        "outputId": "fd94d986-87ca-4442-ddfe-57c113a1df8d",
        "colab": {
          "base_uri": "https://localhost:8080/",
          "height": 71
        }
      },
      "cell_type": "code",
      "source": [
        "import numpy as np\n",
        "import pandas as pd\n",
        "import random\n",
        "import math\n",
        "import matplotlib.pyplot as plt\n",
        "from itertools import permutations\n",
        "\n",
        "# Inicialización de variables globales\n",
        "#   - Escogemos solo una población de 18 animales y 3 grupos por sexo (1x3) \n",
        "#     para las pruebas porque la explosión combinatoria hace que el tiempo\n",
        "#     de ejecución sea excesivo a partir de estos valores\n",
        "#   - Incluso en este caso, si el número de animales queda dividido por sexo\n",
        "#     al 50% (9+9), el tiempo se hace inviable\n",
        "nIndividuals = 18\n",
        "nTreats = 1 \n",
        "nGroups = 3\n",
        "\n",
        "# Creación de un dataset de muestra\n",
        "MUESTRA = pd.DataFrame()\n",
        "MUESTRA[\"Id\"] = [i for i in range(nIndividuals)]\n",
        "MUESTRA[\"Peso\"] = [random.gauss(37, 2.1) for i in range(nIndividuals)]\n",
        "MUESTRA[\"Sexo\"] = [random.getrandbits(1) for i in range(nIndividuals)]\n",
        "\n",
        "# Función que resuelve el problema 1 del seminario\n",
        "def do_problem1(MUESTRA, nTreats, nGroups):\n",
        "  nAnimals = len(MUESTRA)\n",
        "\n",
        "  # Dividimos el dataset en dos listas, una para cada sexo\n",
        "  MALE = []\n",
        "  FEMALE = []\n",
        "\n",
        "  for index, row in MUESTRA.iterrows():\n",
        "    if row[\"Sexo\"] == 0:\n",
        "      MALE.append([int(row[\"Id\"]), row[\"Peso\"], 0])\n",
        "    else:\n",
        "      FEMALE.append([int(row[\"Id\"]), row[\"Peso\"], 0])\n",
        "\n",
        "  # Calcula el número máximo de animales por grupo\n",
        "  nMale = len(MALE)\n",
        "  nFemale = len(FEMALE)\n",
        "\n",
        "  nAnimalsGroup = min(nMale, nFemale) // (nTreats * nGroups)\n",
        "\n",
        "  # Función local que calcula la homogeneidad de los pesos de una \n",
        "  # permutación\n",
        "  def get_homogeneidad(PERMUTACION, PESOS, p_medio, nTotalGroups, nAnimalsGroup):\n",
        "    TEMP_1 = []\n",
        "    ix = 0\n",
        "    suma = 0\n",
        "    for g in range(nTotalGroups):\n",
        "      TEMP_2 = []\n",
        "      TEMP_3 = []\n",
        "      for i in range(ix, ix+nAnimalsGroup):\n",
        "        TEMP_2.append(PESOS[i])\n",
        "        TEMP_3.append(PERMUTACION[i])\n",
        "      TEMP_1.append(TEMP_3)\n",
        "      ix = ix + nAnimalsGroup\n",
        "\n",
        "      media = np.mean(TEMP_2)\n",
        "      suma = suma + abs(p_medio - media)\n",
        "\n",
        "    #print(TEMP_1)\n",
        "\n",
        "    return(suma / nTotalGroups, TEMP_1)\n",
        "\n",
        "  # Función local para crear agrupaciones de cualquier sexo\n",
        "  def group_animals(MSEXO, nTreats, nGroups, nAnimalsGroup):\n",
        "\n",
        "    # Calcula el peso medio\n",
        "    p_medio = np.mean(MSEXO, axis=0)[1]\n",
        "    #print(p_medio)\n",
        "    \n",
        "    # Calcula el número total de grupos\n",
        "    nTotalGroups = nTreats * nGroups\n",
        "\n",
        "    # Calcula el número de animales de la lista\n",
        "    nAnimalsSex = nTotalGroups * nAnimalsGroup\n",
        "\n",
        "    # Ordenamos la muestra por diferencias con respecto a la media\n",
        "    # para excluir los más distantes en peso (de la media)\n",
        "    #print(MSEXO)\n",
        "    for a in MSEXO:\n",
        "      a[2] = abs(p_medio - a[1])\n",
        "    MSEXO = sorted(MSEXO, key=lambda x: x[2])\n",
        "    #print(MSEXO)\n",
        "    MSEXO = MSEXO[0:nAnimalsSex]\n",
        "    #print(MSEXO)\n",
        "\n",
        "    # Calcula el nuevo peso medio\n",
        "    p_medio = np.mean(MSEXO, axis=0)[1]\n",
        "    #print(p_medio)\n",
        "\n",
        "    # Calcula las permutaciones de animales y crea una lista equivalente\n",
        "    # a ellas con sus pesos correspondientes\n",
        "    PERMUTACIONES = list(permutations([MSEXO[i][0] for i in range(0, len(MSEXO))]))\n",
        "    #print(PERMUTACIONES)\n",
        "    #input(\"Press Enter to continue...\")\n",
        "    PESOS = []\n",
        "    \n",
        "    for PERM in PERMUTACIONES:\n",
        "      P = []\n",
        "      for p in PERM:\n",
        "        P.append(MUESTRA.loc[MUESTRA[\"Id\"] == p, \"Peso\"].iloc[0])\n",
        "      PESOS.append(P)\n",
        "\n",
        "    #print(PESOS) \n",
        "    #input(\"Press Enter to continue...\")\n",
        "\n",
        "    # Calcula la permutación más homogénea\n",
        "    best_permutacion = []\n",
        "    best_homogeneidad = 99999999\n",
        "    for ix in range(len(PERMUTACIONES)):\n",
        "      h, g = get_homogeneidad(PERMUTACIONES[ix], PESOS[ix], p_medio, nTotalGroups, nAnimalsGroup)\n",
        "      if h < best_homogeneidad:\n",
        "        best_permutacion = g\n",
        "        best_homogeneidad = h\n",
        "\n",
        "    return best_permutacion, h\n",
        "  \n",
        "  # Consigue las agrupaciones de animales macho más homogéneas\n",
        "  #print('Sexo M')\n",
        "  RMALE, hM = group_animals(MALE, nTreats, nGroups, nAnimalsGroup)\n",
        "  #print('Sexo H')\n",
        "  # Consigue las agrupaciones de animales hembra más homogéneas\n",
        "  RFEMALE, hF = group_animals(FEMALE, nTreats, nGroups, nAnimalsGroup)\n",
        "  \n",
        "  return RMALE, RFEMALE\n",
        "\n",
        "\n",
        "# Calcula e imprime los grupos para una muestra dada\n",
        "agrupaciones = do_problem1(MUESTRA, nTreats, nGroups)\n",
        "\n",
        "print('Grupos de sexo Macho: ', agrupaciones[0])\n",
        "print()\n",
        "print('Grupos de sexo Hembra: ', agrupaciones[1])\n"
      ],
      "execution_count": 24,
      "outputs": [
        {
          "output_type": "stream",
          "text": [
            "Grupos de sexo Macho:  [[17, 10], [12, 7], [14, 4]]\n",
            "\n",
            "Grupos de sexo Hembra:  [[5, 1], [15, 0], [13, 9]]\n"
          ],
          "name": "stdout"
        }
      ]
    },
    {
      "metadata": {
        "colab_type": "text",
        "id": "tgrnsC2nkFa8"
      },
      "cell_type": "markdown",
      "source": [
        "Calcula la complejidad del algoritmo por fuerza bruta"
      ]
    },
    {
      "metadata": {
        "colab_type": "text",
        "id": "9eUd3xwckP68"
      },
      "cell_type": "markdown",
      "source": [
        "Respuesta"
      ]
    },
    {
      "metadata": {
        "colab_type": "code",
        "id": "rvZWwL-ckRST",
        "colab": {}
      },
      "cell_type": "code",
      "source": [
        ""
      ],
      "execution_count": 0,
      "outputs": []
    },
    {
      "metadata": {
        "colab_type": "text",
        "id": "txbrmLmskReM"
      },
      "cell_type": "markdown",
      "source": [
        "(*)Diseña un algoritmo que mejore la complejidad del algortimo por fuerza bruta. Argumenta porque crees que mejora el algoritmo por fuerza bruta"
      ]
    },
    {
      "metadata": {
        "colab_type": "text",
        "id": "hLrVwt5QkZPD"
      },
      "cell_type": "markdown",
      "source": [
        "Respuesta"
      ]
    },
    {
      "metadata": {
        "colab_type": "code",
        "id": "m1eyM21Vkabg",
        "colab": {
          "base_uri": "https://localhost:8080/",
          "height": 1225
        },
        "outputId": "9d8d8a70-27f1-4ee4-ccc9-3d4d84009beb"
      },
      "cell_type": "code",
      "source": [
        "import numpy as np\n",
        "import pandas as pd\n",
        "import random\n",
        "import math\n",
        "import matplotlib.pyplot as plt\n",
        "from itertools import permutations\n",
        "import matplotlib.pyplot as plt\n",
        "\n",
        "\n",
        "def print_graph(S1, S2, S3, S4, S5):\n",
        "  fig, axes = plt.subplots(1, 1)\n",
        "  axes.plot(np.arange(len(S1)), S1) \n",
        "  axes.plot(np.arange(len(S2)), S2)\n",
        "  axes.plot(np.arange(len(S3)), S3)\n",
        "  axes.plot(np.arange(len(S4)), S4)\n",
        "  axes.plot(np.arange(len(S5)), S5)\n",
        "  plt.legend(['S1', 'S2', 'S3', 'S4', 'S5'], loc='best') \n",
        "  plt.show()\n",
        "  \n",
        "\n",
        "# Inicialización de variables globales\n",
        "nIndividuals = 300\n",
        "nTreats = 3 \n",
        "nGroups = 3\n",
        "\n",
        "# Creación de un dataset de muestra\n",
        "MUESTRA = pd.DataFrame()\n",
        "#random.seed(0)\n",
        "MUESTRA[\"Id\"] = [i for i in range(nIndividuals)]\n",
        "MUESTRA[\"Peso\"] = [random.gauss(37, 2.1) for i in range(nIndividuals)]\n",
        "MUESTRA[\"Sexo\"] = [random.getrandbits(1) for i in range(nIndividuals)]\n",
        "\n",
        "# Función mejorada que resuelve el problema 1 del seminario\n",
        "def do_problem1(MUESTRA, nTreats, nGroups, options):\n",
        "  nAnimals = len(MUESTRA)\n",
        "\n",
        "  # Dividimos el dataset en dos listas, una para cada sexo\n",
        "  MALE = []\n",
        "  FEMALE = []\n",
        "\n",
        "  for index, row in MUESTRA.iterrows():\n",
        "    if row[\"Sexo\"] == 0:\n",
        "      MALE.append([int(row[\"Id\"]), row[\"Peso\"], 0])\n",
        "    else:\n",
        "      FEMALE.append([int(row[\"Id\"]), row[\"Peso\"], 0])\n",
        "\n",
        "  # Calcula el número máximo de animales por grupo\n",
        "  nMale = len(MALE)\n",
        "  nFemale = len(FEMALE)\n",
        "\n",
        "  nAnimalsGroup = min(nMale, nFemale) // (nTreats * nGroups)\n",
        "\n",
        "  # Función local para crear agrupaciones de cualquier sexo\n",
        "  def group_animals(MSEXO, nTreats, nGroups, nAnimalsGroup, options):\n",
        "\n",
        "    # Calcula el peso medio\n",
        "    p_medio = np.mean(MSEXO, axis=0)[1]\n",
        "    \n",
        "    # Calcula el número total de grupos\n",
        "    nTotalGroups = nTreats * nGroups\n",
        "\n",
        "    # Calcula el número de animales de la lista\n",
        "    nAnimalsSex = nTotalGroups * nAnimalsGroup\n",
        "\n",
        "    # Ordenamos la muestra por diferencias con respecto a la media\n",
        "    # para excluir los más distantes en peso (de la media)\n",
        "    if options == \"Ordenada\":\n",
        "      for a in MSEXO:\n",
        "        a[2] = abs(p_medio - a[1])\n",
        "      MSEXO = sorted(MSEXO, key=lambda x: x[2])\n",
        "      MSEXO = MSEXO[0:nAnimalsSex]\n",
        "\n",
        "      # Reordenamos la muestra por pesos\n",
        "      MSEXO = sorted(MSEXO, key=lambda x: x[1])\n",
        "\n",
        "      # Crea los grupos más homogéneos posible, escogiendo un individuo por cada\n",
        "      # nTotalGroups, de forma que en cada grupo entren individuos significativos \n",
        "      # de cada zona de la lista ya ordenada por pesos\n",
        "      TEMP_1 = []\n",
        "      for i in range(nTotalGroups):\n",
        "        TEMP_2 = []\n",
        "\n",
        "        for j in range(i, nAnimalsSex, nTotalGroups):\n",
        "          TEMP_2.append(MSEXO[j])\n",
        "\n",
        "        TEMP_1.append(TEMP_2)\n",
        "    else:\n",
        "      MSEXO = MSEXO[0:nAnimalsSex]\n",
        "      \n",
        "      TEMP_1 = []\n",
        "      TEMP_2 = []\n",
        "      i = 0\n",
        "      while i <= nAnimalsSex-nAnimalsGroup+1:\n",
        "        if i % nAnimalsGroup == 0:\n",
        "          TEMP_2 = []\n",
        "          \n",
        "        TEMP_2.append(MSEXO[i])\n",
        "          \n",
        "        if i % nAnimalsGroup == 0:\n",
        "          TEMP_1.append(TEMP_2)\n",
        "          \n",
        "        i = i + 1;\n",
        "        \n",
        "    return TEMP_1\n",
        "  \n",
        "  # Consigue las agrupaciones de animales macho más homogéneas\n",
        "  RMALE = group_animals(MALE, nTreats, nGroups, nAnimalsGroup, options)\n",
        "  \n",
        "  # Consigue las agrupaciones de animales hembra más homogéneas\n",
        "  RFEMALE = group_animals(FEMALE, nTreats, nGroups, nAnimalsGroup, options)\n",
        "  \n",
        "  return RMALE, RFEMALE\n",
        "\n",
        "\n",
        "# Calcula e imprime los grupos para una muestra dada\n",
        "agrupaciones = do_problem1(MUESTRA, nTreats, nGroups, 'Ordenada')\n",
        "\n",
        "print('Grupos de sexo Macho: ')\n",
        "LPM = []\n",
        "for i in agrupaciones[0]:\n",
        "  p_medio = np.mean(i, axis=0)[1]\n",
        "  LPM.append(p_medio)\n",
        "  print(i)\n",
        "print(LPM)\n",
        "print()\n",
        "\n",
        "print('Grupos de sexo Hembra: ')\n",
        "LPF = []\n",
        "for i in agrupaciones[1]:\n",
        "  p_medio = np.mean(i, axis=0)[1]\n",
        "  LPF.append(p_medio)\n",
        "  print(i)\n",
        "print(LPF)\n",
        "print()\n",
        "\n",
        "m = (np.mean(LPM) + np.mean(LPF)) / 2\n",
        "\n",
        "# Calcula e imprime los grupos sin ordenar\n",
        "agrupaciones = do_problem1(MUESTRA, nTreats, nGroups, '')\n",
        "\n",
        "print('Grupos de sexo Macho: ')\n",
        "LPMU = []\n",
        "for i in agrupaciones[0]:\n",
        "  p_medio = np.mean(i, axis=0)[1]\n",
        "  LPMU.append(p_medio)\n",
        "  print(i)\n",
        "print(LPMU)\n",
        "print()\n",
        "\n",
        "print('Grupos de sexo Hembra: ')\n",
        "LPFU = []\n",
        "for i in agrupaciones[1]:\n",
        "  p_medio = np.mean(i, axis=0)[1]\n",
        "  LPFU.append(p_medio)\n",
        "  print(i)\n",
        "print(LPFU)\n",
        "print()\n",
        "\n",
        "print_graph(LPM, LPF, [m for _ in range(9)], LPMU, LPFU)\n"
      ],
      "execution_count": 38,
      "outputs": [
        {
          "output_type": "stream",
          "text": [
            "Grupos de sexo Macho: \n",
            "[[94, 32.9314396777671, 4.096428970164702], [144, 33.98226164586633, 3.0456070020654735], [236, 34.72810939268703, 2.2997592552447728], [156, 35.18160247426259, 1.846266173669214], [133, 35.4775760383964, 1.5502926095354042], [169, 35.82780823529035, 1.2000604126414558], [295, 36.37443198750689, 0.6534366604249158], [181, 36.72706010671233, 0.30080854121947453], [47, 37.121505814431046, 0.09363716649924214], [204, 37.47481048897769, 0.4469418410458843], [127, 37.709712449161295, 0.6818438012294905], [68, 38.117717513024566, 1.0898488650927618], [139, 38.6005913907762, 1.5727227428443982], [51, 39.42396722194882, 2.3960985740170173], [28, 39.82396181166316, 2.7960931637313564], [147, 40.325904465766506, 3.298035817834702]]\n",
            "[[260, 33.07684484145747, 3.951023806474332], [195, 33.999723113076115, 3.028145534855689], [171, 34.78543086346375, 2.242437784468052], [176, 35.189600344192385, 1.8382683037394187], [256, 35.506741541714675, 1.5211271062171292], [221, 35.87685863382693, 1.1510100141048767], [66, 36.4435102014346, 0.5843584464972054], [106, 36.76692293677035, 0.2609457111614546], [98, 37.129827552453875, 0.10195890452207124], [249, 37.504024836158514, 0.47615618822671024], [277, 37.724149156229124, 0.6962805082973205], [58, 38.119243988431386, 1.0913753404995816], [185, 38.77789735482474, 1.7500287068929339], [123, 39.425809090271855, 2.397940442340051], [186, 39.843264268080354, 2.81539562014855], [248, 40.32891963872992, 3.3010509907981174]]\n",
            "[[36, 33.337992157252884, 3.6898764906789197], [20, 34.08256706733741, 2.9453015805943963], [225, 34.880207666044626, 2.147660981887178], [112, 35.223180661123564, 1.80468798680824], [84, 35.54372255182109, 1.4841460961107131], [230, 35.93790223992404, 1.0899664080077613], [116, 36.47494631838216, 0.552922329549645], [25, 36.89989251619222, 0.12797613173958666], [69, 37.14954977129372, 0.12168112336191683], [145, 37.55665098483787, 0.5287823369060689], [178, 37.779051267586226, 0.751182619654422], [202, 38.1975808006936, 1.1697121527617966], [241, 38.888859466580115, 1.860990818648311], [100, 39.4268303945533, 2.398961746621495], [8, 39.93720335151087, 2.909334703579063], [243, 40.35077691638798, 3.3229082684561746]]\n",
            "[[61, 33.387513453649504, 3.6403551942823], [278, 34.1409549011749, 2.8869137467569033], [67, 34.933634696112065, 2.0942339518197386], [63, 35.24984739487521, 1.7780212530565933], [254, 35.55016780252147, 1.4777008454103324], [105, 35.97861383068647, 1.049254817245334], [269, 36.59563455714662, 0.4322340907851867], [107, 36.909871760744856, 0.11799688718694767], [173, 37.15258590209612, 0.12471725416431667], [297, 37.564152168877904, 0.5362835209460997], [209, 37.8075352174287, 0.7796665694968965], [291, 38.19817045167944, 1.170301803747634], [190, 38.98536881468139, 1.9575001667495826], [38, 39.45618171649004, 2.4283130685582393], [101, 39.97406543048578, 2.946196782553976], [89, 40.46068413638943, 3.432815488457628]]\n",
            "[[292, 33.6784876472197, 3.349381000712107], [289, 34.256131509337216, 2.771737138594588], [109, 34.95361185878121, 2.0742567891505956], [7, 35.29531468128151, 1.7325539666502934], [128, 35.65412017922662, 1.3737484687051875], [46, 36.00268226519775, 1.0251863827340557], [2, 36.60292476464115, 0.424943883290652], [231, 36.94648675238116, 0.08138189555064201], [183, 37.23384238291706, 0.20597373498525684], [90, 37.57369524035439, 0.5458265924225856], [49, 37.81595630509954, 0.7880876571677362], [272, 38.215428266735344, 1.1875596188035402], [39, 39.06292396180892, 2.035055313877116], [207, 39.57523035137753, 2.5473617034457234], [220, 40.13131112538703, 3.103442477455225], [5, 40.65045762890125, 3.6225889809694465]]\n",
            "[[146, 33.718170002750256, 3.309698645181548], [48, 34.34004953967487, 2.6878191082569316], [142, 34.98808734587814, 2.0397813020536617], [76, 35.3884901841398, 1.6393784637920064], [216, 35.672598369370824, 1.3552702785609796], [80, 36.034580608418615, 0.9932880395131889], [174, 36.62807803269184, 0.39979061523996506], [158, 37.054890274491655, 0.02702162655985063], [210, 37.27966266747971, 0.2517940195479085], [184, 37.573950871605994, 0.5460822236741905], [182, 37.90050779160479, 0.8726391436729841], [6, 38.31562243226974, 1.2877537843379372], [151, 39.08868597668261, 2.060817328750808], [102, 39.70185926515575, 2.673990617223943], [235, 40.132235935460685, 3.1043672875288806], [56, 40.6509037364757, 3.623035088543894]]\n",
            "[[32, 33.77424739735478, 3.2536212505770266], [78, 34.68651780296034, 2.3413508449714655], [164, 35.07053020763551, 1.9573384402962972], [12, 35.40878989357268, 1.6190787543591227], [294, 35.686409167717734, 1.3414594802140698], [65, 36.09781440167963, 0.9300542462521761], [267, 36.64938926604145, 0.3784793818903509], [132, 37.07835776607364, 0.05048911814183299], [93, 37.33161077750093, 0.30374212956912316], [247, 37.59864076455035, 0.5707721166185493], [265, 37.927092245779654, 0.8992235978478504], [163, 38.31723259633345, 1.2893639484016433], [88, 39.21028138168582, 2.1824127337540133], [180, 39.73503635576973, 2.7071677078379253], [134, 40.18188437439888, 3.1540157264670725], [4, 40.96263306091737, 3.9347644129855652]]\n",
            "[[15, 33.820541736758706, 3.207326911173098], [299, 34.725472903116064, 2.3023957448157404], [208, 35.10741266481776, 1.9204559831140458], [121, 35.45950974331252, 1.5683589046192807], [138, 35.689909065444205, 1.3379595824875992], [125, 36.179827191789535, 0.8480414561422691], [33, 36.651669317735845, 0.3761993301959592], [29, 37.08727746663976, 0.05940881870795778], [122, 37.390210088574314, 0.36234144064250984], [157, 37.64195245637532, 0.6140838084435174], [271, 37.9692025264477, 0.9413338785158984], [159, 38.349925651069576, 1.3220570031377719], [124, 39.36657849762477, 2.338709849692968], [213, 39.756363225013445, 2.7284945770816407], [223, 40.19119709178482, 3.1633284438530183], [177, 41.03353834545131, 4.005669697519508]]\n",
            "[[266, 33.879035453730374, 3.14883319420143], [253, 34.72648716548109, 2.301381482450715], [3, 35.14449618885768, 1.883372459074124], [40, 35.46465432910523, 1.5632143188265744], [229, 35.80987657243787, 1.2179920754939317], [288, 36.34265154954966, 0.6852170983821466], [43, 36.70632404419711, 0.3215446037346936], [199, 37.108734511954566, 0.08086586402276197], [237, 37.436357702215155, 0.4084890542833506], [255, 37.687934406726164, 0.6600657587943601], [196, 38.07984135509619, 1.0519727071643885], [162, 38.592772600709694, 1.5649039527778896], [282, 39.41966628160963, 2.3917976336778253], [71, 39.82255010671774, 2.794681458785938], [200, 40.23419141505943, 3.2063227671276238], [152, 41.21041690920365, 4.182548261271847]]\n",
            "[36.864278794639894, 36.90617302256975, 36.97918213322011, 37.02156138969, 37.10303780754046, 37.15427331463444, 37.232279216248244, 37.27628674824723, 37.354124412040704]\n",
            "\n",
            "Grupos de sexo Hembra: \n",
            "[[113, 32.477266907768396, 4.377908710672514], [273, 33.634926373170984, 3.220249245269926], [290, 34.276303414294446, 2.578872204146464], [283, 34.93780009187481, 1.9173755265660972], [154, 35.2712292841963, 1.583946334244608], [41, 35.65827879269394, 1.1968968257469683], [188, 35.99275612050896, 0.8624194979319526], [258, 36.360966086515226, 0.4942095319256836], [23, 36.60646253095862, 0.2487130874822867], [119, 37.0486609408356, 0.19348532239469307], [104, 37.50434157189625, 0.6491659534553378], [149, 37.82187013652675, 0.9666945180858377], [118, 38.504853155296864, 1.649677536855954], [227, 38.8895084417103, 2.034332823269388], [187, 39.44723019173297, 2.59205457329206], [234, 40.150108449305996, 3.2949328308650863]]\n",
            "[[19, 32.51054900845416, 4.344626609986747], [284, 33.659749784742964, 3.1954258336979464], [217, 34.30420861727628, 2.5509670011646293], [242, 35.001458330387074, 1.8537172880538364], [115, 35.4357249080492, 1.4194507103917076], [238, 35.834676741965914, 1.0204988764749956], [77, 36.00247381429034, 0.8527018041505698], [59, 36.39212919391458, 0.4630464245263326], [75, 36.616354507641105, 0.23882111079980461], [251, 37.08072450477353, 0.22554888633261783], [137, 37.512280598476465, 0.6571049800355553], [120, 37.95854478123641, 1.1033691627955022], [264, 38.51167193717272, 1.6564963187318114], [60, 38.912345902845544, 2.0571702844046342], [262, 39.504248379098975, 2.649072760658065], [103, 40.209475821311585, 3.354300202870675]]\n",
            "[[136, 32.701949602573016, 4.153226015867894], [70, 33.66486698635725, 3.1903086320836636], [168, 34.332440864649925, 2.522734753790985], [226, 35.015319277191836, 1.8398563412490745], [96, 35.45177205713546, 1.4034035613054527], [276, 35.83529569834131, 1.0198799200995978], [34, 36.1450777586387, 0.710097859802211], [97, 36.43003934629763, 0.425136272143277], [212, 36.66378918286241, 0.19138643557850088], [110, 37.08179805823592, 0.2266224397950083], [203, 37.53420790328743, 0.6790322848465209], [99, 38.009767682185775, 1.1545920637448646], [131, 38.52171240371595, 1.6665367852750421], [286, 38.93816022944364, 2.082984611002729], [140, 39.50671298242893, 2.6515373639880195], [95, 40.228420072091254, 3.3732444536503436]]\n",
            "[[72, 32.70705726894896, 4.148118349491952], [274, 33.90079336481254, 2.954382253628367], [201, 34.54099300479077, 2.3141826136501393], [240, 35.05739511879385, 1.797780499647061], [55, 35.513572839375335, 1.3416027790655747], [35, 35.863493970772694, 0.9916816476682158], [175, 36.156268395781524, 0.6989072226593862], [219, 36.476941115639946, 0.3782345028009644], [153, 36.81619664549825, 0.038978972942658174], [42, 37.08202448424731, 0.22684886580640296], [191, 37.55917611187313, 0.7040004934322184], [192, 38.04475802744664, 1.1895824090057303], [245, 38.57879772409143, 1.72362210565052], [57, 38.945795945003475, 2.090620326562565], [0, 39.525394649262836, 2.670219030821926], [197, 40.27890306128383, 3.4237274428429174]]\n",
            "[[114, 33.01591155604103, 3.8392640623998773], [293, 33.97083100055309, 2.8843446178878196], [111, 34.5631614364956, 2.292014181945312], [85, 35.12288149492357, 1.7322941235173417], [296, 35.53822603869525, 1.3169495797456605], [214, 35.875175781327194, 0.9799998371137164], [218, 36.23965109257401, 0.6155245258669026], [263, 36.50382157670021, 0.3513540417406986], [79, 36.90116578772263, 0.045990169281722615], [81, 37.122310442133795, 0.267134823692885], [275, 37.61949205429204, 0.7643164358511285], [86, 38.100653793074656, 1.245478174633746], [165, 38.622573384391856, 1.767397765950946], [11, 39.07146772990752, 2.2162921114666077], [141, 39.648263256661934, 2.7930876382210243], [298, 40.34461193585426, 3.4894363174133503]]\n",
            "[[194, 33.11422590881363, 3.74094970962728], [150, 34.09156164092957, 2.7636139775113406], [45, 34.577067037644085, 2.2781085807968253], [73, 35.14412552831843, 1.7110500901224768], [30, 35.612049559372174, 1.2431260590687359], [170, 35.88262435073321, 0.9725512677077006], [228, 36.245010308149084, 0.6101653102918263], [26, 36.506714487926736, 0.34846113051417404], [16, 36.92996359102311, 0.07478797258220027], [244, 37.163647773387616, 0.3084721549467062], [92, 37.7182039555604, 0.8630283371194878], [268, 38.15024455916564, 1.2950689407247324], [280, 38.713101608559384, 1.8579259901184741], [250, 39.13791992975488, 2.2827443113139694], [13, 39.81883987885834, 2.9636642604174313], [232, 40.64090681368117, 3.7857311952402597]]\n",
            "[[215, 33.22997050514301, 3.625205113297902], [211, 34.10897334195593, 2.746202276484979], [1, 34.68378620669593, 2.1713894117449826], [172, 35.18134187896757, 1.6738337394733378], [130, 35.61536349590202, 1.2398121225388934], [64, 35.88476086364981, 0.9704147547911006], [167, 36.280060689651634, 0.5751149287892758], [222, 36.53823066173799, 0.316944956702919], [50, 36.94084196712357, 0.08566634868265766], [252, 37.20348997040389, 0.34831435196298344], [52, 37.76489162072723, 0.9097160022863164], [189, 38.15480250724985, 1.2996268888089375], [108, 38.73749117403119, 1.8823155555902815], [279, 39.33828900311224, 2.483113384671327], [233, 39.84366514705062, 2.988489528609712], [24, 40.84386151926333, 3.988685900822418]]\n",
            "[[54, 33.35620534887522, 3.498970269565689], [261, 34.170433395853905, 2.684742222587005], [224, 34.765758062059774, 2.089417556381136], [148, 35.197236564994476, 1.6579390534464338], [10, 35.639791411621815, 1.2153842068190954], [27, 35.8901166440381, 0.9650589744028082], [161, 36.32393089498666, 0.5312447234542503], [126, 36.54413130361648, 0.3110443148244286], [193, 37.029591928770856, 0.17441631032994565], [155, 37.221402384434604, 0.3662267659936944], [117, 37.79337911126727, 0.9382034928263607], [82, 38.216690485914235, 1.3615148674733248], [62, 38.83253066970593, 1.9773550512650218], [160, 39.37576109147042, 2.520585473029513], [259, 39.98905629150429, 3.1338806730633806], [270, 41.13011082685329, 4.27493520841238]]\n",
            "[[9, 33.5922360075508, 3.2629396108901076], [206, 34.19017329929113, 2.665002319149778], [83, 34.88732249450828, 1.9678531239326276], [17, 35.209114702474956, 1.646060915965954], [135, 35.644202689800764, 1.210972928640146], [91, 35.98091734192613, 0.8742582765147802], [129, 36.3283795704273, 0.5267960480136082], [285, 36.55856749475672, 0.2966081236841873], [198, 37.037071342570385, 0.1818957241294754], [257, 37.23558916516328, 0.38041354672237304], [74, 37.8084720043706, 0.9532963859296899], [143, 38.43882943802556, 1.5836538195846472], [239, 38.8409740150821, 1.9857983966411865], [87, 39.37839256152392, 2.523216943083007], [44, 40.02087542954218, 3.1656998111012697], [21, 41.20555325967945, 4.350377641238538]]\n",
            "[36.536410155580406, 36.5904135519773, 36.62883313158977, 36.6904726079764, 36.766262397584285, 36.84038793324234, 36.89686378454161, 36.96725790099796, 37.02229192604335]\n",
            "\n",
            "Grupos de sexo Macho: \n",
            "[[2, 36.60292476464115, 0], [3, 35.14449618885768, 0], [4, 40.96263306091737, 0], [5, 40.65045762890125, 0], [6, 38.31562243226974, 0], [7, 35.29531468128151, 0], [8, 39.93720335151087, 0], [12, 35.40878989357268, 0], [15, 33.820541736758706, 0], [20, 34.08256706733741, 0], [25, 36.89989251619222, 0], [28, 39.82396181166316, 0], [29, 37.08727746663976, 0], [31, 32.28245701100442, 0], [32, 33.77424739735478, 0], [33, 36.651669317735845, 0]]\n",
            "[[36, 33.337992157252884, 0], [38, 39.45618171649004, 0], [39, 39.06292396180892, 0], [40, 35.46465432910523, 0], [43, 36.70632404419711, 0], [46, 36.00268226519775, 0], [47, 37.121505814431046, 0], [48, 34.34004953967487, 0], [49, 37.81595630509954, 0], [51, 39.42396722194882, 0], [53, 32.30976436262176, 0], [56, 40.6509037364757, 0], [58, 38.119243988431386, 0], [61, 33.387513453649504, 0], [63, 35.24984739487521, 0], [65, 36.09781440167963, 0]]\n",
            "[[66, 36.4435102014346, 0], [67, 34.933634696112065, 0], [68, 38.117717513024566, 0], [69, 37.14954977129372, 0], [71, 39.82255010671774, 0], [76, 35.3884901841398, 0], [78, 34.68651780296034, 0], [80, 36.034580608418615, 0], [84, 35.54372255182109, 0], [88, 39.21028138168582, 0], [89, 40.46068413638943, 0], [90, 37.57369524035439, 0], [93, 37.33161077750093, 0], [94, 32.9314396777671, 0], [98, 37.129827552453875, 0], [100, 39.4268303945533, 0]]\n",
            "[[101, 39.97406543048578, 0], [102, 39.70185926515575, 0], [105, 35.97861383068647, 0], [106, 36.76692293677035, 0], [107, 36.909871760744856, 0], [109, 34.95361185878121, 0], [112, 35.223180661123564, 0], [116, 36.47494631838216, 0], [121, 35.45950974331252, 0], [122, 37.390210088574314, 0], [123, 39.425809090271855, 0], [124, 39.36657849762477, 0], [125, 36.179827191789535, 0], [127, 37.709712449161295, 0], [128, 35.65412017922662, 0], [132, 37.07835776607364, 0]]\n",
            "[[133, 35.4775760383964, 0], [134, 40.18188437439888, 0], [138, 35.689909065444205, 0], [139, 38.6005913907762, 0], [142, 34.98808734587814, 0], [144, 33.98226164586633, 0], [145, 37.55665098483787, 0], [146, 33.718170002750256, 0], [147, 40.325904465766506, 0], [151, 39.08868597668261, 0], [152, 41.21041690920365, 0], [156, 35.18160247426259, 0], [157, 37.64195245637532, 0], [158, 37.054890274491655, 0], [159, 38.349925651069576, 0], [162, 38.592772600709694, 0]]\n",
            "[[163, 38.31723259633345, 0], [164, 35.07053020763551, 0], [169, 35.82780823529035, 0], [171, 34.78543086346375, 0], [173, 37.15258590209612, 0], [174, 36.62807803269184, 0], [176, 35.189600344192385, 0], [177, 41.03353834545131, 0], [178, 37.779051267586226, 0], [180, 39.73503635576973, 0], [181, 36.72706010671233, 0], [182, 37.90050779160479, 0], [183, 37.23384238291706, 0], [184, 37.573950871605994, 0], [185, 38.77789735482474, 0], [186, 39.843264268080354, 0]]\n",
            "[[190, 38.98536881468139, 0], [195, 33.999723113076115, 0], [196, 38.07984135509619, 0], [199, 37.108734511954566, 0], [200, 40.23419141505943, 0], [202, 38.1975808006936, 0], [204, 37.47481048897769, 0], [207, 39.57523035137753, 0], [208, 35.10741266481776, 0], [209, 37.8075352174287, 0], [210, 37.27966266747971, 0], [213, 39.756363225013445, 0], [216, 35.672598369370824, 0], [220, 40.13131112538703, 0], [221, 35.87685863382693, 0], [223, 40.19119709178482, 0]]\n",
            "[[225, 34.880207666044626, 0], [229, 35.80987657243787, 0], [230, 35.93790223992404, 0], [231, 36.94648675238116, 0], [235, 40.132235935460685, 0], [236, 34.72810939268703, 0], [237, 37.436357702215155, 0], [241, 38.888859466580115, 0], [243, 40.35077691638798, 0], [247, 37.59864076455035, 0], [248, 40.32891963872992, 0], [249, 37.504024836158514, 0], [253, 34.72648716548109, 0], [254, 35.55016780252147, 0], [255, 37.687934406726164, 0], [256, 35.506741541714675, 0]]\n",
            "[[260, 33.07684484145747, 0], [265, 37.927092245779654, 0]]\n",
            "[36.6712535204149, 36.53420779330872, 37.011540162289215, 37.140449816760295, 37.35258010355687, 37.473463432891, 37.84240124037661, 37.125858050000055, 35.50196854361856]\n",
            "\n",
            "Grupos de sexo Hembra: \n",
            "[[0, 39.525394649262836, 0], [1, 34.68378620669593, 0], [9, 33.5922360075508, 0], [10, 35.639791411621815, 0], [11, 39.07146772990752, 0], [13, 39.81883987885834, 0], [14, 42.164142717859114, 0], [16, 36.92996359102311, 0], [17, 35.209114702474956, 0], [18, 41.810572163136925, 0], [19, 32.51054900845416, 0], [21, 41.20555325967945, 0], [22, 31.585023866787285, 0], [23, 36.60646253095862, 0], [24, 40.84386151926333, 0], [26, 36.506714487926736, 0]]\n",
            "[[27, 35.8901166440381, 0], [30, 35.612049559372174, 0], [34, 36.1450777586387, 0], [35, 35.863493970772694, 0], [37, 32.321596226810605, 0], [41, 35.65827879269394, 0], [42, 37.08202448424731, 0], [44, 40.02087542954218, 0], [45, 34.577067037644085, 0], [50, 36.94084196712357, 0], [52, 37.76489162072723, 0], [54, 33.35620534887522, 0], [55, 35.513572839375335, 0], [57, 38.945795945003475, 0], [59, 36.39212919391458, 0], [60, 38.912345902845544, 0]]\n",
            "[[62, 38.83253066970593, 0], [64, 35.88476086364981, 0], [70, 33.66486698635725, 0], [72, 32.70705726894896, 0], [73, 35.14412552831843, 0], [74, 37.8084720043706, 0], [75, 36.616354507641105, 0], [77, 36.00247381429034, 0], [79, 36.90116578772263, 0], [81, 37.122310442133795, 0], [82, 38.216690485914235, 0], [83, 34.88732249450828, 0], [85, 35.12288149492357, 0], [86, 38.100653793074656, 0], [87, 39.37839256152392, 0], [91, 35.98091734192613, 0]]\n",
            "[[92, 37.7182039555604, 0], [95, 40.228420072091254, 0], [96, 35.45177205713546, 0], [97, 36.43003934629763, 0], [99, 38.009767682185775, 0], [103, 40.209475821311585, 0], [104, 37.50434157189625, 0], [108, 38.73749117403119, 0], [110, 37.08179805823592, 0], [111, 34.5631614364956, 0], [113, 32.477266907768396, 0], [114, 33.01591155604103, 0], [115, 35.4357249080492, 0], [117, 37.79337911126727, 0], [118, 38.504853155296864, 0], [119, 37.0486609408356, 0]]\n",
            "[[120, 37.95854478123641, 0], [126, 36.54413130361648, 0], [129, 36.3283795704273, 0], [130, 35.61536349590202, 0], [131, 38.52171240371595, 0], [135, 35.644202689800764, 0], [136, 32.701949602573016, 0], [137, 37.512280598476465, 0], [140, 39.50671298242893, 0], [141, 39.648263256661934, 0], [143, 38.43882943802556, 0], [148, 35.197236564994476, 0], [149, 37.82187013652675, 0], [150, 34.09156164092957, 0], [153, 36.81619664549825, 0], [154, 35.2712292841963, 0]]\n",
            "[[155, 37.221402384434604, 0], [160, 39.37576109147042, 0], [161, 36.32393089498666, 0], [165, 38.622573384391856, 0], [166, 42.71083110499984, 0], [167, 36.280060689651634, 0], [168, 34.332440864649925, 0], [170, 35.88262435073321, 0], [172, 35.18134187896757, 0], [175, 36.156268395781524, 0], [179, 42.44401759777507, 0], [187, 39.44723019173297, 0], [188, 35.99275612050896, 0], [189, 38.15480250724985, 0], [191, 37.55917611187313, 0], [192, 38.04475802744664, 0]]\n",
            "[[193, 37.029591928770856, 0], [194, 33.11422590881363, 0], [197, 40.27890306128383, 0], [198, 37.037071342570385, 0], [201, 34.54099300479077, 0], [203, 37.53420790328743, 0], [205, 41.79793879457046, 0], [206, 34.19017329929113, 0], [211, 34.10897334195593, 0], [212, 36.66378918286241, 0], [214, 35.875175781327194, 0], [215, 33.22997050514301, 0], [217, 34.30420861727628, 0], [218, 36.23965109257401, 0], [219, 36.476941115639946, 0], [222, 36.53823066173799, 0]]\n",
            "[[224, 34.765758062059774, 0], [226, 35.015319277191836, 0], [227, 38.8895084417103, 0], [228, 36.245010308149084, 0], [232, 40.64090681368117, 0], [233, 39.84366514705062, 0], [234, 40.150108449305996, 0], [238, 35.834676741965914, 0], [239, 38.8409740150821, 0], [240, 35.05739511879385, 0], [242, 35.001458330387074, 0], [244, 37.163647773387616, 0], [245, 38.57879772409143, 0], [246, 32.12547729854103, 0], [250, 39.13791992975488, 0], [251, 37.08072450477353, 0]]\n",
            "[[252, 37.20348997040389, 0], [257, 37.23558916516328, 0]]\n",
            "[37.35646710821631, 36.31227267010155, 36.3981860028131, 36.888141734656216, 36.72615402468814, 37.733123474790865, 36.18500284636846, 37.14820924599539, 37.219539567783585]\n",
            "\n"
          ],
          "name": "stdout"
        },
        {
          "output_type": "display_data",
          "data": {
            "image/png": "[encoded data removed]",
            "text/plain": [
              "<Figure size 576x396 with 1 Axes>"
            ]
          },
          "metadata": {
            "tags": []
          }
        }
      ]
    },
    {
      "metadata": {
        "colab_type": "text",
        "id": "eGDB4K6uk1iN"
      },
      "cell_type": "markdown",
      "source": [
        "(*)Calcula la complejidad del algoritmo "
      ]
    },
    {
      "metadata": {
        "colab_type": "text",
        "id": "NhpTh_BPk1ms"
      },
      "cell_type": "markdown",
      "source": [
        "Respuesta"
      ]
    },
    {
      "metadata": {
        "colab_type": "code",
        "id": "nREzhkStlCq8",
        "colab": {}
      },
      "cell_type": "code",
      "source": [
        ""
      ],
      "execution_count": 0,
      "outputs": []
    },
    {
      "metadata": {
        "colab_type": "text",
        "id": "3M6QjTsSkmYe"
      },
      "cell_type": "markdown",
      "source": [
        "Según el problema (y tenga sentido), diseña un juego de datos de entrada aleatorios"
      ]
    },
    {
      "metadata": {
        "colab_type": "text",
        "id": "Jc3_OlyNkvjZ"
      },
      "cell_type": "markdown",
      "source": [
        "Respuesta"
      ]
    },
    {
      "metadata": {
        "colab_type": "code",
        "id": "sJ-N2etjkyWc",
        "colab": {}
      },
      "cell_type": "code",
      "source": [
        "import pandas as pd\n",
        "import random\n",
        "\n",
        "# Inicialización de variables globales\n",
        "nAnimals = 3000\n",
        "nTreats = 3\n",
        "nGroups = 3\n",
        "\n",
        "# Creación de un dataset de muestra\n",
        "MUESTRA = pd.DataFrame()\n",
        "MUESTRA[\"Id\"] = [i for i in range(nAnimals)]\n",
        "MUESTRA[\"Peso\"] = [random.gauss(37, 2.1) for i in range(nAnimals)]\n",
        "MUESTRA[\"Sexo\"] = [random.getrandbits(1) for i in range(nAnimals)]"
      ],
      "execution_count": 0,
      "outputs": []
    },
    {
      "metadata": {
        "colab_type": "text",
        "id": "zy5ZROmjlGo1"
      },
      "cell_type": "markdown",
      "source": [
        "Aplica el algoritmo al juego de datos generado"
      ]
    },
    {
      "metadata": {
        "colab_type": "text",
        "id": "_Cmj-PVylMsa"
      },
      "cell_type": "markdown",
      "source": [
        "Respuesta"
      ]
    },
    {
      "metadata": {
        "colab_type": "code",
        "id": "Jkx8GeiYlUz1",
        "colab": {}
      },
      "cell_type": "code",
      "source": [
        ""
      ],
      "execution_count": 0,
      "outputs": []
    },
    {
      "metadata": {
        "colab_type": "text",
        "id": "eTFWUJQrtGcv"
      },
      "cell_type": "markdown",
      "source": [
        "Enumera las referencias que has utilizado(si ha sido necesario) para llevar a cabo el trabajo"
      ]
    },
    {
      "metadata": {
        "colab_type": "text",
        "id": "YKQ_mRBttWsP"
      },
      "cell_type": "markdown",
      "source": [
        "Respuesta"
      ]
    },
    {
      "metadata": {
        "colab_type": "text",
        "id": "kAkDPUyRtYyH"
      },
      "cell_type": "markdown",
      "source": [
        "Describe brevemente las lineas de como crees que es posible avanzar en el estudio del problema. Ten en cuenta incluso posibles variaciones del problema y/o variaciones al alza del tamaño"
      ]
    },
    {
      "metadata": {
        "colab_type": "text",
        "id": "IE0uZmo-tZu-"
      },
      "cell_type": "markdown",
      "source": [
        "Respuesta"
      ]
    }
  ]
}