{
  "nbformat": 4,
  "nbformat_minor": 0,
  "metadata": {
    "colab": {
      "name": "SEMINARIO_Augusto_Afonso.ipynb",
      "version": "0.3.2",
      "provenance": [],
      "collapsed_sections": [],
      "include_colab_link": true
    },
    "kernelspec": {
      "display_name": "Python 3",
      "language": "python",
      "name": "python3"
    }
  },
  "cells": [
    {
      "cell_type": "markdown",
      "metadata": {
        "id": "view-in-github",
        "colab_type": "text"
      },
      "source": [
        "<a href=\"https://colab.research.google.com/github/a-afonso/03MAIR-Algoritmos-de-optimizacion/blob/master/SEMINARIO/SEMINARIO_Augusto_Afonso.ipynb\" target=\"_parent\"><img src=\"https://colab.research.google.com/assets/colab-badge.svg\" alt=\"Open In Colab\"/></a>"
      ]
    },
    {
      "metadata": {
        "colab_type": "text",
        "id": "hVbXYX-RfPWh"
      },
      "cell_type": "markdown",
      "source": [
        "# Algoritmos de optimización - Seminario<br>\n",
        "<b>Nombre y Apellidos: </b>Augusto Afonso Losada <br>\n",
        "<b>Url: </b>https://github.com/a-afonso/03MAIR-Algoritmos-de-optimizacion/tree/master/SEMINARIO<br>\n",
        "  <b>Problema:</b>\n",
        "> 1. Elección de grupos de población homogéneos <br>\n",
        "\n",
        "<b>Descripción del problema: </b>Una productora ganadera nos encarga la tarea de seleccionar grupos de terneros para aplicar 3 tratamientos diferentes. Para cada uno de los tratamientos debemos seleccionar 3 grupos de terneros que sean lo mas homogéneos posible en peso para que en los resultados del tratamiento influya lo menos posible el peso del animal. Disponemos de una población de N animales entre machos y hembras.<br>\n",
        "<br>\n",
        "Se solicita diseñar un algoritmo para conseguir una agrupación que cumpla de la mejor manera posible las especificaciones de la productora.<br>\n",
        "<br>\n",
        "\n",
        "(*) La respuesta es obligatoria\n",
        "\n",
        "\n",
        "\n",
        "\n",
        "\n",
        "                                        "
      ]
    },
    {
      "metadata": {
        "colab_type": "code",
        "id": "zu9aZ8S-grjy",
        "colab": {}
      },
      "cell_type": "code",
      "source": [
        ""
      ],
      "execution_count": 0,
      "outputs": []
    },
    {
      "metadata": {
        "colab_type": "text",
        "id": "3_-exlrTgLd-"
      },
      "cell_type": "markdown",
      "source": [
        "(*)¿Cuantas posibilidades hay sin tener en cuenta las restricciones?\n",
        "\n",
        "¿Cuantas posibilidades hay teniendo en cuenta todas las restricciones?\n",
        "\n",
        "\n",
        "\n"
      ]
    },
    {
      "metadata": {
        "colab_type": "text",
        "id": "WfCUqJyKhPcw"
      },
      "cell_type": "markdown",
      "source": [
        "**Respuesta**<br>\n",
        "\n",
        "Para calcular las posibilidades sin restricciones, debemos suponer que son N animales (independientemente del sexo) y que el peso no influye en la solución.<br>\n",
        "\n",
        "En estas circunstancias, tenemos 3 tratamientos x 3 grupos = 9 grupos efectivos, por lo cual lo que tenemos son combinaciones de N elementos tomados de 9 en 9 y sin repetición, es decir:<br>\n",
        "\n",
        "*   N! / 9! (N-9)!\n",
        "\n",
        "<br>\n",
        "En el caso con restricciones, aunque podría parecer que la solución puede ser única (la que proponga la combinación más homogénea), en realidad no es posible determinar con exactitud el número de posibles soluciones, ya que por ejemplo, puede haber animales del mismo sexo con el mismo peso, en cuyo caso podrían caer en cualquiera de los grupos efectivos del propio sexo indistintamente.<br>\n",
        "\n",
        "La peor de las situaciones sería aquella en la que todos los animales tienen el mismo peso y el sexo está divido exactamente al 50%, porque cualquier combinación sería posible, con lo cual las posibilidades coincidirían con el caso anterior:<br>\n",
        "\n",
        "*   N! / 9! (N-9)!\n",
        "\n",
        "Paradójicamente, en este último caso cualquier combinación sería la solución óptima, ya que cumpliría con el criterio solicitado.<br>"
      ]
    },
    {
      "metadata": {
        "colab_type": "code",
        "id": "iq6Fe32MgpDX",
        "colab": {}
      },
      "cell_type": "code",
      "source": [
        ""
      ],
      "execution_count": 0,
      "outputs": []
    },
    {
      "metadata": {
        "colab_type": "text",
        "id": "dzynfVJahHoY"
      },
      "cell_type": "markdown",
      "source": [
        "Modelo para el espacio de soluciones<br>\n",
        "(*) ¿Cual es la estructura de datos que mejor se adapta al problema? Arguméntalo.(Es posible que hayas elegido una al principio y veas la necesidad de cambiar, arguméntalo).\n"
      ]
    },
    {
      "metadata": {
        "colab_type": "text",
        "id": "xFIJrOwKi2Ti"
      },
      "cell_type": "markdown",
      "source": [
        "**Respuesta**\n",
        "\n",
        "Es posible utilizar una lista de listas para contener la estructura de datos de entrada. La lista contendría N elementos de tipo lista. En esta última estructura, habría tres valores: el identificador del animal, el peso y el sexo.<br>\n",
        "\n",
        "La estructura de datos devuelta sería una lista de 9 elementos, tantos como grupos efectivos de cada sexo, que a su vez serían listas. Estas últimas tendrían una estructura en la cual sus elementos serían los identificadores de los animales de cada uno de los grupos efectivos."
      ]
    },
    {
      "metadata": {
        "colab_type": "code",
        "id": "38c-7-ejhJmA",
        "colab": {}
      },
      "cell_type": "code",
      "source": [
        ""
      ],
      "execution_count": 0,
      "outputs": []
    },
    {
      "metadata": {
        "colab_type": "text",
        "id": "7Z9U2W7bi-XS"
      },
      "cell_type": "markdown",
      "source": [
        "Según el modelo para el espacio de soluciones<br>\n",
        "(*)¿Cual es la función objetivo?\n",
        "\n",
        "(*)¿Es un problema de maximización o minimización?"
      ]
    },
    {
      "metadata": {
        "colab_type": "text",
        "id": "hBalWLM7j1_d"
      },
      "cell_type": "markdown",
      "source": [
        "**Respuesta**\n",
        "\n",
        "Para responder a estas preguntas, habría que definir el concepto de *\"Homogeneidad de un Grupo Efectivo de animales\"*.<br>\n",
        "\n",
        "*   Homogeneidad de un Grupo Efectivo de animales (HGE): Peso medio de los animales que componen un grupo efectivo de animales. Donde un grupo efectivo de animales (GE) equivale al conjunto de animales en cada uno de los conjuntos formados por el cómputo de 3 tratamientos x 3 grupos. Es decir hay 9 grupos efectivos (por cada sexo) con sus animales.\n",
        "\n",
        "Para un determinado GE, habría que calcular su HGE, comparándola con lo desviada que está respecto al peso medio de toda la muestra. La combinación óptima será aquella en la que dicha desviación de todos los GE con respecto al peso medio, es mínima.<br>\n",
        "\n",
        "Por lo tanto es un problema de minimización. \n",
        "\n"
      ]
    },
    {
      "metadata": {
        "colab_type": "code",
        "id": "pDA-rg3Gj5Lz",
        "colab": {}
      },
      "cell_type": "code",
      "source": [
        ""
      ],
      "execution_count": 0,
      "outputs": []
    },
    {
      "metadata": {
        "colab_type": "text",
        "id": "rlnTYgY1j6I2"
      },
      "cell_type": "markdown",
      "source": [
        "Diseña un algoritmo para resolver el problema por fuerza bruta"
      ]
    },
    {
      "metadata": {
        "colab_type": "text",
        "id": "70rDgxYXkC8r"
      },
      "cell_type": "markdown",
      "source": [
        "Respuesta"
      ]
    },
    {
      "metadata": {
        "colab_type": "code",
        "id": "CJb5sQ0qkENy",
        "colab": {}
      },
      "cell_type": "code",
      "source": [
        ""
      ],
      "execution_count": 0,
      "outputs": []
    },
    {
      "metadata": {
        "colab_type": "text",
        "id": "tgrnsC2nkFa8"
      },
      "cell_type": "markdown",
      "source": [
        "Calcula la complejidad del algoritmo por fuerza bruta"
      ]
    },
    {
      "metadata": {
        "colab_type": "text",
        "id": "9eUd3xwckP68"
      },
      "cell_type": "markdown",
      "source": [
        "Respuesta"
      ]
    },
    {
      "metadata": {
        "colab_type": "code",
        "id": "rvZWwL-ckRST",
        "colab": {}
      },
      "cell_type": "code",
      "source": [
        ""
      ],
      "execution_count": 0,
      "outputs": []
    },
    {
      "metadata": {
        "colab_type": "text",
        "id": "txbrmLmskReM"
      },
      "cell_type": "markdown",
      "source": [
        "(*)Diseña un algoritmo que mejore la complejidad del algortimo por fuerza bruta. Argumenta porque crees que mejora el algoritmo por fuerza bruta"
      ]
    },
    {
      "metadata": {
        "colab_type": "text",
        "id": "hLrVwt5QkZPD"
      },
      "cell_type": "markdown",
      "source": [
        "Respuesta"
      ]
    },
    {
      "metadata": {
        "colab_type": "code",
        "id": "m1eyM21Vkabg",
        "colab": {}
      },
      "cell_type": "code",
      "source": [
        ""
      ],
      "execution_count": 0,
      "outputs": []
    },
    {
      "metadata": {
        "colab_type": "text",
        "id": "eGDB4K6uk1iN"
      },
      "cell_type": "markdown",
      "source": [
        "(*)Calcula la complejidad del algoritmo "
      ]
    },
    {
      "metadata": {
        "colab_type": "text",
        "id": "NhpTh_BPk1ms"
      },
      "cell_type": "markdown",
      "source": [
        "Respuesta"
      ]
    },
    {
      "metadata": {
        "colab_type": "code",
        "id": "nREzhkStlCq8",
        "colab": {}
      },
      "cell_type": "code",
      "source": [
        ""
      ],
      "execution_count": 0,
      "outputs": []
    },
    {
      "metadata": {
        "colab_type": "text",
        "id": "3M6QjTsSkmYe"
      },
      "cell_type": "markdown",
      "source": [
        "Según el problema (y tenga sentido), diseña un juego de datos de entrada aleatorios"
      ]
    },
    {
      "metadata": {
        "colab_type": "text",
        "id": "Jc3_OlyNkvjZ"
      },
      "cell_type": "markdown",
      "source": [
        "Respuesta"
      ]
    },
    {
      "metadata": {
        "colab_type": "code",
        "id": "sJ-N2etjkyWc",
        "colab": {}
      },
      "cell_type": "code",
      "source": [
        "import pandas as pd\n",
        "import random\n",
        "\n",
        "# Inicialización de variables globales\n",
        "nAnimals = 3000\n",
        "nTreats = 3\n",
        "nGroups = 3\n",
        "\n",
        "# Creación de un dataset de muestra\n",
        "MUESTRA = pd.DataFrame()\n",
        "MUESTRA[\"Id\"] = [i for i in range(nAnimals)]\n",
        "MUESTRA[\"Peso\"] = [random.gauss(37, 2.1) for i in range(nAnimals)]\n",
        "MUESTRA[\"Sexo\"] = [random.getrandbits(1) for i in range(nAnimals)]"
      ],
      "execution_count": 0,
      "outputs": []
    },
    {
      "metadata": {
        "colab_type": "text",
        "id": "zy5ZROmjlGo1"
      },
      "cell_type": "markdown",
      "source": [
        "Aplica el algoritmo al juego de datos generado"
      ]
    },
    {
      "metadata": {
        "colab_type": "text",
        "id": "_Cmj-PVylMsa"
      },
      "cell_type": "markdown",
      "source": [
        "Respuesta"
      ]
    },
    {
      "metadata": {
        "colab_type": "code",
        "id": "Jkx8GeiYlUz1",
        "colab": {}
      },
      "cell_type": "code",
      "source": [
        ""
      ],
      "execution_count": 0,
      "outputs": []
    },
    {
      "metadata": {
        "colab_type": "text",
        "id": "eTFWUJQrtGcv"
      },
      "cell_type": "markdown",
      "source": [
        "Enumera las referencias que has utilizado(si ha sido necesario) para llevar a cabo el trabajo"
      ]
    },
    {
      "metadata": {
        "colab_type": "text",
        "id": "YKQ_mRBttWsP"
      },
      "cell_type": "markdown",
      "source": [
        "Respuesta"
      ]
    },
    {
      "metadata": {
        "colab_type": "text",
        "id": "kAkDPUyRtYyH"
      },
      "cell_type": "markdown",
      "source": [
        "Describe brevemente las lineas de como crees que es posible avanzar en el estudio del problema. Ten en cuenta incluso posibles variaciones del problema y/o variaciones al alza del tamaño"
      ]
    },
    {
      "metadata": {
        "colab_type": "text",
        "id": "IE0uZmo-tZu-"
      },
      "cell_type": "markdown",
      "source": [
        "Respuesta"
      ]
    }
  ]
}