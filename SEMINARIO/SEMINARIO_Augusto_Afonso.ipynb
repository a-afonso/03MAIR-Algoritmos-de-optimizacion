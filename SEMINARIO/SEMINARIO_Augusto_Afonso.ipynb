{
  "nbformat": 4,
  "nbformat_minor": 0,
  "metadata": {
    "colab": {
      "name": "SEMINARIO_Augusto_Afonso.ipynb",
      "version": "0.3.2",
      "provenance": [],
      "collapsed_sections": [],
      "include_colab_link": true
    },
    "kernelspec": {
      "display_name": "Python 3",
      "language": "python",
      "name": "python3"
    }
  },
  "cells": [
    {
      "cell_type": "markdown",
      "metadata": {
        "id": "view-in-github",
        "colab_type": "text"
      },
      "source": [
        "<a href=\"https://colab.research.google.com/github/a-afonso/03MAIR-Algoritmos-de-optimizacion/blob/master/SEMINARIO/SEMINARIO_Augusto_Afonso.ipynb\" target=\"_parent\"><img src=\"https://colab.research.google.com/assets/colab-badge.svg\" alt=\"Open In Colab\"/></a>"
      ]
    },
    {
      "metadata": {
        "colab_type": "text",
        "id": "hVbXYX-RfPWh"
      },
      "cell_type": "markdown",
      "source": [
        "# Algoritmos de optimización - Seminario<br>\n",
        "<b>Nombre y Apellidos: </b>Augusto Afonso Losada <br>\n",
        "<b>Url: </b>https://github.com/a-afonso/03MAIR-Algoritmos-de-optimizacion/tree/master/SEMINARIO<br>\n",
        "  <b>Problema:</b>\n",
        "> 1. Elección de grupos de población homogéneos <br>\n",
        "\n",
        "<b>Descripción del problema: </b>Una productora ganadera nos encarga la tarea de seleccionar grupos de terneros para aplicar 3 tratamientos diferentes. Para cada uno de los tratamientos debemos seleccionar 3 grupos de terneros que sean lo mas homogéneos posible en peso para que en los resultados del tratamiento influya lo menos posible el peso del animal. Disponemos de una población de N animales entre machos y hembras.<br>\n",
        "<br>\n",
        "Se solicita diseñar un algoritmo para conseguir una agrupación que cumpla de la mejor manera posible las especificaciones de la productora.<br>\n",
        "<br>\n",
        "\n",
        "(*) La respuesta es obligatoria\n",
        "\n",
        "\n",
        "\n",
        "\n",
        "\n",
        "                                        "
      ]
    },
    {
      "metadata": {
        "colab_type": "code",
        "id": "zu9aZ8S-grjy",
        "colab": {}
      },
      "cell_type": "code",
      "source": [
        ""
      ],
      "execution_count": 0,
      "outputs": []
    },
    {
      "metadata": {
        "colab_type": "text",
        "id": "3_-exlrTgLd-"
      },
      "cell_type": "markdown",
      "source": [
        "(*)¿Cuantas posibilidades hay sin tener en cuenta las restricciones?\n",
        "\n",
        "¿Cuantas posibilidades hay teniendo en cuenta todas las restricciones?\n",
        "\n",
        "\n",
        "\n"
      ]
    },
    {
      "metadata": {
        "colab_type": "text",
        "id": "WfCUqJyKhPcw"
      },
      "cell_type": "markdown",
      "source": [
        "**Respuesta**<br>\n",
        "\n",
        "Para calcular las posibilidades sin restricciones, debemos suponer que son N animales, independientemente del sexo. La solución se obtendría realizando todas las combinaciones posibles, evaluando cada una de ellas y quedándonos con la mejor.<br>\n",
        "\n",
        "En estas circunstancias, serían 3 tratamientos x 3 grupos = 9 grupos efectivos por lo cual, lo que tenemos, son combinaciones de N elementos tomados de 9 en 9 y sin repetición, es decir:<br>\n",
        "\n",
        "*   N! / (9! (N-9)!)\n",
        "\n",
        "<br>\n",
        "En el caso con restricciones, aunque podría parecer que la solución puede ser única (la que proponga la combinación más homogénea), en realidad no es posible determinar con exactitud el número de posibles soluciones, ya que por ejemplo, puede haber animales del mismo sexo con el mismo peso, en cuyo caso podrían caer en cualquiera de los grupos efectivos del propio sexo indistintamente.<br>\n",
        "\n",
        "La peor de las situaciones, sería aquella en la que todos los animales tienen el mismo peso y el sexo está divido exactamente al 50%, porque cualquier combinación en cada sexo sería posible, con lo cual las posibilidades vendrían a ser:<br>\n",
        "\n",
        "*   (N/2)! / (9! ((N/2)-9)!)\n",
        "\n",
        "Paradójicamente, en este último caso cualquier combinación sería la solución óptima, ya que cumpliría con el criterio solicitado.<br>"
      ]
    },
    {
      "metadata": {
        "colab_type": "code",
        "id": "iq6Fe32MgpDX",
        "colab": {}
      },
      "cell_type": "code",
      "source": [
        ""
      ],
      "execution_count": 0,
      "outputs": []
    },
    {
      "metadata": {
        "colab_type": "text",
        "id": "dzynfVJahHoY"
      },
      "cell_type": "markdown",
      "source": [
        "Modelo para el espacio de soluciones<br>\n",
        "(*) ¿Cual es la estructura de datos que mejor se adapta al problema? Arguméntalo.(Es posible que hayas elegido una al principio y veas la necesidad de cambiar, arguméntalo).\n"
      ]
    },
    {
      "metadata": {
        "colab_type": "text",
        "id": "xFIJrOwKi2Ti"
      },
      "cell_type": "markdown",
      "source": [
        "**Respuesta**\n",
        "\n",
        "Podemos utilizar un dataset para contener la estructura de datos de entrada. El dataset contendría N filas y tres columnas. Las columnas serían: el identificador del animal, el peso y el sexo (\"Id\", \"Peso\" y \"Sexo\").<br>\n",
        "\n",
        "La estructura de datos devuelta sería una lista de 2 elementos, una por cada sexo. Cada uno de estos elementos sería a su vez una lista de 9 elementos, tantos como grupos efectivos de cada sexo. A su vez, cada uno de estos elementos sería una lista cuyos elementos serían las \"fichas\" (Id, Peso, etc.) de los animales de cada uno de los grupos efectivos."
      ]
    },
    {
      "metadata": {
        "colab_type": "code",
        "id": "38c-7-ejhJmA",
        "colab": {}
      },
      "cell_type": "code",
      "source": [
        ""
      ],
      "execution_count": 0,
      "outputs": []
    },
    {
      "metadata": {
        "colab_type": "text",
        "id": "7Z9U2W7bi-XS"
      },
      "cell_type": "markdown",
      "source": [
        "Según el modelo para el espacio de soluciones<br>\n",
        "(*)¿Cual es la función objetivo?\n",
        "\n",
        "(*)¿Es un problema de maximización o minimización?"
      ]
    },
    {
      "metadata": {
        "colab_type": "text",
        "id": "hBalWLM7j1_d"
      },
      "cell_type": "markdown",
      "source": [
        "**Respuesta**\n",
        "\n",
        "Para responder a estas preguntas, habría que definir el concepto de *\"Homogeneidad de un Grupo Efectivo de animales\"*.<br>\n",
        "\n",
        "*   Homogeneidad de un Grupo Efectivo de animales (HGE): Peso medio de los animales que componen un grupo efectivo de animales. Donde un grupo efectivo de animales (GE) equivale al conjunto de animales en cada uno de los conjuntos formados por el cómputo de 3 tratamientos x 3 grupos. Es decir hay 9 grupos efectivos (por cada sexo) con sus animales.\n",
        "\n",
        "Para un determinado GE, habría que calcular su HGE, comparándola con lo desviada que está respecto al peso medio de toda la muestra. La combinación óptima será aquella en la que dicha desviación de todos los GE con respecto al peso medio, es mínima.<br>\n",
        "\n",
        "Por lo tanto es un problema de minimización. \n",
        "\n"
      ]
    },
    {
      "metadata": {
        "colab_type": "code",
        "id": "pDA-rg3Gj5Lz",
        "colab": {}
      },
      "cell_type": "code",
      "source": [
        ""
      ],
      "execution_count": 0,
      "outputs": []
    },
    {
      "metadata": {
        "colab_type": "text",
        "id": "rlnTYgY1j6I2"
      },
      "cell_type": "markdown",
      "source": [
        "Diseña un algoritmo para resolver el problema por fuerza bruta"
      ]
    },
    {
      "metadata": {
        "colab_type": "text",
        "id": "70rDgxYXkC8r"
      },
      "cell_type": "markdown",
      "source": [
        "Respuesta"
      ]
    },
    {
      "metadata": {
        "colab_type": "code",
        "id": "CJb5sQ0qkENy",
        "outputId": "fd94d986-87ca-4442-ddfe-57c113a1df8d",
        "colab": {
          "base_uri": "https://localhost:8080/",
          "height": 71
        }
      },
      "cell_type": "code",
      "source": [
        "import numpy as np\n",
        "import pandas as pd\n",
        "import random\n",
        "import math\n",
        "import sys\n",
        "import matplotlib.pyplot as plt\n",
        "from itertools import permutations\n",
        "\n",
        "# Inicialización de variables globales\n",
        "#   - Escogemos solo una población de 18 animales y 3 grupos por sexo (1x3) \n",
        "#     para las pruebas porque la explosión combinatoria hace que el tiempo\n",
        "#     de ejecución sea excesivo a partir de estos valores\n",
        "#   - Incluso en este caso, si el número de animales queda dividido por sexo\n",
        "#     al 50% (9+9), el tiempo se hace inviable\n",
        "nIndividuals = 18\n",
        "nTreats = 1 \n",
        "nGroups = 3\n",
        "infinito = sys.maxsize\n",
        "\n",
        "# Creación de un dataset de muestra\n",
        "MUESTRA = pd.DataFrame()\n",
        "MUESTRA[\"Id\"] = [i for i in range(nIndividuals)]\n",
        "MUESTRA[\"Peso\"] = [random.gauss(37, 2.1) for i in range(nIndividuals)]\n",
        "MUESTRA[\"Sexo\"] = [random.getrandbits(1) for i in range(nIndividuals)]\n",
        "\n",
        "# Función que resuelve el problema 1 del seminario\n",
        "def do_problem1(MUESTRA, nTreats, nGroups):\n",
        "  \n",
        "  # Calcula el número total de animales de la muestra\n",
        "  nAnimals = len(MUESTRA)\n",
        "\n",
        "  \n",
        "  # Dividimos el dataset de la muestra en dos listas, una para cada sexo\n",
        "  MALE = []\n",
        "  FEMALE = []\n",
        "\n",
        "  for index, row in MUESTRA.iterrows():\n",
        "    if row[\"Sexo\"] == 0:\n",
        "      MALE.append([int(row[\"Id\"]), row[\"Peso\"], 0])\n",
        "    else:\n",
        "      FEMALE.append([int(row[\"Id\"]), row[\"Peso\"], 0])\n",
        "\n",
        "      \n",
        "  # Calcula el número máximo de animales por grupo\n",
        "  nMale = len(MALE)\n",
        "  nFemale = len(FEMALE)\n",
        "\n",
        "  nAnimalsGroup = min(nMale, nFemale) // (nTreats * nGroups)\n",
        "\n",
        "  \n",
        "  # Función local que calcula la homogeneidad de los pesos de una \n",
        "  # permutación\n",
        "  def get_homogeneidad(PERMUTACION, PESOS, p_medio, nTotalGroups, nAnimalsGroup):\n",
        "    TEMP_1 = []\n",
        "    ix = 0\n",
        "    suma = 0\n",
        "    for g in range(nTotalGroups):\n",
        "      TEMP_2 = []\n",
        "      TEMP_3 = []\n",
        "      for i in range(ix, ix+nAnimalsGroup):\n",
        "        TEMP_2.append(PESOS[i])\n",
        "        TEMP_3.append(PERMUTACION[i])\n",
        "      TEMP_1.append(TEMP_3)\n",
        "      ix = ix + nAnimalsGroup\n",
        "\n",
        "      media = np.mean(TEMP_2)\n",
        "      suma = suma + abs(p_medio - media)\n",
        "\n",
        "    return(suma / nTotalGroups, TEMP_1)\n",
        "\n",
        "  \n",
        "  # Función local para crear agrupaciones de cualquier sexo\n",
        "  def group_animals(MSEXO, nTreats, nGroups, nAnimalsGroup):\n",
        "\n",
        "    # Calcula el peso medio\n",
        "    p_medio = np.mean(MSEXO, axis=0)[1]\n",
        "    \n",
        "    # Calcula el número total de grupos\n",
        "    nTotalGroups = nTreats * nGroups\n",
        "\n",
        "    # Calcula el número de animales de la lista\n",
        "    nAnimalsSex = nTotalGroups * nAnimalsGroup\n",
        "\n",
        "    # Ordenamos la muestra por diferencias con respecto a la media\n",
        "    # para excluir los más distantes en peso (de la media)\n",
        "    for a in MSEXO:\n",
        "      a[2] = abs(p_medio - a[1])\n",
        "    MSEXO = sorted(MSEXO, key=lambda x: x[2])\n",
        "    MSEXO = MSEXO[0:nAnimalsSex]\n",
        "\n",
        "    # Calcula el nuevo peso medio\n",
        "    p_medio = np.mean(MSEXO, axis=0)[1]\n",
        "\n",
        "    # Calcula las permutaciones de animales y crea una lista equivalente\n",
        "    # a ellas con sus pesos correspondientes\n",
        "    PERMUTACIONES = list(permutations([MSEXO[i][0] for i in range(0, len(MSEXO))]))\n",
        "\n",
        "    PESOS = []\n",
        "    for PERM in PERMUTACIONES:\n",
        "      P = []\n",
        "      for p in PERM:\n",
        "        P.append(MUESTRA.loc[MUESTRA[\"Id\"] == p, \"Peso\"].iloc[0])\n",
        "      PESOS.append(P)\n",
        "\n",
        "    # Calcula la permutación más homogénea\n",
        "    best_permutacion = []\n",
        "    best_homogeneidad = infinito\n",
        "    for ix in range(len(PERMUTACIONES)):\n",
        "      h, g = get_homogeneidad(PERMUTACIONES[ix], PESOS[ix], p_medio, nTotalGroups, nAnimalsGroup)\n",
        "      if h < best_homogeneidad:\n",
        "        best_permutacion = g\n",
        "        best_homogeneidad = h\n",
        "\n",
        "    return best_permutacion, best_homogeneidad\n",
        "  \n",
        "  # Consigue las agrupaciones de animales macho más homogéneas\n",
        "  RMALE, hM = group_animals(MALE, nTreats, nGroups, nAnimalsGroup)\n",
        "\n",
        "  # Consigue las agrupaciones de animales hembra más homogéneas\n",
        "  RFEMALE, hF = group_animals(FEMALE, nTreats, nGroups, nAnimalsGroup)\n",
        "  \n",
        "  return RMALE, RFEMALE\n",
        "\n",
        "\n",
        "# Calcula e imprime los grupos para una muestra dada\n",
        "agrupaciones = do_problem1(MUESTRA, nTreats, nGroups)\n",
        "\n",
        "print('Grupos de sexo Macho: ', agrupaciones[0])\n",
        "print()\n",
        "print('Grupos de sexo Hembra: ', agrupaciones[1])\n"
      ],
      "execution_count": 24,
      "outputs": [
        {
          "output_type": "stream",
          "text": [
            "Grupos de sexo Macho:  [[17, 10], [12, 7], [14, 4]]\n",
            "\n",
            "Grupos de sexo Hembra:  [[5, 1], [15, 0], [13, 9]]\n"
          ],
          "name": "stdout"
        }
      ]
    },
    {
      "metadata": {
        "colab_type": "text",
        "id": "tgrnsC2nkFa8"
      },
      "cell_type": "markdown",
      "source": [
        "Calcula la complejidad del algoritmo por fuerza bruta"
      ]
    },
    {
      "metadata": {
        "colab_type": "text",
        "id": "9eUd3xwckP68"
      },
      "cell_type": "markdown",
      "source": [
        "Respuesta"
      ]
    },
    {
      "metadata": {
        "colab_type": "code",
        "id": "rvZWwL-ckRST",
        "colab": {}
      },
      "cell_type": "code",
      "source": [
        ""
      ],
      "execution_count": 0,
      "outputs": []
    },
    {
      "metadata": {
        "colab_type": "text",
        "id": "txbrmLmskReM"
      },
      "cell_type": "markdown",
      "source": [
        "(*)Diseña un algoritmo que mejore la complejidad del algortimo por fuerza bruta. Argumenta porque crees que mejora el algoritmo por fuerza bruta"
      ]
    },
    {
      "metadata": {
        "colab_type": "text",
        "id": "hLrVwt5QkZPD"
      },
      "cell_type": "markdown",
      "source": [
        "Respuesta"
      ]
    },
    {
      "metadata": {
        "colab_type": "code",
        "id": "m1eyM21Vkabg",
        "colab": {
          "base_uri": "https://localhost:8080/",
          "height": 379
        },
        "outputId": "724ffa7f-e07f-45f6-b61a-32205725b903"
      },
      "cell_type": "code",
      "source": [
        "import numpy as np\n",
        "import pandas as pd\n",
        "import random\n",
        "import math\n",
        "import matplotlib.pyplot as plt\n",
        "from itertools import permutations\n",
        "import matplotlib.pyplot as plt\n",
        "\n",
        "\n",
        "# Función que imprime un gráfico con varias series\n",
        "def print_graph(SERIES, TSERIES, TEJES, COLORES):\n",
        "  fig, axes = plt.subplots(1, 1)\n",
        "  \n",
        "  for i in range(len(SERIES)):\n",
        "    axes.plot(np.arange(len(SERIES[i])), SERIES[i], COLORES[i])\n",
        "    \n",
        "  plt.legend(TSERIES, loc='best') \n",
        "  axes.set_xlabel(TEJES[0])\n",
        "  axes.set_ylabel(TEJES[1])\n",
        "  \n",
        "  plt.show()\n",
        "  \n",
        "\n",
        "# Inicialización de variables globales\n",
        "nIndividuals = 500\n",
        "nTreats = 3 \n",
        "nGroups = 3\n",
        "\n",
        "\n",
        "# Creación de un dataset de muestra\n",
        "MUESTRA = pd.DataFrame()\n",
        "#random.seed(30000)\n",
        "MUESTRA[\"Id\"] = [i for i in range(nIndividuals)]\n",
        "MUESTRA[\"Peso\"] = [random.gauss(37, 2.1) for i in range(nIndividuals)]\n",
        "MUESTRA[\"Sexo\"] = [random.getrandbits(1) for i in range(nIndividuals)]\n",
        "\n",
        "\n",
        "# Función mejorada que resuelve el problema 1 del seminario\n",
        "def do_problem1(MUESTRA, nTreats, nGroups, options):\n",
        "  \n",
        "  # Calcula el número total de animales de la muestra\n",
        "  nAnimals = len(MUESTRA)\n",
        "\n",
        "  \n",
        "  # Dividimos el dataset de la muestra en dos listas, una para cada sexo\n",
        "  MALE = []\n",
        "  FEMALE = []\n",
        "\n",
        "  for index, row in MUESTRA.iterrows():\n",
        "    if row[\"Sexo\"] == 0:\n",
        "      MALE.append([int(row[\"Id\"]), row[\"Peso\"], 0])\n",
        "    else:\n",
        "      FEMALE.append([int(row[\"Id\"]), row[\"Peso\"], 0])\n",
        "\n",
        "      \n",
        "  # Calcula el número máximo de animales por grupo\n",
        "  nMale = len(MALE)\n",
        "  nFemale = len(FEMALE)\n",
        "\n",
        "  nAnimalsGroup = min(nMale, nFemale) // (nTreats * nGroups)\n",
        "\n",
        "  \n",
        "  # Función local para crear agrupaciones de cualquier sexo\n",
        "  def group_animals(MSEXO, nTreats, nGroups, nAnimalsGroup, options):\n",
        "\n",
        "    # Calcula el peso medio\n",
        "    p_medio = np.mean(MSEXO, axis=0)[1]\n",
        "    \n",
        "    # Calcula el número total de grupos\n",
        "    nTotalGroups = nTreats * nGroups\n",
        "\n",
        "    # Calcula el número de animales de la lista\n",
        "    nAnimalsSex = nTotalGroups * nAnimalsGroup\n",
        "\n",
        "    # Ordenamos la muestra por diferencias con respecto a la media\n",
        "    # para excluir los más distantes en peso (de la media)\n",
        "    if options == \"Ordenada\":\n",
        "      for a in MSEXO:\n",
        "        a[2] = abs(p_medio - a[1])\n",
        "      MSEXO = sorted(MSEXO, key=lambda x: x[2])\n",
        "      MSEXO = MSEXO[0:nAnimalsSex]\n",
        "\n",
        "      # Reordenamos la muestra por pesos\n",
        "      MSEXO = sorted(MSEXO, key=lambda x: x[1])\n",
        "\n",
        "      # Crea los grupos más homogéneos posible, escogiendo un individuo por cada\n",
        "      # nTotalGroups, de forma que en cada grupo entren individuos significativos \n",
        "      # de cada zona de la lista ya ordenada por pesos\n",
        "      TEMP_1 = []\n",
        "      for i in range(nTotalGroups):\n",
        "        TEMP_2 = []\n",
        "\n",
        "        for j in range(i, nAnimalsSex, nTotalGroups):\n",
        "          TEMP_2.append([MSEXO[j][0], MSEXO[j][1]])\n",
        "\n",
        "        TEMP_1.append(TEMP_2)\n",
        "    # Si se solicita la agrupación sin ordenación, devuelve los grupos tal y\n",
        "    # como están etiquetados los animales (esta opción solo es útil para\n",
        "    # comprobar gráficamente la diferencia entre los modos de ordenación \n",
        "    # y sin ella)\n",
        "    else:\n",
        "      MSEXO = MSEXO[0:nAnimalsSex]\n",
        "      \n",
        "      TEMP_1 = []\n",
        "      TEMP_2 = []\n",
        "      i = 0\n",
        "      while i < nAnimalsSex:\n",
        "        if i % nAnimalsGroup == 0:\n",
        "          TEMP_2 = []\n",
        "          \n",
        "        TEMP_2.append([MSEXO[i][0], MSEXO[i][1]])\n",
        "          \n",
        "        if i % nAnimalsGroup == 0:\n",
        "          TEMP_1.append(TEMP_2)\n",
        "          \n",
        "        i = i + 1;\n",
        "        \n",
        "    return TEMP_1\n",
        "  \n",
        "  # Consigue las agrupaciones de animales macho más homogéneas\n",
        "  RMALE = group_animals(MALE, nTreats, nGroups, nAnimalsGroup, options)\n",
        "  \n",
        "  # Consigue las agrupaciones de animales hembra más homogéneas\n",
        "  RFEMALE = group_animals(FEMALE, nTreats, nGroups, nAnimalsGroup, options)\n",
        "  \n",
        "  return RMALE, RFEMALE\n",
        "\n",
        "\n",
        "# Calcula e imprime los grupos para una muestra dada\n",
        "agrupaciones = do_problem1(MUESTRA, nTreats, nGroups, 'Ordenada')\n",
        "\n",
        "#print('Grupos de sexo Macho: ')\n",
        "LPM = []\n",
        "for i in agrupaciones[0]:\n",
        "  p_medio = np.mean(i, axis=0)[1]\n",
        "  LPM.append(p_medio)\n",
        "  #print(i)\n",
        "#print(LPM)\n",
        "#print()\n",
        "\n",
        "#print('Grupos de sexo Hembra: ')\n",
        "LPF = []\n",
        "for i in agrupaciones[1]:\n",
        "  p_medio = np.mean(i, axis=0)[1]\n",
        "  LPF.append(p_medio)\n",
        "  #print(i)\n",
        "#print(LPF)\n",
        "#print()\n",
        "\n",
        "\n",
        "# Calcula e imprime los grupos sin ordenar\n",
        "agrupaciones = do_problem1(MUESTRA, nTreats, nGroups, '')\n",
        "\n",
        "#print('Grupos de sexo Macho: ')\n",
        "LPMU = []\n",
        "for i in agrupaciones[0]:\n",
        "  p_medio = np.mean(i, axis=0)[1]\n",
        "  LPMU.append(p_medio)\n",
        "  #print(i)\n",
        "#print(LPMU)\n",
        "#print()\n",
        "\n",
        "#print('Grupos de sexo Hembra: ')\n",
        "LPFU = []\n",
        "for i in agrupaciones[1]:\n",
        "  p_medio = np.mean(i, axis=0)[1]\n",
        "  LPFU.append(p_medio)\n",
        "  #print(i)\n",
        "#print(LPFU)\n",
        "#print()\n",
        "\n",
        "\n",
        "# Imprime un gráfico comparativo\n",
        "print('Comparativa entre grupos con pesos previamente ordenados y no ordenados:')\n",
        "\n",
        "SERIES = []\n",
        "SERIES.append(LPM)\n",
        "SERIES.append(LPF)\n",
        "SERIES.append(LPMU)\n",
        "SERIES.append(LPFU)\n",
        "m = (np.mean(LPM) + np.mean(LPF)) / 2\n",
        "SERIES.append([m for _ in range(nTreats * nGroups)])\n",
        "\n",
        "TITULOS = ['Machos (O)', 'Hembras (O)', 'Machos', 'Hembras', 'Peso Medio']\n",
        "\n",
        "COLORES = ['orange', 'maroon', 'gray', 'silver', 'r--']\n",
        "              \n",
        "print_graph(SERIES, TITULOS, ['Grupos', 'Pesos'], COLORES)\n"
      ],
      "execution_count": 10,
      "outputs": [
        {
          "output_type": "stream",
          "text": [
            "Comparativa entre grupos con pesos previamente ordenados y no ordenados:\n"
          ],
          "name": "stdout"
        },
        {
          "output_type": "display_data",
          "data": {
            "image/png": "[encoded data removed]",
            "text/plain": [
              "<Figure size 576x396 with 1 Axes>"
            ]
          },
          "metadata": {
            "tags": []
          }
        }
      ]
    },
    {
      "metadata": {
        "colab_type": "text",
        "id": "eGDB4K6uk1iN"
      },
      "cell_type": "markdown",
      "source": [
        "(*)Calcula la complejidad del algoritmo "
      ]
    },
    {
      "metadata": {
        "colab_type": "text",
        "id": "NhpTh_BPk1ms"
      },
      "cell_type": "markdown",
      "source": [
        "Respuesta"
      ]
    },
    {
      "metadata": {
        "colab_type": "code",
        "id": "nREzhkStlCq8",
        "colab": {}
      },
      "cell_type": "code",
      "source": [
        ""
      ],
      "execution_count": 0,
      "outputs": []
    },
    {
      "metadata": {
        "colab_type": "text",
        "id": "3M6QjTsSkmYe"
      },
      "cell_type": "markdown",
      "source": [
        "Según el problema (y tenga sentido), diseña un juego de datos de entrada aleatorios"
      ]
    },
    {
      "metadata": {
        "colab_type": "text",
        "id": "Jc3_OlyNkvjZ"
      },
      "cell_type": "markdown",
      "source": [
        "Respuesta"
      ]
    },
    {
      "metadata": {
        "colab_type": "code",
        "id": "sJ-N2etjkyWc",
        "colab": {}
      },
      "cell_type": "code",
      "source": [
        "import pandas as pd\n",
        "import random\n",
        "\n",
        "# Inicialización de variables globales\n",
        "nAnimals = 500\n",
        "nTreats = 3\n",
        "nGroups = 3\n",
        "\n",
        "# Creación de un dataset de muestra\n",
        "MUESTRA = pd.DataFrame()\n",
        "MUESTRA[\"Id\"] = [i for i in range(nAnimals)]\n",
        "MUESTRA[\"Peso\"] = [random.gauss(37, 2.1) for i in range(nAnimals)]\n",
        "MUESTRA[\"Sexo\"] = [random.getrandbits(1) for i in range(nAnimals)]"
      ],
      "execution_count": 0,
      "outputs": []
    },
    {
      "metadata": {
        "colab_type": "text",
        "id": "zy5ZROmjlGo1"
      },
      "cell_type": "markdown",
      "source": [
        "Aplica el algoritmo al juego de datos generado"
      ]
    },
    {
      "metadata": {
        "colab_type": "text",
        "id": "_Cmj-PVylMsa"
      },
      "cell_type": "markdown",
      "source": [
        "Respuesta"
      ]
    },
    {
      "metadata": {
        "colab_type": "code",
        "id": "Jkx8GeiYlUz1",
        "colab": {
          "base_uri": "https://localhost:8080/",
          "height": 430
        },
        "outputId": "8d3612a2-baee-4b05-cc9e-3d69a2bc5197"
      },
      "cell_type": "code",
      "source": [
        "# Calcula e imprime los grupos para una muestra dada\n",
        "agrupaciones = do_problem1(MUESTRA, nTreats, nGroups, 'Ordenada')\n",
        "\n",
        "print('Grupos de sexo Macho: ')\n",
        "for i in agrupaciones[0]:\n",
        "  print(i)\n",
        "print()\n",
        "\n",
        "print('Grupos de sexo Hembra: ')\n",
        "for i in agrupaciones[1]:\n",
        "  print(i)\n",
        "print()\n"
      ],
      "execution_count": 5,
      "outputs": [
        {
          "output_type": "stream",
          "text": [
            "Grupos de sexo Macho: \n",
            "[[48, 32.85357562651858], [479, 33.85709847806565], [182, 34.274214172663186], [394, 34.640420157402886], [364, 35.00888427789848], [104, 35.25579355973192], [307, 35.45894654156822], [58, 35.66210383739824], [385, 35.875461843892026], [276, 36.08412596895825], [166, 36.28783630263739], [9, 36.490320824659925], [418, 36.77398695801189], [420, 37.02519360758477], [72, 37.22674704419887], [165, 37.384619125672806], [175, 37.56260489095257], [149, 37.64059780273999], [277, 37.7583343776202], [295, 37.93666759399598], [16, 38.14889781729123], [220, 38.470124154970016], [82, 38.851531707592436], [191, 39.31466235686831], [447, 39.74245452255926], [372, 40.00611642624795]]\n",
            "[[408, 33.01403570819673], [487, 33.877782775555545], [370, 34.276575008220746], [455, 34.66848275382208], [243, 35.01850567086606], [484, 35.30467666929596], [467, 35.477513585551606], [273, 35.719348048748195], [448, 35.87582678997821], [204, 36.096064715629396], [298, 36.294591473228785], [40, 36.493814788369235], [279, 36.79040550455001], [365, 37.050713520670875], [275, 37.23697327203091], [340, 37.39587571474827], [154, 37.57799258820351], [213, 37.641435865092035], [413, 37.77042161150375], [76, 37.94932889231022], [108, 38.16682135038334], [126, 38.51513608667109], [85, 38.93760455499483], [331, 39.33153176598325], [7, 39.80206086403129], [10, 40.15890411369226]]\n",
            "[[399, 33.044992003833585], [482, 33.99982606681936], [332, 34.3187658807622], [490, 34.670711816123635], [457, 35.02384398619409], [180, 35.32304009763176], [334, 35.506807747674316], [299, 35.76128919323776], [345, 35.91524847307335], [125, 36.127522048583955], [360, 36.363450833373236], [93, 36.50354055121933], [356, 36.83873519837357], [434, 37.0928404568465], [398, 37.26444527706834], [425, 37.40337152835367], [21, 37.59519029605475], [137, 37.683997723724644], [127, 37.77169747704092], [297, 37.97003293453457], [145, 38.2166226482063], [119, 38.581386859379805], [46, 38.96688957368878], [32, 39.359816056422524], [101, 39.82476472186466], [311, 40.57518090370868]]\n",
            "[[162, 33.223109039001635], [187, 34.02265682431126], [469, 34.36788509382815], [217, 34.85058877479523], [110, 35.054975803635415], [92, 35.3284859210758], [201, 35.517163560902134], [178, 35.77023869314837], [412, 35.94456192616576], [427, 36.2286414442057], [293, 36.36880873828466], [89, 36.593069714275984], [358, 36.85892685297611], [75, 37.17129973422898], [12, 37.27669826234017], [450, 37.42470354397861], [163, 37.59896722050869], [158, 37.6872882690902], [338, 37.8427383329752], [463, 37.972495974266636], [44, 38.247522320883974], [489, 38.58214021528931], [120, 39.019889362569536], [96, 39.38624696679952], [13, 39.83592865633503], [148, 40.58320693528364]]\n",
            "[[462, 33.25707943150381], [188, 34.040718179354336], [169, 34.42920378463084], [248, 34.89020916976555], [319, 35.11559967236868], [67, 35.35197371211261], [114, 35.533971394997444], [343, 35.770341139486135], [405, 35.96723231126157], [173, 36.233205105824545], [330, 36.39349242517669], [62, 36.615131078134965], [302, 36.87530046149866], [233, 37.17381916597283], [26, 37.2921563954714], [480, 37.426557016969625], [436, 37.602068780638135], [52, 37.703373382691716], [342, 37.86196143396383], [198, 37.98254581707127], [322, 38.25411153020759], [224, 38.680917061222196], [54, 39.03982538853093], [278, 39.387300871998015], [281, 39.840981378018206], [219, 40.6616699971935]]\n",
            "[[395, 33.30274187951167], [195, 34.07006225471118], [290, 34.43226051448309], [268, 34.90114756523329], [132, 35.161122904345255], [375, 35.40199318608372], [18, 35.54130002286043], [140, 35.77189910787418], [226, 35.97750690495102], [441, 36.24720665663681], [19, 36.39927417643641], [135, 36.67307192063697], [392, 36.89445787641619], [453, 37.182205021487], [235, 37.30534538457864], [282, 37.429401344386136], [404, 37.61259963944043], [156, 37.72368206847906], [380, 37.87106504661797], [39, 38.05561829074046], [335, 38.26405710420506], [4, 38.72717207780319], [57, 39.11479616230221], [183, 39.42727793185456], [100, 39.847984254715755], [357, 40.80402117147539]]\n",
            "[[474, 33.564419405192886], [422, 34.118555349062646], [143, 34.5067310050014], [179, 34.912874490698975], [435, 35.18693619854868], [317, 35.43195935361684], [476, 35.59090065157586], [431, 35.80041857812954], [229, 36.02693341833981], [234, 36.26896146701914], [407, 36.4223942142445], [136, 36.673188073422864], [98, 36.92788442661719], [30, 37.19898626083646], [492, 37.32177651776975], [265, 37.47627266311668], [200, 37.61353142805471], [94, 37.73018645869589], [274, 37.88838577027126], [386, 38.099102197585516], [289, 38.314726935894846], [472, 38.78780456949562], [262, 39.154504425962685], [237, 39.493078780292635], [159, 39.867133298402514], [432, 41.0337229756904]]\n",
            "[[424, 33.73058014087042], [68, 34.20097311716428], [456, 34.52805364975869], [117, 34.91622136125924], [458, 35.22469765912065], [210, 35.441317955283175], [184, 35.59941458781996], [83, 35.818357866691585], [171, 36.03220860334415], [488, 36.27438691950743], [146, 36.45726734491223], [329, 36.68359493166971], [70, 36.96962860695512], [337, 37.21249328817476], [186, 37.34621957948167], [388, 37.48124710006418], [267, 37.625215368337344], [346, 37.730390727997374], [128, 37.90660270676491], [177, 38.11623159816785], [481, 38.36450879976904], [426, 38.806332536808846], [133, 39.286099874953365], [266, 39.49853431261447], [42, 39.93018158859297], [97, 41.1658381621015]]\n",
            "[[131, 33.81841940888032], [157, 34.263761864741326], [403, 34.550410690499504], [240, 35.000291768656645], [242, 35.24264969601682], [336, 35.44182825029239], [212, 35.64531795192174], [366, 35.86390163920807], [24, 36.073582696551995], [309, 36.2835823781145], [23, 36.46086784211696], [189, 36.74114336664592], [493, 36.99805685345303], [354, 37.215480638656125], [38, 37.378439951431716], [252, 37.555532933065024], [43, 37.626746851598824], [396, 37.751731404458965], [433, 37.93149432547314], [269, 38.143601475532265], [258, 38.444543222672046], [446, 38.836199280947156], [144, 39.299680029310686], [197, 39.597718681840455], [294, 39.95266722269378], [61, 41.21232238319823]]\n",
            "\n",
            "Grupos de sexo Hembra: \n",
            "[[321, 33.68089474322211], [287, 34.53489859939293], [452, 34.90702098119526], [362, 35.20803111236202], [483, 35.42218315480493], [359, 35.60980193867866], [77, 35.779105106648046], [323, 35.97296906483057], [130, 36.15974435612827], [141, 36.49483657065869], [409, 36.74933279319482], [308, 36.96549622785395], [107, 37.118017657720124], [470, 37.30845107994675], [244, 37.55966090230903], [284, 37.65720857822485], [115, 37.85123681619216], [349, 38.04688308417833], [247, 38.20483022496604], [410, 38.37877019087253], [15, 38.615980147278904], [417, 38.78197270248329], [459, 39.05676239650223], [221, 39.43179715436996], [0, 39.88405404231105], [164, 40.13013359137459]]\n",
            "[[227, 33.75495232789558], [194, 34.5657767540371], [352, 35.084000112760904], [306, 35.20977659128995], [106, 35.43007625777119], [205, 35.63530267257199], [291, 35.81857533587559], [47, 36.018244043913995], [264, 36.24601174758033], [11, 36.53148665458823], [326, 36.76701417246789], [376, 36.9756776314114], [59, 37.12672280517743], [389, 37.33863775359002], [192, 37.565359723886516], [37, 37.657986842164235], [292, 37.90101368221242], [378, 38.058869357196166], [382, 38.238505045477865], [415, 38.44574435400773], [230, 38.62651983708525], [41, 38.80516736960399], [236, 39.13097315883364], [261, 39.44683755760987], [406, 39.88491465871963], [3, 40.319060165126125]]\n",
            "[[170, 33.76651678112556], [84, 34.62940401404209], [315, 35.114194572808756], [286, 35.24316096952547], [172, 35.433358147975625], [304, 35.689625330970166], [53, 35.83814356649826], [65, 36.02828152570979], [367, 36.25159690254906], [49, 36.593991164258625], [369, 36.811041028175765], [485, 36.99923407539862], [383, 37.17010155711813], [35, 37.34254488522784], [497, 37.56800893290249], [113, 37.68784685560576], [208, 37.9108631693796], [296, 38.06785407260444], [312, 38.25248366474713], [313, 38.447866559182806], [8, 38.65264057837658], [155, 38.87789942910642], [253, 39.16185650622988], [400, 39.482206801219824], [216, 39.91099529005379], [31, 40.32859634836978]]\n",
            "[[300, 33.863417265951576], [351, 34.77442107955226], [64, 35.12900963416788], [80, 35.3493186731399], [371, 35.46108807743748], [320, 35.69001093228667], [78, 35.85012071472341], [498, 36.034571119122624], [151, 36.26237283735073], [34, 36.61014314376272], [328, 36.83248857973321], [196, 37.031548413521286], [134, 37.181424539777254], [288, 37.36135665612803], [88, 37.58127403917915], [118, 37.71202598887769], [454, 37.91374068864542], [444, 38.084792568555606], [379, 38.26179474520121], [14, 38.452050099718676], [373, 38.6580422710535], [439, 38.90012289584456], [314, 39.20261771346423], [211, 39.48564944562723], [377, 39.98847643337202], [33, 40.37568227941011]]\n",
            "[[468, 34.01591044459519], [495, 34.77551536540082], [327, 35.14628626408064], [17, 35.359584147424584], [112, 35.464329242710335], [437, 35.727757273623894], [283, 35.85390800870186], [461, 36.03490137060847], [442, 36.29087124208675], [246, 36.61308197421581], [391, 36.84612553114634], [270, 37.06375656502708], [496, 37.183693675246346], [69, 37.37153718171044], [347, 37.590674113476915], [428, 37.73512583735357], [486, 37.91419142385318], [280, 38.085612899887245], [478, 38.26470979745856], [160, 38.495545179268966], [129, 38.687846669265504], [440, 38.91969906180578], [36, 39.2031374651121], [111, 39.56317272477675], [419, 39.995429743096516], [71, 40.38931109760249]]\n",
            "[[150, 34.1662094745611], [81, 34.780746158664236], [123, 35.16901594878609], [353, 35.36201226210673], [109, 35.49966972215399], [344, 35.728389767375766], [256, 35.86548215836205], [102, 36.05110555057268], [95, 36.31880256329668], [51, 36.658052959500274], [445, 36.870979077273276], [402, 37.071574433167385], [56, 37.21545224613412], [27, 37.39421872465781], [390, 37.598633203119114], [73, 37.73961676609154], [29, 37.920811454836944], [122, 38.11612775830385], [2, 38.28053011728683], [316, 38.51357292000787], [363, 38.70888054045282], [318, 38.98054848495362], [251, 39.257476934869324], [91, 39.69364539719157], [203, 40.04742439729204], [209, 40.59878473473913]]\n",
            "[[465, 34.4609975384973], [206, 34.8268192715901], [303, 35.173678371272686], [207, 35.36657140178008], [361, 35.53395663633177], [387, 35.7354247955853], [79, 35.88591927419354], [231, 36.089929481555], [238, 36.35564427748712], [348, 36.70732835291634], [215, 36.913856554337684], [74, 37.077731483225], [153, 37.21809973558619], [222, 37.44084547926545], [103, 37.599923511407795], [325, 37.74342494797679], [124, 37.949795570580775], [20, 38.13907616002219], [339, 38.29787818844449], [28, 38.5517901714585], [190, 38.712394256675246], [5, 39.002996067554676], [423, 39.28090651763327], [250, 39.790742897783836], [384, 40.04826467356701], [421, 40.716532798360326]]\n",
            "[[55, 34.47197597048601], [451, 34.8757560587796], [50, 35.18419908946494], [25, 35.37371251220534], [438, 35.554010932247955], [214, 35.73872134086816], [411, 35.893005477659216], [167, 36.14278673366612], [341, 36.42562374380939], [257, 36.7419606957998], [477, 36.92281018706937], [86, 37.08341699856028], [429, 37.23126542654251], [355, 37.490505610284615], [63, 37.63644357677036], [105, 37.75748337664487], [99, 38.008522609808985], [139, 38.192589073067595], [142, 38.31212340495883], [1, 38.575299630620215], [414, 38.723947044573244], [249, 39.04651077525589], [193, 39.295413003687514], [239, 39.797571269646966], [87, 40.09335527451946], [202, 40.71894250377629]]\n",
            "[[22, 34.47376452443296], [181, 34.905769372011136], [430, 35.188593870712204], [241, 35.40300496266494], [6, 35.577129688825536], [473, 35.757944373599095], [324, 35.94390342271732], [374, 36.155128150707576], [168, 36.480323035072985], [471, 36.747691861755776], [223, 36.934380079982326], [225, 37.0965722018245], [45, 37.24124706898173], [350, 37.49475536070354], [176, 37.640742728725336], [310, 37.849283272379274], [494, 38.026814821794154], [66, 38.19352816872679], [218, 38.3418194358389], [460, 38.593503181880536], [393, 38.73243160191362], [161, 39.048847438525144], [466, 39.43167558495393], [259, 39.88243794502944], [121, 40.10903773245547], [475, 40.789760515308295]]\n",
            "\n"
          ],
          "name": "stdout"
        }
      ]
    },
    {
      "metadata": {
        "colab_type": "text",
        "id": "eTFWUJQrtGcv"
      },
      "cell_type": "markdown",
      "source": [
        "Enumera las referencias que has utilizado(si ha sido necesario) para llevar a cabo el trabajo"
      ]
    },
    {
      "metadata": {
        "colab_type": "text",
        "id": "YKQ_mRBttWsP"
      },
      "cell_type": "markdown",
      "source": [
        "Respuesta"
      ]
    },
    {
      "metadata": {
        "colab_type": "text",
        "id": "kAkDPUyRtYyH"
      },
      "cell_type": "markdown",
      "source": [
        "Describe brevemente las lineas de como crees que es posible avanzar en el estudio del problema. Ten en cuenta incluso posibles variaciones del problema y/o variaciones al alza del tamaño"
      ]
    },
    {
      "metadata": {
        "colab_type": "text",
        "id": "IE0uZmo-tZu-"
      },
      "cell_type": "markdown",
      "source": [
        "Respuesta"
      ]
    }
  ]
}