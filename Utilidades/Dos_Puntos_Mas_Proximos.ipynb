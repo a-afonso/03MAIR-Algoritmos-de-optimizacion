{
  "nbformat": 4,
  "nbformat_minor": 0,
  "metadata": {
    "colab": {
      "name": "Dos_Puntos_Mas_Proximos.ipynb",
      "version": "0.3.2",
      "provenance": [],
      "collapsed_sections": [],
      "include_colab_link": true
    },
    "kernelspec": {
      "name": "python3",
      "display_name": "Python 3"
    }
  },
  "cells": [
    {
      "cell_type": "markdown",
      "metadata": {
        "id": "view-in-github",
        "colab_type": "text"
      },
      "source": [
        "<a href=\"https://colab.research.google.com/github/a-afonso/03MAIR-Algoritmos-de-optimizacion/blob/master/Utilidades/Dos_Puntos_Mas_Proximos.ipynb\" target=\"_parent\"><img src=\"https://colab.research.google.com/assets/colab-badge.svg\" alt=\"Open In Colab\"/></a>"
      ]
    },
    {
      "metadata": {
        "id": "50WYFFY2sKuC",
        "colab_type": "code",
        "colab": {}
      },
      "cell_type": "code",
      "source": [
        "import random\n",
        "import sys\n",
        "\n",
        "# Lista de valores para 1D\n",
        "infinito = sys.maxsize\n",
        "max_valor = 10000\n",
        "L1D = [random.randrange(1, max_valor) for _ in range(100)]\n",
        "\n"
      ],
      "execution_count": 0,
      "outputs": []
    },
    {
      "metadata": {
        "id": "HR2SkdlEG-LK",
        "colab_type": "code",
        "colab": {
          "base_uri": "https://localhost:8080/",
          "height": 35
        },
        "outputId": "2d6b8c4e-6610-49f3-f71a-798d34fa3542"
      },
      "cell_type": "code",
      "source": [
        "# Intento por fuerza bruta\n",
        "def fuerza_bruta_1D(L1D):\n",
        "  menor_distancia = infinito\n",
        "\n",
        "  for i in range(len(L1D)):\n",
        "    for j in range(len(L1D)):\n",
        "      if i == j:\n",
        "        continue\n",
        "\n",
        "      distancia = abs(L1D[i] - L1D[j])\n",
        "      if distancia < menor_distancia:\n",
        "        menor_distancia = distancia\n",
        "        \n",
        "  return menor_distancia\n",
        "    \n",
        "# Ejemplo por fuerza bruta en 1D\n",
        "fuerza_bruta_1D(L1D)"
      ],
      "execution_count": 51,
      "outputs": [
        {
          "output_type": "execute_result",
          "data": {
            "text/plain": [
              "1"
            ]
          },
          "metadata": {
            "tags": []
          },
          "execution_count": 51
        }
      ]
    },
    {
      "metadata": {
        "id": "pzTvkDztJ8E5",
        "colab_type": "text"
      },
      "cell_type": "markdown",
      "source": [
        "La complejidad es:\n",
        "\n",
        "**c1 + (c2 * n^2)** siendo c1 y c2 constantes. \n",
        "\n",
        "Por tanto el orden de complejidad es cuadrático, **O(n^2)**, ya que la función contiene dos bucles anidados para contemplar todas las combinaciones.\n",
        "\n",
        "Seguramente es mejorable por Divide y Vencerás, que será el siguiente algoritmo a comprobar."
      ]
    },
    {
      "metadata": {
        "id": "mTgKxU3pO5j6",
        "colab_type": "code",
        "colab": {
          "base_uri": "https://localhost:8080/",
          "height": 35
        },
        "outputId": "c0cdb8c8-d2a9-4632-b4ec-beecd6b555a3"
      },
      "cell_type": "code",
      "source": [
        "# Intento por divide y vencerás\n",
        "def divide_y_venceras_1D(L):\n",
        "  \n",
        "  if len(L) == 1:\n",
        "    return infinito\n",
        "  elif len(L) == 2:\n",
        "    return abs(L[0] - L[1])\n",
        "  \n",
        "  pivote = len(L) / 2\n",
        "  IZQ = []\n",
        "  DER = []\n",
        "  \n",
        "  for i in range(0, len(L)):\n",
        "    if i < pivote:\n",
        "      IZQ.append(L[i])\n",
        "    else:\n",
        "      DER.append(L[i])\n",
        "  \n",
        "  minID = min(divide_y_venceras_1D(IZQ), divide_y_venceras_1D(DER))\n",
        "  dF = abs(IZQ[len(IZQ)-1] - DER[0])\n",
        "  \n",
        "  #return min(divide_y_venceras_1D(IZQ), divide_y_venceras_1D(DER))\n",
        "  return min(minID, dF)\n",
        "\n",
        "# Ejemplo por divide y vencerás en 1D\n",
        "divide_y_venceras_1D(sorted(L1D))"
      ],
      "execution_count": 52,
      "outputs": [
        {
          "output_type": "execute_result",
          "data": {
            "text/plain": [
              "1"
            ]
          },
          "metadata": {
            "tags": []
          },
          "execution_count": 52
        }
      ]
    },
    {
      "metadata": {
        "id": "Riy00cE_2iqU",
        "colab_type": "text"
      },
      "cell_type": "markdown",
      "source": [
        "Según las soluciones de la ecuación en recurrencia de los algoritmos DV:\n",
        "\n",
        "**a=b^k, ya que a=2, b=2 y k=1**\n",
        "\n",
        "por lo tanto el orden de complejidad está en **O(n log (n))**. \n",
        "\n",
        "A la pregunta es de si es posible mejorarlo, si investigamos en internet un poco, parece ser que podría ser posible llegar a O(n), sofisticando el algoritmo.\n",
        "\n",
        "La lista debe estar ordenada previamente. Hemos supuesto que la ordenación se consigue en O(n), lo cual no influye en el resultado."
      ]
    },
    {
      "metadata": {
        "id": "-nue0ApkL9dl",
        "colab_type": "code",
        "colab": {}
      },
      "cell_type": "code",
      "source": [
        ""
      ],
      "execution_count": 0,
      "outputs": []
    }
  ]
}