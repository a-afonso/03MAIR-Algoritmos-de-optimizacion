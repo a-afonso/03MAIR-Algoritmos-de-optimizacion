{
  "nbformat": 4,
  "nbformat_minor": 0,
  "metadata": {
    "colab": {
      "name": "Dos_Puntos_Mas_Proximos.ipynb",
      "version": "0.3.2",
      "provenance": [],
      "collapsed_sections": [],
      "include_colab_link": true
    },
    "kernelspec": {
      "name": "python3",
      "display_name": "Python 3"
    }
  },
  "cells": [
    {
      "cell_type": "markdown",
      "metadata": {
        "id": "view-in-github",
        "colab_type": "text"
      },
      "source": [
        "<a href=\"https://colab.research.google.com/github/a-afonso/03MAIR-Algoritmos-de-optimizacion/blob/master/Utilidades/Dos_Puntos_Mas_Proximos.ipynb\" target=\"_parent\"><img src=\"https://colab.research.google.com/assets/colab-badge.svg\" alt=\"Open In Colab\"/></a>"
      ]
    },
    {
      "metadata": {
        "id": "50WYFFY2sKuC",
        "colab_type": "code",
        "colab": {}
      },
      "cell_type": "code",
      "source": [
        "import random\n",
        "import sys\n",
        "import math\n",
        "\n",
        "# Variables globales\n",
        "infinito = sys.maxsize\n",
        "\n",
        "# Variables globales para 1D\n",
        "L1D = [random.randrange(1, 10000) for _ in range(100)]\n",
        "\n",
        "# Variables globales para 2D\n",
        "L2D = [(random.randrange(1, 100), random.randrange(1, 10)) for _ in range(10)]\n"
      ],
      "execution_count": 0,
      "outputs": []
    },
    {
      "metadata": {
        "id": "HR2SkdlEG-LK",
        "colab_type": "code",
        "colab": {
          "base_uri": "https://localhost:8080/",
          "height": 35
        },
        "outputId": "2d562e64-14aa-4998-83c8-40bff2c0bcff"
      },
      "cell_type": "code",
      "source": [
        "# Intento por fuerza bruta en 1D\n",
        "def fuerza_bruta_1D(L):\n",
        "  menor_distancia = infinito\n",
        "\n",
        "  for i in range(len(L)):\n",
        "    for j in range(len(L)):\n",
        "      if i == j:\n",
        "        continue\n",
        "\n",
        "      distancia = abs(L[i] - L[j])\n",
        "      if distancia < menor_distancia:\n",
        "        menor_distancia = distancia\n",
        "        \n",
        "  return menor_distancia\n",
        "    \n",
        "# Ejemplo por fuerza bruta en 1D\n",
        "fuerza_bruta_1D(L1D)"
      ],
      "execution_count": 53,
      "outputs": [
        {
          "output_type": "execute_result",
          "data": {
            "text/plain": [
              "1"
            ]
          },
          "metadata": {
            "tags": []
          },
          "execution_count": 53
        }
      ]
    },
    {
      "metadata": {
        "id": "pzTvkDztJ8E5",
        "colab_type": "text"
      },
      "cell_type": "markdown",
      "source": [
        "La complejidad es:\n",
        "\n",
        "**c1 + (c2 * n^2)** siendo c1 y c2 constantes. \n",
        "\n",
        "Por tanto el orden de complejidad es cuadrático, **O(n^2)**, ya que la función contiene dos bucles anidados para contemplar todas las combinaciones.\n",
        "\n",
        "Seguramente es mejorable por Divide y Vencerás, que será el siguiente algoritmo a comprobar."
      ]
    },
    {
      "metadata": {
        "id": "mTgKxU3pO5j6",
        "colab_type": "code",
        "colab": {
          "base_uri": "https://localhost:8080/",
          "height": 35
        },
        "outputId": "c0cdb8c8-d2a9-4632-b4ec-beecd6b555a3"
      },
      "cell_type": "code",
      "source": [
        "# Intento por divide y vencerás en 1D\n",
        "def divide_y_venceras_1D(L):\n",
        "  \n",
        "  if len(L) == 1:\n",
        "    return infinito\n",
        "  elif len(L) == 2:\n",
        "    return abs(L[0] - L[1])\n",
        "  \n",
        "  pivote = len(L) / 2\n",
        "  IZQ = []\n",
        "  DER = []\n",
        "  \n",
        "  for i in range(0, len(L)):\n",
        "    if i < pivote:\n",
        "      IZQ.append(L[i])\n",
        "    else:\n",
        "      DER.append(L[i])\n",
        "  \n",
        "  minID = min(divide_y_venceras_1D(IZQ), divide_y_venceras_1D(DER))\n",
        "  dF = abs(IZQ[len(IZQ)-1] - DER[0])\n",
        "  \n",
        "  #return min(divide_y_venceras_1D(IZQ), divide_y_venceras_1D(DER))\n",
        "  return min(minID, dF)\n",
        "\n",
        "# Ejemplo por divide y vencerás en 1D\n",
        "divide_y_venceras_1D(sorted(L1D))"
      ],
      "execution_count": 52,
      "outputs": [
        {
          "output_type": "execute_result",
          "data": {
            "text/plain": [
              "1"
            ]
          },
          "metadata": {
            "tags": []
          },
          "execution_count": 52
        }
      ]
    },
    {
      "metadata": {
        "id": "Riy00cE_2iqU",
        "colab_type": "text"
      },
      "cell_type": "markdown",
      "source": [
        "De entrada, es necesario ordenar la lista de valores, lo cual implica un coste de O(n log (n)). Por lo tanto, este es el mejor coste que podremos conseguir. Veremos si el resto del algoritmo lo empeora o no.\n",
        "\n",
        "Según las soluciones de la ecuación en recurrencia de los algoritmos DV:\n",
        "\n",
        "**a=b^k, ya que a=2, b=2 y k=1**\n",
        "\n",
        "por lo tanto el orden de complejidad está en **O(n log (n))**. \n",
        "\n",
        "No empeora el resultado de la ordenación previa, por lo tanto el algoritmo es mejor que el de fuerza bruta.\n",
        "\n",
        "A la pregunta es de si es posible mejorarlo, si investigamos en internet un poco, parece ser que podría ser posible llegar a O(n), sofisticando el algoritmo."
      ]
    },
    {
      "metadata": {
        "id": "-nue0ApkL9dl",
        "colab_type": "code",
        "colab": {
          "base_uri": "https://localhost:8080/",
          "height": 35
        },
        "outputId": "cdc35b6f-2130-428e-852e-fba5320b435e"
      },
      "cell_type": "code",
      "source": [
        "# Intento por fuerza bruta en 2D\n",
        "def fuerza_bruta_2D(L):\n",
        "  menor_distancia = infinito\n",
        "\n",
        "  for i in range(len(L)):\n",
        "    for j in range(len(L)):\n",
        "      if i == j:\n",
        "        continue\n",
        "        \n",
        "      distancia = math.sqrt(abs(L[i][0] - L[j][0]) + abs(L[i][1] - L[j][1]))\n",
        "      if distancia < menor_distancia:\n",
        "        menor_distancia = distancia\n",
        "        \n",
        "  return menor_distancia\n",
        "    \n",
        "# Ejemplo por fuerza bruta en 2D\n",
        "fuerza_bruta_2D(L2D)"
      ],
      "execution_count": 3,
      "outputs": [
        {
          "output_type": "execute_result",
          "data": {
            "text/plain": [
              "1.0"
            ]
          },
          "metadata": {
            "tags": []
          },
          "execution_count": 3
        }
      ]
    },
    {
      "metadata": {
        "id": "_o6tKsvWBrUi",
        "colab_type": "text"
      },
      "cell_type": "markdown",
      "source": [
        "La complejidad es similar al caso en 1D y las conclusiones son las mismas. Aunque tenemos una instrucción sqrt (raíz cuadrada), esta no influye en el coste global, ya que su coste particular es 2^2, con lo cual entra dentro de la constante c2:\n",
        "\n",
        "c1 + (c2 * n^2) siendo c1 y c2 constantes.\n",
        "\n",
        "Por tanto el orden de complejidad es cuadrático, O(n^2), ya que la función contiene dos bucles anidados para contemplar todas las combinaciones.\n",
        "\n",
        "De la misma forma que en 1D, seguramente es mejorable por Divide y Vencerás, que será el siguiente algoritmo a comprobar.\n"
      ]
    }
  ]
}