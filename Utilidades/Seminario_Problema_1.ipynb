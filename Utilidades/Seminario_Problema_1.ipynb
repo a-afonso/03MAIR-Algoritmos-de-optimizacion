{
  "nbformat": 4,
  "nbformat_minor": 0,
  "metadata": {
    "colab": {
      "name": "Copia de Seminario_Problema_1.ipynb",
      "version": "0.3.2",
      "provenance": [],
      "collapsed_sections": [],
      "include_colab_link": true
    },
    "kernelspec": {
      "name": "python3",
      "display_name": "Python 3"
    }
  },
  "cells": [
    {
      "cell_type": "markdown",
      "metadata": {
        "id": "view-in-github",
        "colab_type": "text"
      },
      "source": [
        "<a href=\"https://colab.research.google.com/github/a-afonso/03MAIR-Algoritmos-de-optimizacion/blob/master/Utilidades/Seminario_Problema_1.ipynb\" target=\"_parent\"><img src=\"https://colab.research.google.com/assets/colab-badge.svg\" alt=\"Open In Colab\"/></a>"
      ]
    },
    {
      "metadata": {
        "id": "cYa53jQQqwr0",
        "colab_type": "code",
        "outputId": "df38c1c9-7a6b-4c62-aba1-1b7c210fcd61",
        "colab": {
          "base_uri": "https://localhost:8080/",
          "height": 108
        }
      },
      "cell_type": "code",
      "source": [
        "import numpy as np\n",
        "import pandas as pd\n",
        "import random\n",
        "import math\n",
        "\n",
        "# Inicialización de variables globales\n",
        "nAnimals = 60\n",
        "nTreats = 3\n",
        "nGroups = 3\n",
        "\n",
        "# Creación de un dataset de muestra\n",
        "MUESTRA = pd.DataFrame()\n",
        "MUESTRA[\"Id\"] = [i for i in range(nAnimals)]\n",
        "MUESTRA[\"Peso\"] = [random.gauss(37, 2.1) for i in range(nAnimals)]\n",
        "MUESTRA[\"Sexo\"] = [random.getrandbits(1) for i in range(nAnimals)]\n",
        "\n",
        "# Dividimos el dataset en dos listas, una para cada sexo\n",
        "MALE = []\n",
        "FEMALE = []\n",
        "\n",
        "for index, row in MUESTRA.iterrows():\n",
        "  if row[\"Sexo\"] == 0:\n",
        "    MALE.append([row[\"Id\"], row[\"Peso\"]])\n",
        "  else:\n",
        "    FEMALE.append([row[\"Id\"], row[\"Peso\"]])\n",
        "\n",
        "# Calcula el número máximo de animales por grupo\n",
        "nMale = len(MALE)\n",
        "nFemale = len(FEMALE)\n",
        "\n",
        "nAnimalsGroup = min(nMale, nFemale) // (nTreats * nGroups)\n",
        "\n",
        "print(MALE)\n",
        "\n",
        "# Función para agrupar una lista de cualquier sexo\n",
        "def group_animals(L, nTreats, nGroups, nAnimalsGroup):\n",
        "  RES = []\n",
        "  \n",
        "  # Calcula el número total de grupos\n",
        "  nTotalGroups = nTreats * nGroups\n",
        "  \n",
        "  # Calcula el número de animales de la lista\n",
        "  nAnimalsSex = nTotalGroups * nAnimalsGroup\n",
        "  \n",
        "  # Ordenamos la muestra por peso\n",
        "  LSORTED = sorted(L, key=lambda x : x[1])\n",
        "  print(LSORTED)\n",
        "  print(LSORTED[0][1])\n",
        "  \n",
        "  # Calculamos el peso medio de la muestra\n",
        "  #p_medio = np.mean(RES, axis=0)[1]\n",
        "    \n",
        "  for i in range(nTotalGroups):\n",
        "    G = []\n",
        "    #for j in range(i, nAnimalsGroup, nTotalGroups):\n",
        "    #  G.append(LSORTED[0][j])\n",
        "      \n",
        "    RES.append(G)\n",
        "    \n",
        "  return RES\n",
        "  \n",
        "group_animals(MALE, nTreats, nGroups, nAnimalsGroup)  \n",
        "  \n",
        "\n",
        "# Creamos una lista que contendrá los individuos de cada grupo\n",
        "\n",
        "\n",
        "\n",
        "\n",
        "#\n",
        "\n",
        "\n"
      ],
      "execution_count": 0,
      "outputs": [
        {
          "output_type": "stream",
          "text": [
            "[[0.0, 38.524937647212596], [1.0, 37.929513146580405], [3.0, 41.95953223655718], [5.0, 34.608919528025005], [8.0, 38.40124957565176], [9.0, 35.59255554853707], [11.0, 35.54534354243335], [12.0, 38.04876689252845], [13.0, 38.957290164498744], [16.0, 34.409139257061796], [17.0, 37.046866581268326], [18.0, 34.5984027297885], [19.0, 38.303482749231286], [24.0, 35.45596540875303], [26.0, 34.44355941226221], [27.0, 39.33948330038743], [29.0, 35.3836509532572], [30.0, 35.391126669206784], [32.0, 35.798623955819195], [33.0, 38.89692265509097], [34.0, 35.98705979410396], [35.0, 35.77806755600872], [36.0, 37.63969382985535], [38.0, 40.72183603340467], [42.0, 39.117492641219116], [43.0, 35.64997974673326], [46.0, 38.2643183223885], [47.0, 38.457122515401366], [49.0, 37.367835340056395], [50.0, 38.80668233034612], [51.0, 36.82129178434578], [52.0, 34.333497111625775], [54.0, 34.473434259401635], [57.0, 40.752334051169505], [58.0, 32.034846646834346]]\n",
            "[[58.0, 32.034846646834346], [52.0, 34.333497111625775], [16.0, 34.409139257061796], [26.0, 34.44355941226221], [54.0, 34.473434259401635], [18.0, 34.5984027297885], [5.0, 34.608919528025005], [29.0, 35.3836509532572], [30.0, 35.391126669206784], [24.0, 35.45596540875303], [11.0, 35.54534354243335], [9.0, 35.59255554853707], [43.0, 35.64997974673326], [35.0, 35.77806755600872], [32.0, 35.798623955819195], [34.0, 35.98705979410396], [51.0, 36.82129178434578], [17.0, 37.046866581268326], [49.0, 37.367835340056395], [36.0, 37.63969382985535], [1.0, 37.929513146580405], [12.0, 38.04876689252845], [46.0, 38.2643183223885], [19.0, 38.303482749231286], [8.0, 38.40124957565176], [47.0, 38.457122515401366], [0.0, 38.524937647212596], [50.0, 38.80668233034612], [33.0, 38.89692265509097], [13.0, 38.957290164498744], [42.0, 39.117492641219116], [27.0, 39.33948330038743], [38.0, 40.72183603340467], [57.0, 40.752334051169505], [3.0, 41.95953223655718]]\n",
            "32.034846646834346\n"
          ],
          "name": "stdout"
        },
        {
          "output_type": "execute_result",
          "data": {
            "text/plain": [
              "[[], [], [], [], [], [], [], [], []]"
            ]
          },
          "metadata": {
            "tags": []
          },
          "execution_count": 8
        }
      ]
    },
    {
      "metadata": {
        "id": "8f3l93nPOpiP",
        "colab_type": "code",
        "outputId": "9c9a5d11-eda2-42d9-afd9-91c887b398ab",
        "colab": {
          "base_uri": "https://localhost:8080/",
          "height": 91
        }
      },
      "cell_type": "code",
      "source": [
        "X = sorted(MALE, key=lambda x : x[1])\n",
        "\n",
        "print(np.mean(X, axis=0)[1])\n",
        "\n",
        "print(X)\n",
        "print(MALE)\n",
        "\n"
      ],
      "execution_count": 0,
      "outputs": [
        {
          "output_type": "stream",
          "text": [
            "36.67039650429752\n",
            "[[5.0, 34.22104346437126], [41.0, 34.25269075115556], [53.0, 34.29780886163722], [43.0, 34.389741683659906], [38.0, 34.93192551078544], [6.0, 35.08590542612163], [26.0, 35.29518650382962], [59.0, 35.32036911247128], [25.0, 35.37693437770475], [56.0, 35.42513049657043], [52.0, 36.0151594776418], [28.0, 36.33132505674076], [50.0, 36.60876399253662], [36.0, 36.79406744283361], [13.0, 36.91773937221139], [18.0, 37.2299821098135], [10.0, 37.24292185818942], [37.0, 37.28538904424254], [22.0, 37.43986770703674], [15.0, 37.67723166612605], [12.0, 37.69530445135863], [21.0, 37.81440983731941], [4.0, 37.91708774741269], [19.0, 38.10894830592503], [42.0, 38.73759498480054], [9.0, 40.40761353353529], [31.0, 41.280562840001785]]\n",
            "[[4.0, 37.91708774741269], [5.0, 34.22104346437126], [6.0, 35.08590542612163], [9.0, 40.40761353353529], [10.0, 37.24292185818942], [12.0, 37.69530445135863], [13.0, 36.91773937221139], [15.0, 37.67723166612605], [18.0, 37.2299821098135], [19.0, 38.10894830592503], [21.0, 37.81440983731941], [22.0, 37.43986770703674], [25.0, 35.37693437770475], [26.0, 35.29518650382962], [28.0, 36.33132505674076], [31.0, 41.280562840001785], [36.0, 36.79406744283361], [37.0, 37.28538904424254], [38.0, 34.93192551078544], [41.0, 34.25269075115556], [42.0, 38.73759498480054], [43.0, 34.389741683659906], [50.0, 36.60876399253662], [52.0, 36.0151594776418], [53.0, 34.29780886163722], [56.0, 35.42513049657043], [59.0, 35.32036911247128]]\n"
          ],
          "name": "stdout"
        }
      ]
    }
  ]
}