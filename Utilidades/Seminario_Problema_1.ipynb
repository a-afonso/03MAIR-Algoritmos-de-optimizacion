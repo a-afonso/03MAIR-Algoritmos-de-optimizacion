{
  "nbformat": 4,
  "nbformat_minor": 0,
  "metadata": {
    "colab": {
      "name": "Copia de Seminario_Problema_1.ipynb",
      "version": "0.3.2",
      "provenance": [],
      "collapsed_sections": [],
      "include_colab_link": true
    },
    "kernelspec": {
      "name": "python3",
      "display_name": "Python 3"
    }
  },
  "cells": [
    {
      "cell_type": "markdown",
      "metadata": {
        "id": "view-in-github",
        "colab_type": "text"
      },
      "source": [
        "<a href=\"https://colab.research.google.com/github/a-afonso/03MAIR-Algoritmos-de-optimizacion/blob/master/Utilidades/Seminario_Problema_1.ipynb\" target=\"_parent\"><img src=\"https://colab.research.google.com/assets/colab-badge.svg\" alt=\"Open In Colab\"/></a>"
      ]
    },
    {
      "metadata": {
        "id": "cYa53jQQqwr0",
        "colab_type": "code",
        "outputId": "cf78bbfd-bb11-4302-93e1-6456296368c0",
        "colab": {
          "base_uri": "https://localhost:8080/",
          "height": 1240
        }
      },
      "cell_type": "code",
      "source": [
        "import numpy as np\n",
        "import pandas as pd\n",
        "import random\n",
        "import math\n",
        "import matplotlib.pyplot as plt\n",
        "\n",
        "# Inicialización de variables globales\n",
        "nAnimals = 30\n",
        "nTreats = 2\n",
        "nGroups = 2\n",
        "\n",
        "# Creación de un dataset de muestra\n",
        "MUESTRA = pd.DataFrame()\n",
        "MUESTRA[\"Id\"] = [i for i in range(nAnimals)]\n",
        "MUESTRA[\"Peso\"] = [random.gauss(37, 2.1) for i in range(nAnimals)]\n",
        "MUESTRA[\"Sexo\"] = [random.getrandbits(1) for i in range(nAnimals)]\n",
        "\n",
        "# Dividimos el dataset en dos listas, una para cada sexo\n",
        "MALE = []\n",
        "FEMALE = []\n",
        "\n",
        "for index, row in MUESTRA.iterrows():\n",
        "  if row[\"Sexo\"] == 0:\n",
        "    MALE.append([row[\"Id\"], row[\"Peso\"]])\n",
        "  else:\n",
        "    FEMALE.append([row[\"Id\"], row[\"Peso\"]])\n",
        "\n",
        "# Calcula el número máximo de animales por grupo\n",
        "nMale = len(MALE)\n",
        "nFemale = len(FEMALE)\n",
        "\n",
        "nAnimalsGroup = min(nMale, nFemale) // (nTreats * nGroups)\n",
        "\n",
        "# Función para agrupar una lista de cualquier sexo\n",
        "def group_animals(L, nTreats, nGroups, nAnimalsGroup):\n",
        "  RES = []\n",
        "  \n",
        "  # Calcula el peso medio\n",
        "  p_medio = np.mean(L, axis=0)[1]\n",
        "  \n",
        "  # Calcula el número total de grupos\n",
        "  nTotalGroups = nTreats * nGroups\n",
        "  \n",
        "  # Calcula el número de animales de la lista\n",
        "  nAnimalsSex = nTotalGroups * nAnimalsGroup\n",
        "  \n",
        "  # Ordenamos la muestra por peso\n",
        "  LUNSORTED = L\n",
        "  LSORTED = sorted(L, key=lambda x : x[1])\n",
        "  #for x in L: print(x)\n",
        "  \n",
        "  print(nTotalGroups)\n",
        "  print(nAnimalsGroup)\n",
        "    \n",
        "  for i in range(nTotalGroups):\n",
        "    G = []\n",
        "    for j in range(i, nAnimalsSex, nTotalGroups):\n",
        "      G.append(LSORTED[j][1])\n",
        "    G.append(p_medio)\n",
        "    m = np.mean(G)\n",
        "    G.append(m)\n",
        "    G.append(abs(p_medio - m))\n",
        "      \n",
        "    RES.append(G)\n",
        "    \n",
        "  X = []\n",
        "  for x in RES: \n",
        "    X.append(x[4])\n",
        "    \n",
        "  for i in range(nTotalGroups):\n",
        "    G = []\n",
        "    for j in range(i, nAnimalsSex, nTotalGroups):\n",
        "      G.append(LUNSORTED[j][1])\n",
        "    G.append(p_medio)\n",
        "    m = np.mean(G)\n",
        "    G.append(m)\n",
        "    G.append(abs(p_medio - m))\n",
        "      \n",
        "    RES.append(G)\n",
        "  \n",
        "  Y = []\n",
        "  for y in RES: \n",
        "    Y.append(y[4])\n",
        "\n",
        "  fig, axes = plt.subplots(1, 1)\n",
        "  #plt.plot(X, 'r', label='linear')\n",
        "  #plt.plot(Y, 'w', label='linear')\n",
        "  #plt.show()\n",
        "  \n",
        "  # creación de la figura \n",
        "  axes.plot(np.arange(len(X)), X) \n",
        "  axes.plot(np.arange(len(Y)), Y) \n",
        "  # impresión de la figura \n",
        "  plt.legend(['Sorted', 'Unsorted'], loc='best') \n",
        "  plt.show()\n",
        "  \n",
        "  return RES\n",
        "  \n",
        "group_animals(MALE, nTreats, nGroups, nAnimalsGroup)  \n",
        "  \n",
        "\n",
        "# Creamos una lista que contendrá los individuos de cada grupo\n",
        "\n",
        "\n",
        "\n",
        "\n",
        "#\n",
        "\n",
        "\n"
      ],
      "execution_count": 4,
      "outputs": [
        {
          "output_type": "stream",
          "text": [
            "4\n",
            "3\n"
          ],
          "name": "stdout"
        },
        {
          "output_type": "display_data",
          "data": {
            "image/png": "[encoded data removed]",
            "text/plain": [
              "<Figure size 576x396 with 1 Axes>"
            ]
          },
          "metadata": {
            "tags": []
          }
        },
        {
          "output_type": "execute_result",
          "data": {
            "text/plain": [
              "[[33.392637540480436,\n",
              "  35.84930239932895,\n",
              "  39.141892782256306,\n",
              "  38.04615240769872,\n",
              "  36.607496282441105,\n",
              "  1.4386561252576158],\n",
              " [34.727207017932066,\n",
              "  37.29846550593291,\n",
              "  39.83841424639937,\n",
              "  38.04615240769872,\n",
              "  37.477559794490766,\n",
              "  0.5685926132079544],\n",
              " [34.7982973414534,\n",
              "  38.333409921071215,\n",
              "  40.706151270175795,\n",
              "  38.04615240769872,\n",
              "  37.97100273509978,\n",
              "  0.07514967259893979],\n",
              " [35.781216927216725,\n",
              "  38.91621959430804,\n",
              "  40.95284267694416,\n",
              "  38.04615240769872,\n",
              "  38.42410790154191,\n",
              "  0.3779554938431886],\n",
              " [35.84930239932895,\n",
              "  39.141892782256306,\n",
              "  38.333409921071215,\n",
              "  38.04615240769872,\n",
              "  37.8426893775888,\n",
              "  0.20346303010992273],\n",
              " [40.706151270175795,\n",
              "  40.95284267694416,\n",
              "  34.727207017932066,\n",
              "  38.04615240769872,\n",
              "  38.60808834318768,\n",
              "  0.561935935488961],\n",
              " [34.7982973414534,\n",
              "  44.86392407658402,\n",
              "  35.781216927216725,\n",
              "  38.04615240769872,\n",
              "  38.372397688238216,\n",
              "  0.32624528053949575],\n",
              " [37.29846550593291,\n",
              "  39.83841424639937,\n",
              "  38.91621959430804,\n",
              "  38.04615240769872,\n",
              "  38.52481293858476,\n",
              "  0.47866053088603877]]"
            ]
          },
          "metadata": {
            "tags": []
          },
          "execution_count": 4
        }
      ]
    },
    {
      "metadata": {
        "id": "of7q0ajprgo2",
        "colab_type": "code",
        "colab": {}
      },
      "cell_type": "code",
      "source": [
        ""
      ],
      "execution_count": 0,
      "outputs": []
    }
  ]
}