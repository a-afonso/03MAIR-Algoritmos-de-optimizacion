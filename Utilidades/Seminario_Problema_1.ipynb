{
  "nbformat": 4,
  "nbformat_minor": 0,
  "metadata": {
    "colab": {
      "name": "Copia de Seminario_Problema_1.ipynb",
      "version": "0.3.2",
      "provenance": [],
      "collapsed_sections": [],
      "include_colab_link": true
    },
    "kernelspec": {
      "name": "python3",
      "display_name": "Python 3"
    }
  },
  "cells": [
    {
      "cell_type": "markdown",
      "metadata": {
        "id": "view-in-github",
        "colab_type": "text"
      },
      "source": [
        "<a href=\"https://colab.research.google.com/github/a-afonso/03MAIR-Algoritmos-de-optimizacion/blob/master/Utilidades/Seminario_Problema_1.ipynb\" target=\"_parent\"><img src=\"https://colab.research.google.com/assets/colab-badge.svg\" alt=\"Open In Colab\"/></a>"
      ]
    },
    {
      "metadata": {
        "id": "cYa53jQQqwr0",
        "colab_type": "code",
        "outputId": "e47a2195-10e9-44b4-89fa-cff4ace0adeb",
        "colab": {
          "base_uri": "https://localhost:8080/",
          "height": 1240
        }
      },
      "cell_type": "code",
      "source": [
        "import numpy as np\n",
        "import pandas as pd\n",
        "import random\n",
        "import math\n",
        "import matplotlib.pyplot as plt\n",
        "\n",
        "# Inicialización de variables globales\n",
        "nAnimals = 30\n",
        "nTreats = 2\n",
        "nGroups = 2\n",
        "\n",
        "# Creación de un dataset de muestra\n",
        "MUESTRA = pd.DataFrame()\n",
        "MUESTRA[\"Id\"] = [i for i in range(nAnimals)]\n",
        "MUESTRA[\"Peso\"] = [random.gauss(37, 2.1) for i in range(nAnimals)]\n",
        "MUESTRA[\"Sexo\"] = [random.getrandbits(1) for i in range(nAnimals)]\n",
        "\n",
        "# Dividimos el dataset en dos listas, una para cada sexo\n",
        "MALE = []\n",
        "FEMALE = []\n",
        "\n",
        "for index, row in MUESTRA.iterrows():\n",
        "  if row[\"Sexo\"] == 0:\n",
        "    MALE.append([row[\"Id\"], row[\"Peso\"]])\n",
        "  else:\n",
        "    FEMALE.append([row[\"Id\"], row[\"Peso\"]])\n",
        "\n",
        "# Calcula el número máximo de animales por grupo\n",
        "nMale = len(MALE)\n",
        "nFemale = len(FEMALE)\n",
        "\n",
        "nAnimalsGroup = min(nMale, nFemale) // (nTreats * nGroups)\n",
        "\n",
        "# Función para agrupar una lista de cualquier sexo\n",
        "def group_animals(L, nTreats, nGroups, nAnimalsGroup):\n",
        "  RES = []\n",
        "  \n",
        "  # Calcula el peso medio\n",
        "  p_medio = np.mean(L, axis=0)[1]\n",
        "  \n",
        "  # Calcula el número total de grupos\n",
        "  nTotalGroups = nTreats * nGroups\n",
        "  \n",
        "  # Calcula el número de animales de la lista\n",
        "  nAnimalsSex = nTotalGroups * nAnimalsGroup\n",
        "  \n",
        "  # Ordenamos la muestra por peso\n",
        "  LUNSORTED = L\n",
        "  LSORTED = sorted(L, key=lambda x : x[1])\n",
        "  #for x in L: print(x)\n",
        "  \n",
        "  print(nTotalGroups)\n",
        "  print(nAnimalsGroup)\n",
        "    \n",
        "  for i in range(nTotalGroups):\n",
        "    G = []\n",
        "    for j in range(i, nAnimalsSex, nTotalGroups):\n",
        "      G.append(LSORTED[j][1])\n",
        "    G.append(p_medio)\n",
        "    m = np.mean(G)\n",
        "    G.append(m)\n",
        "    G.append(abs(p_medio - m))\n",
        "      \n",
        "    RES.append(G)\n",
        "    \n",
        "  X = []\n",
        "  for x in RES: \n",
        "    X.append(x[4])\n",
        "    \n",
        "  for i in range(nTotalGroups):\n",
        "    G = []\n",
        "    for j in range(i, nAnimalsSex, nTotalGroups):\n",
        "      G.append(LUNSORTED[j][1])\n",
        "    G.append(p_medio)\n",
        "    m = np.mean(G)\n",
        "    G.append(m)\n",
        "    G.append(abs(p_medio - m))\n",
        "      \n",
        "    RES.append(G)\n",
        "  \n",
        "  Y = []\n",
        "  for y in RES: \n",
        "    Y.append(y[4])\n",
        "\n",
        "  plt.plot(X, 'r', label='linear')\n",
        "  plt.plot(Y, 'w', label='linear')\n",
        "  plt.show()\n",
        "  \n",
        "  return RES\n",
        "  \n",
        "group_animals(MALE, nTreats, nGroups, nAnimalsGroup)  \n",
        "  \n",
        "\n",
        "# Creamos una lista que contendrá los individuos de cada grupo\n",
        "\n",
        "\n",
        "\n",
        "\n",
        "#\n",
        "\n",
        "\n"
      ],
      "execution_count": 47,
      "outputs": [
        {
          "output_type": "stream",
          "text": [
            "4\n",
            "3\n"
          ],
          "name": "stdout"
        },
        {
          "output_type": "display_data",
          "data": {
            "image/png": "[encoded data removed]",
            "text/plain": [
              "<Figure size 576x396 with 1 Axes>"
            ]
          },
          "metadata": {
            "tags": []
          }
        },
        {
          "output_type": "execute_result",
          "data": {
            "text/plain": [
              "[[34.09285543909882,\n",
              "  36.26378056839686,\n",
              "  36.841125232798284,\n",
              "  37.099819573803956,\n",
              "  36.07439520352448,\n",
              "  1.0254243702794739],\n",
              " [34.49366147436675,\n",
              "  36.290005359731,\n",
              "  37.063215387723275,\n",
              "  37.099819573803956,\n",
              "  36.23667544890624,\n",
              "  0.8631441248977154],\n",
              " [35.091872485168196,\n",
              "  36.42084584670635,\n",
              "  38.129969950313345,\n",
              "  37.099819573803956,\n",
              "  36.68562696399796,\n",
              "  0.41419260980599404],\n",
              " [35.865265381817686,\n",
              "  36.73184137495878,\n",
              "  38.38337418139552,\n",
              "  37.099819573803956,\n",
              "  37.020075127993984,\n",
              "  0.07974444580997186],\n",
              " [39.62298241100138,\n",
              "  41.844123314399546,\n",
              "  34.49366147436675,\n",
              "  37.099819573803956,\n",
              "  38.26514669339291,\n",
              "  1.1653271195889516],\n",
              " [39.36237519918356,\n",
              "  36.42084584670635,\n",
              "  34.09285543909882,\n",
              "  37.099819573803956,\n",
              "  36.743974014698175,\n",
              "  0.35584555910578075],\n",
              " [35.091872485168196,\n",
              "  37.063215387723275,\n",
              "  36.290005359731,\n",
              "  37.099819573803956,\n",
              "  36.386228201606606,\n",
              "  0.7135913721973495],\n",
              " [36.73184137495878,\n",
              "  36.841125232798284,\n",
              "  38.38337418139552,\n",
              "  37.099819573803956,\n",
              "  37.26404009073914,\n",
              "  0.16422051693518114]]"
            ]
          },
          "metadata": {
            "tags": []
          },
          "execution_count": 47
        }
      ]
    },
    {
      "metadata": {
        "id": "of7q0ajprgo2",
        "colab_type": "code",
        "colab": {}
      },
      "cell_type": "code",
      "source": [
        ""
      ],
      "execution_count": 0,
      "outputs": []
    }
  ]
}