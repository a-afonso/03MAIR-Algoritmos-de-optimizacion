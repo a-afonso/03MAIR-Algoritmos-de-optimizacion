{
  "nbformat": 4,
  "nbformat_minor": 0,
  "metadata": {
    "colab": {
      "name": "Copia de Seminario_Problema_1.ipynb",
      "version": "0.3.2",
      "provenance": [],
      "collapsed_sections": [],
      "include_colab_link": true
    },
    "kernelspec": {
      "name": "python3",
      "display_name": "Python 3"
    }
  },
  "cells": [
    {
      "cell_type": "markdown",
      "metadata": {
        "id": "view-in-github",
        "colab_type": "text"
      },
      "source": [
        "<a href=\"https://colab.research.google.com/github/a-afonso/03MAIR-Algoritmos-de-optimizacion/blob/master/Utilidades/Seminario_Problema_1.ipynb\" target=\"_parent\"><img src=\"https://colab.research.google.com/assets/colab-badge.svg\" alt=\"Open In Colab\"/></a>"
      ]
    },
    {
      "metadata": {
        "id": "cYa53jQQqwr0",
        "colab_type": "code",
        "outputId": "cead6f70-c240-4220-f8d2-4156eb6764e2",
        "colab": {
          "base_uri": "https://localhost:8080/",
          "height": 1544
        }
      },
      "cell_type": "code",
      "source": [
        "import numpy as np\n",
        "import pandas as pd\n",
        "import random\n",
        "import math\n",
        "import matplotlib.pyplot as plt\n",
        "\n",
        "# Inicialización de variables globales\n",
        "nAnimals = 30\n",
        "nTreats = 2\n",
        "nGroups = 2\n",
        "\n",
        "# Creación de un dataset de muestra\n",
        "MUESTRA = pd.DataFrame()\n",
        "MUESTRA[\"Id\"] = [i for i in range(nAnimals)]\n",
        "MUESTRA[\"Peso\"] = [random.gauss(37, 2.1) for i in range(nAnimals)]\n",
        "MUESTRA[\"Sexo\"] = [random.getrandbits(1) for i in range(nAnimals)]\n",
        "\n",
        "# Dividimos el dataset en dos listas, una para cada sexo\n",
        "MALE = []\n",
        "FEMALE = []\n",
        "\n",
        "for index, row in MUESTRA.iterrows():\n",
        "  if row[\"Sexo\"] == 0:\n",
        "    MALE.append([row[\"Id\"], row[\"Peso\"]])\n",
        "  else:\n",
        "    FEMALE.append([row[\"Id\"], row[\"Peso\"]])\n",
        "\n",
        "# Calcula el número máximo de animales por grupo\n",
        "nMale = len(MALE)\n",
        "nFemale = len(FEMALE)\n",
        "\n",
        "nAnimalsGroup = min(nMale, nFemale) // (nTreats * nGroups)\n",
        "\n",
        "# Función para agrupar una lista de cualquier sexo\n",
        "def group_animals(L, nTreats, nGroups, nAnimalsGroup):\n",
        "  RES = []\n",
        "  \n",
        "  # Calcula el peso medio\n",
        "  p_medio = np.mean(L, axis=0)[1]\n",
        "  \n",
        "  # Calcula el número total de grupos\n",
        "  nTotalGroups = nTreats * nGroups\n",
        "  \n",
        "  # Calcula el número de animales de la lista\n",
        "  nAnimalsSex = nTotalGroups * nAnimalsGroup\n",
        "  \n",
        "  # Ordenamos la muestra por peso\n",
        "  LUNSORTED = L\n",
        "  LSORTED = sorted(L, key=lambda x : x[1])\n",
        "  for x in L: print(x)\n",
        "  \n",
        "  print(nTotalGroups)\n",
        "  print(nAnimalsGroup)\n",
        "    \n",
        "  for i in range(nTotalGroups):\n",
        "    G = []\n",
        "    for j in range(i, nAnimalsSex, nTotalGroups):\n",
        "      G.append(LSORTED[j][1])\n",
        "    G.append(p_medio)\n",
        "    m = np.mean(G)\n",
        "    G.append(m)\n",
        "    G.append(abs(p_medio - m))\n",
        "      \n",
        "    RES.append(G)\n",
        "    \n",
        "  for i in range(nTotalGroups):\n",
        "    G = []\n",
        "    for j in range(i, nAnimalsSex, nTotalGroups):\n",
        "      G.append(LUNSORTED[j][1])\n",
        "    G.append(p_medio)\n",
        "    m = np.mean(G)\n",
        "    G.append(m)\n",
        "    G.append(abs(p_medio - m))\n",
        "      \n",
        "    RES.append(G)\n",
        "  \n",
        "  X = []\n",
        "  for x1 in RES: \n",
        "    for x2 in x1: \n",
        "      X.append(x2)\n",
        "    \n",
        "  plt.plot(X, label='linear')\n",
        "  plt.show()\n",
        "  \n",
        "  return RES\n",
        "  \n",
        "group_animals(MALE, nTreats, nGroups, nAnimalsGroup)  \n",
        "  \n",
        "\n",
        "# Creamos una lista que contendrá los individuos de cada grupo\n",
        "\n",
        "\n",
        "\n",
        "\n",
        "#\n",
        "\n",
        "\n"
      ],
      "execution_count": 60,
      "outputs": [
        {
          "output_type": "stream",
          "text": [
            "[1.0, 34.900050287048785]\n",
            "[2.0, 36.59360791885686]\n",
            "[5.0, 35.70600912710881]\n",
            "[6.0, 34.8619967783613]\n",
            "[9.0, 33.340237158879496]\n",
            "[11.0, 35.01693434644403]\n",
            "[14.0, 36.38835036436315]\n",
            "[15.0, 38.082856154096845]\n",
            "[17.0, 40.07867057561781]\n",
            "[19.0, 35.97902436129595]\n",
            "[21.0, 37.53614035578198]\n",
            "[22.0, 37.06725702984987]\n",
            "[23.0, 35.44058906192566]\n",
            "[24.0, 37.41072537460082]\n",
            "[26.0, 38.15111981674126]\n",
            "[28.0, 36.1157552531898]\n",
            "[29.0, 36.334075287970364]\n",
            "4\n",
            "3\n"
          ],
          "name": "stdout"
        },
        {
          "output_type": "display_data",
          "data": {
            "image/png": "[encoded data removed]",
            "text/plain": [
              "<Figure size 576x396 with 1 Axes>"
            ]
          },
          "metadata": {
            "tags": []
          }
        },
        {
          "output_type": "execute_result",
          "data": {
            "text/plain": [
              "[[33.340237158879496,\n",
              "  35.44058906192566,\n",
              "  36.334075287970364,\n",
              "  36.411964661890174,\n",
              "  35.381716542666425,\n",
              "  1.0302481192237494],\n",
              " [34.8619967783613,\n",
              "  35.70600912710881,\n",
              "  36.38835036436315,\n",
              "  36.411964661890174,\n",
              "  35.842080232930854,\n",
              "  0.5698844289593197],\n",
              " [34.900050287048785,\n",
              "  35.97902436129595,\n",
              "  36.59360791885686,\n",
              "  36.411964661890174,\n",
              "  35.97116180727294,\n",
              "  0.4408028546172318],\n",
              " [35.01693434644403,\n",
              "  36.1157552531898,\n",
              "  37.06725702984987,\n",
              "  36.411964661890174,\n",
              "  36.15297782284347,\n",
              "  0.25898683904670605],\n",
              " [34.900050287048785,\n",
              "  33.340237158879496,\n",
              "  40.07867057561781,\n",
              "  36.411964661890174,\n",
              "  36.182730670859065,\n",
              "  0.22923399103110853],\n",
              " [36.59360791885686,\n",
              "  35.01693434644403,\n",
              "  35.97902436129595,\n",
              "  36.411964661890174,\n",
              "  36.00038282212176,\n",
              "  0.41158183976841656],\n",
              " [35.70600912710881,\n",
              "  36.38835036436315,\n",
              "  37.53614035578198,\n",
              "  36.411964661890174,\n",
              "  36.51061612728603,\n",
              "  0.09865146539585368],\n",
              " [34.8619967783613,\n",
              "  38.082856154096845,\n",
              "  37.06725702984987,\n",
              "  36.411964661890174,\n",
              "  36.60601865604955,\n",
              "  0.19405399415937552]]"
            ]
          },
          "metadata": {
            "tags": []
          },
          "execution_count": 60
        }
      ]
    }
  ]
}