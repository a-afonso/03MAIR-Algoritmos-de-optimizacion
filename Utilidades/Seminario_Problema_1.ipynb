{
  "nbformat": 4,
  "nbformat_minor": 0,
  "metadata": {
    "colab": {
      "name": "Copia de Seminario_Problema_1.ipynb",
      "version": "0.3.2",
      "provenance": [],
      "collapsed_sections": [],
      "include_colab_link": true
    },
    "kernelspec": {
      "name": "python3",
      "display_name": "Python 3"
    }
  },
  "cells": [
    {
      "cell_type": "markdown",
      "metadata": {
        "id": "view-in-github",
        "colab_type": "text"
      },
      "source": [
        "<a href=\"https://colab.research.google.com/github/a-afonso/03MAIR-Algoritmos-de-optimizacion/blob/master/Utilidades/Seminario_Problema_1.ipynb\" target=\"_parent\"><img src=\"https://colab.research.google.com/assets/colab-badge.svg\" alt=\"Open In Colab\"/></a>"
      ]
    },
    {
      "metadata": {
        "id": "cYa53jQQqwr0",
        "colab_type": "code",
        "outputId": "7176d592-0c55-43e5-8d43-166ac9b0ace3",
        "colab": {
          "base_uri": "https://localhost:8080/",
          "height": 1055
        }
      },
      "cell_type": "code",
      "source": [
        "import numpy as np\n",
        "import pandas as pd\n",
        "import random\n",
        "import math\n",
        "\n",
        "# Inicialización de variables globales\n",
        "nAnimals = 60\n",
        "nTreats = 3\n",
        "nGroups = 3\n",
        "\n",
        "# Creación de un dataset de muestra\n",
        "MUESTRA = pd.DataFrame()\n",
        "MUESTRA[\"Id\"] = [i for i in range(nAnimals)]\n",
        "MUESTRA[\"Peso\"] = [random.gauss(37, 2.1) for i in range(nAnimals)]\n",
        "MUESTRA[\"Sexo\"] = [random.getrandbits(1) for i in range(nAnimals)]\n",
        "\n",
        "# Dividimos el dataset en dos listas, una para cada sexo\n",
        "MALE = []\n",
        "FEMALE = []\n",
        "\n",
        "for index, row in MUESTRA.iterrows():\n",
        "  if row[\"Sexo\"] == 0:\n",
        "    MALE.append([row[\"Id\"], row[\"Peso\"]])\n",
        "  else:\n",
        "    FEMALE.append([row[\"Id\"], row[\"Peso\"]])\n",
        "\n",
        "# Calcula el número máximo de animales por grupo\n",
        "nMale = len(MALE)\n",
        "nFemale = len(FEMALE)\n",
        "\n",
        "nAnimalsGroup = min(nMale, nFemale) // (nTreats * nGroups)\n",
        "\n",
        "# Función para agrupar una lista de cualquier sexo\n",
        "def group_animals(L, nTreats, nGroups, nAnimalsGroup):\n",
        "  RES = []\n",
        "  \n",
        "  # Calcula el peso medio\n",
        "  p_medio = np.mean(L, axis=0)[1]\n",
        "  \n",
        "  # Calcula el número total de grupos\n",
        "  nTotalGroups = nTreats * nGroups\n",
        "  \n",
        "  # Calcula el número de animales de la lista\n",
        "  nAnimalsSex = nTotalGroups * nAnimalsGroup\n",
        "  \n",
        "  # Ordenamos la muestra por peso\n",
        "  #LSORTED = sorted(L, key=lambda x : x[1])\n",
        "  LSORTED = L\n",
        "  print(LSORTED)\n",
        "  \n",
        "  print(nTotalGroups)\n",
        "  print(nAnimalsGroup)\n",
        "    \n",
        "  for i in range(nTotalGroups):\n",
        "    G = []\n",
        "    for j in range(i, nAnimalsSex, nTotalGroups):\n",
        "      G.append(LSORTED[j][1])\n",
        "    G.append(p_medio)\n",
        "    G.append(np.mean(G))\n",
        "    G.append(abs(p_medio - np.mean(G)))\n",
        "      \n",
        "    RES.append(G)\n",
        "    \n",
        "  return RES\n",
        "  \n",
        "group_animals(MALE, nTreats, nGroups, nAnimalsGroup)  \n",
        "  \n",
        "\n",
        "# Creamos una lista que contendrá los individuos de cada grupo\n",
        "\n",
        "\n",
        "\n",
        "\n",
        "#\n",
        "\n",
        "\n"
      ],
      "execution_count": 37,
      "outputs": [
        {
          "output_type": "stream",
          "text": [
            "[[0.0, 34.373426738117836], [1.0, 37.446180343054436], [5.0, 37.8057687399059], [7.0, 35.89076570640993], [8.0, 36.89729548672339], [9.0, 36.953659677573235], [10.0, 37.851324900797216], [13.0, 37.844586800508914], [15.0, 41.46969220824756], [18.0, 42.72940339235335], [19.0, 38.087871000666546], [21.0, 35.122379505589905], [23.0, 40.508922051161704], [24.0, 35.336448425439045], [26.0, 38.426304639449555], [28.0, 41.668643440852975], [30.0, 36.37994812808968], [32.0, 39.67327908421351], [35.0, 34.31504499829832], [38.0, 34.68663259611035], [39.0, 38.90637771687761], [47.0, 37.83134036344359], [48.0, 36.60133547035951], [49.0, 37.54193181054939], [51.0, 35.30548052035735], [54.0, 35.42851620972719], [56.0, 39.75880262949149]]\n",
            "9\n",
            "3\n"
          ],
          "name": "stdout"
        },
        {
          "output_type": "execute_result",
          "data": {
            "text/plain": [
              "[[34.373426738117836,\n",
              "  42.72940339235335,\n",
              "  34.31504499829832,\n",
              "  37.58671713275442,\n",
              "  37.25114806538098,\n",
              "  0.3355690673734415],\n",
              " [37.446180343054436,\n",
              "  38.087871000666546,\n",
              "  34.68663259611035,\n",
              "  37.58671713275442,\n",
              "  36.95185026814644,\n",
              "  0.6348668646079858],\n",
              " [37.8057687399059,\n",
              "  35.122379505589905,\n",
              "  38.90637771687761,\n",
              "  37.58671713275442,\n",
              "  37.35531077378196,\n",
              "  0.23140635897246398],\n",
              " [35.89076570640993,\n",
              "  40.508922051161704,\n",
              "  37.83134036344359,\n",
              "  37.58671713275442,\n",
              "  37.95443631344241,\n",
              "  0.3677191806879847],\n",
              " [36.89729548672339,\n",
              "  35.336448425439045,\n",
              "  36.60133547035951,\n",
              "  37.58671713275442,\n",
              "  36.60544912881909,\n",
              "  0.9812680039353339],\n",
              " [36.953659677573235,\n",
              "  38.426304639449555,\n",
              "  37.54193181054939,\n",
              "  37.58671713275442,\n",
              "  37.62715331508165,\n",
              "  0.04043618232722679],\n",
              " [37.851324900797216,\n",
              "  41.668643440852975,\n",
              "  35.30548052035735,\n",
              "  37.58671713275442,\n",
              "  38.10304149869049,\n",
              "  0.5163243659360646],\n",
              " [37.844586800508914,\n",
              "  36.37994812808968,\n",
              "  35.42851620972719,\n",
              "  37.58671713275442,\n",
              "  36.80994206777005,\n",
              "  0.7767750649843705],\n",
              " [41.46969220824756,\n",
              "  39.67327908421351,\n",
              "  39.75880262949149,\n",
              "  37.58671713275442,\n",
              "  39.62212276367674,\n",
              "  2.0354056309223196]]"
            ]
          },
          "metadata": {
            "tags": []
          },
          "execution_count": 37
        }
      ]
    }
  ]
}