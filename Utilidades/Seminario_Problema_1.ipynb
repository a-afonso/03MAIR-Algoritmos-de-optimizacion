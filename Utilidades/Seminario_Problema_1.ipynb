{
  "nbformat": 4,
  "nbformat_minor": 0,
  "metadata": {
    "colab": {
      "name": "Seminario_Problema_1.ipynb",
      "version": "0.3.2",
      "provenance": [],
      "collapsed_sections": [],
      "include_colab_link": true
    },
    "kernelspec": {
      "name": "python3",
      "display_name": "Python 3"
    }
  },
  "cells": [
    {
      "cell_type": "markdown",
      "metadata": {
        "id": "view-in-github",
        "colab_type": "text"
      },
      "source": [
        "<a href=\"https://colab.research.google.com/github/a-afonso/03MAIR-Algoritmos-de-optimizacion/blob/master/Utilidades/Seminario_Problema_1.ipynb\" target=\"_parent\"><img src=\"https://colab.research.google.com/assets/colab-badge.svg\" alt=\"Open In Colab\"/></a>"
      ]
    },
    {
      "metadata": {
        "id": "cYa53jQQqwr0",
        "colab_type": "code",
        "outputId": "c587c3a1-87db-428f-bcc7-b73b5514fb3a",
        "colab": {
          "base_uri": "https://localhost:8080/",
          "height": 234
        }
      },
      "cell_type": "code",
      "source": [
        "import numpy as np\n",
        "import pandas as pd\n",
        "import random\n",
        "import math\n",
        "\n",
        "# Inicialización de variables globales\n",
        "nAnimals = 60\n",
        "nTreats = 3\n",
        "nGroups = 3\n",
        "\n",
        "# Creación de un dataset de muestra\n",
        "MUESTRA = pd.DataFrame()\n",
        "MUESTRA[\"Id\"] = [i for i in range(nAnimals)]\n",
        "MUESTRA[\"Peso\"] = [random.gauss(37, 2.1) for i in range(nAnimals)]\n",
        "MUESTRA[\"Sexo\"] = [random.getrandbits(1) for i in range(nAnimals)]\n",
        "\n",
        "# Dividimos el dataset en dos listas, una para cada sexo\n",
        "MALE = []\n",
        "FEMALE = []\n",
        "\n",
        "for index, row in MUESTRA.iterrows():\n",
        "  if row[\"Sexo\"] == 0:\n",
        "    MALE.append([row[\"Id\"], row[\"Peso\"]])\n",
        "  else:\n",
        "    FEMALE.append([row[\"Id\"], row[\"Peso\"]])\n",
        "\n",
        "# Calcula el número máximo de animales por grupo\n",
        "nMale = len(MALE)\n",
        "nFemale = len(FEMALE)\n",
        "\n",
        "nAnimalsGroup = min(nMale, nFemale) // (nTreats * nGroups)\n",
        "\n",
        "nAnimalsSex = nTreats * nGroups * nAnimalsGroup\n",
        "\n",
        "\n",
        "# Función para agrupar una lista cualquiera de animales\n",
        "def group_animals(L, nAnimalsGroup):\n",
        "  \n",
        "  # Ordenamos la muestra por peso\n",
        "  LSORTED = sorted(L, key=lambda x : x[1])\n",
        "  \n",
        "  # Calculamos el peso medio de la muestra\n",
        "  p_medio = np.mean(RES, axis=0)[1]\n",
        "    \n",
        "  for i in range(nAnimalsGroup):\n",
        "    RES.append([LSORTED[i]], )\n",
        "    \n",
        "    \n",
        "  return RES\n",
        "  \n",
        "  \n",
        "  \n",
        "\n",
        "# Creamos una lista que contendrá los individuos de cada grupo\n",
        "\n",
        "\n",
        "\n",
        "\n",
        "#\n",
        "print(\"nAnimals:\", nAnimals)\n",
        "print()\n",
        "print(\"nMale:\", nMale)\n",
        "print(\"nFemale:\", + nFemale)\n",
        "print()\n",
        "print(\"nAnimalsGroup:\", nAnimalsGroup)\n",
        "print(\"nAnimalsSex:\", nAnimalsSex)\n",
        "print()\n",
        "print(\"nAnimalsOut:\", nAnimals - (nAnimalsSex * 2))\n",
        "print()\n",
        "print(MALE)\n",
        "\n"
      ],
      "execution_count": 10,
      "outputs": [
        {
          "output_type": "stream",
          "text": [
            "nAnimals: 60\n",
            "\n",
            "nMale: 29\n",
            "nFemale: 31\n",
            "\n",
            "nAnimalsGroup: 3\n",
            "nAnimalsSex: 27\n",
            "\n",
            "nAnimalsOut: 6\n",
            "\n",
            "[[0.0, 34.03510738389093], [2.0, 36.47050837109097], [3.0, 36.01323878561739], [4.0, 38.21815067780144], [5.0, 38.736344565682295], [10.0, 34.852104265564925], [15.0, 38.42758759348099], [19.0, 36.48766567510572], [21.0, 37.960650999486205], [22.0, 38.417938508467394], [23.0, 35.62333161221437], [25.0, 34.422353815232945], [28.0, 40.35860958352257], [30.0, 38.07296008701889], [31.0, 38.10856076710482], [34.0, 39.17420539218736], [38.0, 35.53881264419586], [39.0, 38.334235993617696], [40.0, 33.578637979188585], [41.0, 37.60563365637659], [43.0, 36.92188005320769], [46.0, 37.24248235135256], [48.0, 38.252433986751505], [49.0, 38.37242215799793], [54.0, 35.229129069532874], [56.0, 34.81387673127655], [57.0, 32.31662351084726], [58.0, 40.45534074298182], [59.0, 34.42399801770611]]\n"
          ],
          "name": "stdout"
        }
      ]
    },
    {
      "metadata": {
        "id": "8f3l93nPOpiP",
        "colab_type": "code",
        "colab": {
          "base_uri": "https://localhost:8080/",
          "height": 91
        },
        "outputId": "9c9a5d11-eda2-42d9-afd9-91c887b398ab"
      },
      "cell_type": "code",
      "source": [
        "X = sorted(MALE, key=lambda x : x[1])\n",
        "\n",
        "print(np.mean(X, axis=0)[1])\n",
        "\n",
        "print(X)\n",
        "print(MALE)\n",
        "\n"
      ],
      "execution_count": 8,
      "outputs": [
        {
          "output_type": "stream",
          "text": [
            "36.67039650429752\n",
            "[[5.0, 34.22104346437126], [41.0, 34.25269075115556], [53.0, 34.29780886163722], [43.0, 34.389741683659906], [38.0, 34.93192551078544], [6.0, 35.08590542612163], [26.0, 35.29518650382962], [59.0, 35.32036911247128], [25.0, 35.37693437770475], [56.0, 35.42513049657043], [52.0, 36.0151594776418], [28.0, 36.33132505674076], [50.0, 36.60876399253662], [36.0, 36.79406744283361], [13.0, 36.91773937221139], [18.0, 37.2299821098135], [10.0, 37.24292185818942], [37.0, 37.28538904424254], [22.0, 37.43986770703674], [15.0, 37.67723166612605], [12.0, 37.69530445135863], [21.0, 37.81440983731941], [4.0, 37.91708774741269], [19.0, 38.10894830592503], [42.0, 38.73759498480054], [9.0, 40.40761353353529], [31.0, 41.280562840001785]]\n",
            "[[4.0, 37.91708774741269], [5.0, 34.22104346437126], [6.0, 35.08590542612163], [9.0, 40.40761353353529], [10.0, 37.24292185818942], [12.0, 37.69530445135863], [13.0, 36.91773937221139], [15.0, 37.67723166612605], [18.0, 37.2299821098135], [19.0, 38.10894830592503], [21.0, 37.81440983731941], [22.0, 37.43986770703674], [25.0, 35.37693437770475], [26.0, 35.29518650382962], [28.0, 36.33132505674076], [31.0, 41.280562840001785], [36.0, 36.79406744283361], [37.0, 37.28538904424254], [38.0, 34.93192551078544], [41.0, 34.25269075115556], [42.0, 38.73759498480054], [43.0, 34.389741683659906], [50.0, 36.60876399253662], [52.0, 36.0151594776418], [53.0, 34.29780886163722], [56.0, 35.42513049657043], [59.0, 35.32036911247128]]\n"
          ],
          "name": "stdout"
        }
      ]
    }
  ]
}