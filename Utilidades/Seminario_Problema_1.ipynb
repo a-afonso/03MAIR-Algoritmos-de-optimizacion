{
  "nbformat": 4,
  "nbformat_minor": 0,
  "metadata": {
    "colab": {
      "name": "Seminario_Problema_1.ipynb",
      "version": "0.3.2",
      "provenance": [],
      "include_colab_link": true
    },
    "kernelspec": {
      "name": "python3",
      "display_name": "Python 3"
    }
  },
  "cells": [
    {
      "cell_type": "markdown",
      "metadata": {
        "id": "view-in-github",
        "colab_type": "text"
      },
      "source": [
        "<a href=\"https://colab.research.google.com/github/a-afonso/03MAIR-Algoritmos-de-optimizacion/blob/master/Utilidades/Seminario_Problema_1.ipynb\" target=\"_parent\"><img src=\"https://colab.research.google.com/assets/colab-badge.svg\" alt=\"Open In Colab\"/></a>"
      ]
    },
    {
      "metadata": {
        "id": "cYa53jQQqwr0",
        "colab_type": "code",
        "colab": {
          "base_uri": "https://localhost:8080/",
          "height": 55
        },
        "outputId": "d6e8e599-4c7d-4f61-dbaa-a18b2149abe4"
      },
      "cell_type": "code",
      "source": [
        "import random\n",
        "\n",
        "lista = [round(random.gauss(37, 2.1)) for i in range(50)]\n",
        "\n",
        "print(lista)"
      ],
      "execution_count": 3,
      "outputs": [
        {
          "output_type": "stream",
          "text": [
            "[38, 39, 41, 33, 38, 39, 38, 36, 37, 37, 41, 37, 40, 42, 38, 35, 39, 39, 34, 35, 35, 39, 36, 36, 36, 41, 36, 39, 35, 37, 38, 33, 40, 36, 39, 37, 35, 39, 38, 33, 35, 38, 36, 36, 37, 33, 36, 30, 38, 37]\n"
          ],
          "name": "stdout"
        }
      ]
    }
  ]
}